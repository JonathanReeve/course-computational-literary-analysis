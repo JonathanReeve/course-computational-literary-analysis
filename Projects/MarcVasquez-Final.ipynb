{
 "cells": [
  {
   "cell_type": "markdown",
   "metadata": {},
   "source": [
    "# \"Let Nature Be Your Teacher\": Using Probabilistic Topic Modeling to Study \"Nature\" in William Wordsworth and S.T. Coleridge's _Lyrical Ballads_ (1800)\n",
    "\n",
    "## Marc Vasquez\n",
    "\n",
    "Instructions: \n",
    "\n",
    "1. Replace \"yourname\" in the title of this notebook, and \"your name here\" in the markdown above, with your name.\n",
    "2. Create a title for your final project. Preferably, this should indicate what your argument is. Replace \"your title here\" in the markdown above with your title.\n",
    "3. Write your paper, and include everything (your prose in Markdown, your code, and your figures) in this notebook. Don't include the texts you're analyzing. If you generated your corpus programmatically (i.e. using corpus-db.org or some fancy Python), maybe you'll want to include that in the code somewhere here. Your notebook file (`.ipynb`) will be the only thing you turn in.  \n",
    "3. Annotate your code using markdown cells, and/or comment lines (lines beginning with `#`), explaining why you're doing what you're doing. If one of your functions takes certain parameters, for instance, why did you choose those parameters? \n",
    "3. Prune your notebook of unnecessary or redundant code. Run all your code again, to show that it works as-is. Each code cell should have a number in it, and an output, if applicable. \n",
    "4. Proofread well! If English is not your first language, you might consider making an appointment with [the Writing Center](https://slc.berkeley.edu/appointment-service) to get help polishing the language of your paper. At minimum, you'll want to use a spell checker and maybe even an automatic grammar-checking service like [Grammerly](https://www.grammarly.com/). (Of course, you now have the tools to analyze your own writing, if you want. You can get your markdown text into Python by adapting the word count function below, and use it to analyze your most frequent n-grams!) You might also consider organizing a mutual editing session with classmates.\n",
    "4. Ensure that you have no more than three plots (figures). One figure with several subplots is OK, and counts as one figure.\n",
    "4. If you quote from or reference literary works, or works of criticirm, provide in-text parenthetical citations. Then create a bibliographic entry for each work you cite, and include them at the end. Unless your discipline requires a different format, use [MLA Style](https://style.mla.org/) as the format for your bibliography, and title it \"works cited.\" \n",
    "4. Replace the value of the `filename` variable in the wordcount cell below to the name your file. (E.g., `Jonathan-Final.ipynb`.) Then run the wordcount cell. Ensure that your paper is between 1000 and 2000 words, so it doesn't give you any errors or warnings.  \n",
    "5. Optionally, and for a 5% bonus, add your notebook to the `/Projects` directory of the course repository, and submit it as a pull request. Your project will then become public. \n",
    "6. Email me your `.ipynb` file: jonathan.reeve@columbia.edu. Please email me only your `.ipynb` file, alone and uncompressed. Please don't respond to an existing email, but create a new email, with the subject: `Yourname: Final Project`, replacing `yourname` with your name. Do this regardless of whether you also submit a pull request. \n",
    "7. Celebrate! You've finished your final project, and gloriously completed _Introduction to Computational Literary Analysis_!"
   ]
  },
  {
   "cell_type": "code",
   "execution_count": 1,
   "metadata": {},
   "outputs": [
    {
     "name": "stderr",
     "output_type": "stream",
     "text": [
      "/anaconda3/lib/python3.6/site-packages/IPython/nbformat.py:13: ShimWarning: The `IPython.nbformat` package has been deprecated since IPython 4.0. You should import from nbformat instead.\n",
      "  \"You should import from nbformat instead.\", ShimWarning)\n",
      "/anaconda3/lib/python3.6/site-packages/nbformat/current.py:19: UserWarning: nbformat.current is deprecated.\n",
      "\n",
      "- use nbformat for read/write/validate public API\n",
      "- use nbformat.vX directly to composing notebooks of a particular version\n",
      "\n",
      "  \"\"\")\n"
     ]
    }
   ],
   "source": [
    "import nltk\n",
    "from nltk import word_tokenize\n",
    "from nltk.text import Text\n",
    "from collections import Counter\n",
    "import pandas as pd\n",
    "%matplotlib inline\n",
    "import matplotlib.pyplot as plt\n",
    "plt.rcParams['figure.figsize'] = [10, 5]\n",
    "from sklearn.feature_extraction.text import CountVectorizer\n",
    "from sklearn.decomposition import LatentDirichletAllocation\n",
    "from IPython.nbformat import current"
   ]
  },
  {
   "cell_type": "code",
   "execution_count": 2,
   "metadata": {},
   "outputs": [
    {
     "data": {
      "text/plain": [
       "55"
      ]
     },
     "execution_count": 2,
     "metadata": {},
     "output_type": "execute_result"
    }
   ],
   "source": [
    "# Read in the entire text\n",
    "lyrical_ballads = open('LyricalBallads1800.txt').read()\n",
    "\n",
    "# Split the collection into individual poems\n",
    "LB_parts = lyrical_ballads.split('%%%%%')\n",
    "\n",
    "# Check collection length\n",
    "len(LB_parts)"
   ]
  },
  {
   "cell_type": "markdown",
   "metadata": {},
   "source": [
    "In the Preface to the 1800 edition of _Lyrical Ballads_, a cornerstone of literary Romanticism, Wordsworth stresses that the \"principal object\" of this collection is, \"above all, to make [incidents and situations from common life] interesting by tracing in them . . . the primary laws of our nature: chiefly, as far as regards the manner in which we associate ideas in a state of excitement\" (97). This statement presents _Lyrical Ballads_ as a coherent and integrated collection, in which every poem represents some aspect of the fundamental \"laws\" of human nature--mainly, how the cognitive (\"the manner in which we associate ideas\") interacts with the affective (\"in a state of excitement\"). With these \"primary\" human laws as the uniting thread, Wordsworth preempts misconceptions of _Lyrical Ballads_ as a haphazard, disjunctive set of poems. But what exactly does \"nature\" signify as the collection moves forward? Does \"nature\" refer to discrete entities, human and non-human, or does it unsettle boundaries between different kinds of \"nature\"? The word \"nature\" can refer to many things: its senses range from physical, bodily, or mental power, strength, or substance (_Oxford English Dictionary_, I. and II.), to innate character (_OED_, III.), to physical phenomena, as opposed to humans and human creations (_OED_, IV.11.a.). Could a computational analysis yield a better understanding of the meaning(s) of \"nature\" in _Lyrical Ballads_?\n",
    "\n",
    "This essay relies on probabilistic topic modeling to computationally examine \"nature\" in _Lyrical Ballads_. I begin by using a latent Dirichlet allocation (LDA) engine to generate the main themes of _Lyrical Ballads_, followed by a visualization of themes involving \"nature.\" Then, I state my hypothesis and begin to test it with a concordance and co-occurrence, tracing \"nature\" distantly and closely. I conclude with close readings of representative passages from poems that pressure the topic model's typology of \"nature.\""
   ]
  },
  {
   "cell_type": "markdown",
   "metadata": {},
   "source": [
    "## Topic Modeling\n",
    "\n",
    "Before the topic modeling proper, a brief explanation of \"probabilistic topic modeling\" is in order. According to David Blei's \"Probabilistic Topic Models,\" topic modeling algorithms enable us to discover the main themes of a corpus, thereby allowing us to organize the collection according to the discovered themes (77). In Blei's words, the algorithms behind topic modelling are \"statistical methods that analyze the words of the original texts to discover the themes that run through them, how those themes are connected to each other, and how they change over time\" (77-78). Thus, a \"topic\" is \"a distribution over a fixed vocabulary\" (Blei 78). The question that topic modeling allows me to answer is this: what are the main, distinctive themes that are distributed across the poems of _Lyrical Ballads_?\n",
    "\n",
    "Let's prepare the text for topic modeling by dividing it into equal chunks:"
   ]
  },
  {
   "cell_type": "code",
   "execution_count": 3,
   "metadata": {},
   "outputs": [],
   "source": [
    "def chunk(tokens, size):\n",
    "    return list(zip(*[tokens[i::size] for i in range(size)]))"
   ]
  },
  {
   "cell_type": "code",
   "execution_count": 4,
   "metadata": {},
   "outputs": [],
   "source": [
    "LB_tokens = word_tokenize(lyrical_ballads)"
   ]
  },
  {
   "cell_type": "code",
   "execution_count": 5,
   "metadata": {},
   "outputs": [],
   "source": [
    "LB_chunks = chunk(LB_tokens, 500)"
   ]
  },
  {
   "cell_type": "code",
   "execution_count": 6,
   "metadata": {},
   "outputs": [],
   "source": [
    "LB_chunks = [' '.join(chunk) for chunk in LB_chunks] "
   ]
  },
  {
   "cell_type": "code",
   "execution_count": 7,
   "metadata": {},
   "outputs": [
    {
     "data": {
      "text/plain": [
       "121"
      ]
     },
     "execution_count": 7,
     "metadata": {},
     "output_type": "execute_result"
    }
   ],
   "source": [
    "len(LB_chunks)"
   ]
  },
  {
   "cell_type": "code",
   "execution_count": 8,
   "metadata": {},
   "outputs": [
    {
     "data": {
      "text/plain": [
       "[2624, 2671, 2831, 2720, 2802, 2610, 2548, 2711, 2761, 2734]"
      ]
     },
     "execution_count": 8,
     "metadata": {},
     "output_type": "execute_result"
    }
   ],
   "source": [
    "[len(chunk) for chunk in LB_chunks[:10]]"
   ]
  },
  {
   "cell_type": "markdown",
   "metadata": {},
   "source": [
    "Below, I initialize a CountVectorizer function that shows me words that constitute at least 5%, and no more than 80%, of my 500-word chunks. These parameters ensure that the words in my topic model are distributed across the poems without being too common."
   ]
  },
  {
   "cell_type": "code",
   "execution_count": 9,
   "metadata": {},
   "outputs": [],
   "source": [
    "cv = CountVectorizer(min_df=0.05, max_df=0.8, stop_words='english') "
   ]
  },
  {
   "cell_type": "code",
   "execution_count": 10,
   "metadata": {},
   "outputs": [
    {
     "data": {
      "text/plain": [
       "<121x609 sparse matrix of type '<class 'numpy.int64'>'\n",
       "\twith 9161 stored elements in Compressed Sparse Row format>"
      ]
     },
     "execution_count": 10,
     "metadata": {},
     "output_type": "execute_result"
    }
   ],
   "source": [
    "counts = cv.fit_transform(LB_chunks)\n",
    "counts"
   ]
  },
  {
   "cell_type": "code",
   "execution_count": 11,
   "metadata": {
    "scrolled": true
   },
   "outputs": [
    {
     "data": {
      "text/plain": [
       "['act',\n",
       " 'age',\n",
       " 'aged',\n",
       " 'ah',\n",
       " 'air',\n",
       " 'alas',\n",
       " 'alive',\n",
       " 'amid',\n",
       " 'ancient',\n",
       " 'answer',\n",
       " 'appear',\n",
       " 'april',\n",
       " 'arm',\n",
       " 'arms',\n",
       " 'art',\n",
       " 'away',\n",
       " 'aye',\n",
       " 'babe',\n",
       " 'banks',\n",
       " 'bear',\n",
       " 'beat',\n",
       " 'beauteous',\n",
       " 'beautiful',\n",
       " 'beauty',\n",
       " 'bed',\n",
       " 'began',\n",
       " 'behold',\n",
       " 'believe',\n",
       " 'beneath',\n",
       " 'best',\n",
       " 'better',\n",
       " 'betty',\n",
       " 'bird',\n",
       " 'birds',\n",
       " 'birth',\n",
       " 'black',\n",
       " 'bless',\n",
       " 'blew',\n",
       " 'blind',\n",
       " 'blood',\n",
       " 'blue',\n",
       " 'body',\n",
       " 'bold',\n",
       " 'bones',\n",
       " 'books',\n",
       " 'born',\n",
       " 'bough',\n",
       " 'bound',\n",
       " 'bower',\n",
       " 'boy',\n",
       " 'boys',\n",
       " 'brain',\n",
       " 'break',\n",
       " 'breast',\n",
       " 'breath',\n",
       " 'breeze',\n",
       " 'bright',\n",
       " 'bring',\n",
       " 'brook',\n",
       " 'brother',\n",
       " 'brought',\n",
       " 'build',\n",
       " 'built',\n",
       " 'busy',\n",
       " 'calm',\n",
       " 'came',\n",
       " 'care',\n",
       " 'careless',\n",
       " 'carried',\n",
       " 'cause',\n",
       " 'certain',\n",
       " 'chanc',\n",
       " 'chearful',\n",
       " 'cheek',\n",
       " 'child',\n",
       " 'children',\n",
       " 'church',\n",
       " 'clear',\n",
       " 'clock',\n",
       " 'close',\n",
       " 'cloud',\n",
       " 'clouds',\n",
       " 'cold',\n",
       " 'colours',\n",
       " 'come',\n",
       " 'comes',\n",
       " 'coming',\n",
       " 'common',\n",
       " 'cottage',\n",
       " 'country',\n",
       " 'course',\n",
       " 'crag',\n",
       " 'cried',\n",
       " 'cross',\n",
       " 'daily',\n",
       " 'dale',\n",
       " 'dark',\n",
       " 'day',\n",
       " 'days',\n",
       " 'dead']"
      ]
     },
     "execution_count": 11,
     "metadata": {},
     "output_type": "execute_result"
    }
   ],
   "source": [
    "word_labels = cv.get_feature_names()\n",
    "word_labels[:100]"
   ]
  },
  {
   "cell_type": "markdown",
   "metadata": {},
   "source": [
    "Now I'm ready to initialize a latent Dirichlet allocation (LDA) engine. I set the \"random state\" parameter to 3 to ensure consistent results:"
   ]
  },
  {
   "cell_type": "code",
   "execution_count": 12,
   "metadata": {},
   "outputs": [],
   "source": [
    "lda = LatentDirichletAllocation(learning_method='online', random_state=3)"
   ]
  },
  {
   "cell_type": "markdown",
   "metadata": {},
   "source": [
    "And now for the topic modeling proper:"
   ]
  },
  {
   "cell_type": "code",
   "execution_count": 13,
   "metadata": {},
   "outputs": [
    {
     "data": {
      "text/plain": [
       "array([[1.78586370e-03, 1.78607421e-03, 1.78589887e-03, ...,\n",
       "        1.78614095e-03, 1.78589474e-03, 1.78591854e-03],\n",
       "       [1.88693224e-03, 1.88694836e-03, 1.88700790e-03, ...,\n",
       "        1.88715919e-03, 1.88695095e-03, 1.88698278e-03],\n",
       "       [1.85201498e-03, 1.85207762e-03, 1.85206642e-03, ...,\n",
       "        9.83331290e-01, 1.85195113e-03, 1.85198335e-03],\n",
       "       ...,\n",
       "       [6.75793989e-04, 6.75756623e-04, 2.06383040e-01, ...,\n",
       "        6.75759581e-04, 6.75770450e-04, 6.75804570e-04],\n",
       "       [7.63501909e-04, 7.63489205e-04, 7.63591236e-04, ...,\n",
       "        7.63433366e-04, 7.63436304e-04, 7.63489013e-04],\n",
       "       [8.26633344e-04, 8.26591449e-04, 9.92560637e-01, ...,\n",
       "        8.26511872e-04, 8.26549865e-04, 8.26697382e-04]])"
      ]
     },
     "execution_count": 13,
     "metadata": {},
     "output_type": "execute_result"
    }
   ],
   "source": [
    "ldaOut = lda.fit_transform(counts)\n",
    "ldaOut"
   ]
  },
  {
   "cell_type": "code",
   "execution_count": 14,
   "metadata": {},
   "outputs": [
    {
     "data": {
      "text/plain": [
       "(121, 10)"
      ]
     },
     "execution_count": 14,
     "metadata": {},
     "output_type": "execute_result"
    }
   ],
   "source": [
    "ldaOut.shape"
   ]
  },
  {
   "cell_type": "code",
   "execution_count": 15,
   "metadata": {
    "scrolled": true
   },
   "outputs": [
    {
     "name": "stdout",
     "output_type": "stream",
     "text": [
      "Topic 0\n",
      "betty johnny susan boy oh er poor pony joy old\n",
      "Topic 1\n",
      "man day flock away sheep thought lines little lamb children\n",
      "Topic 2\n",
      "old did day man leonard heart said years little house\n",
      "Topic 3\n",
      "man brook shepherd mountains hills face men winds times stones\n",
      "Topic 4\n",
      "man poor reader pleasure old poems nature mind like poetry\n",
      "Topic 5\n",
      "shall man nature thy eye thoughts wild thou green er\n",
      "Topic 6\n",
      "thy thou thee day little like came did heart st\n",
      "Topic 7\n",
      "language little feelings men poems far reader good having say\n",
      "Topic 8\n",
      "rock moon nature hath head grove place stone rude fair\n",
      "Topic 9\n",
      "like did voice look heard ship mountain man eyes moon\n"
     ]
    }
   ],
   "source": [
    "topic_labels = []\n",
    "for i, topic in enumerate(lda.components_):\n",
    "    print(\"Topic {}\".format(i))\n",
    "    topic_label = \" \".join([word_labels[i] for i in topic.argsort()[:-10 - 1:-1]])\n",
    "    print(topic_label)\n",
    "    topic_labels.append(topic_label)"
   ]
  },
  {
   "cell_type": "markdown",
   "metadata": {},
   "source": [
    "**Figure 1**\n",
    "\n",
    "Topics 4, 5, and 8 are of special interest because they all feature \"nature.\" In Topic 4, \"nature\" is associated with reading and poetry, which suggests that this topic focuses on what we might call \"the poetics of nature.\" This topic probably involves the experience of nature through the mediation of poetic language. Considering the words \"man,\" \"eye,\" and \"thoughts, Topic 5 links \"nature\" with human nature. This topic involves not only humans' physical nature, but also their emotional and cognitive capacities. By contrast, Topic 8 features the words \"rock,\" \"moon,\" \"grove,\" \"stone,\" and \"fair,\" pointing to the natural world of flora and fauna that exists apart (though at an appreciable distance) from human observers. \n",
    "\n",
    "Let's visualize the prevalence of these key \"nature\" topics throughout _Lyrical Ballads_:"
   ]
  },
  {
   "cell_type": "code",
   "execution_count": 16,
   "metadata": {},
   "outputs": [],
   "source": [
    "df = pd.DataFrame(ldaOut, columns=topic_labels)"
   ]
  },
  {
   "cell_type": "code",
   "execution_count": 17,
   "metadata": {},
   "outputs": [
    {
     "data": {
      "text/plain": [
       "<matplotlib.axes._subplots.AxesSubplot at 0x10f812860>"
      ]
     },
     "execution_count": 17,
     "metadata": {},
     "output_type": "execute_result"
    },
    {
     "data": {
      "image/png": "[encoded data removed]",
      "text/plain": [
       "<matplotlib.figure.Figure at 0x107b04e80>"
      ]
     },
     "metadata": {},
     "output_type": "display_data"
    }
   ],
   "source": [
    "df[[topic_labels[4], topic_labels[5], topic_labels[8]]].plot()"
   ]
  },
  {
   "cell_type": "markdown",
   "metadata": {},
   "source": [
    "**Figure 2**\n",
    "\n",
    "This graph shows the pervasiveness of the \"nature\" topics throughout the text: while the x-axis represents the collection's progress from beginning (0) to end (120), the y-axis represents the prevalence of the topics, ranging from complete absence (0) to abundant presence (1.0). Each color corresponds to a different topic. The blue line represents the \"poetics of nature\" topic (Topic 4); the orange line represents the \"human nature\" topic (Topic 5);  and the green line represents the \"natural world\" topic (Topic 8).\n",
    "\n",
    "Looking at the graph, we can see that the \"poetics of nature\" topic has the most peaks and fluctuates the most, appearing most frequently at the beginning and end of the text. The \"human nature\" topic also peaks often, appearing most frequently in the middle and end. By contrast, the \"natural world\" topic barely reaches any points of high prevalence. This topic appears least frequently, peaking only three times: once about a third of the way into the text, and twice in the second volume.\n",
    "\n",
    "With this topic model, I explore the following question, which drives the rest of this paper: are these three topics _sufficiently distinct_ to be considered separate thematic groups, or is the text's \"nature\" too complex for statistical differentiation? I hypothesize that a concordance, co-occurrence, and close readings of nature-focused passages will confirm the presence of these topics, while also elucidating how \"nature\" eludes easy classification into any single topic. "
   ]
  },
  {
   "cell_type": "markdown",
   "metadata": {},
   "source": [
    "## A Concordance and Co-occurrence of \"Nature\""
   ]
  },
  {
   "cell_type": "markdown",
   "metadata": {},
   "source": [
    "Let's instantiate _Lyrical Ballads_ as a text object, and construct a \"nature\" concordance and co-occurrence to track the development of this motif, distantly and closely:"
   ]
  },
  {
   "cell_type": "code",
   "execution_count": 18,
   "metadata": {},
   "outputs": [],
   "source": [
    "LB_instantiated = Text(LB_tokens)"
   ]
  },
  {
   "cell_type": "code",
   "execution_count": 19,
   "metadata": {
    "scrolled": true
   },
   "outputs": [
    {
     "name": "stdout",
     "output_type": "stream",
     "text": [
      "Displaying 57 of 57 matches:\n",
      " would require a space wholly disproportionate to the nature of a preface . For to treat the subject with the clea\n",
      "y though not ostentatiously , the primary laws of our nature : chiefly as far as regards the manner in which we as\n",
      "ncorporated with the beautiful and permanent forms of nature . The language too of these men is adopted ( purified\n",
      "shall describe objects and utter sentiments of such a nature and in such connection with each other , that the und\n",
      "en agitated by the great and simple affections of our nature . This object I have endeavoured in these short essay\n",
      "ly associated with the great and beautiful objects of nature , as in THE BROTHERS ; or , as in the Incident of SIM\n",
      "f which the elements are simple , belonging rather to nature than to manners , such as exist now and will probably\n",
      "esting of their occupations , and the entire world of nature , from which I am at liberty to supply myself with en\n",
      "ll upon the whole be in a state of enjoyment . Now if Nature be thus cautious in preserving in a state of enjoymen\n",
      "fficient to produce such changes even in our physical nature as might almost appear miraculous . The truth is an i\n",
      "which the language closely resembles that of life and nature . Such verses have been triumphed over in parodies of\n",
      "ents , of a purer , more lasting , and more exquisite nature . But this part of my subject I have been obliged alt\n",
      " would be produced , which is genuine poetry ; in its nature well adapted to interest mankind permanently , and li\n",
      " preacher ; Come forth into the light of things , Let Nature be your teacher . She has a world of ready wealth , O\n",
      "od , Than all the sages can . Sweet is the lore which nature brings ; Our meddling intellect Mishapes the beauteou\n",
      "th seem a thing , of which He hath no need . He is by nature led To peace so perfect , that the young behold With \n",
      "o common soul . In youth by science nursed And led by nature into a wild scene Of lofty hopes , he to the world we\n",
      "he beauty still more beauteous . Nor , that time When Nature had subdued him to herself Would he forget those bein\n",
      " Is ever on himself , doth look on one , The least of nature 's works , one who might move The wise man to that sc\n",
      "ea-side I reached a ruined fort : There , pains which nature could no more support , With blindness linked , did o\n",
      "ery vale for their delight was stowed : For them , in nature 's meads , the milky udder flowed , Semblance , with \n",
      "er more deformity ! With other ministrations thou , O nature ! ' Healest thy wandering and distempered child : Tho\n",
      "ring sad thoughts to the mind . To her fair works did nature link The human soul that through me ran ; And much it\n",
      "oly '' Bird ! A melancholy Bird ? O idle thought ! In nature there is nothing melancholy . -- But some night wande\n",
      "d of his fame forgetful ! so his fame Should share in nature 's immortality , A venerable thing ! and so his song \n",
      ", A venerable thing ! and so his song Should make all nature lovelier , and itself Be lov 'd , like nature ! -- Bu\n",
      "ake all nature lovelier , and itself Be lov 'd , like nature ! -- But 'twill not be so ; And youths and maidens mo\n",
      "ave learnt A different lore : we may not thus profane Nature 's sweet voices always full of love And joyance ! Tis\n",
      "ike a Lady vow 'd and dedicate To something more than nature in the grove ) Glides thro ' the pathways ; she knows\n",
      " , And bid us listen ! And I deem it wise To make him Nature 's playmate . He knows well The evening star : and on\n",
      "f the deep rivers , and the lonely streams , Wherever nature led : more like a man Flying from something that he d\n",
      "dreads , than one Who sought the thing he loved . For nature then ( The coarser pleasures of my boyish days , And \n",
      "e Abundant recompence . For I have learned To look on nature , not as in the hour Of thoughtless youth , but heari\n",
      "te , And what perceive ; well pleased to recognize In nature and the language of the sense , The anchor of my pure\n",
      ", dear Sister ! And this prayer I make , Knowing that Nature never did betray The heart that loved her ; 't is her\n",
      "stood together ; and that I , so long A worshipper of Nature , hither came , Unwearied in that service : rather sa\n",
      " It seem 'd as if the spring-time came not here , And Nature here were willing to decay . I stood in various thoug\n",
      "en thy creed and mine ; This beast not unobserv 'd by Nature fell , His death was mourn 'd by sympathy divine . Th\n",
      "e , This , is no common waste , no common gloom ; But Nature , in due course of time , once more Shall here put on\n",
      "fices about him , That , though he was not of a timid nature , Yet still the spirit of a mountain boy In him was s\n",
      "d still . In one of those sweet dreams I slept , Kind Nature 's gentlest boon ! And , all the while , my eyes I ke\n",
      " , for a teacher we see That lifts up the veil of our nature in thee . A whirl-blast from behind the hill Rush 'd \n",
      "ess to feed voluptuous thought The beauteous forms of Nature wrought , Fair trees and lovely flowers ; The breezes\n",
      "uld he less than love a Maid Whose heart with so much nature play'd So kind and so forlorn ? But now the pleasant \n",
      "hose names the Author wrote the following lines_ . If Nature , for a favorite Child In thee hath temper 'd so her \n",
      "ls when they please , Are quiet when they will . With Nature never do _they_ wage A foolish strife ; they see A ha\n",
      "woods . Three years she grew in sun and shower , Then Nature said , `` A lovelier flower On earth was never sown ;\n",
      "he and I together live Here in this happy dell . Thus Nature spake -- The work was done -- How soon my Lucy 's rac\n",
      "I unobserv 'd could see the workings of her face : If Nature to her tongue could measur 'd numbers bring Thus , th\n",
      "nd wisdom , deem him not A burthen of the earth . Tis Nature 's law That none , the meanest of created things , Of\n",
      "nce-gather 'd meal , and , finally , As in the eye of Nature he has liv 'd , So in the eye of Nature let him die .\n",
      "in the eye of Nature he has liv 'd , So in the eye of Nature let him die . % % % % % RURAL ARCHITECTURE . There 's\n",
      "CHARACTER , IN THE ANTITHETICAL MANNER . I marvel how Nature could ever find space For the weight and the levity s\n",
      "orthy the name . What a picture ! 't is drawn without nature or art , -- Yet the Man would at once run away with y\n",
      "water and this one green field . The spot was made by Nature for herself : The travellers know it not , and 'twill\n",
      " boy Careless of books , yet having felt the power Of Nature , by the gentle agency Of natural objects led me on t\n",
      "nd stirrings of inquietude , when they By tendency of nature needs must fail . From such , and other causes , to t\n"
     ]
    }
   ],
   "source": [
    "LB_instantiated.concordance('nature', lines=57, width=115)"
   ]
  },
  {
   "cell_type": "markdown",
   "metadata": {},
   "source": [
    "As I hypothesized, the concordance confirms the presence of every generated topic. Some matches involve reflexively poetic representations of nature (\"the beautiful and permanent forms of nature,\" \"nature's immortality\"). Some feature human nature, physically and emotionally (\"the primary laws of our nature,\" \"our physical nature,\" \"He is by nature\"). Others refer to the natural world, as a total and abstract entity (\"Nature,\" \"the eye of Nature,\" \"the power of Nature\"), and as the world of flora and fauna that exists apart from humanity (\"nature's meads,\" \"to look on nature\"). \n",
    "\n",
    "Let's compare these concordance findings with a word co-occurrence. Which words co-occur most frequently with \"nature\"?"
   ]
  },
  {
   "cell_type": "code",
   "execution_count": 20,
   "metadata": {},
   "outputs": [
    {
     "name": "stdout",
     "output_type": "stream",
     "text": [
      "it he i this him she years which in poetry look day life heart all\n",
      "such food thought time one\n"
     ]
    }
   ],
   "source": [
    "LB_instantiated.similar('nature')"
   ]
  },
  {
   "cell_type": "markdown",
   "metadata": {},
   "source": [
    "These results slightly reinforce the topical distinctions generated above. The word \"poetry\" falls under the \"poetics of nature\" category, and the words \"life,\" \"heart,\" \"he,\" \"him,\" and \"she\" fall under the \"human nature\" category. However, none of these co-occurring words relate to the \"natural world\" category. This absence begins to unsettle the accuracy of the topic model. Below, I pressure the topic model further with close readings of nature-focused passages:"
   ]
  },
  {
   "cell_type": "markdown",
   "metadata": {},
   "source": [
    "## Close Readings of Three \"Nature\" Passages"
   ]
  },
  {
   "cell_type": "markdown",
   "metadata": {},
   "source": [
    "I begin this section with an excerpt from the second poem of the collection, \"The Tables Turned.\" According to our topical graph, this passage should represent the \"poetics of nature\" topic: \"And hark! how blithe the Throstle sings! / And he is no mean preacher: / Come forth into the light of things, / Let Nature be your teacher.\" (13-16). In this provocation, the speaker extrapolates the collective entity \"Nature\" from a singing \"Throstle,\" deploying this bird as a synecdoche for nature as a whole. Then, the speaker personifies nature into \"Nature,\" invoking it as a literally and figuratively enlightening \"teacher.\" It is important to note that \"Nature\" can only assume the role of \"teacher\" through the poem's language; without this linguistic-aesthetic context, \"Nature\" could not plausibly be conjured as a figure for enlightenment. Thus, this passage does represent the \"poetics of nature\" topic, confirming the blue line that peaks at the beginning of the topical graph. The graph fails, nonetheless, to account for the importance of the natural world in this passage: what actually happens here is not an isolated peak of the \"poetics of nature\" topic, but a confluence of the \"poetics of nature\" and \"natural world\" topics.\n",
    "\n",
    "So the topic model continues to crumble. Let's analyze another \"nature\" passage from the famous \"Lines Written above Tintern Abbey,\" which ends the first volume (and should thus represent the \"human\" nature topic: \". . . Therefore am I still / A lover of the meadows and the woods, / And mountains; and of all that we behold / From this green earth; of all the mighty world / Of eye and ear, both what they half create, / And what perceive; well pleased to recognize / In nature and the language of the sense, / The anchor of my purest thoughts, . . .\" (103-10). Through the senses (\"Of eye and ear,\" \"And what perceive,\" \"language of the _sense_) and language itself (\"_language_ of the sense\"), the speaker brings together the natural world and his/her experience of it. Self-aware of him/herself as a human _in_ nature, the speaker signals his/her observing presence (\"Therefore am _I_ still / A lover,\" \"all that _we_ behold,\" \"_my_ purest thoughts\"). The speaker's self-referentiality as a subject _in_ nature contests the topic model's distinction between human nature and the natural world. Unsettling these topical divisions, the passage synthesizes--indeed synchronizes--the poetics of nature, human nature, and the natural world.\n",
    "\n",
    "I conclude my critique of the topic model with an extract from \"Ruth,\" which appears towards the end of the collection. Given its placement, this poem should represent the \"natural world\" topic: \"Nor less to feed unhallow'd thought / The beauteous forms of nature wrought, / Fair trees and lovely flowers; / The breezes their own languor lent; / The stars had feelings which they sent / Into those magic bowers.\" (79-84). These lines compress aesthetically-pleasing plants (\"The _beauteous_ forms of nature,\" \"_fair_ trees,\" \"_lovely_ flowers\"), natural elements (\"The breezes\"), and astronomical bodies (\"The stars\"), pointing strongly to the \"natural world\" and \"poetics of nature\" topics. However, this is not an untouched scene of the natural world: the first line flags the presence of a human observer capable of \"unhallow'd thought.\" Consequently, this passage also ushers in the \"human nature\" topic. The word \"nature\" brings together the natural world, the human observer, and the poetic context of \"nature\" into aesthetic simultaneity, revoking the topic model's clear-cut distinctions between the human and the natural."
   ]
  },
  {
   "cell_type": "markdown",
   "metadata": {},
   "source": [
    "## Conclusion\n",
    "\n",
    "My close readings refute the topic model's tri-partite model of \"nature\"; however, my critique needs some qualification. Although the topic model fails to account for the semantic and figurative complexities of \"nature\" throughout the text, it still enables the reader to develop a vocabulary that can guide closer readings of the workings and shifts of \"nature.\" This vocabulary--in my case, \"poetics of nature,\" \"human nature,\" and \"the natural world\"--works as a kind of exegetical spotlight or filter, providing the interpreter with basic tools for building more nuanced readings. \n",
    "\n",
    "The central argument of this paper can therefore be articulated in two ways, first with a _methodological_ focus, second with a _literary-critical_ stance:\n",
    "1. Topic modeling fails to account for the simultaneous multidimensionality of \"nature\" throughout _Lyrical Ballads_, but it still generates meaningful categories for closer exploration of nature's intersecting (and at times conflicting) facets.\n",
    "2. In _Lyrical Ballads_, \"nature\" does not operate as a constant and fixed entity; rather, as demonstrated by topic modeling and close readings guided by the terms of the generated topics, \"nature\" synthesizes and pressures three core senses: the poetics of nature, human nature, and the natural world.\n",
    "\n",
    "We must allow both natures--the \"Nature\" of _Lyrical Ballads_ and the \"nature\" of the topic model--to be our teacher. "
   ]
  },
  {
   "cell_type": "markdown",
   "metadata": {},
   "source": [
    "## Works Cited\n",
    "\n",
    "Blei, David. \"Probabilistic Topic Models.\" _Commmunications of the ACM_, vol. 55, no. 4, 2012, pp. 77-84, http://www.cs.columbia.edu/~blei/papers/Blei2012.pdf. Accessed 10 August 2018. \n",
    "\n",
    "\"nature, n.\" OED Online, Oxford UP, June 2018, www.oed.com/view/Entry/125353. Accessed 10 August 2018.\n",
    "\n",
    "Wordsworth, William, and S.T. Coleridge. _Lyrical Ballads_. Oxford UP: 2013."
   ]
  },
  {
   "cell_type": "markdown",
   "metadata": {},
   "source": [
    "### Wordcount Function\n",
    "\n",
    "Please replace `Yourname-Final.ipynb` with the filename of this notebook. For instance, if my name is Jonathan, and I've renamed this notebook to `Jonathan-Final.ipynb`, I'd change `filename = 'Yourname-Final.ipynb'` below to `filename = 'Jonathan-Final.ipynb`. "
   ]
  },
  {
   "cell_type": "code",
   "execution_count": 21,
   "metadata": {},
   "outputs": [
    {
     "name": "stdout",
     "output_type": "stream",
     "text": [
      "Total words: 1921\n"
     ]
    }
   ],
   "source": [
    "filename = 'MarcVasquez-Final.ipynb'\n",
    "\n",
    "if filename == 'Yourname-Final.ipynb': \n",
    "    raise ValueError(\"You forgot to change the filename above!\")\n",
    "\n",
    "with open('MarcVasquez-Final.ipynb', encoding='utf-8') as f:\n",
    "    nb = current.read(f, 'json')\n",
    "\n",
    "wordCount = 0\n",
    "\n",
    "for cell in nb.worksheets[0].cells:\n",
    "    if cell.cell_type == \"markdown\":\n",
    "        wordCount += len(cell['source'].replace('#', '').lstrip().split(' '))\n",
    "\n",
    "# This is the word count of my instructions. \n",
    "# My instructions obviously don't count toward the final word count, \n",
    "tare = 533\n",
    "\n",
    "wordCount = wordCount - tare\n",
    "\n",
    "print(\"Total words: {}\".format(wordCount))\n",
    "\n",
    "if wordCount < 1000: \n",
    "    raise Warning('Your paper has not yet met the minimum required length.')\n",
    "if wordCount > 2000: \n",
    "    raise Warning('Your paper has exceeded the maximum allowed length. Please edit for concision.')"
   ]
  },
  {
   "cell_type": "code",
   "execution_count": null,
   "metadata": {},
   "outputs": [],
   "source": []
  }
 ],
 "metadata": {
  "kernelspec": {
   "display_name": "Python 3",
   "language": "python",
   "name": "python3"
  },
  "language_info": {
   "codemirror_mode": {
    "name": "ipython",
    "version": 3
   },
   "file_extension": ".py",
   "mimetype": "text/x-python",
   "name": "python",
   "nbconvert_exporter": "python",
   "pygments_lexer": "ipython3",
   "version": "3.6.4"
  }
 },
 "nbformat": 4,
 "nbformat_minor": 2
}
