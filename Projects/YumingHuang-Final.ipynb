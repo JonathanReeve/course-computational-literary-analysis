{
 "cells": [
  {
   "cell_type": "markdown",
   "metadata": {},
   "source": [
    "# Chekhov's writing style analysis: A shift from actions to inner struggles and finally the balanced point\n",
    "\n",
    "## Yuming Huang\n",
    "Instructions:\n",
    "\n",
    "1. Replace \"yourname\" in the title of this notebook, and \"your name here\" in the markdown above, with your name.\n",
    "Create a title for your final project. Preferably, this should indicate what your argument is. Replace \"your title here\" in the markdown above with your title.\n",
    "2. Write your paper, and include everything (your prose in Markdown, your code, and your figures) in this notebook. Don't include the texts you're analyzing. If you generated your corpus programmatically (i.e. using corpus-db.org or some fancy Python), maybe you'll want to include that in the code somewhere here. Your notebook file (.ipynb) will be the only thing you turn in.\n",
    "3. Annotate your code using markdown cells, and/or comment lines (lines beginning with #), explaining why you're doing what you're doing. If one of your functions takes certain parameters, for instance, why did you choose those parameters?\n",
    "4. Prune your notebook of unnecessary or redundant code. Run all your code again, to show that it works as-is. Each code cell should have a number in it, and an output, if applicable.\n",
    "5. Proofread well! If English is not your first language, you might consider making an appointment with the Writing Center to get help polishing the language of your paper. At minimum, you'll want to use a spell checker and maybe even an automatic grammar-checking service like Grammerly. (Of course, you now have the tools to analyze your own writing, if you want. You can get your markdown text into Python by adapting the word count function below, and use it to analyze your most frequent n-grams!) You might also consider organizing a mutual editing session with classmates.\n",
    "6. Ensure that you have no more than three plots (figures). One figure with several subplots is OK, and counts as one figure.\n",
    "7. If you quote from or reference literary works, or works of criticirm, provide in-text parenthetical citations. Then create a bibliographic entry for each work you cite, and include them at the end. Unless your discipline requires a different format, use MLA Style as the format for your bibliography, and title it \"works cited.\"\n",
    "8. Replace the value of the filename variable in the wordcount cell below to the name your file. (E.g., Jonathan-Final.ipynb.) Then run the wordcount cell. Ensure that your paper is between 1000 and 2000 words, so it doesn't give you any errors or warnings.\n",
    "9. Optionally, and for a 5% bonus, add your notebook to the /Projects directory of the course repository, and submit it as a pull request. Your project will then become public.\n",
    "10. Email me your .ipynb file: jonathan.reeve@columbia.edu. Please email me only your .ipynb file, alone and uncompressed. Please don't respond to an existing email, but create a new email, with the subject: Yourname: Final Project, replacing yourname with your name. Do this regardless of whether you also submit a pull request.\n",
    "11. Celebrate! You've finished your final project, and gloriously completed Introduction to Computational Literary Analysis!"
   ]
  },
  {
   "cell_type": "code",
   "execution_count": 1,
   "metadata": {},
   "outputs": [
    {
     "name": "stderr",
     "output_type": "stream",
     "text": [
      "C:\\Users\\93264\\Anaconda3\\lib\\site-packages\\IPython\\nbformat.py:13: ShimWarning: The `IPython.nbformat` package has been deprecated since IPython 4.0. You should import from nbformat instead.\n",
      "  \"You should import from nbformat instead.\", ShimWarning)\n",
      "C:\\Users\\93264\\Anaconda3\\lib\\site-packages\\nbformat\\current.py:19: UserWarning: nbformat.current is deprecated.\n",
      "\n",
      "- use nbformat for read/write/validate public API\n",
      "- use nbformat.vX directly to composing notebooks of a particular version\n",
      "\n",
      "  \"\"\")\n"
     ]
    }
   ],
   "source": [
    "# Import all your libraries here, and only here, please.\n",
    "import nltk\n",
    "from nltk import word_tokenize, sent_tokenize, pos_tag\n",
    "from matplotlib import pyplot as plt\n",
    "from nltk.util import ngrams\n",
    "from nltk.corpus import wordnet as wn\n",
    "from collections import Counter\n",
    "import pandas as pd\n",
    "import os\n",
    "from sklearn.decomposition import PCA,LatentDirichletAllocation\n",
    "from sklearn.feature_extraction.text import TfidfVectorizer, CountVectorizer\n",
    "from pylab import *\n",
    "import numpy as np\n",
    "from sklearn.cluster import KMeans\n",
    "import pyLDAvis.sklearn\n",
    "from collections import Counter\n",
    "import matplotlib as mpl\n",
    "%matplotlib inline\n",
    "\n",
    "# Don't remove this line. It's necessary for the wordcount function \n",
    "# below to work. \n",
    "from IPython.nbformat import current\n",
    "\n",
    "# This is to make your plots a little bigger.\n",
    "# You may adjust this, but be careful of making your plots too big or too small.\n",
    "import matplotlib.pyplot as plt\n",
    "plt.rcParams['figure.figsize'] = [8, 15]"
   ]
  },
  {
   "cell_type": "markdown",
   "metadata": {},
   "source": [
    "### Wordcount Function\n",
    "\n",
    "Please replace `Yourname-Final.ipynb` with the filename of this notebook. For instance, if my name is Jonathan, and I've renamed this notebook to `Jonathan-Final.ipynb`, I'd change `filename = 'Yourname-Final.ipynb'` below to `filename = 'Jonathan-Final.ipynb`. "
   ]
  },
  {
   "cell_type": "code",
   "execution_count": 2,
   "metadata": {},
   "outputs": [
    {
     "name": "stdout",
     "output_type": "stream",
     "text": [
      "Total words: 1934\n"
     ]
    }
   ],
   "source": [
    "filename = 'YumingHuang-Final.ipynb'\n",
    "\n",
    "if filename == 'Yourname-Final.ipynb': \n",
    "    raise ValueError(\"You forgot to change the filename above!\")\n",
    "\n",
    "with open('YumingHuang-Final.ipynb', encoding='utf-8') as f:\n",
    "    nb = current.read(f, 'json')\n",
    "\n",
    "wordCount = 0\n",
    "\n",
    "for cell in nb.worksheets[0].cells:\n",
    "    if cell.cell_type == \"markdown\":\n",
    "        wordCount += len(cell['source'].replace('#', '').lstrip().split(' '))\n",
    "\n",
    "# This is the word count of my instructions. \n",
    "# My instructions obviously don't count toward the final word count, \n",
    "tare = 533\n",
    "\n",
    "wordCount = wordCount - tare\n",
    "\n",
    "print(\"Total words: {}\".format(wordCount))\n",
    "\n",
    "if wordCount < 1000: \n",
    "    raise Warning('Your paper has not yet met the minimum required length.')\n",
    "if wordCount > 2000: \n",
    "    raise Warning('Your paper has exceeded the maximum allowed length. Please edit for concision.')"
   ]
  },
  {
   "cell_type": "code",
   "execution_count": 3,
   "metadata": {},
   "outputs": [
    {
     "name": "stdout",
     "output_type": "stream",
     "text": [
      "C:\\Users\\93264\\Desktop\\things\\Chekhov\n"
     ]
    }
   ],
   "source": [
    "%cd Desktop/things/Chekhov/"
   ]
  },
  {
   "cell_type": "markdown",
   "metadata": {},
   "source": [
    "# Chekhov's writing style analysis: A shift from actions to inner struggles and finally the balanced point\n",
    "\n",
    "When I read the early novels of Chekhov's, I found the length of which is short but the irony is intense. However, with the time passing, I find the novels are becoming longer and longer, the writing targets are not limited to the actions of crownish people who live in cracks, but also to have lots of details about the inner behaviors of the people. So, I have made some hyposis below:\n",
    "\n",
    "1. The target objects shifted from the description of people's outside behaviors to the description of people's inner struggles, along with social relationship. And finally reached a balance.\n",
    "\n",
    "2. With the length of articles increases, Chekhov can focus more on the details of things, not only there can be more dialogs, but also can be more interactions between people.\n",
    "\n",
    "\n",
    "\n",
    "## The shift from actions to inner struggles and social relationship, finally reaching a balance\n",
    "\n",
    "\n",
    "I have read lots of Chekhov's stories and found that in the early stage of his writing, he was familar with the description of people's actions and dialogs, which are used to show crownish characterestics of the characters' and the conflicts between maybe just a few words. \n",
    "\n",
    "Like in the _A Chameleon_,written in 1882-1885, he used lots of description to show the changes of the police's attitude towards the dog, influenced just by the possible owner of the dog. For example, someone said \"I fancy it's General Zhigalov's\"(para 21) when the police first asks who is the owner of the dog, then it comes the interesting description that he wants to take off his coat and said \"It's a little dog, and you are a great hulking fellow! You must have scratched your finger with a nail, and then the idea struck you to get damages for it. We all know . . . your sort! I know you devils\"!(para 23) When later, someone has doubted that the dog cannot beb the General's dog, the police changes his attitude suddenly and said \"You've been injured, Hryukin, and we can't let the matter drop. . . . We must give them a lesson\"!(para 37) And, when there is another voice to tell the police that the dog might be the General's brother's, the police just wants to put on his coat again and decides to punlish the worker just like what he wants to do when he heards that the dog might belongs to the General. In a story short like this, seven thousand words, there is no more place for him to put in lots of details but with the description of the dialogs and some minimal details of contrasted actions to show the confilits inside the characters implicitly.\n",
    "\n",
    "With the time passing, there are more inner emotional descriptions deadded into the stories. Like _The Man In A Case_, written in 1896-1904, Chekhov writes in his late years, has put lots of details of what the old fellow looks like. Chekhov has descriebed many aspects of him; \"a tall, lean old fellow with long moustaches, was sitting outside the door, smoking a pipe in the moonlight. Burkin was lying within on the hay, and could not be seen in the darkness.\"(para 5)On the other side, the Chekhov uses an event about  the old fellow's dating to show his narrow and limited ideas. Also, there are some direct psychological descriptions about both the old fellow and other people around him. There are more and more explicit description of other people, and there is no longer a one-man show. All the new status above cannot be seen at the early stage of Chekhov's writing and it's not surprisingly that the length of the story is more than four times the length of _A Chameleon_.\n",
    "\n",
    "And, from figure one, we can see that there is absolutly changes among the writings of the Chekhov's. The more interesting part is that, the two end of the writing periods in the figure are not the start and end points of the time. At last, there is a rebound from the bottom of the figure into the middle, which can suggest that by thinking through all his life, Chekhov then came to a balanced state that can realize the balance between the descrition of inside and outside people. From figure three, we can see there is a huge shift in communication. More verbs are used. It can suggest that communication is becoming more and more important. As I have mentioned, there is no longer an one-man show, more interactions are added into the stories.\n",
    "\n",
    "## More details and more interactions\n",
    "\n",
    "With the length increase, I wonder what's new is put into the stories. By close reading, I found there are more and more details added into the stories. \n",
    "\n",
    "At first, all the item descriptions are for contradictory comparisons. Like in the _A Chameleon_, the item of the coat, the dog, the worker are all the must components of the articles, which shows the contraries inside them. The dog's fate is judged by its owner, which is a society that doesn't treat people like human beings. The coat suggests the embarrassing circumstances that the police is in, and the actions of on and off are the signals. In a length of seven thousand words, Chekhov just used the components to show the irony。\n",
    "\n",
    "And then we find that more and more details are added into the stories. Like in _A Day In The Country_, written in 1886, has added lots of details to describe the stage itself, but not to promote the development of the irony, \"A dark leaden-coloured mass is creeping over the sky towards the sun. Red zigzags of lightning gleam here and there across it. There is a sound of far-away rumbling. A warm wind frolics over the grass, bends the trees, and stirs up the dust. \"(para 1)Futher more, in the later stage, with the length becoming longer and longer, not only the environment, but also adding some description of other people's thoughts, who are not main character. \n",
    "\n",
    "Also, from the fiture two, we can see that there is no big change among the components ratio, which means Chekhov just used the same structure into the stories. More details, more descriptions and more aspects of the descriptions. The length has increased the amount of the details and made the stories not just an intense irony, but a lively story with emotions insides.\n",
    "\n",
    "## Conclusions\n",
    "The writing style of Chekhov has changed with time passing, he focusd more on the details, along with interactions and social relationship.\n",
    "1. From PCA test, after we have splited the passages into parts of the same length, the different articles of different writing periods are distinguishable.\n",
    "2. With the topic analysis, the frequency of different pos in the topics show us a tendency of changes of writing styles but not the changes of writing structure. He just added more details but not to use other kinds of presentation to replace his style.\n",
    "3. The frequency of different synsets suggest that Chekhov focused more on inner, psychological activies with time passing and the writing themes have not obviously changed."
   ]
  },
  {
   "cell_type": "markdown",
   "metadata": {},
   "source": [
    "## nameList and nameLength"
   ]
  },
  {
   "cell_type": "code",
   "execution_count": 4,
   "metadata": {},
   "outputs": [],
   "source": [
    "List = os.listdir()#get all the file names"
   ]
  },
  {
   "cell_type": "code",
   "execution_count": 5,
   "metadata": {},
   "outputs": [
    {
     "data": {
      "text/plain": [
       "\"\\nnames = []\\nfor name in List:\\n    names.append(name.split('.')[0])\\n    locals()[name.split('.')[0]] = open(name).read()#construct variables for all the files\\n\""
      ]
     },
     "execution_count": 5,
     "metadata": {},
     "output_type": "execute_result"
    }
   ],
   "source": [
    "'''\n",
    "names = []\n",
    "for name in List:\n",
    "    names.append(name.split('.')[0])\n",
    "    locals()[name.split('.')[0]] = open(name).read()#construct variables for all the files\n",
    "'''"
   ]
  },
  {
   "cell_type": "code",
   "execution_count": 6,
   "metadata": {},
   "outputs": [],
   "source": [
    "def print2Lists(list1, list2):\n",
    "    if len(list1)==len(list2):\n",
    "        for i in range(len(list1)):\n",
    "            print(list1[i],list2[i])\n",
    "    else:\n",
    "        print(\"the lengths of the two list are not the same and cannot be printed\")"
   ]
  },
  {
   "cell_type": "code",
   "execution_count": 7,
   "metadata": {},
   "outputs": [],
   "source": [
    "allText = [open(name).read() for name in List]"
   ]
  },
  {
   "cell_type": "code",
   "execution_count": 8,
   "metadata": {},
   "outputs": [],
   "source": [
    "nameList = [name.split('.')[0] for name in List]"
   ]
  },
  {
   "cell_type": "code",
   "execution_count": 9,
   "metadata": {},
   "outputs": [],
   "source": [
    "nameLength = [len(sto) for sto in allText]"
   ]
  },
  {
   "cell_type": "code",
   "execution_count": 10,
   "metadata": {},
   "outputs": [
    {
     "name": "stdout",
     "output_type": "stream",
     "text": [
      "1882-1885__A_Chameleon 7121\n",
      "1882-1885__A_Dead_Body 9693\n",
      "1882-1885__Oh!_The_Public 7566\n",
      "1886__A_Day_In_The_Country 12971\n",
      "1886__A_Joke 8855\n",
      "1886__A_Nightmare 29586\n",
      "1887__A_Problem 14983\n",
      "1887__The_Beggar 11001\n",
      "1887__The_Lottery_Ticket 10460\n",
      "1888-1895__ Peasant_Wives 30463\n",
      "1888-1895__The_Horse_Stealers 35901\n",
      "1888-1895__The_Murder 66938\n",
      "1896-1904__About_Love 20816\n",
      "1896-1904__At_Home 27081\n",
      "1896-1904__The_Man_In_A_Case 29355\n"
     ]
    }
   ],
   "source": [
    "print2Lists(nameList, nameLength)"
   ]
  },
  {
   "cell_type": "code",
   "execution_count": 11,
   "metadata": {},
   "outputs": [],
   "source": [
    "yearList = list(set([name.split('__')[0] for name in nameList]))"
   ]
  },
  {
   "cell_type": "code",
   "execution_count": 12,
   "metadata": {},
   "outputs": [],
   "source": [
    "yearList.sort()"
   ]
  },
  {
   "cell_type": "code",
   "execution_count": 13,
   "metadata": {},
   "outputs": [],
   "source": [
    "yearLength =[]\n",
    "for year in yearList:\n",
    "    length = 0\n",
    "    for i in range(len(nameList)):\n",
    "        #print(nameList[i].split('__')[0], year)\n",
    "        if nameList[i].split('__')[0]==year:\n",
    "            length+=nameLength[i]\n",
    "            #print('yeah')\n",
    "    yearLength.append(length)"
   ]
  },
  {
   "cell_type": "code",
   "execution_count": 14,
   "metadata": {},
   "outputs": [
    {
     "name": "stdout",
     "output_type": "stream",
     "text": [
      "1882-1885 24380\n",
      "1886 51412\n",
      "1887 36444\n",
      "1888-1895 133302\n",
      "1896-1904 77252\n"
     ]
    }
   ],
   "source": [
    "print2Lists(yearList, yearLength)"
   ]
  },
  {
   "cell_type": "markdown",
   "metadata": {},
   "source": [
    "It shows that the length of the articles are becoming longer and longer, which means it is necessary to put the length factor into consideration when doing pca tests"
   ]
  },
  {
   "cell_type": "markdown",
   "metadata": {},
   "source": [
    "# PCA test"
   ]
  },
  {
   "cell_type": "markdown",
   "metadata": {},
   "source": [
    "So, first I read in all the files, tokenize them and then split them into the same length of the minimal length of the article. As I have mentioned before, the length of different words of different periods vary, I have show a contrast between before and after spliting. And, I also want to know whether idf will bother."
   ]
  },
  {
   "cell_type": "code",
   "execution_count": 15,
   "metadata": {},
   "outputs": [],
   "source": [
    "least = 100000\n",
    "for length in nameLength:\n",
    "    if length<least:\n",
    "        least = length"
   ]
  },
  {
   "cell_type": "code",
   "execution_count": 16,
   "metadata": {},
   "outputs": [
    {
     "name": "stdout",
     "output_type": "stream",
     "text": [
      "A CHAMELEON\n",
      "by Anton\n",
      "A DEAD BODY\n",
      "by Anton\n",
      "OH! THE PUBLIC\n",
      "by An\n",
      "A DAY IN THE COUNTRY\n",
      "A JOKE\n",
      "by Anton Chek\n",
      "A NIGHTMARE\n",
      "by Anton\n",
      "A PROBLEM\n",
      "by Anton C\n",
      "THE BEGGAR\n",
      "by Anton \n",
      "THE LOTTERY TICKET\n",
      "b\n",
      "PEASANT WIVES\n",
      "by Ant\n",
      "THE HORSE-STEALERS\n",
      "b\n",
      "THE MURDER\n",
      "by Anton \n",
      "ABOUT LOVE\n",
      "by Anton \n",
      "AT HOME\n",
      "by Anton Che\n",
      "THE MAN IN A CASE\n",
      "by\n"
     ]
    }
   ],
   "source": [
    "for name in allText:\n",
    "    print(name[:20])#to check if the articles are all well"
   ]
  },
  {
   "cell_type": "code",
   "execution_count": 17,
   "metadata": {},
   "outputs": [
    {
     "name": "stdout",
     "output_type": "stream",
     "text": [
      "the name is 1882-1885__A_Chameleon and the parts number is:  1\n",
      "continue\n",
      "the name is 1882-1885__A_Dead_Body and the parts number is:  1\n",
      "continue\n",
      "the name is 1882-1885__Oh!_The_Public and the parts number is:  1\n",
      "continue\n",
      "the name is 1886__A_Day_In_The_Country and the parts number is:  1\n",
      "continue\n",
      "the name is 1886__A_Joke and the parts number is:  1\n",
      "continue\n",
      "the name is 1886__A_Nightmare and the parts number is:  4\n",
      "the name is 1887__A_Problem and the parts number is:  2\n",
      "the name is 1887__The_Beggar and the parts number is:  1\n",
      "continue\n",
      "the name is 1887__The_Lottery_Ticket and the parts number is:  1\n",
      "continue\n",
      "the name is 1888-1895__ Peasant_Wives and the parts number is:  4\n",
      "the name is 1888-1895__The_Horse_Stealers and the parts number is:  5\n",
      "the name is 1888-1895__The_Murder and the parts number is:  9\n",
      "the name is 1896-1904__About_Love and the parts number is:  2\n",
      "the name is 1896-1904__At_Home and the parts number is:  3\n",
      "the name is 1896-1904__The_Man_In_A_Case and the parts number is:  4\n"
     ]
    }
   ],
   "source": [
    "nameListNew = []\n",
    "allTextNew = []\n",
    "'''\n",
    "for name in namesLength:   #to divide articles into parts of the same length \n",
    "    length = namesLength[name]\n",
    "    parts = int(length/least)\n",
    "    text = locals()[name]\n",
    "    print(\"the name is\",name,\"and the parts number is: \",parts)\n",
    "    if parts<=1:\n",
    "        print('continue')\n",
    "        names_new.append(name)\n",
    "        continue\n",
    "        \n",
    "    for i in range(parts):\n",
    "        locals()[name+'_part_'+str(i)] = text[(i-1)*least:i*least]\n",
    "        names_new.append(name+'_part_'+str(i))\n",
    "'''\n",
    "\n",
    "for i in range(len(nameLength)):\n",
    "    length = nameLength[i]\n",
    "    parts = int(length/least)\n",
    "    text = allText[i]\n",
    "    print(\"the name is\", nameList[i],\"and the parts number is: \", parts)\n",
    "    if parts<=1:\n",
    "        print('continue')\n",
    "        nameListNew.append(nameList[i])\n",
    "        allTextNew.append(text[:least])\n",
    "        continue\n",
    "    for a in range(parts):\n",
    "        nameListNew.append(nameList[i]+\"Part\"+str(a))\n",
    "        #print(\"the text is {}\".format(text[(a)*least:(a+1)*least+20]))\n",
    "        allTextNew.append(text[(a)*least:(a+1)*least])\n",
    "    "
   ]
  },
  {
   "cell_type": "code",
   "execution_count": 18,
   "metadata": {},
   "outputs": [],
   "source": [
    "tfidf = TfidfVectorizer(use_idf=False, max_features=1500)\n",
    "tfidf_ = TfidfVectorizer(use_idf=True, max_features=1500)"
   ]
  },
  {
   "cell_type": "code",
   "execution_count": 19,
   "metadata": {},
   "outputs": [],
   "source": [
    "tfTable = tfidf.fit_transform(allText).todense()\n",
    "tfTable_new = tfidf.fit_transform(allTextNew).todense()\n",
    "tfTable_ = tfidf_.fit_transform(allText).todense()\n",
    "tfTable_new_ = tfidf_.fit_transform(allTextNew).todense()"
   ]
  },
  {
   "cell_type": "code",
   "execution_count": 20,
   "metadata": {},
   "outputs": [],
   "source": [
    "pca = PCA(n_components = 50)"
   ]
  },
  {
   "cell_type": "code",
   "execution_count": 21,
   "metadata": {},
   "outputs": [],
   "source": [
    "pcaOut= pca.fit_transform(tfTable)\n",
    "pcaOut_new = pca.fit_transform(tfTable_new)\n",
    "pcaOut_= pca.fit_transform(tfTable_)\n",
    "pcaOut_new_ = pca.fit_transform(tfTable_new_)"
   ]
  },
  {
   "cell_type": "code",
   "execution_count": 22,
   "metadata": {},
   "outputs": [],
   "source": [
    "Kmeans = KMeans(n_clusters=7, random_state =0).fit_predict(pcaOut)\n",
    "Kmeans_new = KMeans(n_clusters=7, random_state=0).fit_predict(pcaOut_new)\n",
    "Kmeans_ = KMeans(n_clusters=7, random_state =0).fit_predict(pcaOut_)\n",
    "Kmeans_new_ = KMeans(n_clusters=7, random_state=0).fit_predict(pcaOut_new_)"
   ]
  },
  {
   "cell_type": "code",
   "execution_count": 66,
   "metadata": {},
   "outputs": [
    {
     "data": {
      "text/plain": [
       "\"\\nplt.subplot(248)\\nplt.scatter(pcaOut_new_[:,0],pcaOut_new_[:,1],c=Kmeans_new_)\\nplt.title('1-8-clustering')\\n\""
      ]
     },
     "execution_count": 66,
     "metadata": {},
     "output_type": "execute_result"
    },
    {
     "data": {
      "image/png": "[encoded data removed]",
      "text/plain": [
       "<Figure size 576x1080 with 1 Axes>"
      ]
     },
     "metadata": {},
     "output_type": "display_data"
    }
   ],
   "source": [
    "plt.rcParams['figure.figsize'] = [8, 15]\n",
    "'''\n",
    "plt.subplot(241)\n",
    "xs, ys = pcaOut[:,0],pcaOut[:,1]\n",
    "for i in range(len(xs)):\n",
    "    plt.scatter(xs[i],ys[i])\n",
    "    plt.annotate(nameList[i],(xs[i],ys[i]))\n",
    "plt.title('1-1-text')\n",
    "\n",
    "plt.subplot(242)\n",
    "plt.scatter(pcaOut[:,0],pcaOut[:,1],c=Kmeans)\n",
    "\n",
    "plt.title('1-2-clustering')\n",
    "\n",
    "\n",
    "plt.subplot(245)\n",
    "\n",
    "xs_n, ys_n = pcaOut_new[:,0],pcaOut_new[:,1]\n",
    "for i in range(len(xs_n)):\n",
    "    plt.scatter(xs_n[i],ys_n[i])\n",
    "    plt.annotate(nameListNew[i].split('__')[0],(xs_n[i],ys_n[i]))\n",
    "    if xs_n[i]>0.4:\n",
    "        print(nameListNew[i])\n",
    "plt.title('figure 1-after segmentation')\n",
    "\n",
    "\n",
    "plt.subplot(246)\n",
    "plt.scatter(pcaOut_new[:,0],pcaOut_new[:,1],c=Kmeans_new)\n",
    "plt.title('1-6-clustering')\n",
    "\n",
    "plt.subplot(243)\n",
    "xs, ys = pcaOut_[:,0],pcaOut_[:,1]\n",
    "for i in range(len(xs)):\n",
    "    plt.scatter(xs[i],ys[i])\n",
    "    plt.annotate(nameList[i],(xs[i],ys[i]))\n",
    "plt.title('1-3-text idf_true')\n",
    "\n",
    "plt.subplot(244)\n",
    "plt.scatter(pcaOut_[:,0],pcaOut_[:,1],c=Kmeans_)\n",
    "plt.title('1-4-clustering')\n",
    "\n",
    "plt.subplot(247)\n",
    "'''\n",
    "xs_n, ys_n = pcaOut_new_[:,0],pcaOut_new_[:,1]\n",
    "for i in range(len(xs_n)):\n",
    "    plt.scatter(xs_n[i],ys_n[i])\n",
    "    plt.annotate(nameListNew[i].split('__')[0],(xs_n[i],ys_n[i]))\n",
    "plt.title('fiure one-after segmentation idf_true')\n",
    "\n",
    "'''\n",
    "plt.subplot(248)\n",
    "plt.scatter(pcaOut_new_[:,0],pcaOut_new_[:,1],c=Kmeans_new_)\n",
    "plt.title('1-8-clustering')\n",
    "'''"
   ]
  },
  {
   "cell_type": "markdown",
   "metadata": {},
   "source": [
    "From the figure one, we can see a obvious change from time \"1882-1885\" to the time\"1896-1904\", which confirms me hyposis that the style of Chekhov's writing has changed with time passing. The time \"1886\" is kind of transitional phase, and his style of writing may be not stable and it shows some characters similar to the time \"1888-1895\" and time\"1887\". In general, the graph does tell us that the writing style of Chekhov has changed with the time line."
   ]
  },
  {
   "cell_type": "markdown",
   "metadata": {},
   "source": [
    "# Topic analyze"
   ]
  },
  {
   "cell_type": "markdown",
   "metadata": {},
   "source": [
    "As I am considering the difference between different writing peirods, so I would like to see if the pos of the articles of the different writing periods differ.\n",
    "\n",
    "In this part, I follow the steps talked in the class and analyze topics of different year periods. After finding the topics of different articles, I then count the frequency of different words in the topics of articles. If the word appears more than one topics, I think the word will have some special meaning for Chekhov. After doing that, I then use pos_tag function to find the pos of the words. I cannot easily find the meaning of the words in the context, so I try to analyze the words with their pairs of pos. I store the pairs of pos under the different periods of time. After that, I use pd.DataFrame to store the frequency and plot them."
   ]
  },
  {
   "cell_type": "code",
   "execution_count": 24,
   "metadata": {},
   "outputs": [],
   "source": [
    "def chunk(tokens, size):\n",
    "    return list(zip(*[tokens[i::size] for i in range(size)]))"
   ]
  },
  {
   "cell_type": "code",
   "execution_count": 25,
   "metadata": {},
   "outputs": [],
   "source": [
    "allTextTokens = [word_tokenize(text) for text in allText]"
   ]
  },
  {
   "cell_type": "code",
   "execution_count": 26,
   "metadata": {},
   "outputs": [],
   "source": [
    "allTextChunks = [chunk(text,500) for text in allTextTokens]"
   ]
  },
  {
   "cell_type": "code",
   "execution_count": 27,
   "metadata": {},
   "outputs": [],
   "source": [
    "for text in range(len(allTextChunks)):\n",
    "    allTextChunks[text] = [' '.join(chunk) for chunk in allTextChunks[text]]"
   ]
  },
  {
   "cell_type": "code",
   "execution_count": 28,
   "metadata": {},
   "outputs": [],
   "source": [
    "cv = CountVectorizer(min_df=0.2, max_df=0.8, stop_words='english')"
   ]
  },
  {
   "cell_type": "code",
   "execution_count": 29,
   "metadata": {},
   "outputs": [],
   "source": [
    "lda = LatentDirichletAllocation(n_topics=15, learning_method='online')"
   ]
  },
  {
   "cell_type": "code",
   "execution_count": 30,
   "metadata": {},
   "outputs": [
    {
     "name": "stderr",
     "output_type": "stream",
     "text": [
      "C:\\Users\\93264\\Anaconda3\\lib\\site-packages\\sklearn\\decomposition\\online_lda.py:294: DeprecationWarning: n_topics has been renamed to n_components in version 0.19 and will be removed in 0.21\n",
      "  DeprecationWarning)\n",
      "C:\\Users\\93264\\Anaconda3\\lib\\site-packages\\sklearn\\decomposition\\online_lda.py:294: DeprecationWarning: n_topics has been renamed to n_components in version 0.19 and will be removed in 0.21\n",
      "  DeprecationWarning)\n",
      "C:\\Users\\93264\\Anaconda3\\lib\\site-packages\\sklearn\\decomposition\\online_lda.py:294: DeprecationWarning: n_topics has been renamed to n_components in version 0.19 and will be removed in 0.21\n",
      "  DeprecationWarning)\n",
      "C:\\Users\\93264\\Anaconda3\\lib\\site-packages\\sklearn\\decomposition\\online_lda.py:294: DeprecationWarning: n_topics has been renamed to n_components in version 0.19 and will be removed in 0.21\n",
      "  DeprecationWarning)\n",
      "C:\\Users\\93264\\Anaconda3\\lib\\site-packages\\sklearn\\decomposition\\online_lda.py:294: DeprecationWarning: n_topics has been renamed to n_components in version 0.19 and will be removed in 0.21\n",
      "  DeprecationWarning)\n",
      "C:\\Users\\93264\\Anaconda3\\lib\\site-packages\\sklearn\\decomposition\\online_lda.py:294: DeprecationWarning: n_topics has been renamed to n_components in version 0.19 and will be removed in 0.21\n",
      "  DeprecationWarning)\n",
      "C:\\Users\\93264\\Anaconda3\\lib\\site-packages\\sklearn\\decomposition\\online_lda.py:294: DeprecationWarning: n_topics has been renamed to n_components in version 0.19 and will be removed in 0.21\n",
      "  DeprecationWarning)\n",
      "C:\\Users\\93264\\Anaconda3\\lib\\site-packages\\sklearn\\decomposition\\online_lda.py:294: DeprecationWarning: n_topics has been renamed to n_components in version 0.19 and will be removed in 0.21\n",
      "  DeprecationWarning)\n",
      "C:\\Users\\93264\\Anaconda3\\lib\\site-packages\\sklearn\\decomposition\\online_lda.py:294: DeprecationWarning: n_topics has been renamed to n_components in version 0.19 and will be removed in 0.21\n",
      "  DeprecationWarning)\n",
      "C:\\Users\\93264\\Anaconda3\\lib\\site-packages\\sklearn\\decomposition\\online_lda.py:294: DeprecationWarning: n_topics has been renamed to n_components in version 0.19 and will be removed in 0.21\n",
      "  DeprecationWarning)\n",
      "C:\\Users\\93264\\Anaconda3\\lib\\site-packages\\sklearn\\decomposition\\online_lda.py:294: DeprecationWarning: n_topics has been renamed to n_components in version 0.19 and will be removed in 0.21\n",
      "  DeprecationWarning)\n",
      "C:\\Users\\93264\\Anaconda3\\lib\\site-packages\\sklearn\\decomposition\\online_lda.py:294: DeprecationWarning: n_topics has been renamed to n_components in version 0.19 and will be removed in 0.21\n",
      "  DeprecationWarning)\n",
      "C:\\Users\\93264\\Anaconda3\\lib\\site-packages\\sklearn\\decomposition\\online_lda.py:294: DeprecationWarning: n_topics has been renamed to n_components in version 0.19 and will be removed in 0.21\n",
      "  DeprecationWarning)\n",
      "C:\\Users\\93264\\Anaconda3\\lib\\site-packages\\sklearn\\decomposition\\online_lda.py:294: DeprecationWarning: n_topics has been renamed to n_components in version 0.19 and will be removed in 0.21\n",
      "  DeprecationWarning)\n",
      "C:\\Users\\93264\\Anaconda3\\lib\\site-packages\\sklearn\\decomposition\\online_lda.py:294: DeprecationWarning: n_topics has been renamed to n_components in version 0.19 and will be removed in 0.21\n",
      "  DeprecationWarning)\n"
     ]
    }
   ],
   "source": [
    "allTextTopicLabels = {}\n",
    "ldaOutDic = {}\n",
    "cvDic = {}\n",
    "countsDic = {}\n",
    "for text in range(len(allTextChunks)):\n",
    "    cv = CountVectorizer(min_df=0.01, max_df=0.95, stop_words='english')\n",
    "    counts = cv.fit_transform(allTextChunks[text])\n",
    "    wordLabels=cv.get_feature_names()\n",
    "    ldaOut = lda.fit_transform(counts)\n",
    "    ldaOutDic[nameList[text]] = ldaOut\n",
    "    cvDic[nameList[text]] = cv\n",
    "    countsDic[nameList[text]]=counts\n",
    "   # print(\"Topic of {}\".format(nameList[text]))\n",
    "    topicLabels = []\n",
    "    for i, topic in enumerate(lda.components_):\n",
    "        #print(\"Topic {} \".format(i))\n",
    "        topicLabel = ' '.join([wordLabels[i] for i in topic.argsort()[:-10 - 1:-1]])\n",
    "        #print(topicLabel)\n",
    "        topicLabels.append(topicLabel)\n",
    "    allTextTopicLabels[nameList[text]]=topicLabels"
   ]
  },
  {
   "cell_type": "code",
   "execution_count": 31,
   "metadata": {},
   "outputs": [],
   "source": [
    "word_count = {}\n",
    "for name in range(len(allTextTopicLabels)):\n",
    "    word=[]\n",
    "    for topic in allTextTopicLabels[nameList[name]]:\n",
    "        word.extend(word_tokenize(topic))\n",
    "        #print(\" \")\n",
    "    word_count[nameList[name]]=Counter(word).most_common(100)"
   ]
  },
  {
   "cell_type": "code",
   "execution_count": 32,
   "metadata": {},
   "outputs": [],
   "source": [
    "wordList={}\n",
    "for novel in range(len(word_count)):\n",
    "    #print(novel)\n",
    "    for word in word_count[nameList[novel]]:\n",
    "        if word[0] not in wordList:\n",
    "            wordList[word[0]]=[nameList[novel]]\n",
    "        else:\n",
    "            wordList[word[0]].append(nameList[novel])"
   ]
  },
  {
   "cell_type": "code",
   "execution_count": 33,
   "metadata": {},
   "outputs": [],
   "source": [
    "wordCommon =[word for word in wordList if len(wordList[word])>=2]"
   ]
  },
  {
   "cell_type": "code",
   "execution_count": 34,
   "metadata": {},
   "outputs": [],
   "source": [
    "wordPos = pos_tag(wordCommon)"
   ]
  },
  {
   "cell_type": "code",
   "execution_count": 35,
   "metadata": {},
   "outputs": [],
   "source": [
    "PosDic={}\n",
    "for tuple in wordPos:\n",
    "    if tuple[1] not in PosDic:\n",
    "        PosDic[tuple[1]] = [tuple[0]]\n",
    "    else:\n",
    "        PosDic[tuple[1]].append(tuple[0])"
   ]
  },
  {
   "cell_type": "code",
   "execution_count": 36,
   "metadata": {},
   "outputs": [],
   "source": [
    "yearTopics = {}\n",
    "for novel in allTextTopicLabels:\n",
    "    year = novel.split(\"__\")[0]\n",
    "    if year not in yearTopics:\n",
    "        yearTopics[year] = allTextTopicLabels[novel]\n",
    "    else:\n",
    "        yearTopics[year] = yearTopics[year]+allTextTopicLabels[novel]"
   ]
  },
  {
   "cell_type": "code",
   "execution_count": 37,
   "metadata": {},
   "outputs": [
    {
     "name": "stdout",
     "output_type": "stream",
     "text": [
      "['puppy square row right direction biting like starched inquires looks', 'frightfully overcoat scratched court prohor swine coat draw living beggar', 'll wo general fellow know dogs teach yeldyrin law good', 'zhigalov fine goldsmith certain delay legs cigarette need moscow strangled', 'yard timber square looks ah half yelping legs strides walking']\n",
      "['beauty sparrow heap swarm danilka young herbs starling got herb', 'hand danilka thunder says boy terrible cap hole little sky', 'jews naughty flying cherry eyes white glides goods warmth pock', 'rain like big holy shoved little called dry feet does', 'generally weather crucified herbs party work wet goods pock birds']\n",
      "['uncle said going soul looked felt roubles come decided muttering', 'money crime debt door true signature metallic talking criminal redeemed', 'admitted young decided rhetoric trembled considered mistakes cast disturbed rubbing', 'handrikov say family redeemed said subject felt problem representatives going', 'calling feet family founded civic tenderest intelligence deserved tremor beloved']\n",
      "['sofya breed going church near daylight nearly old grishutka jackdaws', 'yard baby comes cart young say old later land lots', 'kuzka lot cart listen wife dog gave hook dyudya nuts', 'evil fence little day gate going windows did looking began', 'long fence trellis sorts little scarcely running winter gate punished']\n",
      "['husband kept talked hours life parcels today solemnity new love', 'work tell debt life thing talk education way know love', 'weather possible unbosom times feel evropi loss proverb marry domestic', 'money come wife man understand borrowed troubles beg worried way', 'anna passing theatre noble alexyevna misunderstanding written luganovitchs fight children']\n"
     ]
    }
   ],
   "source": [
    "for year in yearTopics:\n",
    "    print(yearTopics[year][:5])"
   ]
  },
  {
   "cell_type": "code",
   "execution_count": 38,
   "metadata": {},
   "outputs": [],
   "source": [
    "yearTopicWords = {}\n",
    "#print(yearTopics)\n",
    "for year in yearTopics:\n",
    "    tokens = []\n",
    "    for topics in yearTopics[year]:\n",
    "        #print(topics)\n",
    "        tokens = tokens+word_tokenize(topics)\n",
    "        #print(tokens)\n",
    "    yearTopicWords[year] = tokens"
   ]
  },
  {
   "cell_type": "code",
   "execution_count": 39,
   "metadata": {},
   "outputs": [],
   "source": [
    "yearTopicPos = {}\n",
    "for year in yearTopicWords:\n",
    "    yearTopicPos[year] = pos_tag(yearTopicWords[year])"
   ]
  },
  {
   "cell_type": "code",
   "execution_count": 40,
   "metadata": {},
   "outputs": [],
   "source": [
    "yearPosDic = {}\n",
    "for year in yearTopicPos:\n",
    "    posDic = {}\n",
    "    for pos in yearTopicPos[year]:\n",
    "        if pos[1] not in posDic:\n",
    "            posDic[pos[1]] = [pos[0]]\n",
    "        else:\n",
    "            posDic[pos[1]].append(pos[0])\n",
    "    yearPosDic[year] = posDic"
   ]
  },
  {
   "cell_type": "code",
   "execution_count": 41,
   "metadata": {},
   "outputs": [],
   "source": [
    "yearPosDicCount = {}\n",
    "for year in yearPosDic:\n",
    "    sums = 0\n",
    "    count = []\n",
    "    for pos in yearPosDic[year]:\n",
    "        lens = len(yearPosDic[year][pos])\n",
    "        #sums+=lens\n",
    "        count.append((pos,lens))\n",
    "    #count.append(('sums',sums))\n",
    "    yearPosDicCount[year] = count"
   ]
  },
  {
   "cell_type": "code",
   "execution_count": 42,
   "metadata": {},
   "outputs": [],
   "source": [
    "data = []\n",
    "labels = []\n",
    "for year in yearPosDicCount:\n",
    "    lab = []\n",
    "    List = yearPosDicCount[year]\n",
    "    #print(List)\n",
    "    List.sort(key=lambda x:x[0])\n",
    "    for li in List:\n",
    "        lab.append(li[0])\n",
    "    labels.append(lab)\n",
    "    data.append(List)"
   ]
  },
  {
   "cell_type": "code",
   "execution_count": 43,
   "metadata": {},
   "outputs": [
    {
     "name": "stdout",
     "output_type": "stream",
     "text": [
      "append:  ('JJR', 0)\n",
      "append:  ('JJS', 0)\n",
      "append:  ('CD', 0)\n",
      "append:  ('FW', 0)\n",
      "append:  ('MD', 0)\n",
      "append:  ('NNP', 0)\n",
      "append:  ('CD', 0)\n",
      "append:  ('FW', 0)\n",
      "append:  ('MD', 0)\n",
      "append:  ('NNP', 0)\n",
      "append:  ('RP', 0)\n",
      "append:  ('JJR', 0)\n",
      "append:  ('NNP', 0)\n",
      "append:  ('RP', 0)\n",
      "append:  ('CD', 0)\n",
      "append:  ('NNP', 0)\n",
      "append:  ('RP', 0)\n",
      "append:  ('JJS', 0)\n",
      "append:  ('CD', 0)\n"
     ]
    }
   ],
   "source": [
    "typeList = []\n",
    "for po in data:\n",
    "    for pos in po:\n",
    "        if pos[0] not in typeList:\n",
    "            typeList.append(pos[0])\n",
    "for da in range(len(data)):\n",
    "    #print(data[da])\n",
    "    for ty in typeList:\n",
    "        if ty not in labels[da]:\n",
    "            print('append: ',(ty,0))\n",
    "            data[da].append((ty,0))\n",
    "            \n",
    "for da in range(len(data)):\n",
    "    data[da].sort(key=lambda x:x[0])"
   ]
  },
  {
   "cell_type": "code",
   "execution_count": 44,
   "metadata": {},
   "outputs": [],
   "source": [
    "base = []\n",
    "for da in data:\n",
    "    d = []\n",
    "    for pos in da:\n",
    "        d.append(pos[1])\n",
    "    base.append(d)"
   ]
  },
  {
   "cell_type": "code",
   "execution_count": 45,
   "metadata": {},
   "outputs": [],
   "source": [
    "df = pd.DataFrame(base, index=yearList,columns=typeList).T"
   ]
  },
  {
   "cell_type": "code",
   "execution_count": 46,
   "metadata": {},
   "outputs": [
    {
     "data": {
      "text/plain": [
       "Text(0.5,1,'figure 2')"
      ]
     },
     "execution_count": 46,
     "metadata": {},
     "output_type": "execute_result"
    },
    {
     "data": {
      "image/png": "[encoded data removed]",
      "text/plain": [
       "<Figure size 720x2160 with 1 Axes>"
      ]
     },
     "metadata": {},
     "output_type": "display_data"
    }
   ],
   "source": [
    "df.plot.bar()\n",
    "plt.title('figure 2')"
   ]
  },
  {
   "cell_type": "markdown",
   "metadata": {},
   "source": [
    "First of all, we can see from the graph that all the time periods have some similarity, which makes sense for they are from the same author. With the length increasing, the ratio remains the same, which means the author uses the same structure to describe things and adds more details into the stories."
   ]
  },
  {
   "cell_type": "markdown",
   "metadata": {},
   "source": [
    "\n",
    "# Wordnet analysis"
   ]
  },
  {
   "cell_type": "markdown",
   "metadata": {},
   "source": [
    "After figuring that the writing style are changing with time passing, and there are some obvious evdence among the topics, I want to futher discuss if the changes of topics show some relation with the words' synsets. From the different definition of the synsets, we can see if the core of his writing is changing.\n",
    "\n",
    "I first tokenize the articles with the organization of different time periods. Then use a function **_hypernym_** to find their roots of synsets with hdight of two, which can help us find meaningful synsets. The function **_hypernym_** use a token as input and then return the hypernym with its max_depth equals to 2. After doing that, I use a dictionary to store the result.\n",
    "\n",
    "Then, I use the function **_findYear_** to find the dataframe of different pos. As I have mentioned above, I am most interested in the pos of NN, JJ,VBD, RBR and CD, so I just need the result of the three. **_findYear_** function get the pos, length of year(the total length of articles of different writing period to get the frequency of synsets) and the dictionary of the hypernums as inputs and return a dataframe of the pos as output."
   ]
  },
  {
   "cell_type": "code",
   "execution_count": 47,
   "metadata": {},
   "outputs": [],
   "source": [
    "yearToken = {}\n",
    "for year in yearList:\n",
    "    yearToken[year] = []\n",
    "    for i in range(len(nameList)):\n",
    "        if nameList[i].split('__')[0] ==year:\n",
    "            yearToken[year].extend(word_tokenize(allText[i]))"
   ]
  },
  {
   "cell_type": "code",
   "execution_count": 48,
   "metadata": {},
   "outputs": [],
   "source": [
    "def hypernym (name, case = 0):\n",
    "    timse = 0\n",
    "    if type(name) == str:\n",
    "        synsets = wn.synsets(name)\n",
    "        #print(synsets)\n",
    "        if len(synsets)<1:\n",
    "            #print(\"word name is:\", name)\n",
    "            #print(\"synsets\", synsets)\n",
    "            #print(\"cannot find the synsets\")\n",
    "            return \"cannot_find_the_synsets\"\n",
    "        synset = synsets[0]\n",
    "        times = synset.max_depth()\n",
    "        hypers = synset.hypernyms()\n",
    "        if len(hypers) <1:\n",
    "            flag = 0\n",
    "            #print(\"cannot find hypers simply:\")#try other elements of synsets to find hypernyms\n",
    "            for names in synsets:\n",
    "                if len(names.hypernyms())>0:\n",
    "                    hypers = names.hypernyms()\n",
    "                    flag = 1\n",
    "                    break\n",
    "            if flag ==0:\n",
    "                if case == 1:\n",
    "                    return synsets[0]\n",
    "                #print(name)\n",
    "                case = 1\n",
    "                name = name.capitalize()\n",
    "                return hypernym(name,1)\n",
    "        hyper = hypers[0]\n",
    "        #print(\"the hypernym is: \"+hyper.name())\n",
    "    elif type(name) == nltk.corpus.reader.wordnet.Synset:\n",
    "        #print(name)\n",
    "        times = name.max_depth()\n",
    "        hypers = name.hypernyms()\n",
    "        if len(hypers)<1:\n",
    "            print(\"cannot find hyper nym and the name is:\", name,\"\\t\", hypers)\n",
    "        else:\n",
    "            hyper = hypers[0]\n",
    "    else:\n",
    "        return (\"wrong input:\", name)\n",
    "    \n",
    "    #print(times)\n",
    "    if times>2:\n",
    "        return hypernym(hyper)\n",
    "    else:\n",
    "        return name\n",
    "\n",
    "def hyper_depth(name):\n",
    "        synsets = wn.synsets(name)\n",
    "        #print(synsets)\n",
    "        if len(synsets)<1:\n",
    "            #print(\"word name is:\", name)\n",
    "            #print(\"synsets\", synsets)\n",
    "            #print(\"cannot find the synsets\")\n",
    "            return \"cannot_find_the_synsets\"\n",
    "        synset = synsets[0]\n",
    "        times = synset.max_depth()\n",
    "        return times"
   ]
  },
  {
   "cell_type": "code",
   "execution_count": 49,
   "metadata": {},
   "outputs": [],
   "source": [
    "a = wn.synsets('a')[0]"
   ]
  },
  {
   "cell_type": "code",
   "execution_count": 50,
   "metadata": {},
   "outputs": [],
   "source": [
    "namePos = {}\n",
    "for name in yearToken:\n",
    "    namePos[name] = pos_tag(yearToken[name])"
   ]
  },
  {
   "cell_type": "code",
   "execution_count": 51,
   "metadata": {},
   "outputs": [],
   "source": [
    "PosNames = []\n",
    "for name in namePos:\n",
    "    for pos in namePos[name]:\n",
    "        if pos[1] not in PosNames:\n",
    "            PosNames.append(pos[1])"
   ]
  },
  {
   "cell_type": "code",
   "execution_count": 52,
   "metadata": {},
   "outputs": [],
   "source": [
    "PosDictionary = {}\n",
    "for name in namePos:\n",
    "    PosDictionary[name] = {}\n",
    "    for pos in namePos[name]:\n",
    "        #print(pos)\n",
    "        if pos[1] not in PosDictionary[name]:\n",
    "            #print(pos[1])\n",
    "            PosDictionary[name][pos[1]] = [pos[0]]\n",
    "            #print(\"new pos, {} is {}\".format(str(pos[1]),str(pos[0])))\n",
    "        else:\n",
    "            #print(pos[1])\n",
    "            PosDictionary[name][pos[1]].append(pos[0])\n",
    "            #print(\"add pos\")\n",
    "        "
   ]
  },
  {
   "cell_type": "code",
   "execution_count": 53,
   "metadata": {},
   "outputs": [
    {
     "name": "stdout",
     "output_type": "stream",
     "text": [
      "cannot find hyper nym and the name is: Synset('express.v.02') \t []\n",
      "cannot find hyper nym and the name is: Synset('express.v.02') \t []\n",
      "cannot find hyper nym and the name is: Synset('express.v.02') \t []\n",
      "cannot find hyper nym and the name is: Synset('express.v.02') \t []\n",
      "cannot find hyper nym and the name is: Synset('express.v.02') \t []\n",
      "cannot find hyper nym and the name is: Synset('express.v.02') \t []\n",
      "cannot find hyper nym and the name is: Synset('express.v.02') \t []\n",
      "cannot find hyper nym and the name is: Synset('express.v.02') \t []\n",
      "cannot find hyper nym and the name is: Synset('express.v.02') \t []\n",
      "cannot find hyper nym and the name is: Synset('express.v.02') \t []\n",
      "cannot find hyper nym and the name is: Synset('express.v.02') \t []\n",
      "cannot find hyper nym and the name is: Synset('express.v.02') \t []\n",
      "cannot find hyper nym and the name is: Synset('express.v.02') \t []\n",
      "cannot find hyper nym and the name is: Synset('express.v.02') \t []\n",
      "cannot find hyper nym and the name is: Synset('express.v.02') \t []\n",
      "cannot find hyper nym and the name is: Synset('express.v.02') \t []\n",
      "cannot find hyper nym and the name is: Synset('express.v.02') \t []\n",
      "cannot find hyper nym and the name is: Synset('express.v.02') \t []\n",
      "cannot find hyper nym and the name is: Synset('express.v.02') \t []\n",
      "cannot find hyper nym and the name is: Synset('express.v.02') \t []\n",
      "cannot find hyper nym and the name is: Synset('express.v.02') \t []\n",
      "cannot find hyper nym and the name is: Synset('express.v.02') \t []\n",
      "cannot find hyper nym and the name is: Synset('express.v.02') \t []\n",
      "cannot find hyper nym and the name is: Synset('express.v.02') \t []\n",
      "cannot find hyper nym and the name is: Synset('express.v.02') \t []\n",
      "cannot find hyper nym and the name is: Synset('express.v.02') \t []\n",
      "cannot find hyper nym and the name is: Synset('move.v.02') \t []\n",
      "cannot find hyper nym and the name is: Synset('move.v.02') \t []\n",
      "cannot find hyper nym and the name is: Synset('move.v.02') \t []\n",
      "cannot find hyper nym and the name is: Synset('move.v.02') \t []\n",
      "cannot find hyper nym and the name is: Synset('move.v.02') \t []\n",
      "cannot find hyper nym and the name is: Synset('move.v.02') \t []\n",
      "cannot find hyper nym and the name is: Synset('move.v.02') \t []\n",
      "cannot find hyper nym and the name is: Synset('move.v.02') \t []\n",
      "cannot find hyper nym and the name is: Synset('express.v.02') \t []\n",
      "cannot find hyper nym and the name is: Synset('express.v.02') \t []\n",
      "cannot find hyper nym and the name is: Synset('express.v.02') \t []\n",
      "cannot find hyper nym and the name is: Synset('express.v.02') \t []\n",
      "cannot find hyper nym and the name is: Synset('consume.v.02') \t []\n",
      "cannot find hyper nym and the name is: Synset('consume.v.02') \t []\n",
      "cannot find hyper nym and the name is: Synset('express.v.02') \t []\n",
      "cannot find hyper nym and the name is: Synset('express.v.02') \t []\n",
      "cannot find hyper nym and the name is: Synset('express.v.02') \t []\n",
      "cannot find hyper nym and the name is: Synset('express.v.02') \t []\n",
      "cannot find hyper nym and the name is: Synset('express.v.02') \t []\n",
      "cannot find hyper nym and the name is: Synset('express.v.02') \t []\n",
      "cannot find hyper nym and the name is: Synset('express.v.02') \t []\n",
      "cannot find hyper nym and the name is: Synset('express.v.02') \t []\n",
      "cannot find hyper nym and the name is: Synset('express.v.02') \t []\n",
      "cannot find hyper nym and the name is: Synset('express.v.02') \t []\n",
      "cannot find hyper nym and the name is: Synset('express.v.02') \t []\n",
      "cannot find hyper nym and the name is: Synset('express.v.02') \t []\n",
      "cannot find hyper nym and the name is: Synset('consume.v.02') \t []\n",
      "cannot find hyper nym and the name is: Synset('consume.v.02') \t []\n",
      "cannot find hyper nym and the name is: Synset('express.v.02') \t []\n",
      "cannot find hyper nym and the name is: Synset('express.v.02') \t []\n",
      "cannot find hyper nym and the name is: Synset('express.v.02') \t []\n",
      "cannot find hyper nym and the name is: Synset('express.v.02') \t []\n",
      "cannot find hyper nym and the name is: Synset('express.v.02') \t []\n",
      "cannot find hyper nym and the name is: Synset('express.v.02') \t []\n",
      "cannot find hyper nym and the name is: Synset('express.v.02') \t []\n",
      "cannot find hyper nym and the name is: Synset('express.v.02') \t []\n",
      "cannot find hyper nym and the name is: Synset('express.v.02') \t []\n",
      "cannot find hyper nym and the name is: Synset('express.v.02') \t []\n",
      "cannot find hyper nym and the name is: Synset('express.v.02') \t []\n",
      "cannot find hyper nym and the name is: Synset('express.v.02') \t []\n",
      "cannot find hyper nym and the name is: Synset('express.v.02') \t []\n",
      "cannot find hyper nym and the name is: Synset('express.v.02') \t []\n",
      "cannot find hyper nym and the name is: Synset('express.v.02') \t []\n",
      "cannot find hyper nym and the name is: Synset('express.v.02') \t []\n",
      "cannot find hyper nym and the name is: Synset('express.v.02') \t []\n",
      "cannot find hyper nym and the name is: Synset('express.v.02') \t []\n",
      "cannot find hyper nym and the name is: Synset('express.v.02') \t []\n",
      "cannot find hyper nym and the name is: Synset('express.v.02') \t []\n",
      "cannot find hyper nym and the name is: Synset('express.v.02') \t []\n",
      "cannot find hyper nym and the name is: Synset('express.v.02') \t []\n",
      "cannot find hyper nym and the name is: Synset('express.v.02') \t []\n",
      "cannot find hyper nym and the name is: Synset('express.v.02') \t []\n",
      "cannot find hyper nym and the name is: Synset('express.v.02') \t []\n",
      "cannot find hyper nym and the name is: Synset('express.v.02') \t []\n",
      "cannot find hyper nym and the name is: Synset('express.v.02') \t []\n",
      "cannot find hyper nym and the name is: Synset('express.v.02') \t []\n",
      "cannot find hyper nym and the name is: Synset('have.v.02') \t []\n",
      "cannot find hyper nym and the name is: Synset('have.v.02') \t []\n",
      "cannot find hyper nym and the name is: Synset('express.v.02') \t []\n",
      "cannot find hyper nym and the name is: Synset('express.v.02') \t []\n",
      "cannot find hyper nym and the name is: Synset('express.v.02') \t []\n",
      "cannot find hyper nym and the name is: Synset('express.v.02') \t []\n",
      "cannot find hyper nym and the name is: Synset('express.v.02') \t []\n",
      "cannot find hyper nym and the name is: Synset('express.v.02') \t []\n",
      "cannot find hyper nym and the name is: Synset('express.v.02') \t []\n",
      "cannot find hyper nym and the name is: Synset('express.v.02') \t []\n",
      "cannot find hyper nym and the name is: Synset('express.v.02') \t []\n",
      "cannot find hyper nym and the name is: Synset('express.v.02') \t []\n",
      "cannot find hyper nym and the name is: Synset('consume.v.02') \t []\n",
      "cannot find hyper nym and the name is: Synset('consume.v.02') \t []\n",
      "cannot find hyper nym and the name is: Synset('express.v.02') \t []\n",
      "cannot find hyper nym and the name is: Synset('express.v.02') \t []\n",
      "cannot find hyper nym and the name is: Synset('express.v.02') \t []\n",
      "cannot find hyper nym and the name is: Synset('express.v.02') \t []\n",
      "cannot find hyper nym and the name is: Synset('consume.v.02') \t []\n",
      "cannot find hyper nym and the name is: Synset('consume.v.02') \t []\n",
      "cannot find hyper nym and the name is: Synset('express.v.02') \t []\n",
      "cannot find hyper nym and the name is: Synset('express.v.02') \t []\n",
      "cannot find hyper nym and the name is: Synset('express.v.02') \t []\n",
      "cannot find hyper nym and the name is: Synset('express.v.02') \t []\n",
      "cannot find hyper nym and the name is: Synset('consume.v.02') \t []\n",
      "cannot find hyper nym and the name is: Synset('consume.v.02') \t []\n",
      "cannot find hyper nym and the name is: Synset('move.v.02') \t []\n",
      "cannot find hyper nym and the name is: Synset('move.v.02') \t []\n",
      "cannot find hyper nym and the name is: Synset('move.v.02') \t []\n",
      "cannot find hyper nym and the name is: Synset('move.v.02') \t []\n",
      "cannot find hyper nym and the name is: Synset('consume.v.02') \t []\n",
      "cannot find hyper nym and the name is: Synset('consume.v.02') \t []\n",
      "cannot find hyper nym and the name is: Synset('express.v.02') \t []\n",
      "cannot find hyper nym and the name is: Synset('express.v.02') \t []\n",
      "cannot find hyper nym and the name is: Synset('express.v.02') \t []\n",
      "cannot find hyper nym and the name is: Synset('express.v.02') \t []\n",
      "cannot find hyper nym and the name is: Synset('express.v.02') \t []\n",
      "cannot find hyper nym and the name is: Synset('express.v.02') \t []\n",
      "cannot find hyper nym and the name is: Synset('express.v.02') \t []\n",
      "cannot find hyper nym and the name is: Synset('express.v.02') \t []\n",
      "cannot find hyper nym and the name is: Synset('express.v.02') \t []\n",
      "cannot find hyper nym and the name is: Synset('express.v.02') \t []\n",
      "cannot find hyper nym and the name is: Synset('consume.v.02') \t []\n",
      "cannot find hyper nym and the name is: Synset('consume.v.02') \t []\n",
      "cannot find hyper nym and the name is: Synset('express.v.02') \t []\n",
      "cannot find hyper nym and the name is: Synset('express.v.02') \t []\n",
      "cannot find hyper nym and the name is: Synset('express.v.02') \t []\n",
      "cannot find hyper nym and the name is: Synset('express.v.02') \t []\n",
      "cannot find hyper nym and the name is: Synset('express.v.02') \t []\n",
      "cannot find hyper nym and the name is: Synset('express.v.02') \t []\n"
     ]
    },
    {
     "name": "stdout",
     "output_type": "stream",
     "text": [
      "cannot find hyper nym and the name is: Synset('express.v.02') \t []\n",
      "cannot find hyper nym and the name is: Synset('express.v.02') \t []\n",
      "cannot find hyper nym and the name is: Synset('express.v.02') \t []\n",
      "cannot find hyper nym and the name is: Synset('express.v.02') \t []\n",
      "cannot find hyper nym and the name is: Synset('have.v.02') \t []\n",
      "cannot find hyper nym and the name is: Synset('have.v.02') \t []\n",
      "cannot find hyper nym and the name is: Synset('have.v.02') \t []\n",
      "cannot find hyper nym and the name is: Synset('have.v.02') \t []\n",
      "cannot find hyper nym and the name is: Synset('have.v.02') \t []\n",
      "cannot find hyper nym and the name is: Synset('have.v.02') \t []\n",
      "cannot find hyper nym and the name is: Synset('express.v.02') \t []\n",
      "cannot find hyper nym and the name is: Synset('express.v.02') \t []\n",
      "cannot find hyper nym and the name is: Synset('express.v.02') \t []\n",
      "cannot find hyper nym and the name is: Synset('express.v.02') \t []\n",
      "cannot find hyper nym and the name is: Synset('express.v.02') \t []\n",
      "cannot find hyper nym and the name is: Synset('express.v.02') \t []\n"
     ]
    }
   ],
   "source": [
    "Final = {}\n",
    "for name in PosDictionary:\n",
    "    Final[name] = {}\n",
    "    for sets in PosDictionary[name]:\n",
    "        Final[name][sets] = {}\n",
    "        Set = []\n",
    "        #print(sets)\n",
    "        for word in PosDictionary[name][sets]:\n",
    "            #print(word)\n",
    "            #print(hypernym(word))\n",
    "            if hypernym(word) not in Final[name][sets]:\n",
    "                Final[name][sets][hypernym(word)] = [word]\n",
    "            else:\n",
    "                Final[name][sets][hypernym(word)].append(word)\n",
    "    #print(\"/n/n\")"
   ]
  },
  {
   "cell_type": "code",
   "execution_count": 54,
   "metadata": {},
   "outputs": [],
   "source": [
    "resultDic = {}\n",
    "for name in Final:\n",
    "    resultDic[name] = {}\n",
    "    for nam in Final[name]:\n",
    "        resultDic[name][nam] = {}\n",
    "        sum = 0\n",
    "        for na in Final[name][nam]:\n",
    "            sum+=len(Final[name][nam][na])\n",
    "            resultDic[name][nam][na] = len(Final[name][nam][na])\n",
    "        resultDic[name][nam]['sum'] = sum"
   ]
  },
  {
   "cell_type": "code",
   "execution_count": 55,
   "metadata": {},
   "outputs": [],
   "source": [
    "for i in range(len(yearList)):\n",
    "    year = yearList[i]\n",
    "    for pos in resultDic[year]:\n",
    "        resultDic[year][pos]['ratio'] = resultDic[year][pos]['sum']/yearLength[i]"
   ]
  },
  {
   "cell_type": "code",
   "execution_count": 56,
   "metadata": {},
   "outputs": [
    {
     "data": {
      "text/plain": [
       "\"\\nyearJJ = {}\\nyearNN = {}\\nfor year in resultDic:\\n    yearJJ[year] = resultDic[year]['JJ'] \\n    \\n    \""
      ]
     },
     "execution_count": 56,
     "metadata": {},
     "output_type": "execute_result"
    }
   ],
   "source": [
    "'''\n",
    "yearJJ = {}\n",
    "yearNN = {}\n",
    "for year in resultDic:\n",
    "    yearJJ[year] = resultDic[year]['JJ'] \n",
    "    \n",
    "    '''"
   ]
  },
  {
   "cell_type": "code",
   "execution_count": 57,
   "metadata": {},
   "outputs": [],
   "source": [
    "\n",
    "def findYear(tags,yearLength,resultDic):\n",
    "    yearPos = {}\n",
    "\n",
    "    for year in resultDic:\n",
    "        yearPos[year] = resultDic[year][tags] \n",
    "        \n",
    "    for year in yearPos:\n",
    "        temp = {}\n",
    "        for syn in yearPos[year]:\n",
    "            if type(syn)!=str:\n",
    "                temp[syn] = yearPos[year][syn]\n",
    "        yearPos[year] = temp\n",
    "    yearPos_ = {}\n",
    "    for year in yearPos:\n",
    "        yearPos_[year] = {}\n",
    "        for pos in yearPos[year]:\n",
    "            yearPos_[year][pos.name().split('.')[0]] = yearPos[year][pos]\n",
    "    yearSort = {}\n",
    "    for year in yearPos_:\n",
    "        yearSort[year] = sorted(yearPos_[year], key=yearPos_[year].get,reverse= True) \n",
    "    for year in yearSort:\n",
    "        yearSort[year] = yearSort[year][:8] \n",
    "    nameList = []\n",
    "    for year in yearSort:\n",
    "        for name in yearSort[year]:\n",
    "            if name not in nameList:\n",
    "                nameList.append(name)\n",
    "    F_list = {}\n",
    "    for i in range(len(yearPos_)):\n",
    "        year = yearList[i] \n",
    "        F_list[year] = {}\n",
    "        for name in nameList:\n",
    "            if name in yearSort[year]:\n",
    "                F_list[year][name] = yearPos_[year][name]/yearLength[i]\n",
    "            else:\n",
    "                F_list[year][name] = 0   \n",
    "    df = pd.DataFrame(F_list).T\n",
    "    return df"
   ]
  },
  {
   "cell_type": "code",
   "execution_count": 58,
   "metadata": {},
   "outputs": [
    {
     "data": {
      "text/plain": [
       "'\\nfor year in yearJJ:\\n    temp = {}\\n    for syn in yearJJ[year]:\\n        if type(syn)!=str:\\n            temp[syn] = yearJJ[year][syn]\\n    yearJJ[year] = temp\\n'"
      ]
     },
     "execution_count": 58,
     "metadata": {},
     "output_type": "execute_result"
    }
   ],
   "source": [
    "'''\n",
    "for year in yearJJ:\n",
    "    temp = {}\n",
    "    for syn in yearJJ[year]:\n",
    "        if type(syn)!=str:\n",
    "            temp[syn] = yearJJ[year][syn]\n",
    "    yearJJ[year] = temp\n",
    "'''"
   ]
  },
  {
   "cell_type": "code",
   "execution_count": 59,
   "metadata": {},
   "outputs": [
    {
     "data": {
      "text/plain": [
       "\"\\nyearJJ_ = {}\\nfor year in yearJJ:\\n    yearJJ_[year] = {}\\n    for pos in yearJJ[year]:\\n        yearJJ_[year][pos.name().split('.')[0]] = yearJJ[year][pos]\\n\""
      ]
     },
     "execution_count": 59,
     "metadata": {},
     "output_type": "execute_result"
    }
   ],
   "source": [
    "'''\n",
    "yearJJ_ = {}\n",
    "for year in yearJJ:\n",
    "    yearJJ_[year] = {}\n",
    "    for pos in yearJJ[year]:\n",
    "        yearJJ_[year][pos.name().split('.')[0]] = yearJJ[year][pos]\n",
    "'''"
   ]
  },
  {
   "cell_type": "code",
   "execution_count": 60,
   "metadata": {},
   "outputs": [
    {
     "data": {
      "text/plain": [
       "'\\nyearSort = {}\\nfor year in yearJJ_:\\n    yearSort[year] = sorted(yearJJ_[year], key=yearJJ_[year].get,reverse= True)\\n'"
      ]
     },
     "execution_count": 60,
     "metadata": {},
     "output_type": "execute_result"
    }
   ],
   "source": [
    "'''\n",
    "yearSort = {}\n",
    "for year in yearJJ_:\n",
    "    yearSort[year] = sorted(yearJJ_[year], key=yearJJ_[year].get,reverse= True)\n",
    "'''"
   ]
  },
  {
   "cell_type": "code",
   "execution_count": 61,
   "metadata": {},
   "outputs": [
    {
     "data": {
      "text/plain": [
       "'\\nfor year in yearSort:\\n    yearSort[year] = yearSort[year][:20]\\n'"
      ]
     },
     "execution_count": 61,
     "metadata": {},
     "output_type": "execute_result"
    }
   ],
   "source": [
    "'''\n",
    "for year in yearSort:\n",
    "    yearSort[year] = yearSort[year][:20]\n",
    "'''"
   ]
  },
  {
   "cell_type": "code",
   "execution_count": 62,
   "metadata": {},
   "outputs": [
    {
     "data": {
      "text/plain": [
       "'\\nnameList = []\\nfor year in yearSort:\\n    for name in yearSort[year]:\\n        if name not in nameList:\\n            nameList.append(name)\\n'"
      ]
     },
     "execution_count": 62,
     "metadata": {},
     "output_type": "execute_result"
    }
   ],
   "source": [
    "'''\n",
    "nameList = []\n",
    "for year in yearSort:\n",
    "    for name in yearSort[year]:\n",
    "        if name not in nameList:\n",
    "            nameList.append(name)\n",
    "'''"
   ]
  },
  {
   "cell_type": "code",
   "execution_count": 63,
   "metadata": {},
   "outputs": [
    {
     "data": {
      "text/plain": [
       "'\\nF_list = {}\\nfor year in yearJJ_:\\n    F_list[year] = {}\\n    for name in nameList:\\n        if name in yearSort[year]:\\n            F_list[year][name] = yearJJ_[year][name]/yearLength[year]\\n        else:\\n            F_list[year][name] = 0\\n'"
      ]
     },
     "execution_count": 63,
     "metadata": {},
     "output_type": "execute_result"
    }
   ],
   "source": [
    "'''\n",
    "F_list = {}\n",
    "for year in yearJJ_:\n",
    "    F_list[year] = {}\n",
    "    for name in nameList:\n",
    "        if name in yearSort[year]:\n",
    "            F_list[year][name] = yearJJ_[year][name]/yearLength[year]\n",
    "        else:\n",
    "            F_list[year][name] = 0\n",
    "'''"
   ]
  },
  {
   "cell_type": "code",
   "execution_count": 64,
   "metadata": {},
   "outputs": [],
   "source": [
    "dfJJ = findYear('JJ',yearLength,resultDic)\n",
    "dfNN = findYear('NN',yearLength,resultDic)\n",
    "dfVBD = findYear('VBD',yearLength,resultDic)\n",
    "dfRBR = findYear('RBR',yearLength,resultDic)\n",
    "dfRB = findYear('RB',yearLength,resultDic)"
   ]
  },
  {
   "cell_type": "code",
   "execution_count": 65,
   "metadata": {},
   "outputs": [
    {
     "data": {
      "text/plain": [
       "\"\\ndfRB.plot.area(stacked=False)\\n\\ndfRBR.plot.area(stacked=False)\\nplt.title('3-4-RBR')\\n#dfRBR.plot.bar()\\n\""
      ]
     },
     "execution_count": 65,
     "metadata": {},
     "output_type": "execute_result"
    },
    {
     "data": {
      "image/png": "[encoded data removed]",
      "text/plain": [
       "<Figure size 720x720 with 1 Axes>"
      ]
     },
     "metadata": {},
     "output_type": "display_data"
    }
   ],
   "source": [
    "plt.rcParams['figure.figsize'] = [10, 10]\n",
    "'''\n",
    "dfJJ.plot.area(stacked=False)\n",
    "plt.title('3-1-JJ')\n",
    "#dfJJ.plot.bar()\n",
    "\n",
    "dfNN.plot.area(stacked=False)\n",
    "plt.title('3-2-NN')\n",
    "#dfNN.plot.bar()\n",
    "'''\n",
    "dfVBD.plot.area(stacked=False)\n",
    "plt.title('figure 3-VBD')\n",
    "#dfVBD.plot.bar()\n",
    "\n",
    "'''\n",
    "dfRB.plot.area(stacked=False)\n",
    "\n",
    "dfRBR.plot.area(stacked=False)\n",
    "plt.title('3-4-RBR')\n",
    "#dfRBR.plot.bar()\n",
    "'''"
   ]
  },
  {
   "cell_type": "markdown",
   "metadata": {},
   "source": [
    "As I have mentioned above, I have found that the writing style of Chehov has regularly changed with time passing by, so from the graph above, I want to find the changes suiting the variation. \n",
    "\n",
    "In JJ, adjective or numeral, ordinal, I found that the frequency of causal_agent ,group and object are becoming lower, and the frequency of psychological_feature is becoming higher. Which may suggest that Chekhov was writing more with the inner behaviours of human beings than outside descriptions. He focused more with the pyschological activities and can hit our heart easier.\n",
    "\n",
    "In NN, noun, common, singular or mass, there is no obvious tendency which means his writing themes haven't changed so much. \n",
    "\n",
    "In VBD, verb, past tense, there is a hugh increase in communicate, which shows a shift from simple description to dialogs. The personality is better expressed with communications that by which the author build the character more vividly.\n",
    "\n",
    "In RB, adverb, away is becoming less, which is really interesting.\n",
    "\n",
    "In RBR,  adverb, comparative,there is no obvious tendency and maybe the emotions insides the articles haven't changed a lot."
   ]
  }
 ],
 "metadata": {
  "kernelspec": {
   "display_name": "Python 3",
   "language": "python",
   "name": "python3"
  },
  "language_info": {
   "codemirror_mode": {
    "name": "ipython",
    "version": 3
   },
   "file_extension": ".py",
   "mimetype": "text/x-python",
   "name": "python",
   "nbconvert_exporter": "python",
   "pygments_lexer": "ipython3",
   "version": "3.6.5"
  }
 },
 "nbformat": 4,
 "nbformat_minor": 2
}
