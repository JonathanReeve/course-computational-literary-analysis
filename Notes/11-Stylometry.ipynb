{
 "cells": [
  {
   "cell_type": "code",
   "execution_count": 136,
   "metadata": {},
   "outputs": [],
   "source": [
    "from sklearn.decomposition import PCA\n",
    "from sklearn.feature_extraction.text import TfidfVectorizer\n",
    "import pandas as pd\n",
    "from matplotlib import pyplot as plt\n",
    "import requests\n",
    "import json\n",
    "%matplotlib inline\n",
    "import matplotlib.pyplot as plt\n",
    "plt.rcParams['figure.figsize'] = [10, 10]"
   ]
  },
  {
   "cell_type": "markdown",
   "metadata": {},
   "source": [
    "# A Comparative Stylometry\n",
    "\n",
    "We'll make texts of all the narrators in _The Moonstone_ again, so that we can compare their styles. "
   ]
  },
  {
   "cell_type": "code",
   "execution_count": 139,
   "metadata": {},
   "outputs": [],
   "source": [
    "moonstone = open('../moonstone.md').read()"
   ]
  },
  {
   "cell_type": "code",
   "execution_count": 140,
   "metadata": {},
   "outputs": [],
   "source": [
    "moonstoneParts = moonstone.split('%%%%%')"
   ]
  },
  {
   "cell_type": "code",
   "execution_count": 141,
   "metadata": {},
   "outputs": [],
   "source": [
    "bet1 = moonstoneParts[1]"
   ]
  },
  {
   "cell_type": "code",
   "execution_count": 142,
   "metadata": {},
   "outputs": [
    {
     "data": {
      "text/plain": [
       "430752"
      ]
     },
     "execution_count": 142,
     "metadata": {},
     "output_type": "execute_result"
    }
   ],
   "source": [
    "# Write it out to a file to make it easier.\n",
    "open('bet1.txt', 'w').write(bet1)"
   ]
  },
  {
   "cell_type": "code",
   "execution_count": 143,
   "metadata": {},
   "outputs": [],
   "source": [
    "clack = moonstoneParts[3]"
   ]
  },
  {
   "cell_type": "code",
   "execution_count": 144,
   "metadata": {},
   "outputs": [],
   "source": [
    "bruff = moonstoneParts[5]"
   ]
  },
  {
   "cell_type": "code",
   "execution_count": 145,
   "metadata": {},
   "outputs": [],
   "source": [
    "blake = moonstoneParts[6]"
   ]
  },
  {
   "cell_type": "code",
   "execution_count": 146,
   "metadata": {},
   "outputs": [],
   "source": [
    "jennings = moonstoneParts[7]"
   ]
  },
  {
   "cell_type": "code",
   "execution_count": 147,
   "metadata": {},
   "outputs": [],
   "source": [
    "blake2 = moonstoneParts[8]"
   ]
  },
  {
   "cell_type": "code",
   "execution_count": 148,
   "metadata": {},
   "outputs": [],
   "source": [
    "cuff = moonstoneParts[9]"
   ]
  },
  {
   "cell_type": "code",
   "execution_count": 149,
   "metadata": {},
   "outputs": [],
   "source": [
    "candy = moonstoneParts[10]"
   ]
  },
  {
   "cell_type": "code",
   "execution_count": 150,
   "metadata": {},
   "outputs": [],
   "source": [
    "bet2 = moonstoneParts[11]"
   ]
  },
  {
   "cell_type": "code",
   "execution_count": 151,
   "metadata": {},
   "outputs": [],
   "source": [
    "tfidf = TfidfVectorizer(use_idf=False, max_features=100)"
   ]
  },
  {
   "cell_type": "code",
   "execution_count": 152,
   "metadata": {},
   "outputs": [],
   "source": [
    "allChars = [bet1, clack, bruff, blake, jennings, \n",
    "            blake2, cuff, candy, bet2]"
   ]
  },
  {
   "cell_type": "code",
   "execution_count": 153,
   "metadata": {},
   "outputs": [
    {
     "data": {
      "text/plain": [
       "[430752, 169326, 57208, 236679, 80103, 39579, 24886, 4333, 4367]"
      ]
     },
     "execution_count": 153,
     "metadata": {},
     "output_type": "execute_result"
    }
   ],
   "source": [
    "[len(char) for char in allChars]"
   ]
  },
  {
   "cell_type": "markdown",
   "metadata": {},
   "source": [
    "And we'll need labels for these so that we can put labels on all the points we're going to create in our plot. "
   ]
  },
  {
   "cell_type": "code",
   "execution_count": 154,
   "metadata": {},
   "outputs": [],
   "source": [
    "allCharsLabels = ['Betteredge-1', 'Clack', 'Bruff', 'Blake', 'Jennings',\n",
    "                  'Blake-2', 'Cuff', 'Candy', 'Betteredge-2']"
   ]
  },
  {
   "cell_type": "code",
   "execution_count": 155,
   "metadata": {},
   "outputs": [],
   "source": [
    "allChars2 = allChars[:-3]"
   ]
  },
  {
   "cell_type": "markdown",
   "metadata": {},
   "source": [
    "Let's cut out a few of the shorter texts, and break each one into two parts of equal sizes, just to check and make sure everything's working. "
   ]
  },
  {
   "cell_type": "code",
   "execution_count": 156,
   "metadata": {},
   "outputs": [
    {
     "data": {
      "text/plain": [
       "[430752, 169326, 57208, 236679, 80103, 39579]"
      ]
     },
     "execution_count": 156,
     "metadata": {},
     "output_type": "execute_result"
    }
   ],
   "source": [
    "[len(char) for char in allChars2]"
   ]
  },
  {
   "cell_type": "code",
   "execution_count": 157,
   "metadata": {},
   "outputs": [],
   "source": [
    "allChars3 = [char[:24000] for char in allChars2]"
   ]
  },
  {
   "cell_type": "code",
   "execution_count": 158,
   "metadata": {},
   "outputs": [],
   "source": [
    "allChars4 = [char[24000:39000] for char in allChars2]"
   ]
  },
  {
   "cell_type": "markdown",
   "metadata": {},
   "source": [
    "Create a big list of all the labels, prepending `1-` and `2-` to each, so that we know which part we're seeing: "
   ]
  },
  {
   "cell_type": "code",
   "execution_count": 159,
   "metadata": {},
   "outputs": [],
   "source": [
    "allCharsLabels1 = ['1-'+label for label in allCharsLabels][:6]\n",
    "allCharsLabels2 = ['2-'+label for label in allCharsLabels][:6]"
   ]
  },
  {
   "cell_type": "code",
   "execution_count": 160,
   "metadata": {},
   "outputs": [],
   "source": [
    "allCharsPieces = allChars3 + allChars4"
   ]
  },
  {
   "cell_type": "code",
   "execution_count": 161,
   "metadata": {},
   "outputs": [],
   "source": [
    "allCharsPiecesLabels = allCharsLabels1 + allCharsLabels2"
   ]
  },
  {
   "cell_type": "markdown",
   "metadata": {},
   "source": [
    "Compute word frequencies (i.e. a term frequency matrix) for all words in all narratives: "
   ]
  },
  {
   "cell_type": "code",
   "execution_count": 162,
   "metadata": {},
   "outputs": [],
   "source": [
    "tfTable = tfidf.fit_transform(allCharsPieces).todense()"
   ]
  },
  {
   "cell_type": "markdown",
   "metadata": {},
   "source": [
    "Check the \"shape\" of the matrix. Here, 12 means that we have 12 documents (narratives), and 100 means that we're looking at the top 100 most frequent words (from `max_features` above). "
   ]
  },
  {
   "cell_type": "code",
   "execution_count": 163,
   "metadata": {},
   "outputs": [
    {
     "data": {
      "text/plain": [
       "(12, 100)"
      ]
     },
     "execution_count": 163,
     "metadata": {},
     "output_type": "execute_result"
    }
   ],
   "source": [
    "tfTable.shape"
   ]
  },
  {
   "cell_type": "markdown",
   "metadata": {},
   "source": [
    "Now reduce the number of dimensions in that matrix from 100 to 2, so that we can plot it easier and see the relationships easier: "
   ]
  },
  {
   "cell_type": "code",
   "execution_count": 164,
   "metadata": {},
   "outputs": [],
   "source": [
    "pca = PCA(n_components=2)"
   ]
  },
  {
   "cell_type": "code",
   "execution_count": 165,
   "metadata": {},
   "outputs": [],
   "source": [
    "pcaOut = pca.fit_transform(tfTable)"
   ]
  },
  {
   "cell_type": "markdown",
   "metadata": {},
   "source": [
    "Plot the results. Here I have several lists (X points, Y points, and labels) and I'm going through each using their indices. Iterating through indices (`for i in range(len())`) helps us loop over several lists at a time. "
   ]
  },
  {
   "cell_type": "code",
   "execution_count": 166,
   "metadata": {},
   "outputs": [
    {
     "data": {
      "image/png": "[encoded data removed]",
      "text/plain": [
       "<matplotlib.figure.Figure at 0x7f36eb511ef0>"
      ]
     },
     "metadata": {},
     "output_type": "display_data"
    }
   ],
   "source": [
    "xs, ys = pcaOut[:,0], pcaOut[:,1]\n",
    "for i in range(len(xs)): \n",
    "    plt.scatter(xs[i], ys[i])\n",
    "    plt.annotate(allCharsPiecesLabels[i], (xs[i], ys[i]))"
   ]
  },
  {
   "cell_type": "markdown",
   "metadata": {},
   "source": [
    "# Comparative Stylometry of Dickens and Collins\n",
    "\n",
    "Let's compare the styles of several novels by Charles Dickens and Wilkie Collins. To amass a corpus of novels, I'll use `corpus-db.org`, an API which allows you to easily get metadata and full text for Project Gutenberg texts. We'll use the python `requests` library to get things from the Internet, and the `json` library to parse our results. "
   ]
  },
  {
   "cell_type": "code",
   "execution_count": 167,
   "metadata": {},
   "outputs": [],
   "source": [
    "response = requests.get('http://corpus-db.org/api/author/Collins, Wilkie')"
   ]
  },
  {
   "cell_type": "markdown",
   "metadata": {},
   "source": [
    "Check to make sure the response came back OK. Since this is an experimental server, it doesn't always work. "
   ]
  },
  {
   "cell_type": "code",
   "execution_count": 168,
   "metadata": {},
   "outputs": [
    {
     "data": {
      "text/plain": [
       "True"
      ]
     },
     "execution_count": 168,
     "metadata": {},
     "output_type": "execute_result"
    }
   ],
   "source": [
    "response.ok"
   ]
  },
  {
   "cell_type": "markdown",
   "metadata": {},
   "source": [
    "Provided the above is True, we can parse our results, turing the JSON string into a Python dictionary. "
   ]
  },
  {
   "cell_type": "code",
   "execution_count": 169,
   "metadata": {},
   "outputs": [],
   "source": [
    "parsed = json.loads(response.text)"
   ]
  },
  {
   "cell_type": "markdown",
   "metadata": {},
   "source": [
    "Now let's peek at some of the titles we got: "
   ]
  },
  {
   "cell_type": "code",
   "execution_count": 170,
   "metadata": {},
   "outputs": [
    {
     "data": {
      "text/plain": [
       "['The Moonstone',\n",
       " 'The Haunted Hotel: A Mystery of Modern Venice',\n",
       " 'The Woman in White',\n",
       " 'No Name',\n",
       " 'Man and Wife',\n",
       " 'The Black Robe',\n",
       " \"A Rogue's Life\",\n",
       " 'Miss or Mrs.?',\n",
       " 'The Law and the Lady',\n",
       " 'The New Magdalen',\n",
       " 'The Two Destinies',\n",
       " 'The Frozen Deep',\n",
       " 'After Dark',\n",
       " 'The Evil Genius: A Domestic Story',\n",
       " \"My Lady's Money\",\n",
       " '\"I Say No\"',\n",
       " 'Little Novels',\n",
       " 'Armadale',\n",
       " 'The Queen of Hearts',\n",
       " 'The Legacy of Cain',\n",
       " 'A Fair Penitent',\n",
       " 'Antonina; Or, The Fall of Rome',\n",
       " 'Poor Miss Finch',\n",
       " \"Jezebel's Daughter\",\n",
       " 'The Guilty River',\n",
       " 'Basil',\n",
       " 'Blind Love',\n",
       " 'The Dead Alive',\n",
       " 'Heart and Science: A Story of the Present Time',\n",
       " 'Hide and Seek',\n",
       " 'The Fallen Leaves',\n",
       " \"L'hôtel hanté\",\n",
       " 'John Jagon henki tahi kuollutko vai elävä?',\n",
       " 'Ilman menestyksettä: Joulukertomus',\n",
       " 'Sisar Rosa',\n",
       " 'Rambles Beyond Railways; or, Notes in Cornwall taken A-foot',\n",
       " 'Kamala yösija',\n",
       " 'The Dead Secret: A Novel',\n",
       " 'My Miscellanies, Vol. 1 (of 2)',\n",
       " 'My Miscellanies, Vol. 2 (of 2)',\n",
       " 'Valkopukuinen nainen I: Perheromaani',\n",
       " 'Valkopukuinen nainen II: Perheromaani']"
      ]
     },
     "execution_count": 170,
     "metadata": {},
     "output_type": "execute_result"
    }
   ],
   "source": [
    "[item['title'] for item in parsed]"
   ]
  },
  {
   "cell_type": "markdown",
   "metadata": {},
   "source": [
    "That's too many. And some of the ones at the end aren't in English. So let's get just the first 6 or so novels. "
   ]
  },
  {
   "cell_type": "code",
   "execution_count": 171,
   "metadata": {},
   "outputs": [],
   "source": [
    "collinsIDs = [item['id'] for item in parsed][:6]"
   ]
  },
  {
   "cell_type": "markdown",
   "metadata": {},
   "source": [
    "Now let's write another query to get the full texts. This should take a long time, since we're getting the full text of all Collins novels here: "
   ]
  },
  {
   "cell_type": "code",
   "execution_count": 172,
   "metadata": {},
   "outputs": [],
   "source": [
    "response = requests.get('http://corpus-db.org/api/author/Collins, Wilkie/fulltext')"
   ]
  },
  {
   "cell_type": "code",
   "execution_count": 173,
   "metadata": {},
   "outputs": [
    {
     "data": {
      "text/plain": [
       "True"
      ]
     },
     "execution_count": 173,
     "metadata": {},
     "output_type": "execute_result"
    }
   ],
   "source": [
    "response.ok"
   ]
  },
  {
   "cell_type": "code",
   "execution_count": 174,
   "metadata": {},
   "outputs": [],
   "source": [
    "parsed = json.loads(response.text)"
   ]
  },
  {
   "cell_type": "code",
   "execution_count": 175,
   "metadata": {},
   "outputs": [],
   "source": [
    "collinsNovels = [item['text'] for item in parsed[:6]]"
   ]
  },
  {
   "cell_type": "markdown",
   "metadata": {},
   "source": [
    "Now let's do the same for Dickens: "
   ]
  },
  {
   "cell_type": "code",
   "execution_count": 176,
   "metadata": {},
   "outputs": [],
   "source": [
    "response = requests.get('http://corpus-db.org/api/author/Dickens, Charles')"
   ]
  },
  {
   "cell_type": "code",
   "execution_count": 177,
   "metadata": {},
   "outputs": [
    {
     "data": {
      "text/plain": [
       "True"
      ]
     },
     "execution_count": 177,
     "metadata": {},
     "output_type": "execute_result"
    }
   ],
   "source": [
    "response.ok"
   ]
  },
  {
   "cell_type": "code",
   "execution_count": 178,
   "metadata": {},
   "outputs": [],
   "source": [
    "parsed = json.loads(response.text)"
   ]
  },
  {
   "cell_type": "code",
   "execution_count": 180,
   "metadata": {
    "scrolled": false
   },
   "outputs": [
    {
     "data": {
      "text/plain": [
       "[('46.0', 'A Christmas Carol in Prose; Being a Ghost Story of Christmas'),\n",
       " ('98.0', 'A Tale of Two Cities'),\n",
       " ('564.0', 'The Mystery of Edwin Drood'),\n",
       " ('580.0', 'The Pickwick Papers'),\n",
       " ('588.0', \"Master Humphrey's Clock\"),\n",
       " ('644.0', \"The Haunted Man and the Ghost's Bargain\"),\n",
       " ('650.0', 'Pictures from Italy'),\n",
       " ('653.0',\n",
       "  'The Chimes: A Goblin Story of Some Bells That Rang an Old Year out and a New Year In'),\n",
       " ('675.0', 'American Notes'),\n",
       " ('676.0', 'The Battle of Life'),\n",
       " ('678.0', 'The Cricket on the Hearth: A Fairy Tale of Home'),\n",
       " ('699.0', \"A Child's History of England\"),\n",
       " ('700.0', 'The Old Curiosity Shop'),\n",
       " ('730.0', 'Oliver Twist'),\n",
       " ('766.0', 'David Copperfield'),\n",
       " ('786.0', 'Hard Times'),\n",
       " ('807.0', 'Hunted Down: The Detective Stories of Charles Dickens'),\n",
       " ('809.0', 'Holiday Romance'),\n",
       " ('810.0', \"George Silverman's Explanation\"),\n",
       " ('821.0', 'Dombey and Son'),\n",
       " ('824.0', 'Speeches: Literary and Social'),\n",
       " ('872.0', 'Reprinted Pieces'),\n",
       " ('882.0',\n",
       "  'Sketches by Boz, Illustrative of Every-Day Life and Every-Day People'),\n",
       " ('883.0', 'Our Mutual Friend'),\n",
       " ('888.0', 'The Lazy Tour of Two Idle Apprentices'),\n",
       " ('912.0', 'Mudfog and Other Sketches'),\n",
       " ('914.0', 'The Uncommercial Traveller'),\n",
       " ('916.0', 'Sketches of Young Couples'),\n",
       " ('917.0', \"Barnaby Rudge: A Tale of the Riots of 'Eighty\"),\n",
       " ('918.0', 'Sketches of Young Gentlemen'),\n",
       " ('922.0', 'Sunday Under Three Heads'),\n",
       " ('924.0', 'To Be Read at Dusk'),\n",
       " ('927.0', 'The Lamplighter'),\n",
       " ('963.0', 'Little Dorrit'),\n",
       " ('967.0', 'Nicholas Nickleby'),\n",
       " ('968.0', 'Martin Chuzzlewit'),\n",
       " ('1023.0', 'Bleak House'),\n",
       " ('1289.0', 'Three Ghost Stories'),\n",
       " ('1392.0', 'The Seven Poor Travellers'),\n",
       " ('1394.0', 'The Holly-Tree'),\n",
       " ('1400.0', 'Great Expectations'),\n",
       " ('1406.0', 'The Perils of Certain English Prisoners'),\n",
       " ('1407.0', 'A Message from the Sea'),\n",
       " ('1413.0', \"Tom Tiddler's Ground\"),\n",
       " ('1414.0', \"Somebody's Luggage\"),\n",
       " ('1415.0', 'Doctor Marigold'),\n",
       " ('1416.0', \"Mrs. Lirriper's Lodgings\"),\n",
       " ('1419.0', 'Mugby Junction'),\n",
       " ('1421.0', \"Mrs. Lirriper's Legacy\"),\n",
       " ('1422.0', 'Going into Society'),\n",
       " ('1423.0', 'No Thoroughfare'),\n",
       " ('1435.0', 'Miscellaneous Papers'),\n",
       " ('1465.0', 'The Wreck of the Golden Mary'),\n",
       " ('1467.0', 'Some Christmas Stories'),\n",
       " ('2324.0', 'A House to Let'),\n",
       " ('13771.0', 'Aventures de Monsieur Pickwick, Vol. I'),\n",
       " ('14789.0', 'Aventures de Monsieur Pickwick, Vol. II'),\n",
       " ('15499.0', 'Mugbyn risteys'),\n",
       " ('15618.0', 'The Loving Ballad of Lord Bateman'),\n",
       " ('16020.0', 'Le grillon du foyer'),\n",
       " ('16021.0', 'Cantique de Noël'),\n",
       " ('16022.0', 'Les conteurs à la ronde'),\n",
       " ('16023.0', 'Oliver Twist'),\n",
       " ('17565.0', 'Les grandes espérances'),\n",
       " ('17675.0', \"Le magasin d'antiquités, Tome I\"),\n",
       " ('17676.0', \"Le magasin d'antiquités, Tome II\"),\n",
       " ('17868.0', 'David Copperfield - Tome I'),\n",
       " ('17869.0', 'David Copperfield - Tome II'),\n",
       " ('17879.0', 'Barnabé Rudge, Tome I'),\n",
       " ('17880.0', 'Barnabé Rudge, Tome II'),\n",
       " ('18059.0', \"L'abîme\"),\n",
       " ('18186.0',\n",
       "  'David Copperfield I: David Copperfield nuoremman elämäkertomus ja kokemukset'),\n",
       " ('18201.0',\n",
       "  'David Copperfield II: David Copperfield nuoremman elämäkerta ja kokemukset'),\n",
       " ('19337.0', 'A Christmas Carol'),\n",
       " ('20795.0', 'The Cricket on the Hearth'),\n",
       " ('22465.0', 'Der Weihnachtsabend: Eine Geistergeschichte'),\n",
       " ('23344.0',\n",
       "  'The Magic Fishbone: A Holiday Romance from the Pen of Miss Alice Rainbird, Aged 7'),\n",
       " ('23452.0',\n",
       "  'The Trial of William Tinkling: Written by Himself at the Age of 8 Years'),\n",
       " ('23765.0',\n",
       "  'Captain Boldheart & the Latin-Grammar Master: A Holiday Romance from the Pen of Lieut-Col. Robin Redforth, aged 9'),\n",
       " ('24022.0', 'A Christmas Carol'),\n",
       " ('24026.0', 'Joulun-aatto'),\n",
       " ('24501.0', \"La Batalo de l' Vivo\"),\n",
       " ('25852.0', 'The Letters of Charles Dickens: Vol. 1, 1833-1856'),\n",
       " ('25853.0', 'The Letters of Charles Dickens: Vol. 2, 1857-1870'),\n",
       " ('25854.0', 'The Letters of Charles Dickens: Vol. 3, 1836-1870'),\n",
       " ('27924.0', 'Mugby Junction'),\n",
       " ('28560.0', 'Een Kerstlied in Proza'),\n",
       " ('30127.0', 'Tales from Dickens'),\n",
       " ('30368.0', 'A Christmas Carol: The original manuscript'),\n",
       " ('31638.0', 'Sanoma merellä'),\n",
       " ('32241.0', \"Dickens' Stories About Children Every Child Can Read\"),\n",
       " ('35536.0', 'The Poems and Verses of Charles Dickens'),\n",
       " ('37093.0', 'De avonturen van Oliver Twist'),\n",
       " ('37121.0', \"Charles Dickens' Children Stories\"),\n",
       " ('37581.0', 'The Cricket on the Hearth: A Fairy Tale of Home'),\n",
       " ('40723.0', 'The Battle of Life. A Love Story'),\n",
       " ('41739.0',\n",
       "  \"A Christmas Carol; Or, The Miser's Warning!: (Adapted from Charles Dickens' Celebrated Work.)\"),\n",
       " ('42232.0', \"A Child's Dream of a Star\"),\n",
       " ('43111.0', 'The Personal History of David Copperfield'),\n",
       " ('43207.0',\n",
       "  'Scenes and Characters from the Works of Charles Dickens: Being Eight Hundred and Sixty-six Pictures Printed from the Original Wood Blocks'),\n",
       " ('44899.0', 'Kotisirkka'),\n",
       " ('46675.0', \"Oliver Twist; or, The Parish Boy's Progress. Illustrated\"),\n",
       " ('47529.0', 'Oliver Twist, Vol. 1 (of 3)'),\n",
       " ('47530.0', 'Oliver Twist, Vol. 2 (of 3)'),\n",
       " ('47531.0', 'Oliver Twist, Vol. 3 (of 3)'),\n",
       " ('47534.0', 'The Posthumous Papers of the Pickwick Club, v. 1(of 2)'),\n",
       " ('47535.0', 'The Posthumous Papers of the Pickwick Club, v. 2(of 2)'),\n",
       " ('47716.0', 'Schetsen uit Amerika en Tafereelen uit Italië'),\n",
       " ('47933.0', 'Het leven en de lotgevallen van David Copperfield'),\n",
       " ('48023.0', 'Kaksi kaupunkia'),\n",
       " ('49927.0',\n",
       "  \"Pearl-Fishing; Choice Stories from Dickens' Household Words; First Series\"),\n",
       " ('50164.0', 'Elämän taistelu'),\n",
       " ('50334.0',\n",
       "  \"Pearl-Fishing; Choice Stories from Dickens' Household Words; Second Series\"),\n",
       " ('50771.0', 'Slechte Tijden')]"
      ]
     },
     "execution_count": 180,
     "metadata": {},
     "output_type": "execute_result"
    }
   ],
   "source": [
    "[(item['id'], item['title']) for item in parsed]"
   ]
  },
  {
   "cell_type": "markdown",
   "metadata": {},
   "source": [
    "Again, this is too many, so let's just choose a few good ones: "
   ]
  },
  {
   "cell_type": "code",
   "execution_count": 179,
   "metadata": {},
   "outputs": [],
   "source": [
    "dickensIDs = [str(float(bookID)) for bookID in [98, 564, 580, 730, 766, 1423]]"
   ]
  },
  {
   "cell_type": "code",
   "execution_count": 181,
   "metadata": {},
   "outputs": [
    {
     "data": {
      "text/plain": [
       "['98.0', '564.0', '580.0', '730.0', '766.0', '1423.0']"
      ]
     },
     "execution_count": 181,
     "metadata": {},
     "output_type": "execute_result"
    }
   ],
   "source": [
    "dickensIDs"
   ]
  },
  {
   "cell_type": "markdown",
   "metadata": {},
   "source": [
    "Now create a function that, given a book ID, gets the full text of that novel from the API: "
   ]
  },
  {
   "cell_type": "code",
   "execution_count": 182,
   "metadata": {},
   "outputs": [],
   "source": [
    "def getFullText(bookID): \n",
    "    response = requests.get('http://corpus-db.org/api/id/' + bookID + '/fulltext')\n",
    "    if response.ok: \n",
    "        return json.loads(response.text)[0]['text']"
   ]
  },
  {
   "cell_type": "code",
   "execution_count": 183,
   "metadata": {},
   "outputs": [],
   "source": [
    "dickensNovels = [getFullText(dickensID) for dickensID in dickensIDs]"
   ]
  },
  {
   "cell_type": "markdown",
   "metadata": {},
   "source": [
    "And peek at the results so that we know we got the full texts: "
   ]
  },
  {
   "cell_type": "code",
   "execution_count": 184,
   "metadata": {},
   "outputs": [
    {
     "data": {
      "text/plain": [
       "['\\n\\n\\n\\n\\n\\n\\n\\nA TALE OF TWO CITIES\\n\\nA STORY OF THE FRENCH REVOLUTION\\n\\nBy Charles Dickens\\n\\n\\nCONTENTS\\n\\n\\n     Book the First--Recalled to Life\\n\\n     Chapter I      The Period\\n     Chapter II     The Mail\\n     ',\n",
       " '\\n\\nTranscribed from the Chapman and Hall, 1914 edition by David Price, email\\nccx074@pglaf.org\\n\\n\\n\\n\\n\\n                        THE MYSTERY OF EDWIN DROOD\\n\\n\\n                       [Picture: Rochester castle',\n",
       " \"\\n\\n\\n\\n\\n\\n\\n\\nTHE PICKWICK PAPERS\\n\\n\\nBy Charles Dickens\\n\\n\\n\\n\\nCONTENTS\\n\\n\\n1. The Pickwickians\\n\\n2. The first Day's Journey, and the first Evening's Adventures; with\\ntheir Consequences\\n\\n3. A new Acquaintance--The\",\n",
       " \"\\n\\n\\n\\n\\n\\n\\n\\n\\nOLIVER TWIST\\n\\nOR\\n\\nTHE PARISH BOY'S PROGRESS\\n\\n\\nBY\\n\\nCHARLES DICKENS\\n\\n\\n\\n\\nCONTENTS\\n\\n       I  TREATS OF THE PLACE WHERE OLIVER TWIST WAS BORN AND OF THE\\n          CIRCUMSTANCES ATTENDING HIS BIRT\",\n",
       " '\\n\\n\\n\\n\\nDAVID COPPERFIELD\\n\\n\\nBy Charles Dickens\\n\\n\\n\\n               AFFECTIONATELY INSCRIBED TO\\n               THE HON.  Mr. AND Mrs. RICHARD WATSON,\\n               OF ROCKINGHAM, NORTHAMPTONSHIRE.\\n\\n\\nCONTEN',\n",
       " '\\n\\n\\n\\n\\nTranscribed from the 1894 Chapman and Hall \"Christmas Stories\" edition by\\nDavid Price, email ccx074@coventry.ac.uk\\n\\n\\n\\n\\n\\nNO THOROUGHFARE\\n\\n\\nTHE OVERTURE.\\n\\n\\nDay of the month and year, November the t']"
      ]
     },
     "execution_count": 184,
     "metadata": {},
     "output_type": "execute_result"
    }
   ],
   "source": [
    "[book[:200] for book in dickensNovels]"
   ]
  },
  {
   "cell_type": "markdown",
   "metadata": {},
   "source": [
    "Manually add some labels: "
   ]
  },
  {
   "cell_type": "code",
   "execution_count": 185,
   "metadata": {},
   "outputs": [],
   "source": [
    "dickensLabels = ['Tale', 'Drood', 'Pickwick', 'Oliver', 'Copperfield', 'Thoroughfare']"
   ]
  },
  {
   "cell_type": "code",
   "execution_count": 186,
   "metadata": {},
   "outputs": [],
   "source": [
    "collinsLabels = ['Moonstone',\n",
    " 'Haunted Hotel',\n",
    " 'Woman in White',\n",
    " 'No Name',\n",
    " 'Man and Wife',\n",
    " 'Black Robe']"
   ]
  },
  {
   "cell_type": "markdown",
   "metadata": {},
   "source": [
    "Compute word frequencies for all words of all these novels, and make the resulting matrix dense, rather than sparse (since PCA can't handle sparse matrices). "
   ]
  },
  {
   "cell_type": "code",
   "execution_count": 187,
   "metadata": {},
   "outputs": [],
   "source": [
    "tfTable = tfidf.fit_transform(collinsNovels + dickensNovels).todense()"
   ]
  },
  {
   "cell_type": "markdown",
   "metadata": {},
   "source": [
    "Reduce the number of dimensions to 2 again, using the PCA object that we instantiated earlier: "
   ]
  },
  {
   "cell_type": "code",
   "execution_count": 188,
   "metadata": {},
   "outputs": [],
   "source": [
    "pcaOut = pca.fit_transform(tfTable)"
   ]
  },
  {
   "cell_type": "code",
   "execution_count": 189,
   "metadata": {},
   "outputs": [],
   "source": [
    "allLabels = collinsLabels + dickensLabels"
   ]
  },
  {
   "cell_type": "markdown",
   "metadata": {},
   "source": [
    "And plot the results. "
   ]
  },
  {
   "cell_type": "code",
   "execution_count": 190,
   "metadata": {},
   "outputs": [
    {
     "data": {
      "image/png": "[encoded data removed]",
      "text/plain": [
       "<matplotlib.figure.Figure at 0x7f36eb512438>"
      ]
     },
     "metadata": {},
     "output_type": "display_data"
    }
   ],
   "source": [
    "xs, ys = pcaOut[:,0], pcaOut[:,1]\n",
    "for i in range(len(xs)): \n",
    "    plt.scatter(xs[i], ys[i])\n",
    "    plt.annotate(allLabels[i], (xs[i], ys[i]))"
   ]
  }
 ],
 "metadata": {
  "kernelspec": {
   "display_name": "Python 3",
   "language": "python",
   "name": "python3"
  },
  "language_info": {
   "codemirror_mode": {
    "name": "ipython",
    "version": 3
   },
   "file_extension": ".py",
   "mimetype": "text/x-python",
   "name": "python",
   "nbconvert_exporter": "python",
   "pygments_lexer": "ipython3",
   "version": "3.6.6"
  }
 },
 "nbformat": 4,
 "nbformat_minor": 2
}
