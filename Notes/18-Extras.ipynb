{
 "cells": [
  {
   "cell_type": "markdown",
   "metadata": {},
   "source": [
    "# Extras\n",
    "\n",
    "Here are some things that probably won't be useful to your final projects, but which are pretty cool in their own right, and deserve some mention. You can also think of this as \"next steps\": what more is possible with computational literary analysis, beyond what we covered in this class? \n",
    "\n",
    " - TEI XML\n",
    " - APIs"
   ]
  },
  {
   "cell_type": "markdown",
   "metadata": {},
   "source": [
    "## TEI XML\n",
    "\n",
    "TEI XML stands for: \n",
    "\n",
    "Text Encoding Initiative\n",
    "eXtensible Markup Language\n",
    "\n",
    "and in short, it's a way to encode *semantic* information, i.e. information about *meaning*, into the text, so that it's easy to extract. We've done super light markup, for instance, by putting markers (`%%%%%`) into our texts, to delimit narratives. But what if we wanted to extract those parts, and sub-chapters, too, in a more predictable and structured way? Well, we can write it in XML, the eXtensible Markup Language. \n",
    "\n",
    "### On XML\n",
    "\n",
    "Imagine we have a list of two movies. And imagine each of those movies has certain properies. How could we make that data easily machine-readable? \n",
    "\n",
    "In XML, we could write it like this: \n",
    "\n",
    "```xml\n",
    "\n",
    "<movies>\n",
    "    <movie n=\"1\">\n",
    "      <title>Titanic</title>\n",
    "      <director>James Cameron</director>\n",
    "      <year>1997</year>\n",
    "    </movie>\n",
    "    <movie n=\"2\">\n",
    "      <title>Rain Man</title>\n",
    "      <director>Barry Levinson</director>\n",
    "      <year>1988</year>\n",
    "    </movie>\n",
    "</movies>\n",
    "\n",
    "```\n",
    "\n",
    "This is a hierarchical tree representing two movies and their associated properties. Now, we can load this into a string, and parse it using a library like `xml`, like this:"
   ]
  },
  {
   "cell_type": "code",
   "execution_count": 1,
   "metadata": {},
   "outputs": [],
   "source": [
    "xml = \"\"\"<movies>\n",
    "    <movie n=\"1\">\n",
    "      <title>Titanic</title>\n",
    "      <director>James Cameron</director>\n",
    "      <year>1997</year>\n",
    "    </movie>\n",
    "    <movie n=\"2\">\n",
    "      <title>Rain Man</title>\n",
    "      <director>Barry Levinson</director>\n",
    "      <year>1988</year>\n",
    "    </movie>\n",
    "</movies>\n",
    "\"\"\""
   ]
  },
  {
   "cell_type": "code",
   "execution_count": 7,
   "metadata": {},
   "outputs": [],
   "source": [
    "from xml.etree import ElementTree"
   ]
  },
  {
   "cell_type": "code",
   "execution_count": 10,
   "metadata": {},
   "outputs": [],
   "source": [
    "tree = ElementTree.fromstring(xml)"
   ]
  },
  {
   "cell_type": "code",
   "execution_count": 14,
   "metadata": {},
   "outputs": [
    {
     "data": {
      "text/plain": [
       "'movies'"
      ]
     },
     "execution_count": 14,
     "metadata": {},
     "output_type": "execute_result"
    }
   ],
   "source": [
    "tree.tag"
   ]
  },
  {
   "cell_type": "markdown",
   "metadata": {},
   "source": [
    "We can get \"children\" of a given tag like this:"
   ]
  },
  {
   "cell_type": "code",
   "execution_count": 16,
   "metadata": {},
   "outputs": [
    {
     "data": {
      "text/plain": [
       "[<Element 'movie' at 0x7f53f09d1bd8>, <Element 'movie' at 0x7f53f05cc458>]"
      ]
     },
     "execution_count": 16,
     "metadata": {},
     "output_type": "execute_result"
    }
   ],
   "source": [
    "tree.getchildren()"
   ]
  },
  {
   "cell_type": "markdown",
   "metadata": {},
   "source": [
    "Or children of children:"
   ]
  },
  {
   "cell_type": "code",
   "execution_count": 26,
   "metadata": {},
   "outputs": [],
   "source": [
    "title = tree.getchildren()[0].getchildren()[0]"
   ]
  },
  {
   "cell_type": "code",
   "execution_count": 25,
   "metadata": {},
   "outputs": [
    {
     "data": {
      "text/plain": [
       "'Titanic'"
      ]
     },
     "execution_count": 25,
     "metadata": {},
     "output_type": "execute_result"
    }
   ],
   "source": [
    "title.text"
   ]
  },
  {
   "cell_type": "markdown",
   "metadata": {},
   "source": [
    "## TEI\n",
    "\n",
    "TEI XML is a certain brand of XML that can encode information about a text. `<said who=\"\">` tags might encode who says a given line of dialogue, for instance. `<foreign lang=\"\">` might tell us whether a given expression belongs to another language. All of this markup is useful to computational literary analysis. \n",
    "\n",
    "For an introduction, see [TEI By Example](http://teibyexample.org/). \n",
    "\n",
    "TEI XML files for literary texts may be found at [The Folger Shakespeare Library](https://www.folgerdigitaltexts.org/download/), [The Oxford Text Archive](http://ota.ox.ac.uk/catalogue/index.html), and, if it's a Joyce novel, at my project [Open Editions](https://github.com/open-editions). The last one is a collaborative project, so feel free to jump in and contribute!"
   ]
  },
  {
   "cell_type": "markdown",
   "metadata": {},
   "source": [
    "## APIs\n",
    "\n",
    "You can use APIs to get machine-readable data from the Internet. This can sometimes be more useful than downloading it yourself, and if the data is machine-readable, it might not be very human-readable, but it'll be easy to analyze using Python. \n",
    "\n",
    "For this, I'd refer you to some notebooks I made for a recent summer course in APIs I took: \n",
    "\n",
    " - [This notebook explains the data formats JSON and XML, and what it takes to parse them](https://github.com/szweibel/DHSI-API-workshop/blob/master/sections/data-formats.ipynb)\n",
    " - [This one uses the Open Library API to find publication data about certain books, and plot when most of their editions were published.](https://github.com/szweibel/DHSI-API-workshop/blob/master/sections/visualization.ipynb)\n",
    " - [This one looks at the genres of Shakespeare adaptations, using the iTunes API](https://github.com/szweibel/DHSI-API-workshop/blob/master/sections/visualization2.ipynb)"
   ]
  }
 ],
 "metadata": {
  "kernelspec": {
   "display_name": "Python 3",
   "language": "python",
   "name": "python3"
  },
  "language_info": {
   "codemirror_mode": {
    "name": "ipython",
    "version": 3
   },
   "file_extension": ".py",
   "mimetype": "text/x-python",
   "name": "python",
   "nbconvert_exporter": "python",
   "pygments_lexer": "ipython3",
   "version": "3.6.6"
  }
 },
 "nbformat": 4,
 "nbformat_minor": 2
}
