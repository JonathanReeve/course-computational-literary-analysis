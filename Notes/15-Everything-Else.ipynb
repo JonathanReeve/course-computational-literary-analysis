{
 "cells": [
  {
   "cell_type": "markdown",
   "metadata": {},
   "source": [
    "# Everything Else\n",
    "\n",
    " - Sentiment Analysis\n",
    " - Macro-Etymological Analysis\n",
    " \n",
    "## Sentiment Analysis\n",
    "\n",
    "Sentiment analysis is an automated attempt to guess at the polarity of the sentiment conveyed in a given expression. For example, if you have a corpus of movie reviews, and you're interested in knowing whether a given review is likely favorable or unfavorable to the movie, and reviews have sentences like: \"I really loved this movie!\" and \"I thought this movie was terrible,\" then you can use sentiment analysis to try to guess the sentiment conveyed. Sentiment analysis, as typically performed, usually has two types. *Lexical* sentiment analysis looks up words in a dictionary. So you can imagine that it's not great with sentences like \"I really didn't love this movie,\" since it will see \"love\" and will assume that it's a positive sentence. *Syntactic* or *probabilisitic* techniques, in contrast, take into account the structure of the sentence, and/or features learned (using machine learning) from labeled (manually entered) datasets, and are much better. But those techniques are much harder to do, so I'm just going to demonstrate a quick-and-dirty method, (i.e. easy, but inaccurate) using the `textblob` library. \n",
    "\n",
    "If you don't already have `textblob` (and I don't think it comes with Anaconda), you might have to run `conda install -c conda-forge textblob` from a terminal or command-line, in order to install it on Anaconda. "
   ]
  },
  {
   "cell_type": "code",
   "execution_count": 6,
   "metadata": {},
   "outputs": [],
   "source": [
    "from textblob import TextBlob\n",
    "import pandas as pd\n",
    "from nltk import sent_tokenize\n",
    "%matplotlib inline"
   ]
  },
  {
   "cell_type": "markdown",
   "metadata": {},
   "source": [
    "First, we'll get some test texts to play around with, from Dubliners: "
   ]
  },
  {
   "cell_type": "code",
   "execution_count": 4,
   "metadata": {},
   "outputs": [],
   "source": [
    "eveline = open('eveline.md').read()"
   ]
  },
  {
   "cell_type": "code",
   "execution_count": 5,
   "metadata": {},
   "outputs": [
    {
     "data": {
      "text/plain": [
       "'\\n## EVELINE\\n\\nSHE sat at the window watching the evening invade the avenue. Her head\\nwas leaned against the window curtains and in her nostrils was the odour\\nof dusty cretonne. She was tired.\\n\\nFew peop'"
      ]
     },
     "execution_count": 5,
     "metadata": {},
     "output_type": "execute_result"
    }
   ],
   "source": [
    "eveline[:200]"
   ]
  },
  {
   "cell_type": "markdown",
   "metadata": {},
   "source": [
    "Make it into a `TextBlob` object: "
   ]
  },
  {
   "cell_type": "code",
   "execution_count": 6,
   "metadata": {},
   "outputs": [],
   "source": [
    "evelineBlob = TextBlob(eveline)"
   ]
  },
  {
   "cell_type": "markdown",
   "metadata": {},
   "source": [
    "Which gives us access to the `.sentiment` property, containing both `.polarity` and `.subjectivity`. Polarity is whether the sentence is positive or negative; subjectivity is how much sentiment is present. A sentence like \"I really love this OMG!!!1!\" would have high subjectivity, for instance, while a sentence like \"the cat is in the house\" would have low subjectivity. "
   ]
  },
  {
   "cell_type": "code",
   "execution_count": 7,
   "metadata": {},
   "outputs": [
    {
     "data": {
      "text/plain": [
       "Sentiment(polarity=-0.008591667278107956, subjectivity=0.45734867298426624)"
      ]
     },
     "execution_count": 7,
     "metadata": {},
     "output_type": "execute_result"
    }
   ],
   "source": [
    "evelineBlob.sentiment"
   ]
  },
  {
   "cell_type": "code",
   "execution_count": 8,
   "metadata": {},
   "outputs": [],
   "source": [
    "dubliners = open('dubliners.md').read()"
   ]
  },
  {
   "cell_type": "code",
   "execution_count": 9,
   "metadata": {},
   "outputs": [],
   "source": [
    "dubParts = dubliners.split('##')"
   ]
  },
  {
   "cell_type": "markdown",
   "metadata": {},
   "source": [
    "Grab a few stories: "
   ]
  },
  {
   "cell_type": "code",
   "execution_count": 16,
   "metadata": {},
   "outputs": [],
   "source": [
    "nope, sisters, encounter, araby, eveline = dubParts[:5]"
   ]
  },
  {
   "cell_type": "code",
   "execution_count": 20,
   "metadata": {},
   "outputs": [
    {
     "data": {
      "text/plain": [
       "' EVELINE\\n\\nSHE sat at the window watching the evening invade the avenue. Her head\\nwas leaned against '"
      ]
     },
     "execution_count": 20,
     "metadata": {},
     "output_type": "execute_result"
    }
   ],
   "source": [
    "eveline[:100]"
   ]
  },
  {
   "cell_type": "code",
   "execution_count": 21,
   "metadata": {},
   "outputs": [],
   "source": [
    "fourStories = [sisters, encounter, araby, eveline]\n",
    "allStories = dubParts[1:]"
   ]
  },
  {
   "cell_type": "markdown",
   "metadata": {},
   "source": [
    "Turn them into `TextBlob` objects: "
   ]
  },
  {
   "cell_type": "code",
   "execution_count": 22,
   "metadata": {},
   "outputs": [],
   "source": [
    "fourBlobs = [TextBlob(text).sentiment\n",
    "            for text in fourStories]"
   ]
  },
  {
   "cell_type": "markdown",
   "metadata": {},
   "source": [
    "Grab their sentiment polarities: "
   ]
  },
  {
   "cell_type": "code",
   "execution_count": 24,
   "metadata": {},
   "outputs": [],
   "source": [
    "fourSentiments = [item.polarity\n",
    "                 for item in fourBlobs]"
   ]
  },
  {
   "cell_type": "code",
   "execution_count": 25,
   "metadata": {},
   "outputs": [
    {
     "data": {
      "text/plain": [
       "[-0.008060086400893564,\n",
       " 0.07032967290973487,\n",
       " -0.03624764467357063,\n",
       " -0.008591667278107956]"
      ]
     },
     "execution_count": 25,
     "metadata": {},
     "output_type": "execute_result"
    }
   ],
   "source": [
    "fourSentiments"
   ]
  },
  {
   "cell_type": "markdown",
   "metadata": {},
   "source": [
    "And plot them, labeling the rows while we're at it: "
   ]
  },
  {
   "cell_type": "code",
   "execution_count": 28,
   "metadata": {},
   "outputs": [
    {
     "data": {
      "text/plain": [
       "<matplotlib.axes._subplots.AxesSubplot at 0x7f7746e95780>"
      ]
     },
     "execution_count": 28,
     "metadata": {},
     "output_type": "execute_result"
    },
    {
     "data": {
      "image/png": "[encoded data removed]",
      "text/plain": [
       "<matplotlib.figure.Figure at 0x7f774714ee80>"
      ]
     },
     "metadata": {},
     "output_type": "display_data"
    }
   ],
   "source": [
    "pd.Series(fourSentiments, index=['The Sisters', 'An Encounter', \n",
    "                                 'Araby', 'Eveline']).plot(kind='bar')"
   ]
  },
  {
   "cell_type": "markdown",
   "metadata": {},
   "source": [
    "Let's try this again but with every sentence in \"Eveline,\" as another example: "
   ]
  },
  {
   "cell_type": "code",
   "execution_count": 7,
   "metadata": {},
   "outputs": [],
   "source": [
    "eveline = open('eveline.md').read()"
   ]
  },
  {
   "cell_type": "code",
   "execution_count": 8,
   "metadata": {},
   "outputs": [],
   "source": [
    "evelineSents = sent_tokenize(eveline)"
   ]
  },
  {
   "cell_type": "markdown",
   "metadata": {},
   "source": [
    "How many sentences are there? "
   ]
  },
  {
   "cell_type": "code",
   "execution_count": 9,
   "metadata": {},
   "outputs": [
    {
     "data": {
      "text/plain": [
       "130"
      ]
     },
     "execution_count": 9,
     "metadata": {},
     "output_type": "execute_result"
    }
   ],
   "source": [
    "len(evelineSents)"
   ]
  },
  {
   "cell_type": "markdown",
   "metadata": {},
   "source": [
    "Make a list of all the polarities of all the sentences: "
   ]
  },
  {
   "cell_type": "code",
   "execution_count": 10,
   "metadata": {},
   "outputs": [],
   "source": [
    "evelineSentiments = [TextBlob(sent).sentiment.polarity\n",
    "                    for sent in evelineSents]"
   ]
  },
  {
   "cell_type": "markdown",
   "metadata": {},
   "source": [
    "And now we can iterate through all these, and the sentences too, zipping them together with `zip()` and writing a `for` loop to move through both of them at the same time: "
   ]
  },
  {
   "cell_type": "code",
   "execution_count": 13,
   "metadata": {},
   "outputs": [
    {
     "name": "stdout",
     "output_type": "stream",
     "text": [
      "0.0  ## EVELINE  SHE sat at the window watching the evening invade the avenue.\n",
      "-0.4 Her head was leaned against the window curtains and in her nostrils was the odou\n",
      "-0.4 She was tired.\n",
      "-0.2 Few people passed.\n",
      "0.0715909090909091 The man out of the last house passed on his way home; she heard his footsteps cl\n",
      "-0.125 One time there used to be a field there in which they used to play every evening\n",
      "0.25625000000000003 Then a man from Belfast bought the field and built houses in it---not like their\n",
      "-0.1875 The children of the avenue used to play together in that field---the Devines, th\n",
      "0.0 Ernest, however, never played: he was too grown up.\n",
      "-0.1875 Her father used often to hunt them in out of the field with his blackthorn stick\n",
      "0.8 Still they seemed to have been rather happy then.\n",
      "-0.29999999999999993 Her father was not so bad then; and besides, her mother was alive.\n",
      "-0.125 That was a long time ago; she and her brothers and sisters were all grown up; he\n",
      "-0.1 Tizzie Dunn was dead, too, and the Waters had gone back to England.\n",
      "0.0 Everything changes.\n",
      "0.0 Now she was going to go away like the others, to leave her home.\n",
      "0.0 Home!\n",
      "0.225 She looked round the room, reviewing all its familiar objects which she had dust\n",
      "0.375 Perhaps she would never see again those familiar objects from which she had neve\n",
      "-0.2 And yet during all those years she had never found out the name of the priest wh\n",
      "0.0 He had been a school friend of her father.\n",
      "-0.5000000000000001 Whenever he showed the photograph to a visitor her father used to pass it with a\n",
      "0.0 She had consented to go away, to leave her home.\n",
      "0.7 Was that wise?\n",
      "0.0 She tried to weigh each side of the question.\n",
      "0.0 In her home anyway she had shelter and food; she had those whom she had known al\n",
      "-0.2916666666666667 Of course she had to work hard, both in the house and at business.\n",
      "0.0 What would they say of her in the Stores when they found out that she had run aw\n",
      "0.4 Say she was a fool, perhaps; and her place would be filled up by advertisement.\n",
      "0.5 Miss Gavan would be glad.\n",
      "0.0 She had always had an edge on her, especially whenever there were people listeni\n",
      "0.0 \"Miss Hill, don't you see these ladies are waiting?\"\n",
      "0.13636363636363635 \"Look lively, Miss Hill, please.\"\n",
      "0.5 She would not cry many tears at leaving the Stores.\n",
      "-0.02121212121212122 But in her new home, in a distant unknown country, it would not be like that.\n",
      "0.0 Then she would be married---she, Eveline.\n",
      "0.0 People would treat her with respect then.\n",
      "0.0 She would not be treated as her mother had been.\n",
      "0.0 Even now, though she was over nineteen, she sometimes felt herself in danger of \n",
      "0.0 She knew it was that that had given her the palpitations.\n",
      "-0.06666666666666667 When they were growing up he had never gone for her like he used to go for Harry\n",
      "0.0 And now she had nobody to protect her.\n",
      "-0.0851851851851852 Ernest was dead and Harry, who was in the church decorating business, was nearly\n",
      "0.0 Besides, the invariable squabble for money on Saturday nights had begun to weary\n",
      "-0.1 She always gave her entire wages---seven shillings---and Harry always sent up wh\n",
      "-0.09999999999999992 He said she used to squander the money, that she had no head, that he wasn't goi\n",
      "0.0 In the end he would give her the money and ask her had she any intention of buyi\n",
      "-0.07797619047619048 Then she had to rush out as quickly as she could and do her marketing, holding h\n",
      "-0.03833333333333334 She had hard work to keep the house together and to see that the two young child\n",
      "-0.2916666666666667 It was hard work---a hard life---but now that she was about to leave it she did \n",
      "0.0 She was about to explore another life with Frank.\n",
      "0.78 Frank was very kind, manly, open-hearted.\n",
      "0.13636363636363635 She was to go away with him by the night-boat to be his wife and to live with hi\n",
      "0.20833333333333331 How well she remembered the first time she had seen him; he was lodging in a hou\n",
      "-0.2 It seemed a few weeks ago.\n",
      "0.0 He was standing at the gate, his peaked cap pushed back on his head and his hair\n",
      "-0.125 Then they had come to know each other.\n",
      "0.0 He used to meet her outside the Stores every evening and see her home.\n",
      "0.0 He took her to see The Bohemian Girl and she felt elated as she sat in an unaccu\n",
      "-0.59375 He was awfully fond of music and sang a little.\n",
      "-0.4 People knew that they were courting and, when he sang about the lass that loves \n",
      "0.3 He used to call her Poppens out of fun.\n",
      "0.25 First of all it had been an excitement for her to have a fellow and then she had\n",
      "-0.1 He had tales of distant countries.\n",
      "0.0 He had started as a deck boy at a pound a month on a ship of the Allan Line goin\n",
      "0.0 He told her the names of the ships he had been on and the names of the different\n",
      "-1.0 He had sailed through the Straits of Magellan and he told her stories of the ter\n",
      "0.1 He had fallen on his feet in Buenos Ayres, he said, and had come over to the old\n",
      "0.0 Of course, her father had found out the affair and had forbidden her to have any\n",
      "0.0 \"I know these sailor chaps,\" he said.\n",
      "-0.4 One day he had quarrelled with Frank and after that she had to meet her lover se\n",
      "0.0 The evening deepened in the avenue.\n",
      "0.0 The white of two letters in her lap grew indistinct.\n",
      "-0.125 One was to Harry; the other was to her father.\n",
      "0.6 Ernest had been her favourite but she liked Harry too.\n",
      "0.08333333333333336 Her father was becoming old lately, she noticed; he would miss her.\n",
      "0.78 Sometimes he could be very nice.\n",
      "0.025 Not long before, when she had been laid up for a day, he had read her out a ghos\n",
      "0.1 Another day, when their mother was alive, they had all gone for a picnic to the \n",
      "0.3 She remembered her father putting on her mother's bonnet to make the children la\n",
      "-0.4 Her time was running out but she continued to sit by the window, leaning her hea\n",
      "-0.02777777777777779 Down far in the avenue she could hear a street organ playing.\n",
      "0.0 She knew the air.\n",
      "0.03333333333333334 Strange that it should come that very night to remind her of the promise to her \n",
      "-0.06875 She remembered the last night of her mother's illness; she was again in the clos\n",
      "0.0 The organ-player had been ordered to go away and given sixpence.\n",
      "-0.15 She remembered her father strutting back into the sickroom saying:  \"Damned Ital\n",
      "0.0 coming over here!\"\n",
      "0.21666666666666667 As she mused the pitiful vision of her mother's life laid its spell on the very \n",
      "0.0 She trembled as she heard again her mother's voice saying constantly with foolis\n",
      "0.0 Derevaun Seraun!\"\n",
      "0.0 She stood up in a sudden impulse of terror.\n",
      "0.0 Escape!\n",
      "0.0 She must escape!\n",
      "0.0 Frank would save her.\n",
      "0.5 He would give her life, perhaps love, too.\n",
      "0.13636363636363635 But she wanted to live.\n",
      "-0.6 Why should she be unhappy?\n",
      "0.4928571428571428 She had a right to happiness.\n",
      "0.0 Frank would take her in his arms, fold her in his arms.\n",
      "0.0 He would save her.\n",
      "0.0 She stood among the swaying crowd in the station at the North Wall.\n",
      "0.0 He held her hand and she knew that he was speaking to her, saying something abou\n",
      "0.35 The station was full of soldiers with brown baggages.\n",
      "-0.13333333333333333 Through the wide doors of the sheds she caught a glimpse of the black mass of th\n",
      "0.0 She answered nothing.\n",
      "-0.23666666666666666 She felt her cheek pale and cold and, out of a maze of distress, she prayed to G\n",
      "-0.05 The boat blew a long mournful whistle into the mist.\n",
      "0.0 If she went, tomorrow she would be on the sea with Frank, steaming towards Bueno\n",
      "0.0 Their passage had been booked.\n",
      "0.0 Could she still draw back after all he had done for her?\n",
      "0.0 Her distress awoke a nausea in her body and she kept moving her lips in silent f\n",
      "0.0 A bell clanged upon her heart.\n",
      "0.0 She felt him seize her hand:  \"Come!\"\n",
      "0.0 All the seas of the world tumbled about her heart.\n",
      "0.0 He was drawing her into them: he would drown her.\n",
      "0.0 She gripped with both hands at the iron railing.\n",
      "0.0 \"Come!\"\n",
      "0.0 No!\n",
      "0.0 No!\n",
      "0.0 No!\n",
      "-0.6666666666666666 It was impossible.\n",
      "0.0 Her hands clutched the iron in frenzy.\n",
      "0.0 Amid the seas she sent a cry of anguish!\n",
      "0.0 \"Eveline!\n",
      "0.0 Evvy!\"\n",
      "0.0 He rushed beyond the barrier and called to her to follow.\n",
      "0.0 He was shouted at to go on but he still called to her.\n",
      "0.0 She set her white face to him, passive, like a helpless animal.\n",
      "0.5 Her eyes gave him no sign of love or farewell or recognition.\n"
     ]
    }
   ],
   "source": [
    "for sent, sentiment in zip(evelineSents, evelineSentiments): \n",
    "    print(sentiment, sent.replace('\\n', ' ')[:80])"
   ]
  },
  {
   "cell_type": "markdown",
   "metadata": {},
   "source": [
    "Finally, plot the sentiment polarity, by sentence: "
   ]
  },
  {
   "cell_type": "code",
   "execution_count": 14,
   "metadata": {},
   "outputs": [
    {
     "data": {
      "text/plain": [
       "<matplotlib.axes._subplots.AxesSubplot at 0x7f4e9929ec50>"
      ]
     },
     "execution_count": 14,
     "metadata": {},
     "output_type": "execute_result"
    },
    {
     "data": {
      "image/png": "[encoded data removed]",
      "text/plain": [
       "<matplotlib.figure.Figure at 0x7f4e992a2a58>"
      ]
     },
     "metadata": {},
     "output_type": "display_data"
    }
   ],
   "source": [
    "pd.Series(evelineSentiments).plot()"
   ]
  },
  {
   "cell_type": "markdown",
   "metadata": {},
   "source": [
    "We can smooth that out using rolling averages: "
   ]
  },
  {
   "cell_type": "code",
   "execution_count": 21,
   "metadata": {},
   "outputs": [
    {
     "data": {
      "text/plain": [
       "<matplotlib.axes._subplots.AxesSubplot at 0x7f4e94eda668>"
      ]
     },
     "execution_count": 21,
     "metadata": {},
     "output_type": "execute_result"
    },
    {
     "data": {
      "image/png": "[encoded data removed]",
      "text/plain": [
       "<matplotlib.figure.Figure at 0x7f4e94efeb00>"
      ]
     },
     "metadata": {},
     "output_type": "display_data"
    }
   ],
   "source": [
    "pd.Series(evelineSentiments).rolling(window=20).mean().plot()"
   ]
  },
  {
   "cell_type": "markdown",
   "metadata": {},
   "source": [
    "We could also try that by paragraph, if we wanted: "
   ]
  },
  {
   "cell_type": "code",
   "execution_count": 22,
   "metadata": {},
   "outputs": [],
   "source": [
    "evelineParas = eveline.split('\\n\\n')"
   ]
  },
  {
   "cell_type": "code",
   "execution_count": 23,
   "metadata": {},
   "outputs": [
    {
     "data": {
      "text/plain": [
       "28"
      ]
     },
     "execution_count": 23,
     "metadata": {},
     "output_type": "execute_result"
    }
   ],
   "source": [
    "len(evelineParas)"
   ]
  },
  {
   "cell_type": "code",
   "execution_count": 24,
   "metadata": {},
   "outputs": [],
   "source": [
    "evelinePSentiments = [TextBlob(par).sentiment.polarity\n",
    "                     for par in evelineParas]"
   ]
  },
  {
   "cell_type": "code",
   "execution_count": 25,
   "metadata": {},
   "outputs": [
    {
     "data": {
      "text/plain": [
       "[0.0,\n",
       " -0.4,\n",
       " -0.008890374331550792,\n",
       " 0.021428571428571415,\n",
       " 0.0,\n",
       " 0.26166666666666666,\n",
       " 0.0,\n",
       " 0.13636363636363635,\n",
       " 0.5,\n",
       " -0.0835873617123617,\n",
       " -0.060557040998217446,\n",
       " 0.0,\n",
       " -0.4,\n",
       " 0.193,\n",
       " -0.0775462962962963,\n",
       " 0.0,\n",
       " 0.14444444444444446,\n",
       " 0.0,\n",
       " 0.17034632034632033,\n",
       " -0.07518518518518519,\n",
       " 0.0,\n",
       " 0.0,\n",
       " 0.0,\n",
       " 0.0,\n",
       " -0.8333333333333333,\n",
       " 0.0,\n",
       " 0.25,\n",
       " 0.0]"
      ]
     },
     "execution_count": 25,
     "metadata": {},
     "output_type": "execute_result"
    }
   ],
   "source": [
    "evelinePSentiments"
   ]
  },
  {
   "cell_type": "code",
   "execution_count": 26,
   "metadata": {},
   "outputs": [
    {
     "data": {
      "text/plain": [
       "<matplotlib.axes._subplots.AxesSubplot at 0x7f4e9502bcf8>"
      ]
     },
     "execution_count": 26,
     "metadata": {},
     "output_type": "execute_result"
    },
    {
     "data": {
      "image/png": "[encoded data removed]",
      "text/plain": [
       "<matplotlib.figure.Figure at 0x7f4e958cb240>"
      ]
     },
     "metadata": {},
     "output_type": "display_data"
    }
   ],
   "source": [
    "pd.Series(evelinePSentiments).plot()"
   ]
  },
  {
   "cell_type": "markdown",
   "metadata": {},
   "source": [
    "# Macro-Etymological Analysis\n",
    "\n",
    "Macro-etymological analysis simply looks up the parent languages, and parent language families, of each word in your text, and tabulates them accordingly. For this import statement to work, you must first have run `git clone` on [the `macroetym` repository](https://github.com/JonathanReeve/macro-etym), and either make sure the module is in your current working directory, or globally available, after installing it with something like `pip3 install .` or `conda install .`. This isn't easy to do, so let me know if you have trouble installing this, and we can work through it together. "
   ]
  },
  {
   "cell_type": "code",
   "execution_count": 49,
   "metadata": {},
   "outputs": [],
   "source": [
    "from macroetym import main"
   ]
  },
  {
   "cell_type": "markdown",
   "metadata": {},
   "source": [
    "First, create a macro-etym `Text` object, and tell it the language is English. `Macro-etym` uses the standard three-letter language codes. "
   ]
  },
  {
   "cell_type": "code",
   "execution_count": 51,
   "metadata": {},
   "outputs": [],
   "source": [
    "eveText = main.Text(eveline, lang='eng')"
   ]
  },
  {
   "cell_type": "markdown",
   "metadata": {},
   "source": [
    "Then, get language stats for \"Eveline\": "
   ]
  },
  {
   "cell_type": "code",
   "execution_count": 54,
   "metadata": {},
   "outputs": [
    {
     "data": {
      "text/plain": [
       "{'ang': 59.471094710947106,\n",
       " 'deu': 0.36900369003690037,\n",
       " 'dum': 0.36900369003690037,\n",
       " 'fas': 0.12300123001230011,\n",
       " 'fra': 5.07380073800738,\n",
       " 'frm': 2.3062730627306274,\n",
       " 'fro': 13.284132841328415,\n",
       " 'grc': 1.107011070110701,\n",
       " 'heb': 0.36900369003690037,\n",
       " 'ita': 0.18450184501845018,\n",
       " 'lat': 6.826568265682657,\n",
       " 'non': 4.059040590405904,\n",
       " 'xno': 6.4575645756457565}"
      ]
     },
     "execution_count": 54,
     "metadata": {},
     "output_type": "execute_result"
    }
   ],
   "source": [
    "eveText.getStats()"
   ]
  },
  {
   "cell_type": "markdown",
   "metadata": {},
   "source": [
    "That tells us that \"Eveline\" has 59% words of Old English (`ang` is the three-letter language code for Old English), 13% words of Old French origin, 9% words of Latin origin, etc. This can tell us a lot about the level of formality of the text, or its generic resonances. We can also get language family stats, too: "
   ]
  },
  {
   "cell_type": "code",
   "execution_count": 55,
   "metadata": {},
   "outputs": [
    {
     "data": {
      "text/plain": [
       "{'Germanic': [('ang', 59.471094710947106),\n",
       "  ('non', 4.059040590405904),\n",
       "  ('deu', 0.36900369003690037),\n",
       "  ('dum', 0.36900369003690037)],\n",
       " 'Hellenic': [('grc', 1.107011070110701)],\n",
       " 'Indo-Iranian': [('fas', 0.12300123001230011)],\n",
       " 'Latinate': [('fro', 13.284132841328415),\n",
       "  ('fra', 5.07380073800738),\n",
       "  ('xno', 6.4575645756457565),\n",
       "  ('lat', 6.826568265682657),\n",
       "  ('frm', 2.3062730627306274),\n",
       "  ('ita', 0.18450184501845018)],\n",
       " 'Semitic': [('heb', 0.36900369003690037)]}"
      ]
     },
     "execution_count": 55,
     "metadata": {},
     "output_type": "execute_result"
    }
   ],
   "source": [
    "eveText.getFamilyStats()"
   ]
  },
  {
   "cell_type": "code",
   "execution_count": null,
   "metadata": {},
   "outputs": [],
   "source": []
  },
  {
   "cell_type": "code",
   "execution_count": null,
   "metadata": {},
   "outputs": [],
   "source": []
  }
 ],
 "metadata": {
  "kernelspec": {
   "display_name": "Python 3",
   "language": "python",
   "name": "python3"
  },
  "language_info": {
   "codemirror_mode": {
    "name": "ipython",
    "version": 3
   },
   "file_extension": ".py",
   "mimetype": "text/x-python",
   "name": "python",
   "nbconvert_exporter": "python",
   "pygments_lexer": "ipython3",
   "version": "3.6.6"
  }
 },
 "nbformat": 4,
 "nbformat_minor": 2
}
