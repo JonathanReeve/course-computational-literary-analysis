{
 "cells": [
  {
   "cell_type": "markdown",
   "metadata": {},
   "source": [
    "# Corpora, Continued\n",
    "\n",
    "## And Scikit-Learn"
   ]
  },
  {
   "cell_type": "code",
   "execution_count": 30,
   "metadata": {},
   "outputs": [],
   "source": [
    "from nltk.corpus import gutenberg\n",
    "from sklearn.feature_extraction.text import TfidfVectorizer\n",
    "import pandas as pd\n",
    "from sklearn.decomposition import PCA\n",
    "from matplotlib import pyplot as plt\n",
    "%matplotlib inline\n",
    "import matplotlib.pyplot as plt\n",
    "plt.rcParams['figure.figsize'] = [10, 10]"
   ]
  },
  {
   "cell_type": "markdown",
   "metadata": {},
   "source": [
    "**TF-IDF**: Term frequency, adjusted for inverse document frequency. \n",
    " - Term frequency: the frequency with which words occur in your text\n",
    " - Inverse document frequency: the freq. with which words occur in your corpus. \n",
    " \n",
    "Or, a fancy way of getting distinguishing words of a document. At the moment, we'll be using the TfidfVectorizer, but we'll be turning off IDF, and just using it to make tables of word frequencies. \n",
    "\n",
    "Let's test it out on the NLTK's built-in `gutenberg` corpus of about 20 novels: "
   ]
  },
  {
   "cell_type": "code",
   "execution_count": 3,
   "metadata": {},
   "outputs": [
    {
     "data": {
      "text/plain": [
       "['austen-emma.txt',\n",
       " 'austen-persuasion.txt',\n",
       " 'austen-sense.txt',\n",
       " 'bible-kjv.txt',\n",
       " 'blake-poems.txt',\n",
       " 'bryant-stories.txt',\n",
       " 'burgess-busterbrown.txt',\n",
       " 'carroll-alice.txt',\n",
       " 'chesterton-ball.txt',\n",
       " 'chesterton-brown.txt',\n",
       " 'chesterton-thursday.txt',\n",
       " 'edgeworth-parents.txt',\n",
       " 'melville-moby_dick.txt',\n",
       " 'milton-paradise.txt',\n",
       " 'shakespeare-caesar.txt',\n",
       " 'shakespeare-hamlet.txt',\n",
       " 'shakespeare-macbeth.txt',\n",
       " 'whitman-leaves.txt']"
      ]
     },
     "execution_count": 3,
     "metadata": {},
     "output_type": "execute_result"
    }
   ],
   "source": [
    "gutenberg.fileids()"
   ]
  },
  {
   "cell_type": "markdown",
   "metadata": {},
   "source": [
    "Get tokens from particular works using `gutenberg.words()`: "
   ]
  },
  {
   "cell_type": "code",
   "execution_count": 4,
   "metadata": {},
   "outputs": [],
   "source": [
    "whitmanTokens = gutenberg.words('whitman-leaves.txt')\n",
    "whitmanRaw = gutenberg.raw('whitman-leaves.txt')\n",
    "hamletRaw = gutenberg.raw('shakespeare-hamlet.txt')"
   ]
  },
  {
   "cell_type": "markdown",
   "metadata": {},
   "source": [
    "Or write a list comprehension that will do this for all the texts: "
   ]
  },
  {
   "cell_type": "code",
   "execution_count": 5,
   "metadata": {},
   "outputs": [],
   "source": [
    "allRaw = [gutenberg.raw(text) for text in gutenberg.fileids()]"
   ]
  },
  {
   "cell_type": "markdown",
   "metadata": {},
   "source": [
    "Let's see how long each one is: "
   ]
  },
  {
   "cell_type": "code",
   "execution_count": 6,
   "metadata": {},
   "outputs": [
    {
     "data": {
      "text/plain": [
       "<matplotlib.axes._subplots.AxesSubplot at 0x7f4d2715c0f0>"
      ]
     },
     "execution_count": 6,
     "metadata": {},
     "output_type": "execute_result"
    },
    {
     "data": {
      "image/png": "[encoded data removed]",
      "text/plain": [
       "<matplotlib.figure.Figure at 0x7f4d2713a860>"
      ]
     },
     "metadata": {},
     "output_type": "display_data"
    }
   ],
   "source": [
    "pd.Series([len(text) for text in allRaw], \n",
    "          index=gutenberg.fileids()).plot(kind='bar')"
   ]
  },
  {
   "cell_type": "code",
   "execution_count": 7,
   "metadata": {},
   "outputs": [],
   "source": [
    "tfidf = TfidfVectorizer(use_idf=False, max_features=800)"
   ]
  },
  {
   "cell_type": "code",
   "execution_count": 8,
   "metadata": {},
   "outputs": [],
   "source": [
    "tf = tfidf.fit_transform([whitmanRaw, hamletRaw])"
   ]
  },
  {
   "cell_type": "code",
   "execution_count": 9,
   "metadata": {},
   "outputs": [
    {
     "data": {
      "text/plain": [
       "<2x800 sparse matrix of type '<class 'numpy.float64'>'\n",
       "\twith 1294 stored elements in Compressed Sparse Row format>"
      ]
     },
     "execution_count": 9,
     "metadata": {},
     "output_type": "execute_result"
    }
   ],
   "source": [
    "tf"
   ]
  },
  {
   "cell_type": "markdown",
   "metadata": {},
   "source": [
    "**Sparse matrix**: Matrix (table) with some values missing    \n",
    "**Dense matrix**: That matrix filled in (think: fillna(0)). "
   ]
  },
  {
   "cell_type": "code",
   "execution_count": 10,
   "metadata": {},
   "outputs": [],
   "source": [
    "tfDense = tf.todense()"
   ]
  },
  {
   "cell_type": "code",
   "execution_count": 11,
   "metadata": {},
   "outputs": [],
   "source": [
    "labels = tfidf.get_feature_names()"
   ]
  },
  {
   "cell_type": "code",
   "execution_count": 12,
   "metadata": {},
   "outputs": [
    {
     "data": {
      "text/plain": [
       "['sure',\n",
       " 'surely',\n",
       " 'swear',\n",
       " 'sweet',\n",
       " 'swift',\n",
       " 'swiftly',\n",
       " 'sword',\n",
       " 'take',\n",
       " 'talk',\n",
       " 'tears',\n",
       " 'teeming',\n",
       " 'tell']"
      ]
     },
     "execution_count": 12,
     "metadata": {},
     "output_type": "execute_result"
    }
   ],
   "source": [
    "labels[658:670]"
   ]
  },
  {
   "cell_type": "code",
   "execution_count": 13,
   "metadata": {},
   "outputs": [],
   "source": [
    "whDF = pd.DataFrame(tfDense, index=['Whitman', 'Hamlet'], \n",
    "                    columns=labels)"
   ]
  },
  {
   "cell_type": "code",
   "execution_count": 14,
   "metadata": {},
   "outputs": [
    {
     "data": {
      "text/html": [
       "<div>\n",
       "<style>\n",
       "    .dataframe thead tr:only-child th {\n",
       "        text-align: right;\n",
       "    }\n",
       "\n",
       "    .dataframe thead th {\n",
       "        text-align: left;\n",
       "    }\n",
       "\n",
       "    .dataframe tbody tr th {\n",
       "        vertical-align: top;\n",
       "    }\n",
       "</style>\n",
       "<table border=\"1\" class=\"dataframe\">\n",
       "  <thead>\n",
       "    <tr style=\"text-align: right;\">\n",
       "      <th></th>\n",
       "      <th>about</th>\n",
       "      <th>above</th>\n",
       "      <th>advance</th>\n",
       "      <th>after</th>\n",
       "      <th>again</th>\n",
       "      <th>againe</th>\n",
       "      <th>against</th>\n",
       "      <th>age</th>\n",
       "      <th>ages</th>\n",
       "      <th>ah</th>\n",
       "      <th>...</th>\n",
       "      <th>year</th>\n",
       "      <th>years</th>\n",
       "      <th>yellow</th>\n",
       "      <th>yet</th>\n",
       "      <th>you</th>\n",
       "      <th>young</th>\n",
       "      <th>your</th>\n",
       "      <th>yours</th>\n",
       "      <th>yourself</th>\n",
       "      <th>youth</th>\n",
       "    </tr>\n",
       "  </thead>\n",
       "  <tbody>\n",
       "    <tr>\n",
       "      <th>Whitman</th>\n",
       "      <td>0.002465</td>\n",
       "      <td>0.002689</td>\n",
       "      <td>0.001867</td>\n",
       "      <td>0.009860</td>\n",
       "      <td>0.011877</td>\n",
       "      <td>0.000000</td>\n",
       "      <td>0.002540</td>\n",
       "      <td>0.003585</td>\n",
       "      <td>0.002764</td>\n",
       "      <td>0.002390</td>\n",
       "      <td>...</td>\n",
       "      <td>0.003287</td>\n",
       "      <td>0.007619</td>\n",
       "      <td>0.00239</td>\n",
       "      <td>0.019571</td>\n",
       "      <td>0.114810</td>\n",
       "      <td>0.008814</td>\n",
       "      <td>0.027265</td>\n",
       "      <td>0.001270</td>\n",
       "      <td>0.00381</td>\n",
       "      <td>0.002465</td>\n",
       "    </tr>\n",
       "    <tr>\n",
       "      <th>Hamlet</th>\n",
       "      <td>0.008253</td>\n",
       "      <td>0.000000</td>\n",
       "      <td>0.000000</td>\n",
       "      <td>0.005647</td>\n",
       "      <td>0.000000</td>\n",
       "      <td>0.014768</td>\n",
       "      <td>0.008687</td>\n",
       "      <td>0.003475</td>\n",
       "      <td>0.000000</td>\n",
       "      <td>0.000869</td>\n",
       "      <td>...</td>\n",
       "      <td>0.000000</td>\n",
       "      <td>0.000434</td>\n",
       "      <td>0.00000</td>\n",
       "      <td>0.016071</td>\n",
       "      <td>0.228902</td>\n",
       "      <td>0.003909</td>\n",
       "      <td>0.109890</td>\n",
       "      <td>0.002606</td>\n",
       "      <td>0.00000</td>\n",
       "      <td>0.006081</td>\n",
       "    </tr>\n",
       "  </tbody>\n",
       "</table>\n",
       "<p>2 rows × 800 columns</p>\n",
       "</div>"
      ],
      "text/plain": [
       "            about     above   advance     after     again    againe   against  \\\n",
       "Whitman  0.002465  0.002689  0.001867  0.009860  0.011877  0.000000  0.002540   \n",
       "Hamlet   0.008253  0.000000  0.000000  0.005647  0.000000  0.014768  0.008687   \n",
       "\n",
       "              age      ages        ah    ...         year     years   yellow  \\\n",
       "Whitman  0.003585  0.002764  0.002390    ...     0.003287  0.007619  0.00239   \n",
       "Hamlet   0.003475  0.000000  0.000869    ...     0.000000  0.000434  0.00000   \n",
       "\n",
       "              yet       you     young      your     yours  yourself     youth  \n",
       "Whitman  0.019571  0.114810  0.008814  0.027265  0.001270   0.00381  0.002465  \n",
       "Hamlet   0.016071  0.228902  0.003909  0.109890  0.002606   0.00000  0.006081  \n",
       "\n",
       "[2 rows x 800 columns]"
      ]
     },
     "execution_count": 14,
     "metadata": {},
     "output_type": "execute_result"
    }
   ],
   "source": [
    "whDF"
   ]
  },
  {
   "cell_type": "markdown",
   "metadata": {},
   "source": [
    "Now we'll try again, but with all the texts. First, we instantiate our vectorizer, giving it all the options we want."
   ]
  },
  {
   "cell_type": "code",
   "execution_count": 16,
   "metadata": {},
   "outputs": [],
   "source": [
    "tfidf = TfidfVectorizer(use_idf=False, max_features=800)"
   ]
  },
  {
   "cell_type": "markdown",
   "metadata": {},
   "source": [
    "Next, convert our list of texts to a matrix of word frequencies: "
   ]
  },
  {
   "cell_type": "code",
   "execution_count": 17,
   "metadata": {},
   "outputs": [],
   "source": [
    "allTf = tfidf.fit_transform(allRaw)"
   ]
  },
  {
   "cell_type": "markdown",
   "metadata": {},
   "source": [
    "What does it look like? "
   ]
  },
  {
   "cell_type": "code",
   "execution_count": 18,
   "metadata": {},
   "outputs": [
    {
     "data": {
      "text/plain": [
       "<18x800 sparse matrix of type '<class 'numpy.float64'>'\n",
       "\twith 11276 stored elements in Compressed Sparse Row format>"
      ]
     },
     "execution_count": 18,
     "metadata": {},
     "output_type": "execute_result"
    }
   ],
   "source": [
    "allTf"
   ]
  },
  {
   "cell_type": "markdown",
   "metadata": {},
   "source": [
    "Since it's a sparse matrix, we have to convert it to a dense matrix for Pandas to understand it: "
   ]
  },
  {
   "cell_type": "code",
   "execution_count": 19,
   "metadata": {},
   "outputs": [],
   "source": [
    "allTfDense = allTf.todense()"
   ]
  },
  {
   "cell_type": "markdown",
   "metadata": {},
   "source": [
    "Here's a better list of labels: "
   ]
  },
  {
   "cell_type": "code",
   "execution_count": 20,
   "metadata": {},
   "outputs": [
    {
     "data": {
      "text/plain": [
       "['austen-emma', 'austen-persuasion', 'austen-sense']"
      ]
     },
     "execution_count": 20,
     "metadata": {},
     "output_type": "execute_result"
    }
   ],
   "source": [
    "allTextLabels = [text.split('.')[0] for text in gutenberg.fileids()]\n",
    "allTextLabels[:3]"
   ]
  },
  {
   "cell_type": "markdown",
   "metadata": {},
   "source": [
    "Now get the word labels: "
   ]
  },
  {
   "cell_type": "code",
   "execution_count": 21,
   "metadata": {},
   "outputs": [],
   "source": [
    "allWordLabels = tfidf.get_feature_names()"
   ]
  },
  {
   "cell_type": "markdown",
   "metadata": {},
   "source": [
    "Now put it all in a Pandas DataFrame, along with the labels: "
   ]
  },
  {
   "cell_type": "code",
   "execution_count": 22,
   "metadata": {},
   "outputs": [
    {
     "data": {
      "text/html": [
       "<div>\n",
       "<style>\n",
       "    .dataframe thead tr:only-child th {\n",
       "        text-align: right;\n",
       "    }\n",
       "\n",
       "    .dataframe thead th {\n",
       "        text-align: left;\n",
       "    }\n",
       "\n",
       "    .dataframe tbody tr th {\n",
       "        vertical-align: top;\n",
       "    }\n",
       "</style>\n",
       "<table border=\"1\" class=\"dataframe\">\n",
       "  <thead>\n",
       "    <tr style=\"text-align: right;\">\n",
       "      <th></th>\n",
       "      <th>10</th>\n",
       "      <th>11</th>\n",
       "      <th>12</th>\n",
       "      <th>13</th>\n",
       "      <th>14</th>\n",
       "      <th>15</th>\n",
       "      <th>16</th>\n",
       "      <th>17</th>\n",
       "      <th>18</th>\n",
       "      <th>19</th>\n",
       "      <th>...</th>\n",
       "      <th>ye</th>\n",
       "      <th>yea</th>\n",
       "      <th>year</th>\n",
       "      <th>years</th>\n",
       "      <th>yes</th>\n",
       "      <th>yet</th>\n",
       "      <th>you</th>\n",
       "      <th>young</th>\n",
       "      <th>your</th>\n",
       "      <th>yourself</th>\n",
       "    </tr>\n",
       "  </thead>\n",
       "  <tbody>\n",
       "    <tr>\n",
       "      <th>austen-emma</th>\n",
       "      <td>0.000147</td>\n",
       "      <td>0.000000</td>\n",
       "      <td>0.000000</td>\n",
       "      <td>0.000000</td>\n",
       "      <td>0.000000</td>\n",
       "      <td>0.000000</td>\n",
       "      <td>0.000000</td>\n",
       "      <td>0.000000</td>\n",
       "      <td>0.000000</td>\n",
       "      <td>0.000000</td>\n",
       "      <td>...</td>\n",
       "      <td>0.000515</td>\n",
       "      <td>0.000000</td>\n",
       "      <td>0.002060</td>\n",
       "      <td>0.004193</td>\n",
       "      <td>0.009196</td>\n",
       "      <td>0.008019</td>\n",
       "      <td>0.145660</td>\n",
       "      <td>0.014125</td>\n",
       "      <td>0.026778</td>\n",
       "      <td>0.004120</td>\n",
       "    </tr>\n",
       "    <tr>\n",
       "      <th>austen-persuasion</th>\n",
       "      <td>0.000134</td>\n",
       "      <td>0.000134</td>\n",
       "      <td>0.000134</td>\n",
       "      <td>0.000134</td>\n",
       "      <td>0.000134</td>\n",
       "      <td>0.000269</td>\n",
       "      <td>0.000269</td>\n",
       "      <td>0.000134</td>\n",
       "      <td>0.000134</td>\n",
       "      <td>0.000134</td>\n",
       "      <td>...</td>\n",
       "      <td>0.000269</td>\n",
       "      <td>0.000000</td>\n",
       "      <td>0.003627</td>\n",
       "      <td>0.007791</td>\n",
       "      <td>0.006448</td>\n",
       "      <td>0.007791</td>\n",
       "      <td>0.084362</td>\n",
       "      <td>0.011284</td>\n",
       "      <td>0.016657</td>\n",
       "      <td>0.001881</td>\n",
       "    </tr>\n",
       "    <tr>\n",
       "      <th>austen-sense</th>\n",
       "      <td>0.000096</td>\n",
       "      <td>0.000096</td>\n",
       "      <td>0.000096</td>\n",
       "      <td>0.000096</td>\n",
       "      <td>0.000096</td>\n",
       "      <td>0.000096</td>\n",
       "      <td>0.000096</td>\n",
       "      <td>0.000096</td>\n",
       "      <td>0.000096</td>\n",
       "      <td>0.000096</td>\n",
       "      <td>...</td>\n",
       "      <td>0.000096</td>\n",
       "      <td>0.000000</td>\n",
       "      <td>0.005198</td>\n",
       "      <td>0.004717</td>\n",
       "      <td>0.005872</td>\n",
       "      <td>0.007509</td>\n",
       "      <td>0.114655</td>\n",
       "      <td>0.009916</td>\n",
       "      <td>0.037159</td>\n",
       "      <td>0.003658</td>\n",
       "    </tr>\n",
       "    <tr>\n",
       "      <th>bible-kjv</th>\n",
       "      <td>0.021160</td>\n",
       "      <td>0.021000</td>\n",
       "      <td>0.019671</td>\n",
       "      <td>0.019041</td>\n",
       "      <td>0.018651</td>\n",
       "      <td>0.017932</td>\n",
       "      <td>0.016902</td>\n",
       "      <td>0.015053</td>\n",
       "      <td>0.016003</td>\n",
       "      <td>0.015143</td>\n",
       "      <td>...</td>\n",
       "      <td>0.039812</td>\n",
       "      <td>0.003398</td>\n",
       "      <td>0.003688</td>\n",
       "      <td>0.005388</td>\n",
       "      <td>0.000040</td>\n",
       "      <td>0.006827</td>\n",
       "      <td>0.026158</td>\n",
       "      <td>0.002999</td>\n",
       "      <td>0.017842</td>\n",
       "      <td>0.000000</td>\n",
       "    </tr>\n",
       "    <tr>\n",
       "      <th>blake-poems</th>\n",
       "      <td>0.000000</td>\n",
       "      <td>0.000000</td>\n",
       "      <td>0.000000</td>\n",
       "      <td>0.000000</td>\n",
       "      <td>0.000000</td>\n",
       "      <td>0.000000</td>\n",
       "      <td>0.000000</td>\n",
       "      <td>0.000000</td>\n",
       "      <td>0.000000</td>\n",
       "      <td>0.000000</td>\n",
       "      <td>...</td>\n",
       "      <td>0.000000</td>\n",
       "      <td>0.000000</td>\n",
       "      <td>0.007529</td>\n",
       "      <td>0.000000</td>\n",
       "      <td>0.000000</td>\n",
       "      <td>0.007529</td>\n",
       "      <td>0.013552</td>\n",
       "      <td>0.001506</td>\n",
       "      <td>0.016564</td>\n",
       "      <td>0.000000</td>\n",
       "    </tr>\n",
       "    <tr>\n",
       "      <th>bryant-stories</th>\n",
       "      <td>0.000000</td>\n",
       "      <td>0.000000</td>\n",
       "      <td>0.000000</td>\n",
       "      <td>0.000000</td>\n",
       "      <td>0.000000</td>\n",
       "      <td>0.000000</td>\n",
       "      <td>0.000000</td>\n",
       "      <td>0.000000</td>\n",
       "      <td>0.000000</td>\n",
       "      <td>0.000000</td>\n",
       "      <td>...</td>\n",
       "      <td>0.001809</td>\n",
       "      <td>0.000201</td>\n",
       "      <td>0.001407</td>\n",
       "      <td>0.004423</td>\n",
       "      <td>0.005629</td>\n",
       "      <td>0.002011</td>\n",
       "      <td>0.092885</td>\n",
       "      <td>0.003016</td>\n",
       "      <td>0.017491</td>\n",
       "      <td>0.000603</td>\n",
       "    </tr>\n",
       "    <tr>\n",
       "      <th>burgess-busterbrown</th>\n",
       "      <td>0.000000</td>\n",
       "      <td>0.000000</td>\n",
       "      <td>0.000000</td>\n",
       "      <td>0.000000</td>\n",
       "      <td>0.000000</td>\n",
       "      <td>0.000000</td>\n",
       "      <td>0.000000</td>\n",
       "      <td>0.000000</td>\n",
       "      <td>0.000000</td>\n",
       "      <td>0.000000</td>\n",
       "      <td>...</td>\n",
       "      <td>0.000000</td>\n",
       "      <td>0.000000</td>\n",
       "      <td>0.000664</td>\n",
       "      <td>0.001992</td>\n",
       "      <td>0.006640</td>\n",
       "      <td>0.001992</td>\n",
       "      <td>0.075034</td>\n",
       "      <td>0.001992</td>\n",
       "      <td>0.004648</td>\n",
       "      <td>0.001992</td>\n",
       "    </tr>\n",
       "    <tr>\n",
       "      <th>carroll-alice</th>\n",
       "      <td>0.000000</td>\n",
       "      <td>0.000000</td>\n",
       "      <td>0.000000</td>\n",
       "      <td>0.000000</td>\n",
       "      <td>0.000000</td>\n",
       "      <td>0.000000</td>\n",
       "      <td>0.000000</td>\n",
       "      <td>0.000000</td>\n",
       "      <td>0.000000</td>\n",
       "      <td>0.000000</td>\n",
       "      <td>...</td>\n",
       "      <td>0.000383</td>\n",
       "      <td>0.000000</td>\n",
       "      <td>0.000767</td>\n",
       "      <td>0.000383</td>\n",
       "      <td>0.004984</td>\n",
       "      <td>0.009584</td>\n",
       "      <td>0.157565</td>\n",
       "      <td>0.001917</td>\n",
       "      <td>0.023769</td>\n",
       "      <td>0.003834</td>\n",
       "    </tr>\n",
       "    <tr>\n",
       "      <th>chesterton-ball</th>\n",
       "      <td>0.000131</td>\n",
       "      <td>0.000131</td>\n",
       "      <td>0.000000</td>\n",
       "      <td>0.000000</td>\n",
       "      <td>0.000000</td>\n",
       "      <td>0.000000</td>\n",
       "      <td>0.000000</td>\n",
       "      <td>0.000000</td>\n",
       "      <td>0.000000</td>\n",
       "      <td>0.000000</td>\n",
       "      <td>...</td>\n",
       "      <td>0.000653</td>\n",
       "      <td>0.000131</td>\n",
       "      <td>0.001698</td>\n",
       "      <td>0.001829</td>\n",
       "      <td>0.008882</td>\n",
       "      <td>0.008751</td>\n",
       "      <td>0.139233</td>\n",
       "      <td>0.006139</td>\n",
       "      <td>0.025339</td>\n",
       "      <td>0.001045</td>\n",
       "    </tr>\n",
       "    <tr>\n",
       "      <th>chesterton-brown</th>\n",
       "      <td>0.000000</td>\n",
       "      <td>0.000000</td>\n",
       "      <td>0.000000</td>\n",
       "      <td>0.000000</td>\n",
       "      <td>0.000000</td>\n",
       "      <td>0.000000</td>\n",
       "      <td>0.000000</td>\n",
       "      <td>0.000000</td>\n",
       "      <td>0.000000</td>\n",
       "      <td>0.000000</td>\n",
       "      <td>...</td>\n",
       "      <td>0.000000</td>\n",
       "      <td>0.000000</td>\n",
       "      <td>0.000875</td>\n",
       "      <td>0.002479</td>\n",
       "      <td>0.004521</td>\n",
       "      <td>0.009771</td>\n",
       "      <td>0.100923</td>\n",
       "      <td>0.006417</td>\n",
       "      <td>0.013272</td>\n",
       "      <td>0.001458</td>\n",
       "    </tr>\n",
       "    <tr>\n",
       "      <th>chesterton-thursday</th>\n",
       "      <td>0.000000</td>\n",
       "      <td>0.000000</td>\n",
       "      <td>0.000000</td>\n",
       "      <td>0.000000</td>\n",
       "      <td>0.000000</td>\n",
       "      <td>0.000000</td>\n",
       "      <td>0.000000</td>\n",
       "      <td>0.000000</td>\n",
       "      <td>0.000000</td>\n",
       "      <td>0.000000</td>\n",
       "      <td>...</td>\n",
       "      <td>0.000552</td>\n",
       "      <td>0.000736</td>\n",
       "      <td>0.000000</td>\n",
       "      <td>0.000552</td>\n",
       "      <td>0.007913</td>\n",
       "      <td>0.008281</td>\n",
       "      <td>0.134159</td>\n",
       "      <td>0.002760</td>\n",
       "      <td>0.020428</td>\n",
       "      <td>0.001840</td>\n",
       "    </tr>\n",
       "    <tr>\n",
       "      <th>edgeworth-parents</th>\n",
       "      <td>0.000000</td>\n",
       "      <td>0.000000</td>\n",
       "      <td>0.000000</td>\n",
       "      <td>0.000000</td>\n",
       "      <td>0.000000</td>\n",
       "      <td>0.000000</td>\n",
       "      <td>0.000000</td>\n",
       "      <td>0.000069</td>\n",
       "      <td>0.000000</td>\n",
       "      <td>0.000069</td>\n",
       "      <td>...</td>\n",
       "      <td>0.003395</td>\n",
       "      <td>0.000000</td>\n",
       "      <td>0.002772</td>\n",
       "      <td>0.003811</td>\n",
       "      <td>0.010463</td>\n",
       "      <td>0.007830</td>\n",
       "      <td>0.202673</td>\n",
       "      <td>0.009285</td>\n",
       "      <td>0.048780</td>\n",
       "      <td>0.004296</td>\n",
       "    </tr>\n",
       "    <tr>\n",
       "      <th>melville-moby_dick</th>\n",
       "      <td>0.000196</td>\n",
       "      <td>0.000049</td>\n",
       "      <td>0.000049</td>\n",
       "      <td>0.000147</td>\n",
       "      <td>0.000049</td>\n",
       "      <td>0.000049</td>\n",
       "      <td>0.000049</td>\n",
       "      <td>0.000049</td>\n",
       "      <td>0.000049</td>\n",
       "      <td>0.000049</td>\n",
       "      <td>...</td>\n",
       "      <td>0.023186</td>\n",
       "      <td>0.000688</td>\n",
       "      <td>0.001326</td>\n",
       "      <td>0.004716</td>\n",
       "      <td>0.003684</td>\n",
       "      <td>0.016947</td>\n",
       "      <td>0.043916</td>\n",
       "      <td>0.003930</td>\n",
       "      <td>0.012232</td>\n",
       "      <td>0.001277</td>\n",
       "    </tr>\n",
       "    <tr>\n",
       "      <th>milton-paradise</th>\n",
       "      <td>0.000000</td>\n",
       "      <td>0.000000</td>\n",
       "      <td>0.000000</td>\n",
       "      <td>0.000000</td>\n",
       "      <td>0.000000</td>\n",
       "      <td>0.000000</td>\n",
       "      <td>0.000000</td>\n",
       "      <td>0.000000</td>\n",
       "      <td>0.000000</td>\n",
       "      <td>0.000000</td>\n",
       "      <td>...</td>\n",
       "      <td>0.013702</td>\n",
       "      <td>0.000304</td>\n",
       "      <td>0.000304</td>\n",
       "      <td>0.000913</td>\n",
       "      <td>0.000000</td>\n",
       "      <td>0.034712</td>\n",
       "      <td>0.003045</td>\n",
       "      <td>0.000457</td>\n",
       "      <td>0.008069</td>\n",
       "      <td>0.000000</td>\n",
       "    </tr>\n",
       "    <tr>\n",
       "      <th>shakespeare-caesar</th>\n",
       "      <td>0.000000</td>\n",
       "      <td>0.000000</td>\n",
       "      <td>0.000000</td>\n",
       "      <td>0.000000</td>\n",
       "      <td>0.000000</td>\n",
       "      <td>0.000000</td>\n",
       "      <td>0.000000</td>\n",
       "      <td>0.000000</td>\n",
       "      <td>0.000000</td>\n",
       "      <td>0.000000</td>\n",
       "      <td>...</td>\n",
       "      <td>0.004033</td>\n",
       "      <td>0.002689</td>\n",
       "      <td>0.000000</td>\n",
       "      <td>0.000000</td>\n",
       "      <td>0.004033</td>\n",
       "      <td>0.028232</td>\n",
       "      <td>0.262824</td>\n",
       "      <td>0.000672</td>\n",
       "      <td>0.100156</td>\n",
       "      <td>0.000000</td>\n",
       "    </tr>\n",
       "    <tr>\n",
       "      <th>shakespeare-hamlet</th>\n",
       "      <td>0.000000</td>\n",
       "      <td>0.000000</td>\n",
       "      <td>0.000000</td>\n",
       "      <td>0.000000</td>\n",
       "      <td>0.000000</td>\n",
       "      <td>0.000000</td>\n",
       "      <td>0.000000</td>\n",
       "      <td>0.000000</td>\n",
       "      <td>0.000000</td>\n",
       "      <td>0.000000</td>\n",
       "      <td>...</td>\n",
       "      <td>0.004825</td>\n",
       "      <td>0.001754</td>\n",
       "      <td>0.000000</td>\n",
       "      <td>0.000439</td>\n",
       "      <td>0.002193</td>\n",
       "      <td>0.016229</td>\n",
       "      <td>0.231150</td>\n",
       "      <td>0.003948</td>\n",
       "      <td>0.110970</td>\n",
       "      <td>0.000000</td>\n",
       "    </tr>\n",
       "    <tr>\n",
       "      <th>shakespeare-macbeth</th>\n",
       "      <td>0.000000</td>\n",
       "      <td>0.000000</td>\n",
       "      <td>0.000000</td>\n",
       "      <td>0.000000</td>\n",
       "      <td>0.000000</td>\n",
       "      <td>0.000000</td>\n",
       "      <td>0.000000</td>\n",
       "      <td>0.000000</td>\n",
       "      <td>0.000000</td>\n",
       "      <td>0.000000</td>\n",
       "      <td>...</td>\n",
       "      <td>0.002325</td>\n",
       "      <td>0.000000</td>\n",
       "      <td>0.000000</td>\n",
       "      <td>0.000000</td>\n",
       "      <td>0.001550</td>\n",
       "      <td>0.044176</td>\n",
       "      <td>0.159652</td>\n",
       "      <td>0.003100</td>\n",
       "      <td>0.097651</td>\n",
       "      <td>0.000000</td>\n",
       "    </tr>\n",
       "    <tr>\n",
       "      <th>whitman-leaves</th>\n",
       "      <td>0.000523</td>\n",
       "      <td>0.000523</td>\n",
       "      <td>0.000598</td>\n",
       "      <td>0.000449</td>\n",
       "      <td>0.000374</td>\n",
       "      <td>0.000374</td>\n",
       "      <td>0.000299</td>\n",
       "      <td>0.000224</td>\n",
       "      <td>0.000224</td>\n",
       "      <td>0.000299</td>\n",
       "      <td>...</td>\n",
       "      <td>0.002392</td>\n",
       "      <td>0.000075</td>\n",
       "      <td>0.003289</td>\n",
       "      <td>0.007626</td>\n",
       "      <td>0.000449</td>\n",
       "      <td>0.019587</td>\n",
       "      <td>0.114908</td>\n",
       "      <td>0.008822</td>\n",
       "      <td>0.027288</td>\n",
       "      <td>0.003813</td>\n",
       "    </tr>\n",
       "  </tbody>\n",
       "</table>\n",
       "<p>18 rows × 800 columns</p>\n",
       "</div>"
      ],
      "text/plain": [
       "                           10        11        12        13        14  \\\n",
       "austen-emma          0.000147  0.000000  0.000000  0.000000  0.000000   \n",
       "austen-persuasion    0.000134  0.000134  0.000134  0.000134  0.000134   \n",
       "austen-sense         0.000096  0.000096  0.000096  0.000096  0.000096   \n",
       "bible-kjv            0.021160  0.021000  0.019671  0.019041  0.018651   \n",
       "blake-poems          0.000000  0.000000  0.000000  0.000000  0.000000   \n",
       "bryant-stories       0.000000  0.000000  0.000000  0.000000  0.000000   \n",
       "burgess-busterbrown  0.000000  0.000000  0.000000  0.000000  0.000000   \n",
       "carroll-alice        0.000000  0.000000  0.000000  0.000000  0.000000   \n",
       "chesterton-ball      0.000131  0.000131  0.000000  0.000000  0.000000   \n",
       "chesterton-brown     0.000000  0.000000  0.000000  0.000000  0.000000   \n",
       "chesterton-thursday  0.000000  0.000000  0.000000  0.000000  0.000000   \n",
       "edgeworth-parents    0.000000  0.000000  0.000000  0.000000  0.000000   \n",
       "melville-moby_dick   0.000196  0.000049  0.000049  0.000147  0.000049   \n",
       "milton-paradise      0.000000  0.000000  0.000000  0.000000  0.000000   \n",
       "shakespeare-caesar   0.000000  0.000000  0.000000  0.000000  0.000000   \n",
       "shakespeare-hamlet   0.000000  0.000000  0.000000  0.000000  0.000000   \n",
       "shakespeare-macbeth  0.000000  0.000000  0.000000  0.000000  0.000000   \n",
       "whitman-leaves       0.000523  0.000523  0.000598  0.000449  0.000374   \n",
       "\n",
       "                           15        16        17        18        19  \\\n",
       "austen-emma          0.000000  0.000000  0.000000  0.000000  0.000000   \n",
       "austen-persuasion    0.000269  0.000269  0.000134  0.000134  0.000134   \n",
       "austen-sense         0.000096  0.000096  0.000096  0.000096  0.000096   \n",
       "bible-kjv            0.017932  0.016902  0.015053  0.016003  0.015143   \n",
       "blake-poems          0.000000  0.000000  0.000000  0.000000  0.000000   \n",
       "bryant-stories       0.000000  0.000000  0.000000  0.000000  0.000000   \n",
       "burgess-busterbrown  0.000000  0.000000  0.000000  0.000000  0.000000   \n",
       "carroll-alice        0.000000  0.000000  0.000000  0.000000  0.000000   \n",
       "chesterton-ball      0.000000  0.000000  0.000000  0.000000  0.000000   \n",
       "chesterton-brown     0.000000  0.000000  0.000000  0.000000  0.000000   \n",
       "chesterton-thursday  0.000000  0.000000  0.000000  0.000000  0.000000   \n",
       "edgeworth-parents    0.000000  0.000000  0.000069  0.000000  0.000069   \n",
       "melville-moby_dick   0.000049  0.000049  0.000049  0.000049  0.000049   \n",
       "milton-paradise      0.000000  0.000000  0.000000  0.000000  0.000000   \n",
       "shakespeare-caesar   0.000000  0.000000  0.000000  0.000000  0.000000   \n",
       "shakespeare-hamlet   0.000000  0.000000  0.000000  0.000000  0.000000   \n",
       "shakespeare-macbeth  0.000000  0.000000  0.000000  0.000000  0.000000   \n",
       "whitman-leaves       0.000374  0.000299  0.000224  0.000224  0.000299   \n",
       "\n",
       "                       ...           ye       yea      year     years  \\\n",
       "austen-emma            ...     0.000515  0.000000  0.002060  0.004193   \n",
       "austen-persuasion      ...     0.000269  0.000000  0.003627  0.007791   \n",
       "austen-sense           ...     0.000096  0.000000  0.005198  0.004717   \n",
       "bible-kjv              ...     0.039812  0.003398  0.003688  0.005388   \n",
       "blake-poems            ...     0.000000  0.000000  0.007529  0.000000   \n",
       "bryant-stories         ...     0.001809  0.000201  0.001407  0.004423   \n",
       "burgess-busterbrown    ...     0.000000  0.000000  0.000664  0.001992   \n",
       "carroll-alice          ...     0.000383  0.000000  0.000767  0.000383   \n",
       "chesterton-ball        ...     0.000653  0.000131  0.001698  0.001829   \n",
       "chesterton-brown       ...     0.000000  0.000000  0.000875  0.002479   \n",
       "chesterton-thursday    ...     0.000552  0.000736  0.000000  0.000552   \n",
       "edgeworth-parents      ...     0.003395  0.000000  0.002772  0.003811   \n",
       "melville-moby_dick     ...     0.023186  0.000688  0.001326  0.004716   \n",
       "milton-paradise        ...     0.013702  0.000304  0.000304  0.000913   \n",
       "shakespeare-caesar     ...     0.004033  0.002689  0.000000  0.000000   \n",
       "shakespeare-hamlet     ...     0.004825  0.001754  0.000000  0.000439   \n",
       "shakespeare-macbeth    ...     0.002325  0.000000  0.000000  0.000000   \n",
       "whitman-leaves         ...     0.002392  0.000075  0.003289  0.007626   \n",
       "\n",
       "                          yes       yet       you     young      your  \\\n",
       "austen-emma          0.009196  0.008019  0.145660  0.014125  0.026778   \n",
       "austen-persuasion    0.006448  0.007791  0.084362  0.011284  0.016657   \n",
       "austen-sense         0.005872  0.007509  0.114655  0.009916  0.037159   \n",
       "bible-kjv            0.000040  0.006827  0.026158  0.002999  0.017842   \n",
       "blake-poems          0.000000  0.007529  0.013552  0.001506  0.016564   \n",
       "bryant-stories       0.005629  0.002011  0.092885  0.003016  0.017491   \n",
       "burgess-busterbrown  0.006640  0.001992  0.075034  0.001992  0.004648   \n",
       "carroll-alice        0.004984  0.009584  0.157565  0.001917  0.023769   \n",
       "chesterton-ball      0.008882  0.008751  0.139233  0.006139  0.025339   \n",
       "chesterton-brown     0.004521  0.009771  0.100923  0.006417  0.013272   \n",
       "chesterton-thursday  0.007913  0.008281  0.134159  0.002760  0.020428   \n",
       "edgeworth-parents    0.010463  0.007830  0.202673  0.009285  0.048780   \n",
       "melville-moby_dick   0.003684  0.016947  0.043916  0.003930  0.012232   \n",
       "milton-paradise      0.000000  0.034712  0.003045  0.000457  0.008069   \n",
       "shakespeare-caesar   0.004033  0.028232  0.262824  0.000672  0.100156   \n",
       "shakespeare-hamlet   0.002193  0.016229  0.231150  0.003948  0.110970   \n",
       "shakespeare-macbeth  0.001550  0.044176  0.159652  0.003100  0.097651   \n",
       "whitman-leaves       0.000449  0.019587  0.114908  0.008822  0.027288   \n",
       "\n",
       "                     yourself  \n",
       "austen-emma          0.004120  \n",
       "austen-persuasion    0.001881  \n",
       "austen-sense         0.003658  \n",
       "bible-kjv            0.000000  \n",
       "blake-poems          0.000000  \n",
       "bryant-stories       0.000603  \n",
       "burgess-busterbrown  0.001992  \n",
       "carroll-alice        0.003834  \n",
       "chesterton-ball      0.001045  \n",
       "chesterton-brown     0.001458  \n",
       "chesterton-thursday  0.001840  \n",
       "edgeworth-parents    0.004296  \n",
       "melville-moby_dick   0.001277  \n",
       "milton-paradise      0.000000  \n",
       "shakespeare-caesar   0.000000  \n",
       "shakespeare-hamlet   0.000000  \n",
       "shakespeare-macbeth  0.000000  \n",
       "whitman-leaves       0.003813  \n",
       "\n",
       "[18 rows x 800 columns]"
      ]
     },
     "execution_count": 22,
     "metadata": {},
     "output_type": "execute_result"
    }
   ],
   "source": [
    "allDf = pd.DataFrame(allTfDense, index=allTextLabels, columns=allWordLabels)\n",
    "allDf"
   ]
  },
  {
   "cell_type": "markdown",
   "metadata": {},
   "source": [
    "# Stylometry\n",
    "\n",
    "Stylometry is the \"measurement of style.\" It's a way to show how the style of writers is similar or different. Style, in this case, deals with the 800 most frequent words, which are function words, rather than content words—they show not what \n",
    "\n",
    "Or, comparison of most frequent words. "
   ]
  },
  {
   "cell_type": "code",
   "execution_count": 23,
   "metadata": {},
   "outputs": [],
   "source": [
    "tfidf = TfidfVectorizer(use_idf=False, max_features=800)"
   ]
  },
  {
   "cell_type": "code",
   "execution_count": 24,
   "metadata": {},
   "outputs": [],
   "source": [
    "allTf = tfidf.fit_transform(allRaw).todense()"
   ]
  },
  {
   "cell_type": "code",
   "execution_count": 25,
   "metadata": {},
   "outputs": [
    {
     "data": {
      "text/plain": [
       "(18, 800)"
      ]
     },
     "execution_count": 25,
     "metadata": {},
     "output_type": "execute_result"
    }
   ],
   "source": [
    "allTf.shape"
   ]
  },
  {
   "cell_type": "code",
   "execution_count": 26,
   "metadata": {},
   "outputs": [],
   "source": [
    "pca = PCA(2)"
   ]
  },
  {
   "cell_type": "code",
   "execution_count": 27,
   "metadata": {},
   "outputs": [],
   "source": [
    "pcaOut = pca.fit_transform(allTf)"
   ]
  },
  {
   "cell_type": "code",
   "execution_count": 28,
   "metadata": {},
   "outputs": [
    {
     "data": {
      "text/plain": [
       "array([[ 0.32333505, -0.08381139],\n",
       "       [ 0.22136693, -0.1140211 ],\n",
       "       [ 0.29950241, -0.07478352],\n",
       "       [-0.2457221 ,  0.08488495],\n",
       "       [-0.26052024,  0.09992633],\n",
       "       [-0.13392442, -0.14444047],\n",
       "       [ 0.10127414, -0.23486152],\n",
       "       [ 0.0123094 , -0.16840572],\n",
       "       [-0.10519774, -0.09191935],\n",
       "       [-0.12196108, -0.14224833],\n",
       "       [-0.120221  , -0.11867094],\n",
       "       [ 0.13612398, -0.07050656],\n",
       "       [-0.16890033, -0.04802805],\n",
       "       [-0.0279306 ,  0.16799588],\n",
       "       [ 0.16958361,  0.31548159],\n",
       "       [ 0.14650093,  0.29245297],\n",
       "       [ 0.05878538,  0.26462148],\n",
       "       [-0.28440432,  0.06633375]])"
      ]
     },
     "execution_count": 28,
     "metadata": {},
     "output_type": "execute_result"
    }
   ],
   "source": [
    "pcaOut"
   ]
  },
  {
   "cell_type": "code",
   "execution_count": 31,
   "metadata": {},
   "outputs": [
    {
     "data": {
      "image/png": "[encoded data removed]",
      "text/plain": [
       "<matplotlib.figure.Figure at 0x7f4d26f69ef0>"
      ]
     },
     "metadata": {},
     "output_type": "display_data"
    }
   ],
   "source": [
    "xs, ys = pcaOut[:,0], pcaOut[:,1]\n",
    "for i in range(len(xs)): \n",
    "    plt.scatter(xs[i], ys[i])\n",
    "    plt.annotate(allTextLabels[i], (xs[i], ys[i]))"
   ]
  }
 ],
 "metadata": {
  "kernelspec": {
   "display_name": "Python 3",
   "language": "python",
   "name": "python3"
  },
  "language_info": {
   "codemirror_mode": {
    "name": "ipython",
    "version": 3
   },
   "file_extension": ".py",
   "mimetype": "text/x-python",
   "name": "python",
   "nbconvert_exporter": "python",
   "pygments_lexer": "ipython3",
   "version": "3.6.6"
  }
 },
 "nbformat": 4,
 "nbformat_minor": 2
}
