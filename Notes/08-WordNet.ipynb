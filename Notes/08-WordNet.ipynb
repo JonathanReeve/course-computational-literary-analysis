{
 "cells": [
  {
   "cell_type": "markdown",
   "metadata": {},
   "source": [
    "# Using WordNet\n",
    "\n",
    "WordNet, as the name implies, is a network of words, where words are connected by relations like `hyponym`, `hypernym`, `meronym`, and so on. You can use WordNet to generate wordlists (of, say, colors), or to categorize words. As usual, we'll start by importing the libraries we'll need. "
   ]
  },
  {
   "cell_type": "code",
   "execution_count": 109,
   "metadata": {},
   "outputs": [],
   "source": [
    "from nltk.corpus import wordnet as wn\n",
    "from nltk import word_tokenize, pos_tag\n",
    "import pandas as pd\n",
    "import numpy as np\n",
    "#from collections import Counter\n",
    "from nltk import Counter\n",
    "%matplotlib inline"
   ]
  },
  {
   "cell_type": "markdown",
   "metadata": {},
   "source": [
    "Now let's look up any synset (set of synonyms, words which share a common meaning), using a string. "
   ]
  },
  {
   "cell_type": "code",
   "execution_count": 3,
   "metadata": {},
   "outputs": [
    {
     "data": {
      "text/plain": [
       "[Synset('dog.n.01'),\n",
       " Synset('frump.n.01'),\n",
       " Synset('dog.n.03'),\n",
       " Synset('cad.n.01'),\n",
       " Synset('frank.n.02'),\n",
       " Synset('pawl.n.01'),\n",
       " Synset('andiron.n.01'),\n",
       " Synset('chase.v.01')]"
      ]
     },
     "execution_count": 3,
     "metadata": {},
     "output_type": "execute_result"
    }
   ],
   "source": [
    "dogSyns = wn.synsets('dog')\n",
    "dogSyns"
   ]
  },
  {
   "cell_type": "markdown",
   "metadata": {},
   "source": [
    "If we grab the first one of these, we can explore its properties: "
   ]
  },
  {
   "cell_type": "code",
   "execution_count": 110,
   "metadata": {},
   "outputs": [
    {
     "data": {
      "text/plain": [
       "Synset('dog.n.01')"
      ]
     },
     "execution_count": 110,
     "metadata": {},
     "output_type": "execute_result"
    }
   ],
   "source": [
    "dogSyn = dogSyns[0]\n",
    "dogSyn"
   ]
  },
  {
   "cell_type": "code",
   "execution_count": 111,
   "metadata": {},
   "outputs": [
    {
     "data": {
      "text/plain": [
       "'a member of the genus Canis (probably descended from the common wolf) that has been domesticated by man since prehistoric times; occurs in many breeds'"
      ]
     },
     "execution_count": 111,
     "metadata": {},
     "output_type": "execute_result"
    }
   ],
   "source": [
    "dogSyn.definition()"
   ]
  },
  {
   "cell_type": "markdown",
   "metadata": {},
   "source": [
    "Hyponyms are words that are more specific words in the lexical tree. All of the below are types of dogs, for instance:"
   ]
  },
  {
   "cell_type": "code",
   "execution_count": 112,
   "metadata": {},
   "outputs": [
    {
     "data": {
      "text/plain": [
       "[Synset('basenji.n.01'),\n",
       " Synset('corgi.n.01'),\n",
       " Synset('cur.n.01'),\n",
       " Synset('dalmatian.n.02'),\n",
       " Synset('great_pyrenees.n.01'),\n",
       " Synset('griffon.n.02'),\n",
       " Synset('hunting_dog.n.01'),\n",
       " Synset('lapdog.n.01'),\n",
       " Synset('leonberg.n.01'),\n",
       " Synset('mexican_hairless.n.01'),\n",
       " Synset('newfoundland.n.01'),\n",
       " Synset('pooch.n.01'),\n",
       " Synset('poodle.n.01'),\n",
       " Synset('pug.n.01'),\n",
       " Synset('puppy.n.01'),\n",
       " Synset('spitz.n.01'),\n",
       " Synset('toy_dog.n.01'),\n",
       " Synset('working_dog.n.01')]"
      ]
     },
     "execution_count": 112,
     "metadata": {},
     "output_type": "execute_result"
    }
   ],
   "source": [
    "dogHypo = dogSyn.hyponyms()\n",
    "dogHypo"
   ]
  },
  {
   "cell_type": "code",
   "execution_count": 113,
   "metadata": {},
   "outputs": [
    {
     "data": {
      "text/plain": [
       "'a young dog'"
      ]
     },
     "execution_count": 113,
     "metadata": {},
     "output_type": "execute_result"
    }
   ],
   "source": [
    "dogHypo[-4].definition()"
   ]
  },
  {
   "cell_type": "markdown",
   "metadata": {},
   "source": [
    "We can also get hypernyms, or higher-level abstractions/categories. A dog is a type of a canine, for instance, and also a type of a domestic animal. "
   ]
  },
  {
   "cell_type": "code",
   "execution_count": 15,
   "metadata": {},
   "outputs": [
    {
     "data": {
      "text/plain": [
       "[Synset('canine.n.02'), Synset('domestic_animal.n.01')]"
      ]
     },
     "execution_count": 15,
     "metadata": {},
     "output_type": "execute_result"
    }
   ],
   "source": [
    "dogSyn.hypernyms()"
   ]
  },
  {
   "cell_type": "code",
   "execution_count": 16,
   "metadata": {},
   "outputs": [],
   "source": [
    "canine = dogSyn.hypernyms()[0]"
   ]
  },
  {
   "cell_type": "code",
   "execution_count": 18,
   "metadata": {},
   "outputs": [
    {
     "data": {
      "text/plain": [
       "'any of various fissiped mammals with nonretractile claws and typically long muzzles'"
      ]
     },
     "execution_count": 18,
     "metadata": {},
     "output_type": "execute_result"
    }
   ],
   "source": [
    "canine.definition()"
   ]
  },
  {
   "cell_type": "code",
   "execution_count": 20,
   "metadata": {},
   "outputs": [],
   "source": [
    "carnivore = canine.hypernyms()[0]"
   ]
  },
  {
   "cell_type": "code",
   "execution_count": 21,
   "metadata": {},
   "outputs": [
    {
     "data": {
      "text/plain": [
       "Synset('carnivore.n.01')"
      ]
     },
     "execution_count": 21,
     "metadata": {},
     "output_type": "execute_result"
    }
   ],
   "source": [
    "carnivore"
   ]
  },
  {
   "cell_type": "code",
   "execution_count": 26,
   "metadata": {},
   "outputs": [
    {
     "data": {
      "text/plain": [
       "[Synset('chordate.n.01')]"
      ]
     },
     "execution_count": 26,
     "metadata": {},
     "output_type": "execute_result"
    }
   ],
   "source": [
    "carnivore.hypernyms()[0].hypernyms()[0].hypernyms()[0].hypernyms()"
   ]
  },
  {
   "cell_type": "markdown",
   "metadata": {},
   "source": [
    "Let's try a color:"
   ]
  },
  {
   "cell_type": "code",
   "execution_count": 27,
   "metadata": {},
   "outputs": [
    {
     "data": {
      "text/plain": [
       "[Synset('yellow.n.01'),\n",
       " Synset('yellow.v.01'),\n",
       " Synset('yellow.s.01'),\n",
       " Synset('chicken.s.01'),\n",
       " Synset('yellow.s.03'),\n",
       " Synset('scandalmongering.s.01'),\n",
       " Synset('yellow.s.05'),\n",
       " Synset('jaundiced.s.01')]"
      ]
     },
     "execution_count": 27,
     "metadata": {},
     "output_type": "execute_result"
    }
   ],
   "source": [
    "wn.synsets('yellow')"
   ]
  },
  {
   "cell_type": "code",
   "execution_count": 34,
   "metadata": {},
   "outputs": [],
   "source": [
    "yellow = wn.synsets('yellow', pos='n')[0]"
   ]
  },
  {
   "cell_type": "code",
   "execution_count": 31,
   "metadata": {},
   "outputs": [
    {
     "data": {
      "text/plain": [
       "Synset('chromatic_color.n.01')"
      ]
     },
     "execution_count": 31,
     "metadata": {},
     "output_type": "execute_result"
    }
   ],
   "source": [
    "color = wn.synsets('yellow', pos='n')[0].hypernyms()[0]\n",
    "color"
   ]
  },
  {
   "cell_type": "code",
   "execution_count": 32,
   "metadata": {},
   "outputs": [
    {
     "data": {
      "text/plain": [
       "[Synset('blond.n.02'),\n",
       " Synset('blue.n.01'),\n",
       " Synset('brown.n.01'),\n",
       " Synset('complementary_color.n.01'),\n",
       " Synset('green.n.01'),\n",
       " Synset('olive.n.05'),\n",
       " Synset('orange.n.02'),\n",
       " Synset('pastel.n.01'),\n",
       " Synset('pink.n.01'),\n",
       " Synset('purple.n.01'),\n",
       " Synset('red.n.01'),\n",
       " Synset('salmon.n.04'),\n",
       " Synset('yellow.n.01')]"
      ]
     },
     "execution_count": 32,
     "metadata": {},
     "output_type": "execute_result"
    }
   ],
   "source": [
    "color.hyponyms()"
   ]
  },
  {
   "cell_type": "markdown",
   "metadata": {},
   "source": [
    "Each synset has a list of lemma names, or synonyms, associated with that meaning: "
   ]
  },
  {
   "cell_type": "code",
   "execution_count": 33,
   "metadata": {},
   "outputs": [
    {
     "data": {
      "text/plain": [
       "['chromatic_color', 'chromatic_colour', 'spectral_color', 'spectral_colour']"
      ]
     },
     "execution_count": 33,
     "metadata": {},
     "output_type": "execute_result"
    }
   ],
   "source": [
    "color.lemma_names()"
   ]
  },
  {
   "cell_type": "code",
   "execution_count": 36,
   "metadata": {},
   "outputs": [
    {
     "data": {
      "text/plain": [
       "['yellow', 'yellowness']"
      ]
     },
     "execution_count": 36,
     "metadata": {},
     "output_type": "execute_result"
    }
   ],
   "source": [
    "yellow.lemma_names()"
   ]
  },
  {
   "cell_type": "code",
   "execution_count": 37,
   "metadata": {},
   "outputs": [
    {
     "data": {
      "text/plain": [
       "[Lemma('yellow.n.01.yellow'), Lemma('yellow.n.01.yellowness')]"
      ]
     },
     "execution_count": 37,
     "metadata": {},
     "output_type": "execute_result"
    }
   ],
   "source": [
    "yellow.lemmas()"
   ]
  },
  {
   "cell_type": "markdown",
   "metadata": {},
   "source": [
    "We can also walk up or down the tree of associations. The `.tree()` method needs a function so it knows which way to walk. You can either write a function that just gets the hypernym of a word, like this: "
   ]
  },
  {
   "cell_type": "code",
   "execution_count": 115,
   "metadata": {},
   "outputs": [
    {
     "data": {
      "text/plain": [
       "[Synset('yellow.n.01'),\n",
       " [Synset('chromatic_color.n.01'),\n",
       "  [Synset('color.n.01'),\n",
       "   [Synset('visual_property.n.01'),\n",
       "    [Synset('property.n.02'),\n",
       "     [Synset('attribute.n.02'),\n",
       "      [Synset('abstraction.n.06'), [Synset('entity.n.01')]]]]]]]]"
      ]
     },
     "execution_count": 115,
     "metadata": {},
     "output_type": "execute_result"
    }
   ],
   "source": [
    "def getHypernyms(word):\n",
    "    return word.hypernyms()\n",
    "yellow.tree(getHypernyms)"
   ]
  },
  {
   "cell_type": "markdown",
   "metadata": {},
   "source": [
    "Or you can write the same thing with a bit of shorthand called a lambda function, which is just a function with no name. "
   ]
  },
  {
   "cell_type": "code",
   "execution_count": 38,
   "metadata": {},
   "outputs": [
    {
     "data": {
      "text/plain": [
       "[Synset('yellow.n.01'),\n",
       " [Synset('chromatic_color.n.01'),\n",
       "  [Synset('color.n.01'),\n",
       "   [Synset('visual_property.n.01'),\n",
       "    [Synset('property.n.02'),\n",
       "     [Synset('attribute.n.02'),\n",
       "      [Synset('abstraction.n.06'), [Synset('entity.n.01')]]]]]]]]"
      ]
     },
     "execution_count": 38,
     "metadata": {},
     "output_type": "execute_result"
    }
   ],
   "source": [
    "yellow.tree(lambda x: x.hypernyms())"
   ]
  },
  {
   "cell_type": "code",
   "execution_count": 40,
   "metadata": {},
   "outputs": [
    {
     "data": {
      "text/plain": [
       "[Synset('yellow.n.01'),\n",
       " [Synset('amber.n.01')],\n",
       " [Synset('brownish_yellow.n.01')],\n",
       " [Synset('canary_yellow.n.01')],\n",
       " [Synset('gamboge.n.02')],\n",
       " [Synset('greenish_yellow.n.01')],\n",
       " [Synset('old_gold.n.01')],\n",
       " [Synset('orange_yellow.n.01'), [Synset('ocher.n.01')]],\n",
       " [Synset('pale_yellow.n.01')]]"
      ]
     },
     "execution_count": 40,
     "metadata": {},
     "output_type": "execute_result"
    }
   ],
   "source": [
    "yellow.tree(lambda x: x.hyponyms())"
   ]
  },
  {
   "cell_type": "code",
   "execution_count": null,
   "metadata": {},
   "outputs": [],
   "source": []
  },
  {
   "cell_type": "markdown",
   "metadata": {},
   "source": [
    "Let's try to do this with many words at a time, using the first paragraph of \"The Garden Party.\" "
   ]
  },
  {
   "cell_type": "code",
   "execution_count": 116,
   "metadata": {},
   "outputs": [],
   "source": [
    "gardenPara = \"\"\"And after all the weather was ideal. They could not have had a more perfect day for a garden-party if they had ordered it. Windless, warm, the sky without a cloud. Only the blue was veiled with a haze of light gold, as it is sometimes in early summer. The gardener had been up since dawn, mowing the lawns and sweeping them, until the grass and the dark flat rosettes where the daisy plants had been seemed to shine. As for the roses, you could not help feeling they understood that roses are the only flowers that impress people at garden-parties; the only flowers that everybody is certain of knowing. Hundreds, yes, literally hundreds, had come out in a single night; the green bushes bowed down as though they had been visited by archangels.\"\"\""
   ]
  },
  {
   "cell_type": "code",
   "execution_count": 117,
   "metadata": {},
   "outputs": [
    {
     "name": "stdout",
     "output_type": "stream",
     "text": [
      "And after all the weather was ideal. They could not have had a more perfect day for a garden-party if they had ordered it. Windless, warm, the sky without a cloud. Only the blue was veiled with a haze of light gold, as it is sometimes in early summer. The gardener had been up since dawn, mowing the lawns and sweeping them, until the grass and the dark flat rosettes where the daisy plants had been seemed to shine. As for the roses, you could not help feeling they understood that roses are the only flowers that impress people at garden-parties; the only flowers that everybody is certain of knowing. Hundreds, yes, literally hundreds, had come out in a single night; the green bushes bowed down as though they had been visited by archangels.\n"
     ]
    }
   ],
   "source": [
    "print(gardenPara)"
   ]
  },
  {
   "cell_type": "code",
   "execution_count": 118,
   "metadata": {},
   "outputs": [],
   "source": [
    "gardenTokens = word_tokenize(gardenPara)"
   ]
  },
  {
   "cell_type": "code",
   "execution_count": 119,
   "metadata": {},
   "outputs": [
    {
     "data": {
      "text/plain": [
       "152"
      ]
     },
     "execution_count": 119,
     "metadata": {},
     "output_type": "execute_result"
    }
   ],
   "source": [
    "len(gardenTokens)"
   ]
  },
  {
   "cell_type": "markdown",
   "metadata": {},
   "source": [
    "POS tag it, and extract all the nouns:"
   ]
  },
  {
   "cell_type": "code",
   "execution_count": 131,
   "metadata": {},
   "outputs": [],
   "source": [
    "gardenPOS = pos_tag(gardenTokens)"
   ]
  },
  {
   "cell_type": "code",
   "execution_count": 132,
   "metadata": {},
   "outputs": [
    {
     "data": {
      "text/plain": [
       "[('And', 'CC'),\n",
       " ('after', 'IN'),\n",
       " ('all', 'PDT'),\n",
       " ('the', 'DT'),\n",
       " ('weather', 'NN'),\n",
       " ('was', 'VBD'),\n",
       " ('ideal', 'JJ'),\n",
       " ('.', '.'),\n",
       " ('They', 'PRP'),\n",
       " ('could', 'MD')]"
      ]
     },
     "execution_count": 132,
     "metadata": {},
     "output_type": "execute_result"
    }
   ],
   "source": [
    "gardenPOS[:10]"
   ]
  },
  {
   "cell_type": "code",
   "execution_count": 133,
   "metadata": {},
   "outputs": [],
   "source": [
    "gardenNouns = [pair[0] for pair in gardenPOS \n",
    "               if pair[1] in ['NNS', 'NN', 'NNP']]"
   ]
  },
  {
   "cell_type": "code",
   "execution_count": 134,
   "metadata": {},
   "outputs": [
    {
     "data": {
      "text/plain": [
       "['weather',\n",
       " 'day',\n",
       " 'Windless',\n",
       " 'warm',\n",
       " 'sky',\n",
       " 'cloud',\n",
       " 'blue',\n",
       " 'haze',\n",
       " 'gold',\n",
       " 'summer',\n",
       " 'gardener',\n",
       " 'dawn',\n",
       " 'lawns',\n",
       " 'grass',\n",
       " 'rosettes',\n",
       " 'daisy',\n",
       " 'plants',\n",
       " 'roses',\n",
       " 'roses',\n",
       " 'flowers',\n",
       " 'people',\n",
       " 'garden-parties',\n",
       " 'flowers',\n",
       " 'everybody',\n",
       " 'Hundreds',\n",
       " 'hundreds',\n",
       " 'night',\n",
       " 'bushes',\n",
       " 'archangels']"
      ]
     },
     "execution_count": 134,
     "metadata": {},
     "output_type": "execute_result"
    }
   ],
   "source": [
    "gardenNouns"
   ]
  },
  {
   "cell_type": "code",
   "execution_count": 138,
   "metadata": {},
   "outputs": [],
   "source": [
    "synsets = []\n",
    "hypers = []\n",
    "for word in gardenNouns: \n",
    "    ss = wn.synsets(word, pos='n')\n",
    "    if len(ss) > 0: \n",
    "        synsets.append(ss[0])\n",
    "        hypers.append(ss[0].hypernyms())\n",
    "        if len(ss[0].hypernyms()) > 0: \n",
    "            hypers.append(ss[0].hypernyms()[0].hypernyms())"
   ]
  },
  {
   "cell_type": "code",
   "execution_count": 139,
   "metadata": {},
   "outputs": [
    {
     "data": {
      "text/plain": [
       "[[Synset('atmospheric_phenomenon.n.01')],\n",
       " [Synset('physical_phenomenon.n.01')],\n",
       " [Synset('time_unit.n.01')],\n",
       " [Synset('measure.n.02')],\n",
       " [Synset('atmosphere.n.05')],\n",
       " [Synset('gas.n.02')],\n",
       " [Synset('physical_phenomenon.n.01')],\n",
       " [Synset('natural_phenomenon.n.01')],\n",
       " [Synset('chromatic_color.n.01')],\n",
       " [Synset('color.n.01')],\n",
       " [Synset('aerosol.n.01')],\n",
       " [Synset('cloud.n.01')],\n",
       " [Synset('precious_metal.n.01')],\n",
       " [Synset('valuable.n.01')],\n",
       " [Synset('season.n.02')],\n",
       " [Synset('time_period.n.01')],\n",
       " [Synset('horticulturist.n.01')],\n",
       " [Synset('expert.n.01')],\n",
       " [Synset('hour.n.02')],\n",
       " [Synset('clock_time.n.01')],\n",
       " [Synset('field.n.01')],\n",
       " [Synset('tract.n.01')],\n",
       " [Synset('gramineous_plant.n.01')],\n",
       " [Synset('herb.n.01')],\n",
       " [Synset('adornment.n.01')],\n",
       " [Synset('decoration.n.01')],\n",
       " [Synset('flower.n.01')],\n",
       " [Synset('angiosperm.n.01')],\n",
       " [Synset('building_complex.n.01')],\n",
       " [Synset('structure.n.01')],\n",
       " [Synset('shrub.n.01')],\n",
       " [Synset('woody_plant.n.01')],\n",
       " [Synset('shrub.n.01')],\n",
       " [Synset('woody_plant.n.01')],\n",
       " [Synset('angiosperm.n.01')],\n",
       " [Synset('spermatophyte.n.01')],\n",
       " [Synset('group.n.01')],\n",
       " [Synset('abstraction.n.06')],\n",
       " [Synset('angiosperm.n.01')],\n",
       " [Synset('spermatophyte.n.01')],\n",
       " [Synset('large_integer.n.01')],\n",
       " [Synset('integer.n.01')],\n",
       " [Synset('large_integer.n.01')],\n",
       " [Synset('integer.n.01')],\n",
       " [Synset('time_period.n.01')],\n",
       " [Synset('fundamental_quantity.n.01')],\n",
       " [Synset('woody_plant.n.01')],\n",
       " [Synset('vascular_plant.n.01')],\n",
       " [Synset('angel.n.01')],\n",
       " [Synset('spiritual_being.n.01')]]"
      ]
     },
     "execution_count": 139,
     "metadata": {},
     "output_type": "execute_result"
    }
   ],
   "source": [
    "hypers"
   ]
  },
  {
   "cell_type": "markdown",
   "metadata": {},
   "source": [
    "Since this is a list of lists, but each sublist contains only one item, we can flatten it like this: "
   ]
  },
  {
   "cell_type": "code",
   "execution_count": 140,
   "metadata": {},
   "outputs": [],
   "source": [
    "flatHypers = [item[0] for item in hypers]"
   ]
  },
  {
   "cell_type": "markdown",
   "metadata": {},
   "source": [
    "Which would then allow us to do a quantitative analysis of sorts, using `Counter`. "
   ]
  },
  {
   "cell_type": "code",
   "execution_count": 141,
   "metadata": {},
   "outputs": [
    {
     "data": {
      "text/plain": [
       "[(Synset('angiosperm.n.01'), 3),\n",
       " (Synset('woody_plant.n.01'), 3),\n",
       " (Synset('physical_phenomenon.n.01'), 2),\n",
       " (Synset('time_period.n.01'), 2),\n",
       " (Synset('shrub.n.01'), 2)]"
      ]
     },
     "execution_count": 141,
     "metadata": {},
     "output_type": "execute_result"
    }
   ],
   "source": [
    "Counter(flatHypers).most_common(5)"
   ]
  }
 ],
 "metadata": {
  "kernelspec": {
   "display_name": "Python 3",
   "language": "python",
   "name": "python3"
  },
  "language_info": {
   "codemirror_mode": {
    "name": "ipython",
    "version": 3
   },
   "file_extension": ".py",
   "mimetype": "text/x-python",
   "name": "python",
   "nbconvert_exporter": "python",
   "pygments_lexer": "ipython3",
   "version": "3.6.6"
  }
 },
 "nbformat": 4,
 "nbformat_minor": 2
}
