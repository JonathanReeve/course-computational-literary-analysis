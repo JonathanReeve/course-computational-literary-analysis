{
 "cells": [
  {
   "cell_type": "code",
   "execution_count": 107,
   "metadata": {},
   "outputs": [],
   "source": [
    "from glob import glob\n",
    "from sklearn.feature_extraction.text import TfidfVectorizer\n",
    "from sklearn.decomposition import PCA\n",
    "import pandas as pd\n",
    "from matplotlib import pyplot as plt\n",
    "%matplotlib inline\n",
    "import matplotlib.pyplot as plt\n",
    "from random import choice\n",
    "plt.rcParams['figure.figsize'] = [8, 8]"
   ]
  },
  {
   "cell_type": "markdown",
   "metadata": {},
   "source": [
    "# A Comparative Stylometry of Katherine Mansfield Stories\n",
    "\n",
    "What I've done in the background here is created individual text files for each of the Katherine Mansfield stories that we've read, and I've put them all in a directory called `Texts`. I'll just change into that directory first:"
   ]
  },
  {
   "cell_type": "code",
   "execution_count": 108,
   "metadata": {},
   "outputs": [
    {
     "name": "stdout",
     "output_type": "stream",
     "text": [
      "/home/jon/Code/course-computational-literary-analysis/Texts\n"
     ]
    }
   ],
   "source": [
    "%cd ../Texts"
   ]
  },
  {
   "cell_type": "markdown",
   "metadata": {},
   "source": [
    "Now I'll just make sure all the texts are there: "
   ]
  },
  {
   "cell_type": "code",
   "execution_count": 109,
   "metadata": {},
   "outputs": [
    {
     "name": "stdout",
     "output_type": "stream",
     "text": [
      "daughters.md  first-ball.md          ma-parker.md  stranger.md  young.md\r\n",
      "dove.md       garden-party-story.md  marriage.md   voyage.md\r\n"
     ]
    }
   ],
   "source": [
    "%ls"
   ]
  },
  {
   "cell_type": "markdown",
   "metadata": {},
   "source": [
    "And finally I'll use the `glob()` function from the `glob` library to get a list of all `.md` files. I have to sort them alphabetically, just in case blob doesn't care about their order. "
   ]
  },
  {
   "cell_type": "code",
   "execution_count": 110,
   "metadata": {},
   "outputs": [],
   "source": [
    "mansfieldStories = [open(story).read() for story in sorted(glob('*.md'))]"
   ]
  },
  {
   "cell_type": "markdown",
   "metadata": {},
   "source": [
    "Now I'll generate labels from the filenames, since we'll need labels to label the points on the plot we're creating. "
   ]
  },
  {
   "cell_type": "code",
   "execution_count": 111,
   "metadata": {},
   "outputs": [
    {
     "data": {
      "text/plain": [
       "['daughters',\n",
       " 'dove',\n",
       " 'first-ball',\n",
       " 'garden-party-story',\n",
       " 'ma-parker',\n",
       " 'marriage',\n",
       " 'stranger',\n",
       " 'voyage',\n",
       " 'young']"
      ]
     },
     "execution_count": 111,
     "metadata": {},
     "output_type": "execute_result"
    }
   ],
   "source": [
    "mansfieldLabels = [story[:-3] for story in sorted(glob('*.md'))]\n",
    "mansfieldLabels"
   ]
  },
  {
   "cell_type": "code",
   "execution_count": 112,
   "metadata": {},
   "outputs": [],
   "source": [
    "mansfieldLabels = [\"Daughters of the Late\", \"Mr and Mrs Dove\", 'Her First Ball', \n",
    "                   'The Garden Party', 'Life of Ma Parker', 'Marriage a la Mode', \n",
    "                   'The Stranger', 'The Voyage', 'The Young Girl']"
   ]
  },
  {
   "cell_type": "markdown",
   "metadata": {},
   "source": [
    "Peek at the first 200 characters of each one, to make sure everything is as expected: "
   ]
  },
  {
   "cell_type": "code",
   "execution_count": 113,
   "metadata": {},
   "outputs": [
    {
     "data": {
      "text/plain": [
       "['\\n\\nChapter 3.I.\\n------------\\n\\nThe week after was one of the busiest weeks of their lives. Even when\\nthey went to bed it was only their bodies that lay down and rested;\\ntheir minds went on, thinking thi',\n",
       " \"\\n4. MR. AND MRS. DOVE.\\n---------------------\\n\\nOf course he knew---no man better---that he hadn't a ghost of a chance,\\nhe hadn't an earthly. The very idea of such a thing was preposterous.\\nSo preposter\",\n",
       " '\\n\\n10. HER FIRST BALL.\\n-------------------\\n\\nExactly when the ball began Leila would have found it hard to say.\\nPerhaps her first real partner was the cab. It did not matter that she\\nshared the cab with',\n",
       " '2. THE GARDEN PARTY.\\n--------------------\\n\\nAnd after all the weather was ideal. They could not have had a more\\nperfect day for a garden-party if they had ordered it. Windless, warm,\\nthe sky without a ',\n",
       " '\\n6. LIFE OF MA PARKER.\\n---------------------\\n\\nWhen the literary gentleman, whose flat old Ma Parker cleaned every\\nTuesday, opened the door to her that morning, he asked after her\\ngrandson. Ma Parker s',\n",
       " '\\n7. MARRIAGE A LA MODE.\\n----------------------\\n\\nOn his way to the station William remembered with a fresh pang of\\ndisappointment that he was taking nothing down to the kiddies. Poor\\nlittle chaps! It w',\n",
       " '\\n\\n12. THE STRANGER\\n----------------\\n\\nIt seemed to the little crowd on the wharf that she was never going to\\nmove again. There she lay, immense, motionless on the grey crinkled\\nwater, a loop of smoke a',\n",
       " '\\n\\n8. THE VOYAGE.\\n--------------\\n\\nThe Picton boat was due to leave at half-past eleven. It was a beautiful\\nnight, mild, starry, only when they got out of the cab and started to\\nwalk down the Old Wharf ',\n",
       " '\\n5. THE YOUNG GIRL.\\n------------------\\n\\nIn her blue dress, with her cheeks lightly flushed, her blue, blue eyes,\\nand her gold curls pinned up as though for the first time---pinned up to\\nbe out of the ']"
      ]
     },
     "execution_count": 113,
     "metadata": {},
     "output_type": "execute_result"
    }
   ],
   "source": [
    "[story[:200] for story in mansfieldStories]"
   ]
  },
  {
   "cell_type": "markdown",
   "metadata": {},
   "source": [
    "And check their respective lengths, to see if we can adjust those somehow. "
   ]
  },
  {
   "cell_type": "code",
   "execution_count": 114,
   "metadata": {},
   "outputs": [
    {
     "data": {
      "text/plain": [
       "[40291, 18347, 14225, 30014, 13713, 21669, 24910, 17373, 12000]"
      ]
     },
     "execution_count": 114,
     "metadata": {},
     "output_type": "execute_result"
    }
   ],
   "source": [
    "[len(story) for story in mansfieldStories]"
   ]
  },
  {
   "cell_type": "code",
   "execution_count": 115,
   "metadata": {},
   "outputs": [
    {
     "data": {
      "text/plain": [
       "12000"
      ]
     },
     "execution_count": 115,
     "metadata": {},
     "output_type": "execute_result"
    }
   ],
   "source": [
    "min([len(story) for story in mansfieldStories])"
   ]
  },
  {
   "cell_type": "code",
   "execution_count": 116,
   "metadata": {},
   "outputs": [],
   "source": [
    "mansfieldStories = [story[:13000] for story in mansfieldStories[:-1]]"
   ]
  },
  {
   "cell_type": "markdown",
   "metadata": {},
   "source": [
    "Let's remove the last one, and truncate each story to 13,000 characters, so that we're comparing the same amount of text in each, roughly speaking. "
   ]
  },
  {
   "cell_type": "code",
   "execution_count": 117,
   "metadata": {},
   "outputs": [
    {
     "data": {
      "text/plain": [
       "[13000, 13000, 13000, 13000, 13000, 13000, 13000, 13000]"
      ]
     },
     "execution_count": 117,
     "metadata": {},
     "output_type": "execute_result"
    }
   ],
   "source": [
    "[len(story) for story in mansfieldStories]"
   ]
  },
  {
   "cell_type": "markdown",
   "metadata": {},
   "source": [
    "And let's not forget to remove the last label, too."
   ]
  },
  {
   "cell_type": "code",
   "execution_count": 118,
   "metadata": {},
   "outputs": [],
   "source": [
    "mansfieldLabels = mansfieldLabels[:-1]"
   ]
  },
  {
   "cell_type": "markdown",
   "metadata": {},
   "source": [
    "Now we can initialize our vectorizer (just the thing that counts all the words, in this case). We have to give it all the options we want to set here. Here I'm turning off IDF (i.e. not adjusting for the frequency with which each word occurs in the corpus), and I'm limiting the matrix to the top 800 most frequent words."
   ]
  },
  {
   "cell_type": "code",
   "execution_count": 119,
   "metadata": {},
   "outputs": [],
   "source": [
    "tfidf = TfidfVectorizer(use_idf=False, max_features=800)"
   ]
  },
  {
   "cell_type": "markdown",
   "metadata": {},
   "source": [
    "Next, calculate the term frequencies of each word in these stories, and make the resulting matrix dense: "
   ]
  },
  {
   "cell_type": "code",
   "execution_count": 120,
   "metadata": {},
   "outputs": [],
   "source": [
    "tf = tfidf.fit_transform(mansfieldStories).todense()"
   ]
  },
  {
   "cell_type": "markdown",
   "metadata": {},
   "source": [
    "Reduce the dimensions to 2 using PCA, so we can plot it: "
   ]
  },
  {
   "cell_type": "code",
   "execution_count": 121,
   "metadata": {},
   "outputs": [],
   "source": [
    "pca = PCA(n_components=2)"
   ]
  },
  {
   "cell_type": "code",
   "execution_count": 122,
   "metadata": {},
   "outputs": [],
   "source": [
    "pcaOut = pca.fit_transform(tf)"
   ]
  },
  {
   "cell_type": "markdown",
   "metadata": {},
   "source": [
    "And finally plot our results: "
   ]
  },
  {
   "cell_type": "code",
   "execution_count": 123,
   "metadata": {},
   "outputs": [
    {
     "data": {
      "image/png": "[encoded data removed]",
      "text/plain": [
       "<matplotlib.figure.Figure at 0x7f723273eba8>"
      ]
     },
     "metadata": {},
     "output_type": "display_data"
    }
   ],
   "source": [
    "xs, ys = pcaOut[:,0], pcaOut[:,1]\n",
    "for i in range(len(xs)): \n",
    "    plt.scatter(xs[i], ys[i])\n",
    "    plt.annotate(mansfieldLabels[i], (xs[i], ys[i]))"
   ]
  },
  {
   "cell_type": "markdown",
   "metadata": {},
   "source": [
    "If we tweak the parameters a bit, we can see different textual similarities. For instance, if we adjust the `min_df` and `max_df`, we can specify that we want to see words that occur in at least 2 stories (which will ignore most names and other story-specific words), and not words that occur in more than 50% of stories (which will ignore function words). This will give us mostly content words that are specific to each story. By turning on IDF, we can adjust each frequency for how often they occur in the corpus, accentuating this slicing methos: "
   ]
  },
  {
   "cell_type": "code",
   "execution_count": 124,
   "metadata": {},
   "outputs": [],
   "source": [
    "tfidf = TfidfVectorizer(use_idf=True, \n",
    "                        stop_words='english', min_df=2, max_df=.5)"
   ]
  },
  {
   "cell_type": "code",
   "execution_count": 125,
   "metadata": {},
   "outputs": [],
   "source": [
    "tf = tfidf.fit_transform(mansfieldStories).todense()"
   ]
  },
  {
   "cell_type": "code",
   "execution_count": 126,
   "metadata": {},
   "outputs": [],
   "source": [
    "wordLabels = tfidf.get_feature_names()"
   ]
  },
  {
   "cell_type": "code",
   "execution_count": 127,
   "metadata": {},
   "outputs": [],
   "source": [
    "df = pd.DataFrame(tf, index=mansfieldLabels, columns=wordLabels)"
   ]
  },
  {
   "cell_type": "code",
   "execution_count": 128,
   "metadata": {},
   "outputs": [],
   "source": [
    "pcaOut = pca.fit_transform(tf)"
   ]
  },
  {
   "cell_type": "code",
   "execution_count": 129,
   "metadata": {},
   "outputs": [
    {
     "data": {
      "image/png": "[encoded data removed]",
      "text/plain": [
       "<matplotlib.figure.Figure at 0x7f72326d46a0>"
      ]
     },
     "metadata": {},
     "output_type": "display_data"
    }
   ],
   "source": [
    "xs, ys = pcaOut[:,0], pcaOut[:,1]\n",
    "for i in range(len(xs)): \n",
    "    plt.scatter(xs[i], ys[i])\n",
    "    plt.annotate(mansfieldLabels[i], (xs[i], ys[i]))"
   ]
  },
  {
   "cell_type": "markdown",
   "metadata": {},
   "source": [
    "## Adding in word/theme annotations\n",
    "\n",
    "In addition to plotting each of these stories, we can create new \"stories\" which only contain words from some themes we're interested in. Then we can see where our stories fall in relation to these theme documents."
   ]
  },
  {
   "cell_type": "code",
   "execution_count": 130,
   "metadata": {},
   "outputs": [],
   "source": [
    "marriageWords = 'marriage marry husband wife wedding'\n",
    "flowerWords = 'flower lilly daisy rose bloom blossom'\n",
    "mansfieldStories = mansfieldStories + [marriageWords, flowerWords]\n",
    "mansfieldLabels = mansfieldLabels + ['marriage', 'flowers']"
   ]
  },
  {
   "cell_type": "code",
   "execution_count": 131,
   "metadata": {},
   "outputs": [],
   "source": [
    "tfidf = TfidfVectorizer(use_idf=True, stop_words='english')"
   ]
  },
  {
   "cell_type": "code",
   "execution_count": 132,
   "metadata": {},
   "outputs": [],
   "source": [
    "tf = tfidf.fit_transform(mansfieldStories).todense()"
   ]
  },
  {
   "cell_type": "code",
   "execution_count": 133,
   "metadata": {},
   "outputs": [],
   "source": [
    "pcaOut = pca.fit_transform(tf)"
   ]
  },
  {
   "cell_type": "code",
   "execution_count": 134,
   "metadata": {},
   "outputs": [
    {
     "data": {
      "image/png": "[encoded data removed]",
      "text/plain": [
       "<matplotlib.figure.Figure at 0x7f72326d57f0>"
      ]
     },
     "metadata": {},
     "output_type": "display_data"
    }
   ],
   "source": [
    "xs, ys = pcaOut[:,0], pcaOut[:,1]\n",
    "for i in range(len(xs)): \n",
    "    plt.scatter(xs[i], ys[i])\n",
    "    plt.annotate(mansfieldLabels[i], (xs[i], ys[i]))"
   ]
  }
 ],
 "metadata": {
  "kernelspec": {
   "display_name": "Python 3",
   "language": "python",
   "name": "python3"
  },
  "language_info": {
   "codemirror_mode": {
    "name": "ipython",
    "version": 3
   },
   "file_extension": ".py",
   "mimetype": "text/x-python",
   "name": "python",
   "nbconvert_exporter": "python",
   "pygments_lexer": "ipython3",
   "version": "3.6.6"
  }
 },
 "nbformat": 4,
 "nbformat_minor": 2
}
