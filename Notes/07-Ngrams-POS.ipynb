{
 "cells": [
  {
   "cell_type": "markdown",
   "metadata": {},
   "source": [
    "# Parts of Speech\n",
    "\n",
    "Here, we'll be using the NLTK to guess the parts of speech for our texts. Common parts of speech for English include nouns (people, places, things), verbs (actions), and adjectives (descriptions). Here's a more complete list of parts of speech, taken from [this UPenn page](https://ling.upenn.edu/courses/Fall_2003/ling001/penn_treebank_pos.html). The abbreviations here are those used by the NLTK POS tagger, `nltk.pos_tag()`. \n",
    "\n",
    "1.\tCC\tCoordinating conjunction\n",
    "2.\tCD\tCardinal number\n",
    "3.\tDT\tDeterminer\n",
    "4.\tEX\tExistential there\n",
    "5.\tFW\tForeign word\n",
    "6.\tIN\tPreposition or subordinating conjunction\n",
    "7.\tJJ\tAdjective\n",
    "8.\tJJR\tAdjective, comparative\n",
    "9.\tJJS\tAdjective, superlative\n",
    "10.\tLS\tList item marker\n",
    "11.\tMD\tModal\n",
    "12.\tNN\tNoun, singular or mass\n",
    "13.\tNNS\tNoun, plural\n",
    "14.\tNNP\tProper noun, singular\n",
    "15.\tNNPS\tProper noun, plural\n",
    "16.\tPDT\tPredeterminer\n",
    "17.\tPOS\tPossessive ending\n",
    "18.\tPRP\tPersonal pronoun\n",
    "19.\tPRP\\$\tPossessive pronoun\n",
    "20.\tRB\tAdverb\n",
    "21.\tRBR\tAdverb, comparative\n",
    "22.\tRBS\tAdverb, superlative\n",
    "23.\tRP\tParticle\n",
    "24.\tSYM\tSymbol\n",
    "25.\tTO\tto\n",
    "26.\tUH\tInterjection\n",
    "27.\tVB\tVerb, base form\n",
    "28.\tVBD\tVerb, past tense\n",
    "29.\tVBG\tVerb, gerund or present participle\n",
    "30.\tVBN\tVerb, past participle\n",
    "31.\tVBP\tVerb, non-3rd person singular present\n",
    "32.\tVBZ\tVerb, 3rd person singular present\n",
    "33.\tWDT\tWh-determiner\n",
    "34.\tWP\tWh-pronoun\n",
    "35.\tWP\\$\tPossessive wh-pronoun\n",
    "36.\tWRB\tWh-adverb\n",
    "\n",
    "Ok. First, import all our usual stuff, and also `pos_tag()`. "
   ]
  },
  {
   "cell_type": "code",
   "execution_count": 10,
   "metadata": {},
   "outputs": [],
   "source": [
    "import nltk\n",
    "from nltk import word_tokenize, sent_tokenize, pos_tag, pos_tag_sents, ngrams\n",
    "from collections import Counter\n",
    "import numpy as np\n",
    "import pandas as pd\n",
    "%matplotlib inline"
   ]
  },
  {
   "cell_type": "markdown",
   "metadata": {},
   "source": [
    "Tokenize a test sentence. "
   ]
  },
  {
   "cell_type": "code",
   "execution_count": 11,
   "metadata": {},
   "outputs": [],
   "source": [
    "foxy = word_tokenize(\"The quick brown fox jumped over the lazy dogs.\")"
   ]
  },
  {
   "cell_type": "markdown",
   "metadata": {},
   "source": [
    "Now POS tag it (i.e. ask the NLTK to guess the parts of speech for each word): "
   ]
  },
  {
   "cell_type": "code",
   "execution_count": 12,
   "metadata": {},
   "outputs": [
    {
     "data": {
      "text/plain": [
       "[('The', 'DT'),\n",
       " ('quick', 'JJ'),\n",
       " ('brown', 'NN'),\n",
       " ('fox', 'NN'),\n",
       " ('jumped', 'VBD'),\n",
       " ('over', 'IN'),\n",
       " ('the', 'DT'),\n",
       " ('lazy', 'JJ'),\n",
       " ('dogs', 'NNS'),\n",
       " ('.', '.')]"
      ]
     },
     "execution_count": 12,
     "metadata": {},
     "output_type": "execute_result"
    }
   ],
   "source": [
    "pos_tag(foxy)"
   ]
  },
  {
   "cell_type": "markdown",
   "metadata": {},
   "source": [
    "Note how this data structure is a list of tuples. "
   ]
  },
  {
   "cell_type": "markdown",
   "metadata": {},
   "source": [
    "## On Tuples\n",
    "\n",
    "Tuples use parentheses: `(1, 2)`. Tuples are pretty much like lists, only they're immutable, which means you can't append to them or change them in any way. "
   ]
  },
  {
   "cell_type": "code",
   "execution_count": 13,
   "metadata": {},
   "outputs": [
    {
     "data": {
      "text/plain": [
       "(1, 2)"
      ]
     },
     "execution_count": 13,
     "metadata": {},
     "output_type": "execute_result"
    }
   ],
   "source": [
    "(1,2)"
   ]
  },
  {
   "cell_type": "code",
   "execution_count": 14,
   "metadata": {},
   "outputs": [
    {
     "ename": "AttributeError",
     "evalue": "'tuple' object has no attribute 'append'",
     "output_type": "error",
     "traceback": [
      "\u001b[0;31m---------------------------------------------------------------------------\u001b[0m",
      "\u001b[0;31mAttributeError\u001b[0m                            Traceback (most recent call last)",
      "\u001b[0;32m<ipython-input-14-a7cc4281f6bc>\u001b[0m in \u001b[0;36m<module>\u001b[0;34m()\u001b[0m\n\u001b[0;32m----> 1\u001b[0;31m \u001b[0;34m(\u001b[0m\u001b[0;36m1\u001b[0m\u001b[0;34m,\u001b[0m\u001b[0;36m2\u001b[0m\u001b[0;34m)\u001b[0m\u001b[0;34m.\u001b[0m\u001b[0mappend\u001b[0m\u001b[0;34m(\u001b[0m\u001b[0;36m1\u001b[0m\u001b[0;34m)\u001b[0m\u001b[0;34m\u001b[0m\u001b[0m\n\u001b[0m",
      "\u001b[0;31mAttributeError\u001b[0m: 'tuple' object has no attribute 'append'"
     ]
    }
   ],
   "source": [
    "(1,2).append(1)"
   ]
  },
  {
   "cell_type": "code",
   "execution_count": null,
   "metadata": {},
   "outputs": [],
   "source": [
    "(\"Apples\", \"Bananas\")[0]"
   ]
  },
  {
   "cell_type": "markdown",
   "metadata": {},
   "source": [
    "Now we'll get our text (only Betteredge this time, as a test). "
   ]
  },
  {
   "cell_type": "code",
   "execution_count": null,
   "metadata": {},
   "outputs": [],
   "source": [
    "moonstone = open('/home/jon/Code/course-computational-literary-analysis/moonstone.md').read().lower()"
   ]
  },
  {
   "cell_type": "code",
   "execution_count": null,
   "metadata": {},
   "outputs": [],
   "source": [
    "moonstoneParts = moonstone.split('%%%%%')"
   ]
  },
  {
   "cell_type": "code",
   "execution_count": 15,
   "metadata": {},
   "outputs": [],
   "source": [
    "bet = moonstoneParts[1]"
   ]
  },
  {
   "cell_type": "code",
   "execution_count": 16,
   "metadata": {},
   "outputs": [],
   "source": [
    "betTokens = word_tokenize(bet)"
   ]
  },
  {
   "cell_type": "code",
   "execution_count": 17,
   "metadata": {},
   "outputs": [
    {
     "data": {
      "text/plain": [
       "94881"
      ]
     },
     "execution_count": 17,
     "metadata": {},
     "output_type": "execute_result"
    }
   ],
   "source": [
    "len(betTokens)"
   ]
  },
  {
   "cell_type": "markdown",
   "metadata": {},
   "source": [
    "And we'll POS tag it, which creates a list of 2-tuples. "
   ]
  },
  {
   "cell_type": "code",
   "execution_count": 18,
   "metadata": {},
   "outputs": [],
   "source": [
    "betPOS = pos_tag(betTokens)"
   ]
  },
  {
   "cell_type": "code",
   "execution_count": 19,
   "metadata": {},
   "outputs": [
    {
     "data": {
      "text/plain": [
       "[('#', '#'),\n",
       " ('#', '#'),\n",
       " ('#', '#'),\n",
       " ('chapter', 'NN'),\n",
       " ('i', 'NN'),\n",
       " ('in', 'IN'),\n",
       " ('the', 'DT'),\n",
       " ('first', 'JJ'),\n",
       " ('part', 'NN'),\n",
       " ('of', 'IN'),\n",
       " ('robinson', 'NN'),\n",
       " ('crusoe', 'NN'),\n",
       " (',', ','),\n",
       " ('at', 'IN'),\n",
       " ('page', 'NN'),\n",
       " ('one', 'CD'),\n",
       " ('hundred', 'CD'),\n",
       " ('and', 'CC'),\n",
       " ('twenty-nine', 'JJ'),\n",
       " (',', ','),\n",
       " ('you', 'PRP'),\n",
       " ('will', 'MD'),\n",
       " ('find', 'VB'),\n",
       " ('it', 'PRP'),\n",
       " ('thus', 'RB'),\n",
       " ('written', 'VBN'),\n",
       " (':', ':'),\n",
       " ('“', 'NN'),\n",
       " ('now', 'RB'),\n",
       " ('i', 'VBZ')]"
      ]
     },
     "execution_count": 19,
     "metadata": {},
     "output_type": "execute_result"
    }
   ],
   "source": [
    "betPOS[:30]"
   ]
  },
  {
   "cell_type": "markdown",
   "metadata": {},
   "source": [
    "We can get the first column of these tuples (i.e., the words themseleves), using a list comprehension like the one below. And we can get a list of all the POSes the same way. "
   ]
  },
  {
   "cell_type": "code",
   "execution_count": 20,
   "metadata": {},
   "outputs": [],
   "source": [
    "words = [pair[0] for pair in betPOS]\n",
    "pos = [pair[1] for pair in betPOS]"
   ]
  },
  {
   "cell_type": "code",
   "execution_count": 21,
   "metadata": {},
   "outputs": [
    {
     "data": {
      "text/plain": [
       "['#', '#', '#', 'NN', 'NN', 'IN', 'DT', 'JJ', 'NN', 'IN']"
      ]
     },
     "execution_count": 21,
     "metadata": {},
     "output_type": "execute_result"
    }
   ],
   "source": [
    "pos[:10]"
   ]
  },
  {
   "cell_type": "markdown",
   "metadata": {},
   "source": [
    "We can also count up all the parts of speech with `Counter()`. "
   ]
  },
  {
   "cell_type": "code",
   "execution_count": 27,
   "metadata": {},
   "outputs": [
    {
     "data": {
      "text/plain": [
       "[('NN', 16627),\n",
       " ('IN', 10673),\n",
       " ('DT', 8058),\n",
       " (',', 6281),\n",
       " ('JJ', 6181),\n",
       " ('VBD', 5567),\n",
       " ('PRP', 5512),\n",
       " ('.', 4198),\n",
       " ('VB', 3963),\n",
       " ('RB', 3913),\n",
       " ('PRP$', 2859),\n",
       " ('TO', 2666),\n",
       " ('CC', 2474),\n",
       " ('NNS', 2362),\n",
       " ('VBN', 2095),\n",
       " ('VBP', 1804),\n",
       " ('VBG', 1657),\n",
       " ('NNP', 1397),\n",
       " ('VBZ', 1241),\n",
       " ('MD', 978),\n",
       " ('WRB', 531),\n",
       " ('WP', 497),\n",
       " (':', 494),\n",
       " ('RP', 475),\n",
       " ('CD', 438),\n",
       " ('WDT', 390),\n",
       " ('(', 212),\n",
       " (')', 212),\n",
       " ('EX', 191),\n",
       " ('JJR', 184)]"
      ]
     },
     "execution_count": 27,
     "metadata": {},
     "output_type": "execute_result"
    }
   ],
   "source": [
    "Counter(pos).most_common(30)"
   ]
  },
  {
   "cell_type": "markdown",
   "metadata": {},
   "source": [
    "What if we wanted to make a list of all the adjectives? We could write a function like this: "
   ]
  },
  {
   "cell_type": "code",
   "execution_count": 23,
   "metadata": {},
   "outputs": [],
   "source": [
    "def getAdj(taggedText): \n",
    "    adjectives = []\n",
    "    for pair in taggedText: \n",
    "        word = pair[0]\n",
    "        pos = pair[1]\n",
    "        if pos == 'JJ': \n",
    "            adjectives.append(word)\n",
    "    return adjectives"
   ]
  },
  {
   "cell_type": "code",
   "execution_count": 24,
   "metadata": {},
   "outputs": [],
   "source": [
    "betAdj = getAdj(betPOS)"
   ]
  },
  {
   "cell_type": "markdown",
   "metadata": {},
   "source": [
    "Now we can look at the most frequent adjectives, again using `Counter()`: "
   ]
  },
  {
   "cell_type": "code",
   "execution_count": 26,
   "metadata": {},
   "outputs": [
    {
     "data": {
      "text/plain": [
       "[('i', 391),\n",
       " ('’', 238),\n",
       " ('sergeant', 188),\n",
       " ('own', 172),\n",
       " ('miss', 170),\n",
       " ('mr.', 154),\n",
       " ('”', 146),\n",
       " ('little', 129),\n",
       " ('other', 120),\n",
       " ('“', 119),\n",
       " ('s', 103),\n",
       " ('last', 102),\n",
       " ('good', 99),\n",
       " ('first', 90),\n",
       " ('young', 81),\n",
       " ('next', 70),\n",
       " ('old', 63),\n",
       " ('lady', 59),\n",
       " ('poor', 56),\n",
       " ('present', 53)]"
      ]
     },
     "execution_count": 26,
     "metadata": {},
     "output_type": "execute_result"
    }
   ],
   "source": [
    "Counter(betAdj).most_common(20)"
   ]
  },
  {
   "cell_type": "markdown",
   "metadata": {},
   "source": [
    "We can generalize that function to get any type of POS: "
   ]
  },
  {
   "cell_type": "code",
   "execution_count": 28,
   "metadata": {},
   "outputs": [],
   "source": [
    "def getPOS(taggedText, posNeedle): \n",
    "    adjectives = []\n",
    "    for pair in taggedText: \n",
    "        word = pair[0]\n",
    "        pos = pair[1]\n",
    "        if pos == posNeedle: \n",
    "            adjectives.append(word)\n",
    "    return adjectives"
   ]
  },
  {
   "cell_type": "markdown",
   "metadata": {},
   "source": [
    "And we can use it to get the most common, say, suplative adverbs: "
   ]
  },
  {
   "cell_type": "code",
   "execution_count": 29,
   "metadata": {},
   "outputs": [
    {
     "data": {
      "text/plain": [
       "[('most', 39), ('mr.', 2)]"
      ]
     },
     "execution_count": 29,
     "metadata": {},
     "output_type": "execute_result"
    }
   ],
   "source": [
    "Counter(getPOS(betPOS, 'RBS')).most_common(20)"
   ]
  },
  {
   "cell_type": "markdown",
   "metadata": {},
   "source": [
    "## N-grams\n",
    "\n",
    "N-grams are groups of n words, where n is an integer.\n",
    "\n",
    " - Unigrams: one word (\"and\")\n",
    " - Bigrams: two words (\"and\", \"the\")\n",
    " - Trigrams: three words (\"because\", \"of\", \"the\")\n",
    "\n",
    "We can use n-grams to find all kinds of patterns in texts. For example, Betteredge's trigrams: "
   ]
  },
  {
   "cell_type": "code",
   "execution_count": 30,
   "metadata": {},
   "outputs": [],
   "source": [
    "betTrigrams = list(ngrams(betTokens, 3))"
   ]
  },
  {
   "cell_type": "code",
   "execution_count": 31,
   "metadata": {},
   "outputs": [
    {
     "data": {
      "text/plain": [
       "[(('.', '“', 'i'), 108),\n",
       " ((',', '”', 'says'), 97),\n",
       " (('don', '’', 't'), 93),\n",
       " (('?', '”', '“'), 87),\n",
       " ((',', '”', 'he'), 77),\n",
       " (('said', ',', '“'), 73),\n",
       " (('”', 'he', 'said'), 70),\n",
       " ((',', '”', 'i'), 68),\n",
       " (('mr.', 'franklin', ','), 65),\n",
       " (('said', '.', '“'), 64),\n",
       " (('lady', '’', 's'), 63),\n",
       " (('?', '”', 'i'), 62),\n",
       " (('”', 'i', 'said'), 57),\n",
       " ((',', 'sir', ','), 57),\n",
       " (('the', 'sergeant', ','), 56),\n",
       " (('can', '’', 't'), 55),\n",
       " ((',', 'and', 'the'), 55),\n",
       " ((',', 'in', 'the'), 54),\n",
       " (('franklin', '’', 's'), 53),\n",
       " (('mr.', 'franklin', '’'), 52)]"
      ]
     },
     "execution_count": 31,
     "metadata": {},
     "output_type": "execute_result"
    }
   ],
   "source": [
    "Counter(betTrigrams).most_common(20)"
   ]
  },
  {
   "cell_type": "markdown",
   "metadata": {},
   "source": [
    "We can also use trigrams in conjunction with POS tagging to find fuzzy patterns, like \"in the X,\" where X is a noun of some sort: "
   ]
  },
  {
   "cell_type": "code",
   "execution_count": 32,
   "metadata": {},
   "outputs": [],
   "source": [
    "def inTheX(taggedText):\n",
    "    inTheXs = []\n",
    "    trigrams = ngrams(taggedText, 3)\n",
    "    for trigram in trigrams: \n",
    "        if trigram[0][0] == 'in': \n",
    "            if trigram[1][0] == 'the': \n",
    "                if trigram[2][1] in ['NN', 'NNS', 'NNP']: \n",
    "                    inTheXs.append(trigram[0][0] + ' ' + trigram[1][0] + ' ' + trigram[2][0] )\n",
    "    return inTheXs"
   ]
  },
  {
   "cell_type": "code",
   "execution_count": 33,
   "metadata": {},
   "outputs": [
    {
     "data": {
      "text/plain": [
       "['in the interests',\n",
       " 'in the form',\n",
       " 'in the house',\n",
       " 'in the meantime',\n",
       " 'in the morning',\n",
       " 'in the afternoon',\n",
       " 'in the garden',\n",
       " 'in the time',\n",
       " 'in the house',\n",
       " 'in the character']"
      ]
     },
     "execution_count": 33,
     "metadata": {},
     "output_type": "execute_result"
    }
   ],
   "source": [
    "inTheX(betPOS)[:10]"
   ]
  },
  {
   "cell_type": "markdown",
   "metadata": {},
   "source": [
    "We can also use the techniques we learned yesterday (see the 06-Narrative-Time notebook) to plot certain parts of speech along narrative time (of Betteredge's narrative, at least). First, make a binary representation of whether each word is an adjective: "
   ]
  },
  {
   "cell_type": "code",
   "execution_count": 34,
   "metadata": {},
   "outputs": [],
   "source": [
    "isAdj = [1 if p == 'JJ' else 0 for p in pos]"
   ]
  },
  {
   "cell_type": "markdown",
   "metadata": {},
   "source": [
    "Then make it into an array, split the array, sum each segment, and then plot it as a Pandas series: "
   ]
  },
  {
   "cell_type": "code",
   "execution_count": 36,
   "metadata": {},
   "outputs": [
    {
     "data": {
      "text/plain": [
       "<matplotlib.axes._subplots.AxesSubplot at 0x7ff9bbe937b8>"
      ]
     },
     "execution_count": 36,
     "metadata": {},
     "output_type": "execute_result"
    },
    {
     "data": {
      "image/png": "[encoded data removed]",
      "text/plain": [
       "<matplotlib.figure.Figure at 0x7ff9bbfe5908>"
      ]
     },
     "metadata": {},
     "output_type": "display_data"
    }
   ],
   "source": [
    "pd.Series([sum(l) for l in (np.array_split(np.array(isAdj), 80))]).plot()"
   ]
  }
 ],
 "metadata": {
  "kernelspec": {
   "display_name": "Python 3",
   "language": "python",
   "name": "python3"
  },
  "language_info": {
   "codemirror_mode": {
    "name": "ipython",
    "version": 3
   },
   "file_extension": ".py",
   "mimetype": "text/x-python",
   "name": "python",
   "nbconvert_exporter": "python",
   "pygments_lexer": "ipython3",
   "version": "3.6.6"
  }
 },
 "nbformat": 4,
 "nbformat_minor": 2
}
