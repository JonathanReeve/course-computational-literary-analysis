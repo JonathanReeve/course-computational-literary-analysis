{
 "cells": [
  {
   "cell_type": "markdown",
   "metadata": {},
   "source": [
    "## Working with Files\n",
    "\n",
    "First, let's make sure we know what directory Jupyter is working in. To use this, run `%pwd`, which stands for \"print working directory.\" The `%` prefix is used for Jupyter \"magic\" commands (to see a full list, run `%lsmagic`). "
   ]
  },
  {
   "cell_type": "code",
   "execution_count": 6,
   "metadata": {},
   "outputs": [
    {
     "data": {
      "text/plain": [
       "'/home/jon/Code/course-computational-literary-analysis/Notes'"
      ]
     },
     "execution_count": 6,
     "metadata": {},
     "output_type": "execute_result"
    }
   ],
   "source": [
    "%pwd"
   ]
  },
  {
   "cell_type": "markdown",
   "metadata": {},
   "source": [
    "Now let's make sure that the file we downloaded earlier, `moonstone.md`, is in our working directory. You can download this file from [the gh-pages branch of the course repository](https://raw.githubusercontent.com/JonathanReeve/course-computational-literary-analysis/gh-pages/_texts/moonstone.md). "
   ]
  },
  {
   "cell_type": "code",
   "execution_count": 7,
   "metadata": {},
   "outputs": [
    {
     "name": "stdout",
     "output_type": "stream",
     "text": [
      "ICLA-Files.ipynb  ICLA-Notes-2.ipynb  ICLA-Words.ipynb\r\n"
     ]
    }
   ],
   "source": [
    "%ls"
   ]
  },
  {
   "cell_type": "markdown",
   "metadata": {},
   "source": [
    "If we're not in the right directory, we can change to a different directory using the `%cd` command. "
   ]
  },
  {
   "cell_type": "code",
   "execution_count": 8,
   "metadata": {},
   "outputs": [
    {
     "name": "stdout",
     "output_type": "stream",
     "text": [
      "[Errno 2] No such file or directory: 'Homework'\n",
      "/home/jon/Code/course-computational-literary-analysis/Notes\n"
     ]
    }
   ],
   "source": [
    "%cd Homework"
   ]
  },
  {
   "cell_type": "code",
   "execution_count": 9,
   "metadata": {},
   "outputs": [
    {
     "name": "stdout",
     "output_type": "stream",
     "text": [
      "ICLA-Files.ipynb  ICLA-Notes-2.ipynb  ICLA-Words.ipynb\r\n"
     ]
    }
   ],
   "source": [
    "%ls"
   ]
  },
  {
   "cell_type": "code",
   "execution_count": 10,
   "metadata": {},
   "outputs": [
    {
     "data": {
      "text/plain": [
       "'/home/jon/Code/course-computational-literary-analysis/Notes'"
      ]
     },
     "execution_count": 10,
     "metadata": {},
     "output_type": "execute_result"
    }
   ],
   "source": [
    "%pwd"
   ]
  },
  {
   "cell_type": "markdown",
   "metadata": {},
   "source": [
    "We can also change to the higher-level or \"parent\" directory, which is called `..`"
   ]
  },
  {
   "cell_type": "code",
   "execution_count": 11,
   "metadata": {},
   "outputs": [
    {
     "name": "stdout",
     "output_type": "stream",
     "text": [
      "/home/jon/Code/course-computational-literary-analysis\n"
     ]
    }
   ],
   "source": [
    "%cd .."
   ]
  },
  {
   "cell_type": "code",
   "execution_count": 12,
   "metadata": {},
   "outputs": [
    {
     "name": "stdout",
     "output_type": "stream",
     "text": [
      "\u001b[0m\u001b[01;34mHomework\u001b[0m/  \u001b[01;34mHW1\u001b[0m/  LICENSE  moonstone.md  \u001b[01;34mNotes\u001b[0m/  README.md\r\n"
     ]
    }
   ],
   "source": [
    "%ls"
   ]
  },
  {
   "cell_type": "markdown",
   "metadata": {},
   "source": [
    "When trying to open a file, you must either provide: \n",
    " - The full path to your file (/home/yourname or C:\\...)\n",
    " - Or the relative path to local file in your working directory. \n",
    " \n",
    "Since I know that my working directory has `moonstone.md` in it (I can see that by the output of `%ls` above), I can just open `moonstone.md`. But if this file were in my Downloads folder, which on my operating system is `/home/jon/Downloads`, I might want to open the file `/home/jon/Downloads/moonstone.md`. \n",
    "\n",
    "The command below opens the plain text file for _The Moonstone_, gets the plain text out of it (i.e. reads it), and stores the resulting string in the variable called `moonstone`. "
   ]
  },
  {
   "cell_type": "code",
   "execution_count": 13,
   "metadata": {},
   "outputs": [],
   "source": [
    "moonstone = open('moonstone.md').read()"
   ]
  },
  {
   "cell_type": "markdown",
   "metadata": {},
   "source": [
    "Let's verify that it worked, by peeking at the first 500 characters of the file. "
   ]
  },
  {
   "cell_type": "code",
   "execution_count": 24,
   "metadata": {},
   "outputs": [
    {
     "data": {
      "text/plain": [
       "69"
      ]
     },
     "execution_count": 24,
     "metadata": {},
     "output_type": "execute_result"
    }
   ],
   "source": [
    "len(moonstoneParts)"
   ]
  },
  {
   "cell_type": "code",
   "execution_count": 15,
   "metadata": {},
   "outputs": [
    {
     "name": "stdout",
     "output_type": "stream",
     "text": [
      "---\n",
      "layout: narrative\n",
      "title: \"The Moonstone\"\n",
      "author: Wilkie Collins\n",
      "editor: Jonathan Reeve\n",
      "rights: Public Domain\n",
      "source: Project Gutenberg\n",
      "publication-date: 2018\n",
      "toc:\n",
      "- Prologue\n",
      "- Chapter X\n",
      "- Chapter XV\n",
      "- Second Period\n",
      "- Second Narrative\n",
      "- Third Narrative\n",
      "- Fourth Narrative\n",
      "- Sixth Narrative\n",
      "---\n",
      "\n",
      "## Prologue\n",
      "\n",
      "The Storming of Seringapatam (1799)\n",
      "\n",
      "Extracted from a Family Paper\n",
      "\n",
      "I address these lines–written in India–to my relatives in England.\n",
      "\n",
      "My object is to explain the motive which has induced \n"
     ]
    }
   ],
   "source": [
    "print(moonstone[:500])"
   ]
  },
  {
   "cell_type": "markdown",
   "metadata": {},
   "source": [
    "Yep, that's it. Let's get some different parts of this file by splitting it on occurrences of `##`. "
   ]
  },
  {
   "cell_type": "code",
   "execution_count": 16,
   "metadata": {},
   "outputs": [],
   "source": [
    "moonstoneParts = moonstone.split('##')"
   ]
  },
  {
   "cell_type": "markdown",
   "metadata": {},
   "source": [
    "Now let's look around, to find which are the parts of the prologue."
   ]
  },
  {
   "cell_type": "code",
   "execution_count": 21,
   "metadata": {},
   "outputs": [
    {
     "name": "stdout",
     "output_type": "stream",
     "text": [
      " Prologue\n",
      "\n",
      "The Storming of Seringapatam (1799)\n",
      "\n",
      "Extracted from a Family Paper\n",
      "\n",
      "I address these lines–written in India–to my relatives in England.\n",
      "\n",
      "My object is to explain the motive which has induced me to refuse the\n",
      "right hand of friendship to my cousin, John Herncastle. The reserve\n",
      "which I have hitherto maintained in this matter has been misinterpreted\n",
      "by members of my family whose good opinion I cannot consent to forfeit.\n",
      "I request them to suspend their decision until they have read my\n",
      "narrat\n"
     ]
    }
   ],
   "source": [
    "print(moonstoneParts[1][:500])"
   ]
  },
  {
   "cell_type": "markdown",
   "metadata": {},
   "source": [
    "That looks about right. Now where's part IV of the prologue? "
   ]
  },
  {
   "cell_type": "code",
   "execution_count": 24,
   "metadata": {},
   "outputs": [
    {
     "name": "stdout",
     "output_type": "stream",
     "text": [
      "# IV\n",
      "\n",
      "I beg it to be understood that what I write here about my cousin (unless\n",
      "some necessity should arise for making it public) is for the information\n",
      "of the family only. Herncastle has said nothing \n"
     ]
    }
   ],
   "source": [
    "print(moonstoneParts[4][:200])"
   ]
  },
  {
   "cell_type": "markdown",
   "metadata": {},
   "source": [
    "Great. So let's grab those four parts, as a list. "
   ]
  },
  {
   "cell_type": "code",
   "execution_count": 26,
   "metadata": {},
   "outputs": [],
   "source": [
    "prologue = moonstoneParts[1:5]"
   ]
  },
  {
   "cell_type": "code",
   "execution_count": 27,
   "metadata": {},
   "outputs": [
    {
     "data": {
      "text/plain": [
       "list"
      ]
     },
     "execution_count": 27,
     "metadata": {},
     "output_type": "execute_result"
    }
   ],
   "source": [
    "type(prologue)"
   ]
  },
  {
   "cell_type": "markdown",
   "metadata": {},
   "source": [
    "Let's use a `for` loop to show the length of each chapter in the prologue:"
   ]
  },
  {
   "cell_type": "code",
   "execution_count": 28,
   "metadata": {},
   "outputs": [
    {
     "name": "stdout",
     "output_type": "stream",
     "text": [
      "1047\n",
      "4293\n",
      "4692\n",
      "1912\n"
     ]
    }
   ],
   "source": [
    "for part in prologue: \n",
    "    print(len(part))"
   ]
  },
  {
   "cell_type": "markdown",
   "metadata": {},
   "source": [
    "Now we can count how often certain words occur in each part of the prologue. Here I'm also lowercasing each part first, so that \"MOONSTONE,\" \"Moonstone,\" and \"moonstone\" are treated the same. "
   ]
  },
  {
   "cell_type": "code",
   "execution_count": 33,
   "metadata": {},
   "outputs": [
    {
     "name": "stdout",
     "output_type": "stream",
     "text": [
      "0\n",
      "5\n",
      "3\n",
      "0\n"
     ]
    }
   ],
   "source": [
    "for part in prologue:\n",
    "    print(part.lower().count('moonstone'))"
   ]
  }
 ],
 "metadata": {
  "kernelspec": {
   "display_name": "Python 3",
   "language": "python",
   "name": "python3"
  },
  "language_info": {
   "codemirror_mode": {
    "name": "ipython",
    "version": 3
   },
   "file_extension": ".py",
   "mimetype": "text/x-python",
   "name": "python",
   "nbconvert_exporter": "python",
   "pygments_lexer": "ipython3",
   "version": "3.6.6"
  }
 },
 "nbformat": 4,
 "nbformat_minor": 2
}
