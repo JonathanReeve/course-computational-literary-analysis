{
 "cells": [
  {
   "cell_type": "markdown",
   "metadata": {},
   "source": [
    "# Topic Modeling\n",
    "\n",
    "Topic modeling is the umbrella term for several statistical methods that show coocurrences of groups of words irrespective of their positions in the text. These groups, or \"topics,\" are computationally inferred probabilistically, not semantically, and so even though they are called topics, they don't always correspond to what we would consider a topic. \n",
    "\n",
    "A good, general-purpose introduction to topic modeling [can be found here](http://www.cs.columbia.edu/~blei/papers/Blei2012.pdf) via David Blei's website.\n",
    "\n",
    "Topic modeling is very sensitive to lots of factors. First, it works best on many documents rather than just a few, since a topic is defined as that which is distributed across documents. So it's a good idea to break a text into equal-sized chunks, first. \n",
    "\n",
    "I'll start by defining a `chunk()` function to do that, to break up a text into equal-sized chunks of about 500 words each. "
   ]
  },
  {
   "cell_type": "code",
   "execution_count": 36,
   "metadata": {},
   "outputs": [],
   "source": [
    "from sklearn.feature_extraction.text import CountVectorizer\n",
    "from sklearn.decomposition import LatentDirichletAllocation\n",
    "import pandas as pd\n",
    "from more_itertools import chunked\n",
    "from nltk import word_tokenize\n",
    "from nltk.corpus import brown\n",
    "import pyLDAvis.sklearn \n",
    "%matplotlib inline\n",
    "from matplotlib import pyplot as plt\n",
    "plt.rcParams['figure.figsize'] = [10, 5]"
   ]
  },
  {
   "cell_type": "code",
   "execution_count": 2,
   "metadata": {},
   "outputs": [],
   "source": [
    "def chunk(tokens, size): \n",
    "    return list(zip(*[tokens[i::size] for i in range(size)])) "
   ]
  },
  {
   "cell_type": "code",
   "execution_count": 3,
   "metadata": {},
   "outputs": [],
   "source": [
    "moonstone = open('../moonstone.md').read()"
   ]
  },
  {
   "cell_type": "code",
   "execution_count": 4,
   "metadata": {},
   "outputs": [],
   "source": [
    "moonstoneParts = moonstone.split('%%%%%')"
   ]
  },
  {
   "cell_type": "code",
   "execution_count": 5,
   "metadata": {},
   "outputs": [],
   "source": [
    "moonstoneTokens = word_tokenize(moonstone)"
   ]
  },
  {
   "cell_type": "code",
   "execution_count": 6,
   "metadata": {},
   "outputs": [],
   "source": [
    "moonstoneChunks = chunk(moonstoneTokens, 300)"
   ]
  },
  {
   "cell_type": "markdown",
   "metadata": {},
   "source": [
    "Now I'll join the words together, to make strings again. "
   ]
  },
  {
   "cell_type": "code",
   "execution_count": 7,
   "metadata": {},
   "outputs": [],
   "source": [
    "moonstoneChunks = [' '.join(chunk) for chunk in moonstoneChunks]"
   ]
  },
  {
   "cell_type": "markdown",
   "metadata": {},
   "source": [
    "Sanity check: how many chunks do we have? "
   ]
  },
  {
   "cell_type": "code",
   "execution_count": 8,
   "metadata": {},
   "outputs": [
    {
     "data": {
      "text/plain": [
       "780"
      ]
     },
     "execution_count": 8,
     "metadata": {},
     "output_type": "execute_result"
    }
   ],
   "source": [
    "len(moonstoneChunks)"
   ]
  },
  {
   "cell_type": "markdown",
   "metadata": {},
   "source": [
    "And what is the length (in characters) of each one? "
   ]
  },
  {
   "cell_type": "code",
   "execution_count": 9,
   "metadata": {},
   "outputs": [
    {
     "data": {
      "text/plain": [
       "[1575, 1580, 1595, 1544, 1451, 1388, 1335, 1459, 1400, 1440]"
      ]
     },
     "execution_count": 9,
     "metadata": {},
     "output_type": "execute_result"
    }
   ],
   "source": [
    "[len(chunk) for chunk in moonstoneChunks[:10]]"
   ]
  },
  {
   "cell_type": "markdown",
   "metadata": {},
   "source": [
    "Now we'll use a CountVectorizer instead of the TfidfVectorizer, to get word counts, rather than frequencies (LDA works best on counts). We'll say that we only want to see words that appear in at least 5% of documents, and in no more than 80% of documents. We'll also ignore stopwords while we're at it (\"a,\" \"the,\" \"of,\" etc.). "
   ]
  },
  {
   "cell_type": "code",
   "execution_count": 10,
   "metadata": {},
   "outputs": [],
   "source": [
    "cv = CountVectorizer(min_df=2, max_df=0.95, stop_words='english')"
   ]
  },
  {
   "cell_type": "markdown",
   "metadata": {},
   "source": [
    "Fit our model and transform our chunks into counts: "
   ]
  },
  {
   "cell_type": "code",
   "execution_count": 11,
   "metadata": {},
   "outputs": [],
   "source": [
    "counts = cv.fit_transform(moonstoneChunks)"
   ]
  },
  {
   "cell_type": "code",
   "execution_count": 12,
   "metadata": {},
   "outputs": [
    {
     "data": {
      "text/plain": [
       "<780x5111 sparse matrix of type '<class 'numpy.int64'>'\n",
       "\twith 62923 stored elements in Compressed Sparse Row format>"
      ]
     },
     "execution_count": 12,
     "metadata": {},
     "output_type": "execute_result"
    }
   ],
   "source": [
    "counts"
   ]
  },
  {
   "cell_type": "markdown",
   "metadata": {},
   "source": [
    "Now we can get a list of all the words used here. Let's also peek at them, so that we know we're using content words, and not function words: "
   ]
  },
  {
   "cell_type": "code",
   "execution_count": 13,
   "metadata": {},
   "outputs": [],
   "source": [
    "wordLabels = cv.get_feature_names()"
   ]
  },
  {
   "cell_type": "code",
   "execution_count": 14,
   "metadata": {},
   "outputs": [
    {
     "data": {
      "text/plain": [
       "['apartments',\n",
       " 'aperture',\n",
       " 'apologies',\n",
       " 'apologise',\n",
       " 'apology',\n",
       " 'apparently',\n",
       " 'apparition',\n",
       " 'appeal',\n",
       " 'appealed',\n",
       " 'appealing']"
      ]
     },
     "execution_count": 14,
     "metadata": {},
     "output_type": "execute_result"
    }
   ],
   "source": [
    "wordLabels[200:210]"
   ]
  },
  {
   "cell_type": "markdown",
   "metadata": {},
   "source": [
    "Looks OK. Initialize our LDA engine: "
   ]
  },
  {
   "cell_type": "code",
   "execution_count": 15,
   "metadata": {},
   "outputs": [],
   "source": [
    "lda = LatentDirichletAllocation(n_topics=5, learning_method='online')"
   ]
  },
  {
   "cell_type": "markdown",
   "metadata": {},
   "source": [
    "And do the topic modeling itself: "
   ]
  },
  {
   "cell_type": "code",
   "execution_count": 16,
   "metadata": {},
   "outputs": [],
   "source": [
    "ldaOut = lda.fit_transform(counts)"
   ]
  },
  {
   "cell_type": "code",
   "execution_count": 17,
   "metadata": {},
   "outputs": [
    {
     "data": {
      "text/plain": [
       "(780, 5)"
      ]
     },
     "execution_count": 17,
     "metadata": {},
     "output_type": "execute_result"
    }
   ],
   "source": [
    "ldaOut.shape"
   ]
  },
  {
   "cell_type": "code",
   "execution_count": 18,
   "metadata": {},
   "outputs": [
    {
     "data": {
      "text/plain": [
       "array([[ 0.00193757,  0.00195848,  0.00189769,  0.99224762,  0.00195865],\n",
       "       [ 0.60464474,  0.17453547,  0.00195878,  0.00197358,  0.21688743],\n",
       "       [ 0.59462853,  0.00192499,  0.0018737 ,  0.00189827,  0.39967451],\n",
       "       ..., \n",
       "       [ 0.00190104,  0.00189753,  0.00188777,  0.0018994 ,  0.99241426],\n",
       "       [ 0.00211896,  0.00212599,  0.00210611,  0.00211984,  0.99152911],\n",
       "       [ 0.00205859,  0.00205523,  0.00204111,  0.00205524,  0.99178984]])"
      ]
     },
     "execution_count": 18,
     "metadata": {},
     "output_type": "execute_result"
    }
   ],
   "source": [
    "ldaOut"
   ]
  },
  {
   "cell_type": "markdown",
   "metadata": {},
   "source": [
    "Now we can print the results from our model's `.components_` property: "
   ]
  },
  {
   "cell_type": "code",
   "execution_count": 22,
   "metadata": {},
   "outputs": [
    {
     "name": "stdout",
     "output_type": "stream",
     "text": [
      "Topic 0\n",
      "hindoo kattiawar time called north sacred wild india quicksand century\n",
      "Topic 1\n",
      "mr said franklin time sergeant miss rachel room house say\n",
      "Topic 2\n",
      "property mothers tract small committee clothes books mission societies dear\n",
      "Topic 3\n",
      "mr day place miss blake luker godfrey way know franklin\n",
      "Topic 4\n",
      "indians men time shrine ship steamer left people place mr\n"
     ]
    }
   ],
   "source": [
    "topicLabels = []\n",
    "for i, topic in enumerate(lda.components_):\n",
    "    print(\"Topic {}\".format(i))\n",
    "    topicLabel = \" \".join([wordLabels[i] for i in topic.argsort()[:-10 - 1:-1]])\n",
    "    print(topicLabel)\n",
    "    topicLabels.append(topicLabel)"
   ]
  },
  {
   "cell_type": "markdown",
   "metadata": {},
   "source": [
    "...or we can import this into a Pandas DataFrame so we can see how these topics show up in narrative time: "
   ]
  },
  {
   "cell_type": "code",
   "execution_count": 25,
   "metadata": {},
   "outputs": [],
   "source": [
    "df = pd.DataFrame(ldaOut, columns=topicLabels)"
   ]
  },
  {
   "cell_type": "code",
   "execution_count": 40,
   "metadata": {},
   "outputs": [
    {
     "data": {
      "text/plain": [
       "<matplotlib.axes._subplots.AxesSubplot at 0x7f04182927f0>"
      ]
     },
     "execution_count": 40,
     "metadata": {},
     "output_type": "execute_result"
    },
    {
     "data": {
      "image/png": "[encoded data removed]",
      "text/plain": [
       "<matplotlib.figure.Figure at 0x7f04127d10b8>"
      ]
     },
     "metadata": {},
     "output_type": "display_data"
    }
   ],
   "source": [
    "df[[topicLabels[0], topicLabels[2], topicLabels[4]]].plot()"
   ]
  },
  {
   "cell_type": "markdown",
   "metadata": {},
   "source": [
    "Let's do the same thing again, but tweak the parameters a bit, and put it all into a function, so that it'll be easily reproducible."
   ]
  },
  {
   "cell_type": "code",
   "execution_count": 71,
   "metadata": {},
   "outputs": [],
   "source": [
    "def topicModel(docs, numTopics=8, numWords=8, maxFeats=None): \n",
    "    cv = CountVectorizer(stop_words='english', \n",
    "                         min_df=0.1, max_df=0.9, max_features=maxFeats)\n",
    "    counts = cv.fit_transform(docs)\n",
    "    wordLabels = cv.get_feature_names()\n",
    "    lda = LatentDirichletAllocation(n_topics=numTopics, max_iter=10, \n",
    "                                    learning_method='online',\n",
    "                                    learning_offset=50., random_state=0)\n",
    "    lda.fit_transform(counts)\n",
    "    for i, topic in enumerate(lda.components_):\n",
    "        print(\"Topic {}\".format(i))\n",
    "        print(\" \".join([wordLabels[i] for i in topic.argsort()[:-numWords - 1:-1]]))\n",
    "    return lda, counts, cv"
   ]
  },
  {
   "cell_type": "markdown",
   "metadata": {},
   "source": [
    "And let's try the same thing, but with the Brown corpus category \"news,\" which will work a little better for topic modeling: "
   ]
  },
  {
   "cell_type": "code",
   "execution_count": 72,
   "metadata": {},
   "outputs": [],
   "source": [
    "newsWords = list(brown.words(categories='news'))"
   ]
  },
  {
   "cell_type": "code",
   "execution_count": 73,
   "metadata": {},
   "outputs": [
    {
     "data": {
      "text/plain": [
       "100554"
      ]
     },
     "execution_count": 73,
     "metadata": {},
     "output_type": "execute_result"
    }
   ],
   "source": [
    "len(newsWords)"
   ]
  },
  {
   "cell_type": "code",
   "execution_count": 74,
   "metadata": {},
   "outputs": [
    {
     "data": {
      "text/plain": [
       "list"
      ]
     },
     "execution_count": 74,
     "metadata": {},
     "output_type": "execute_result"
    }
   ],
   "source": [
    "type(newsWords)"
   ]
  },
  {
   "cell_type": "code",
   "execution_count": 75,
   "metadata": {},
   "outputs": [],
   "source": [
    "chunks = [' '.join(chunk) for chunk in chunk(newsWords, 400)]"
   ]
  },
  {
   "cell_type": "code",
   "execution_count": 76,
   "metadata": {},
   "outputs": [
    {
     "data": {
      "text/plain": [
       "251"
      ]
     },
     "execution_count": 76,
     "metadata": {},
     "output_type": "execute_result"
    }
   ],
   "source": [
    "len(chunks)"
   ]
  },
  {
   "cell_type": "code",
   "execution_count": 77,
   "metadata": {},
   "outputs": [
    {
     "data": {
      "text/plain": [
       "[2282, 2329, 2110, 2274, 2216, 2209, 2203, 2184, 2176, 2154]"
      ]
     },
     "execution_count": 77,
     "metadata": {},
     "output_type": "execute_result"
    }
   ],
   "source": [
    "[len(c) for c in chunks[:10]]"
   ]
  },
  {
   "cell_type": "code",
   "execution_count": 78,
   "metadata": {},
   "outputs": [
    {
     "name": "stdout",
     "output_type": "stream",
     "text": [
      "Topic 0\n",
      "mrs said mr 000 board year school committee\n",
      "Topic 1\n",
      "new president year kennedy administration government states united\n",
      "Topic 2\n",
      "second months run 1961 center 12 long city\n",
      "Topic 3\n",
      "mrs family home mr members club week new\n",
      "Topic 4\n",
      "league new york club home year game national\n",
      "Topic 5\n",
      "month american new old man time set years\n",
      "Topic 6\n",
      "said home city year day time week court\n",
      "Topic 7\n",
      "state university school education county new high people\n"
     ]
    }
   ],
   "source": [
    "lda, counts, cv = topicModel(chunks)"
   ]
  },
  {
   "cell_type": "markdown",
   "metadata": {},
   "source": [
    "We can even use a visualization tool to visualize this in Jupyter. (To run this, you must first install pyLDAvis. You can usually get this by running `conda install pyldavis` in the terminal.)"
   ]
  },
  {
   "cell_type": "code",
   "execution_count": 79,
   "metadata": {},
   "outputs": [
    {
     "data": {
      "text/html": [
       "\n",
       "<link rel=\"stylesheet\" type=\"text/css\" href=\"https://cdn.rawgit.com/bmabey/pyLDAvis/files/ldavis.v1.0.0.css\">\n",
       "\n",
       "\n",
       "<div id=\"ldavis_el29031396555602600088935760221\"></div>\n",
       "<script type=\"text/javascript\">\n",
       "\n",
       "var ldavis_el29031396555602600088935760221_data = {\"mdsDat\": {\"Freq\": [28.376866310876007, 23.942520700202095, 21.495997997495703, 7.3457189761419395, 5.518296592084882, 4.95872672760905, 4.720433489084392, 3.641439206505913], \"cluster\": [1, 1, 1, 1, 1, 1, 1, 1], \"topics\": [1, 2, 3, 4, 5, 6, 7, 8], \"x\": [764.0748890759769, 1.5388801558259582, -87.2059055924373, -295.1751214216182, -231.70704120405193, 255.00734350710934, -627.6528487681843, 225.70753085498666], \"y\": [350.37567557221564, -30.407273398059086, 350.3013393593108, 117.7553307759505, -250.37174740815115, -186.69015914542393, -452.5314982950492, 168.44971610109678]}, \"tinfo\": {\"Category\": [\"Default\", \"Default\", \"Default\", \"Default\", \"Default\", \"Default\", \"Default\", \"Default\", \"Default\", \"Default\", \"Default\", \"Default\", \"Default\", \"Default\", \"Default\", \"Default\", \"Default\", \"Default\", \"Default\", \"Default\", \"Default\", \"Default\", \"Default\", \"Default\", \"Default\", \"Default\", \"Default\", \"Default\", \"Default\", \"Default\", \"Topic1\", \"Topic1\", \"Topic1\", \"Topic1\", \"Topic1\", \"Topic1\", \"Topic1\", \"Topic1\", \"Topic1\", \"Topic1\", \"Topic1\", \"Topic1\", \"Topic1\", \"Topic1\", \"Topic1\", \"Topic1\", \"Topic1\", \"Topic1\", \"Topic1\", \"Topic1\", \"Topic1\", \"Topic1\", \"Topic1\", \"Topic1\", \"Topic1\", \"Topic1\", \"Topic1\", \"Topic1\", \"Topic1\", \"Topic1\", \"Topic1\", \"Topic1\", \"Topic1\", \"Topic1\", \"Topic1\", \"Topic1\", \"Topic1\", \"Topic1\", \"Topic1\", \"Topic1\", \"Topic1\", \"Topic2\", \"Topic2\", \"Topic2\", \"Topic2\", \"Topic2\", \"Topic2\", \"Topic2\", \"Topic2\", \"Topic2\", \"Topic2\", \"Topic2\", \"Topic2\", \"Topic2\", \"Topic2\", \"Topic2\", \"Topic2\", \"Topic2\", \"Topic2\", \"Topic2\", \"Topic2\", \"Topic2\", \"Topic2\", \"Topic2\", \"Topic2\", \"Topic2\", \"Topic2\", \"Topic2\", \"Topic2\", \"Topic2\", \"Topic2\", \"Topic2\", \"Topic2\", \"Topic2\", \"Topic2\", \"Topic2\", \"Topic2\", \"Topic2\", \"Topic2\", \"Topic2\", \"Topic2\", \"Topic2\", \"Topic3\", \"Topic3\", \"Topic3\", \"Topic3\", \"Topic3\", \"Topic3\", \"Topic3\", \"Topic3\", \"Topic3\", \"Topic3\", \"Topic3\", \"Topic3\", \"Topic3\", \"Topic3\", \"Topic3\", \"Topic3\", \"Topic3\", \"Topic3\", \"Topic3\", \"Topic3\", \"Topic3\", \"Topic3\", \"Topic3\", \"Topic3\", \"Topic3\", \"Topic3\", \"Topic3\", \"Topic3\", \"Topic3\", \"Topic3\", \"Topic3\", \"Topic3\", \"Topic3\", \"Topic3\", \"Topic3\", \"Topic3\", \"Topic4\", \"Topic4\", \"Topic4\", \"Topic4\", \"Topic4\", \"Topic4\", \"Topic4\", \"Topic4\", \"Topic4\", \"Topic4\", \"Topic4\", \"Topic4\", \"Topic4\", \"Topic4\", \"Topic4\", \"Topic4\", \"Topic4\", \"Topic4\", \"Topic4\", \"Topic4\", \"Topic4\", \"Topic4\", \"Topic4\", \"Topic4\", \"Topic4\", \"Topic4\", \"Topic4\", \"Topic4\", \"Topic4\", \"Topic4\", \"Topic4\", \"Topic4\", \"Topic4\", \"Topic4\", \"Topic4\", \"Topic4\", \"Topic4\", \"Topic4\", \"Topic4\", \"Topic5\", \"Topic5\", \"Topic5\", \"Topic5\", \"Topic5\", \"Topic5\", \"Topic5\", \"Topic5\", \"Topic5\", \"Topic5\", \"Topic5\", \"Topic5\", \"Topic5\", \"Topic5\", \"Topic5\", \"Topic5\", \"Topic5\", \"Topic5\", \"Topic5\", \"Topic5\", \"Topic5\", \"Topic5\", \"Topic5\", \"Topic5\", \"Topic5\", \"Topic5\", \"Topic5\", \"Topic5\", \"Topic5\", \"Topic5\", \"Topic5\", \"Topic5\", \"Topic5\", \"Topic5\", \"Topic5\", \"Topic5\", \"Topic5\", \"Topic5\", \"Topic6\", \"Topic6\", \"Topic6\", \"Topic6\", \"Topic6\", \"Topic6\", \"Topic6\", \"Topic6\", \"Topic6\", \"Topic6\", \"Topic6\", \"Topic6\", \"Topic6\", \"Topic6\", \"Topic6\", \"Topic6\", \"Topic6\", \"Topic6\", \"Topic6\", \"Topic6\", \"Topic6\", \"Topic6\", \"Topic6\", \"Topic6\", \"Topic6\", \"Topic6\", \"Topic6\", \"Topic6\", \"Topic6\", \"Topic6\", \"Topic6\", \"Topic6\", \"Topic6\", \"Topic6\", \"Topic6\", \"Topic6\", \"Topic6\", \"Topic6\", \"Topic6\", \"Topic7\", \"Topic7\", \"Topic7\", \"Topic7\", \"Topic7\", \"Topic7\", \"Topic7\", \"Topic7\", \"Topic7\", \"Topic7\", \"Topic7\", \"Topic7\", \"Topic7\", \"Topic7\", \"Topic7\", \"Topic7\", \"Topic7\", \"Topic7\", \"Topic7\", \"Topic7\", \"Topic7\", \"Topic7\", \"Topic7\", \"Topic7\", \"Topic7\", \"Topic7\", \"Topic7\", \"Topic7\", \"Topic7\", \"Topic7\", \"Topic7\", \"Topic7\", \"Topic7\", \"Topic7\", \"Topic7\", \"Topic7\", \"Topic8\", \"Topic8\", \"Topic8\", \"Topic8\", \"Topic8\", \"Topic8\", \"Topic8\", \"Topic8\", \"Topic8\", \"Topic8\", \"Topic8\", \"Topic8\", \"Topic8\", \"Topic8\", \"Topic8\", \"Topic8\", \"Topic8\", \"Topic8\", \"Topic8\", \"Topic8\", \"Topic8\", \"Topic8\", \"Topic8\", \"Topic8\", \"Topic8\", \"Topic8\", \"Topic8\", \"Topic8\", \"Topic8\", \"Topic8\", \"Topic8\", \"Topic8\", \"Topic8\", \"Topic8\", \"Topic8\", \"Topic8\", \"Topic8\", \"Topic8\", \"Topic8\"], \"Freq\": [226.0, 156.0, 236.0, 79.0, 55.0, 48.0, 94.0, 131.0, 41.0, 50.0, 58.0, 59.0, 59.0, 50.0, 44.0, 157.0, 44.0, 72.0, 45.0, 41.0, 160.0, 63.0, 38.0, 66.0, 45.0, 57.0, 204.0, 111.0, 93.0, 41.0, 31.005852461492214, 40.426521622855724, 26.896763878668896, 36.52109301970774, 21.85348747859422, 22.848185480127064, 37.258283893418856, 20.742842628721107, 23.24049844365155, 29.921338024006474, 53.080514209446285, 29.317157478009463, 25.45492341048799, 43.59601071693475, 197.07903684855725, 24.585647860733044, 24.76154811647311, 33.520168146140065, 28.979879371735564, 62.772513883999906, 15.957769939646317, 18.294886268038685, 23.292017014637878, 25.243338448486245, 18.195829006483805, 23.4086699184336, 13.430991239016073, 16.02549684440873, 17.31894203026524, 40.671479258172646, 23.23147042303301, 43.18304064458761, 20.11843278123901, 24.405607684270862, 52.25319629211156, 31.813360811286383, 40.06589376590002, 27.37757788727578, 29.42119067920104, 30.841982291320814, 23.71472495425673, 55.60534332697234, 52.247886560747, 34.62428038321302, 63.266877060994986, 42.93922846371775, 114.83204211648882, 54.220757871583395, 31.097970485558637, 37.70753282366166, 124.25047592664946, 20.778042572018254, 21.86319079971206, 18.632737923020446, 18.29346014927333, 82.1238675136395, 22.66002473761251, 22.468941212509815, 27.01097428755593, 16.265614027511493, 12.186221727229476, 21.20781475378635, 12.995743157544306, 12.083361195598098, 14.524395065753142, 16.225023194792637, 13.793167526431919, 13.083817268571934, 12.925111762486932, 11.055384992789756, 16.513931897241797, 20.917547104772265, 31.325981468710335, 39.758680418709886, 27.128303748903917, 30.156895510018185, 17.798150456520137, 25.2441554361261, 25.093897447912667, 19.630075576640785, 40.91531036352323, 25.548365359319654, 177.00711284371496, 48.21161975167015, 32.723715288415825, 22.594690398431798, 21.39144237696912, 29.100009606563855, 21.673507218425584, 26.8515451611929, 17.64252759085809, 33.93989047524536, 71.67889834185746, 19.00325650866486, 13.962181956351507, 51.357508367162886, 16.422204625358496, 18.079061274784003, 25.57322400719811, 36.27397403382852, 15.19313853220399, 13.258281508655296, 14.327258168766155, 21.106624788709706, 11.964214442669869, 109.38458222317175, 13.10765000466087, 15.911746045548647, 21.728569282415943, 19.09528416629107, 28.182106059325562, 18.416333291835514, 32.300533218680606, 37.146776327202744, 22.943236955894136, 17.325477241585872, 17.131886198594014, 17.785004371792624, 31.585997378218398, 46.83807976065305, 37.48098118853231, 51.653769895665484, 21.312027694698884, 8.877021782396662, 6.10417887604398, 10.279019237667091, 9.944082062390702, 12.772565734068891, 6.298280694062339, 7.372578303889628, 8.831418447497708, 6.331715603172709, 4.375247514637511, 8.385595911673883, 5.101584637310113, 7.252361921599744, 4.6399688958871295, 8.038774728987123, 6.275470538379415, 8.22305618815547, 4.502528444509052, 4.17578637501035, 3.795770368291887, 4.288682527086913, 3.7518384856635563, 7.844529457092029, 6.796028345183258, 8.427099582102722, 6.011756954829599, 8.630460930197799, 7.427814536452139, 14.172539973165625, 6.494079060487591, 9.814897665674827, 5.688431001692097, 6.58206395440637, 5.704851898195181, 34.26285767766001, 8.09261524386352, 7.578351204370581, 12.47741538517388, 41.2421427446622, 12.620387054184711, 9.179203627033733, 7.354047851761539, 5.577340187433749, 8.413453584072515, 6.3597355280444905, 4.57890662857499, 5.401991478685727, 4.462673959865146, 5.94308037640927, 3.979960610568352, 14.445699469249035, 3.9130153083823918, 10.193899409308745, 4.522794979220512, 4.183218387346669, 4.168089493627402, 3.989221159991395, 4.893344083295715, 14.325092872768138, 3.2422885326870343, 5.732813193790732, 4.116272057094297, 3.767263832117795, 4.405185301483681, 5.448683565686503, 5.025999886227805, 9.996323700182195, 5.046180822861489, 4.7585015081307285, 5.920466989470719, 4.521610696941595, 4.377674065206295, 23.782921108725702, 15.547021214373911, 12.658580364700159, 9.99003908576594, 7.640539363979141, 11.586653664606848, 5.274733774917077, 6.332062103655939, 4.798003862610311, 4.402982516385432, 4.776383204343089, 4.741150313524041, 5.584401058357323, 7.250779222301494, 4.374060697633074, 8.342731636802238, 4.469920142786935, 3.5124913264176194, 5.59757444206396, 3.4208073656636038, 4.256207990797507, 4.67819029430391, 11.070854444821006, 5.592888222501563, 4.788444738057363, 3.947021972183307, 3.6251790741075376, 5.10177444706171, 4.0120832662899115, 3.0416821243104644, 3.8284310223990343, 8.44610719062644, 4.947929931949351, 12.852881091069037, 5.606764659519777, 6.255129832012845, 7.571495331506556, 4.994892488702211, 4.899586257864538, 26.876945246431074, 19.080300728749286, 15.479889706186048, 11.109979754083843, 9.245747473292838, 10.521253081775685, 4.907568233265774, 4.993479895266518, 3.859569333402472, 4.238788341218908, 5.198005575289052, 15.021640675210818, 3.72905698327213, 4.7529719016906276, 22.835429420735327, 3.968000479870589, 5.54471880401432, 4.501710437218424, 3.928679698139296, 3.772631961283625, 3.1189272955350735, 3.1332409018488674, 4.721754757177315, 4.318125872765031, 3.443258434008977, 5.706578756298443, 4.031964448362743, 3.4184493460221543, 3.059543633335543, 3.3526431112743564, 7.1672056433018065, 13.0864612526615, 4.444208022790864, 3.740836884489494, 3.9240902382424108, 3.8429766179852742, 13.440098721883327, 12.92686438389783, 10.84484304934947, 9.806781015930621, 10.94987591293523, 11.858834262031309, 6.867074730468299, 7.217195797539177, 6.673945008339638, 7.679896426143647, 5.327338367678128, 5.815276209704666, 3.996299446544292, 3.1130736299840738, 4.556114662924337, 3.7187997131407537, 3.360161756794346, 7.340876901397476, 2.3973559006692886, 2.547713735823106, 4.739302385197579, 3.155188587642955, 2.988960080121043, 2.9177969731801947, 3.9105946319717253, 2.177363955720249, 2.0672640945756506, 2.2005888589681915, 2.437019171999452, 1.8252201778168893, 2.2199904465919547, 3.49462262783443, 5.795139711281953, 4.219639630232459, 3.8546056430533167, 5.219900175823259, 3.065214361540037, 3.0278370492781463, 3.5236137933553997], \"Term\": [\"mrs\", \"state\", \"new\", \"university\", \"family\", \"league\", \"school\", \"home\", \"month\", \"education\", \"york\", \"club\", \"game\", \"run\", \"months\", \"mr\", \"second\", \"american\", \"1961\", \"center\", \"president\", \"old\", \"12\", \"county\", \"1960\", \"long\", \"year\", \"time\", \"city\", \"march\", \"hit\", \"court\", \"play\", \"game\", \"right\", \"went\", \"did\", \"saturday\", \"judge\", \"federal\", \"city\", \"told\", \"law\", \"day\", \"said\", \"got\", \"just\", \"work\", \"company\", \"home\", \"added\", \"place\", \"men\", \"monday\", \"case\", \"good\", \"possible\", \"wife\", \"came\", \"week\", \"public\", \"time\", \"way\", \"night\", \"year\", \"years\", \"state\", \"house\", \"mr\", \"new\", \"man\", \"administration\", \"states\", \"foreign\", \"kennedy\", \"united\", \"president\", \"government\", \"million\", \"meeting\", \"new\", \"business\", \"washington\", \"1960\", \"make\", \"year\", \"white\", \"company\", \"national\", \"months\", \"need\", \"world\", \"great\", \"come\", \"march\", \"general\", \"early\", \"20\", \"ago\", \"present\", \"way\", \"program\", \"time\", \"mr\", \"house\", \"000\", \"long\", \"week\", \"years\", \"american\", \"said\", \"state\", \"mrs\", \"board\", \"jr\", \"member\", \"william\", \"children\", \"chairman\", \"yesterday\", \"north\", \"committee\", \"mr\", \"young\", \"taken\", \"000\", \"james\", \"friday\", \"john\", \"school\", \"st\", \"wife\", \"held\", \"county\", \"later\", \"said\", \"tuesday\", \"sunday\", \"members\", \"night\", \"house\", \"program\", \"state\", \"year\", \"home\", \"high\", \"years\", \"new\", \"education\", \"university\", \"school\", \"state\", \"county\", \"area\", \"number\", \"people\", \"long\", \"high\", \"given\", \"local\", \"public\", \"called\", \"making\", \"york\", \"major\", \"like\", \"use\", \"today\", \"law\", \"board\", \"william\", \"annual\", \"better\", \"member\", \"added\", \"members\", \"program\", \"day\", \"white\", \"house\", \"man\", \"new\", \"american\", \"said\", \"work\", \"year\", \"years\", \"family\", \"country\", \"annual\", \"club\", \"mrs\", \"members\", \"sunday\", \"group\", \"open\", \"service\", \"tuesday\", \"need\", \"center\", \"announced\", \"children\", \"end\", \"home\", \"past\", \"week\", \"second\", \"30\", \"st\", \"came\", \"good\", \"mr\", \"major\", \"john\", \"business\", \"special\", \"set\", \"work\", \"program\", \"new\", \"american\", \"old\", \"time\", \"national\", \"university\", \"month\", \"american\", \"old\", \"set\", \"march\", \"man\", \"far\", \"1960\", \"end\", \"annual\", \"little\", \"early\", \"took\", \"10\", \"ago\", \"high\", \"case\", \"best\", \"good\", \"money\", \"young\", \"got\", \"time\", \"long\", \"run\", \"called\", \"20\", \"people\", \"group\", \"received\", \"held\", \"years\", \"today\", \"new\", \"day\", \"000\", \"said\", \"week\", \"year\", \"league\", \"york\", \"club\", \"game\", \"run\", \"national\", \"ago\", \"little\", \"better\", \"major\", \"big\", \"home\", \"added\", \"1960\", \"new\", \"hit\", \"old\", \"like\", \"1961\", \"area\", \"william\", \"james\", \"world\", \"sunday\", \"left\", \"american\", \"good\", \"local\", \"play\", \"got\", \"years\", \"year\", \"man\", \"long\", \"night\", \"university\", \"second\", \"months\", \"center\", \"12\", \"1961\", \"run\", \"march\", \"1960\", \"left\", \"long\", \"league\", \"game\", \"came\", \"use\", \"like\", \"held\", \"little\", \"city\", \"taken\", \"money\", \"night\", \"hit\", \"play\", \"30\", \"today\", \"come\", \"best\", \"major\", \"expected\", \"better\", \"went\", \"10\", \"000\", \"time\", \"years\", \"year\", \"high\", \"american\", \"new\"], \"Total\": [226.0, 156.0, 236.0, 79.0, 55.0, 48.0, 94.0, 131.0, 41.0, 50.0, 58.0, 59.0, 59.0, 50.0, 44.0, 157.0, 44.0, 72.0, 45.0, 41.0, 160.0, 63.0, 38.0, 66.0, 45.0, 57.0, 204.0, 111.0, 93.0, 41.0, 43.563879922713, 56.9536653943296, 42.239034615400584, 59.3967971082011, 35.59343930894049, 38.77599772899195, 63.843796613922606, 35.65449128133426, 40.35957856501652, 52.771723749869835, 93.9134233069329, 53.38993413058228, 47.075847316355606, 81.76342603743313, 369.63029272358926, 46.708646689735644, 49.21307374921859, 67.97631648907203, 59.738425262293276, 131.6478474376425, 35.13452470150732, 40.31583514048846, 51.384220257875654, 55.739610547078925, 41.45177450077101, 53.37229257136591, 31.202876078991668, 37.65871629357319, 41.660962481282105, 97.98299198488151, 56.38435027833183, 111.07615403681173, 49.942245563836885, 65.32475119589428, 204.92192054061206, 101.02830683906177, 156.9055997039346, 97.23907319093435, 157.55158017691116, 236.25825056827046, 79.38752885745278, 66.64083132267683, 63.203665728837706, 42.1128537515061, 79.92309550867675, 58.207943758684465, 160.13355105792775, 78.52311766080322, 47.54790696141403, 62.80726504305256, 236.25825056827046, 47.067506567528284, 50.883043975565286, 45.4482852042852, 45.276375174427685, 204.92192054061206, 59.519019958063076, 59.738425262293276, 72.05034055879706, 44.11195568270017, 33.427818554676215, 58.3348791542486, 35.87485560373417, 33.86711545120989, 41.40731691619906, 46.6371879856725, 40.41576953458484, 38.75354024971183, 38.31917912678057, 32.95030439778942, 49.942245563836885, 65.23297837373558, 111.07615403681173, 157.55158017691116, 97.23907319093435, 115.4218885905036, 57.520329825426536, 97.98299198488151, 101.02830683906177, 72.45197135572396, 369.63029272358926, 156.9055997039346, 226.38360071880797, 66.18843266642008, 45.54893451736096, 37.06764774463278, 37.348943564958994, 52.50506401209116, 43.87700763723685, 56.56464927978226, 38.30019554244547, 74.1631236753149, 157.55158017691116, 42.03167196870271, 31.036942719107497, 115.4218885905036, 37.840317285497164, 43.17870749053127, 64.2891028111881, 94.1491377341301, 42.590087974306826, 37.65871629357319, 43.853723423493804, 66.41683734327698, 38.55890291645461, 369.63029272358926, 44.31205518992635, 53.960402209431024, 73.86361171056643, 65.32475119589428, 97.23907319093435, 65.23297837373558, 156.9055997039346, 204.92192054061206, 131.6478474376425, 75.29399513537749, 101.02830683906177, 236.25825056827046, 50.919431631188395, 79.00478729588775, 94.1491377341301, 156.9055997039346, 66.41683734327698, 44.16814424590841, 33.628794049593466, 57.23008804289728, 57.520329825426536, 75.29399513537749, 39.870460834507654, 46.81363997464224, 56.38435027833183, 42.00348298314523, 30.213064149536258, 58.484042119109226, 36.002396194881015, 52.110942740914815, 34.115610973320905, 59.767679578716816, 47.075847316355606, 66.18843266642008, 37.348943564958994, 34.90733635770745, 31.791214045524463, 37.06764774463278, 35.13452470150732, 73.86361171056643, 65.23297837373558, 81.76342603743313, 59.519019958063076, 97.23907319093435, 79.38752885745278, 236.25825056827046, 72.45197135572396, 369.63029272358926, 67.97631648907203, 204.92192054061206, 101.02830683906177, 55.00008537188862, 36.08828138813611, 34.90733635770745, 59.860247112474276, 226.38360071880797, 73.86361171056643, 53.960402209431024, 45.3843084233041, 35.642193315697945, 54.24752434392109, 44.31205518992635, 33.427818554676215, 41.399805853889305, 38.21774857944652, 52.50506401209116, 36.24421740011498, 131.6478474376425, 36.46125302806427, 97.98299198488151, 44.76714811599375, 42.09632174431141, 42.590087974306826, 41.660962481282105, 53.37229257136591, 157.55158017691116, 36.002396194881015, 64.2891028111881, 47.067506567528284, 44.06536144681838, 53.29109826089804, 67.97631648907203, 65.23297837373558, 236.25825056827046, 72.45197135572396, 63.49623165101677, 111.07615403681173, 72.05034055879706, 79.00478729588775, 41.93155814749175, 72.45197135572396, 63.49623165101677, 53.29109826089804, 41.40731691619906, 79.38752885745278, 37.44171618732057, 45.4482852042852, 36.24421740011498, 34.90733635770745, 40.51798916599688, 40.41576953458484, 48.48871293101728, 63.1815566049279, 38.31917912678057, 75.29399513537749, 41.45177450077101, 32.94209497301537, 53.37229257136591, 33.1894008444615, 42.03167196870271, 46.708646689735644, 111.07615403681173, 57.520329825426536, 50.720816069767075, 42.00348298314523, 38.75354024971183, 57.23008804289728, 45.3843084233041, 34.82895155166367, 43.853723423493804, 101.02830683906177, 59.767679578716816, 236.25825056827046, 81.76342603743313, 115.4218885905036, 369.63029272358926, 97.98299198488151, 204.92192054061206, 48.44750966746043, 58.484042119109226, 59.860247112474276, 59.3967971082011, 50.720816069767075, 72.05034055879706, 38.31917912678057, 40.51798916599688, 31.791214045524463, 36.002396194881015, 44.987670814133786, 131.6478474376425, 35.13452470150732, 45.4482852042852, 236.25825056827046, 43.563879922713, 63.49623165101677, 52.110942740914815, 45.54965442260614, 44.16814424590841, 37.348943564958994, 37.840317285497164, 58.3348791542486, 53.960402209431024, 43.480474260273354, 72.45197135572396, 53.37229257136591, 46.81363997464224, 42.239034615400584, 46.708646689735644, 101.02830683906177, 204.92192054061206, 79.38752885745278, 57.520329825426536, 65.32475119589428, 79.00478729588775, 44.76714811599375, 44.11195568270017, 41.399805853889305, 38.93333159986888, 45.54965442260614, 50.720816069767075, 41.40731691619906, 45.4482852042852, 43.480474260273354, 57.520329825426536, 48.44750966746043, 59.3967971082011, 41.660962481282105, 34.115610973320905, 52.110942740914815, 43.853723423493804, 40.51798916599688, 93.9134233069329, 31.036942719107497, 33.1894008444615, 65.32475119589428, 43.563879922713, 42.239034615400584, 42.09632174431141, 59.767679578716816, 33.86711545120989, 32.94209497301537, 36.002396194881015, 41.0403543663787, 31.791214045524463, 38.77599772899195, 63.1815566049279, 115.4218885905036, 111.07615403681173, 101.02830683906177, 204.92192054061206, 75.29399513537749, 72.45197135572396, 236.25825056827046], \"loglift\": [30.0, 29.0, 28.0, 27.0, 26.0, 25.0, 24.0, 23.0, 22.0, 21.0, 20.0, 19.0, 18.0, 17.0, 16.0, 15.0, 14.0, 13.0, 12.0, 11.0, 10.0, 9.0, 8.0, 7.0, 6.0, 5.0, 4.0, 3.0, 2.0, 1.0, 0.9195, 0.9168, 0.8083, 0.7732, 0.7718, 0.7307, 0.721, 0.7179, 0.7077, 0.6922, 0.689, 0.6601, 0.6447, 0.6307, 0.6307, 0.6178, 0.5727, 0.5526, 0.5362, 0.519, 0.4704, 0.4695, 0.4684, 0.4675, 0.4363, 0.4354, 0.4167, 0.4052, 0.3818, 0.3803, 0.3729, 0.3148, 0.3504, 0.275, -0.1069, 0.1041, -0.1055, -0.0079, -0.4184, -0.7765, 0.0514, 1.2485, 1.2392, 1.2337, 1.1958, 1.1253, 1.097, 1.0592, 1.0049, 0.9193, 0.7869, 0.6118, 0.5848, 0.5379, 0.5233, 0.5151, 0.4638, 0.4517, 0.4484, 0.4318, 0.4204, 0.4177, 0.4141, 0.3989, 0.3819, 0.3737, 0.3545, 0.3437, 0.3427, 0.3374, 0.3229, 0.2921, 0.1637, 0.0526, 0.1529, 0.0873, 0.2565, 0.0733, 0.0367, 0.1237, -0.7715, -0.3856, 1.2913, 1.2204, 1.2066, 1.0423, 0.98, 0.9471, 0.832, 0.7922, 0.7622, 0.7556, 0.7497, 0.7435, 0.7385, 0.7275, 0.7026, 0.6667, 0.6155, 0.5835, 0.5065, 0.4934, 0.4186, 0.3909, 0.367, 0.3197, 0.3192, 0.3161, 0.3137, 0.3074, 0.2988, 0.2726, -0.0433, -0.1704, -0.2098, 0.0681, -0.2372, -1.0493, 2.1335, 2.0882, 1.69, 1.5, 1.4744, 1.0065, 0.9046, 0.8941, 0.8559, 0.837, 0.7657, 0.7626, 0.7572, 0.7189, 0.6787, 0.6688, 0.657, 0.639, 0.616, 0.6049, 0.5959, 0.5255, 0.4954, 0.4877, 0.4857, 0.4543, 0.3741, 0.3686, 0.3494, 0.3387, 0.3185, 0.1892, 0.2419, -0.2026, 0.199, -1.0175, 0.1303, -0.8272, -0.263, 2.4238, 1.4021, 1.3697, 1.329, 1.1943, 1.1302, 1.1258, 1.0772, 1.0423, 1.0334, 0.9558, 0.9092, 0.8606, 0.7495, 0.7184, 0.6881, 0.6874, 0.6652, 0.6341, 0.6048, 0.5882, 0.5729, 0.5511, 0.5077, 0.4994, 0.4898, 0.4799, 0.4605, 0.4378, 0.4041, 0.3733, 0.3338, -0.2656, 0.2328, 0.3061, -0.0347, 0.1286, 0.0041, 2.437, 1.465, 1.3914, 1.3298, 1.314, 1.0795, 1.0442, 1.0331, 0.9819, 0.9336, 0.866, 0.8611, 0.8427, 0.8391, 0.8338, 0.804, 0.7769, 0.7656, 0.7491, 0.7317, 0.714, 0.703, 0.6981, 0.6734, 0.6439, 0.6392, 0.6347, 0.5865, 0.5782, 0.566, 0.5656, 0.5223, 0.5125, 0.0927, 0.3242, 0.0888, -0.8841, 0.0276, -0.7295, 2.4641, 1.9332, 1.7008, 1.3769, 1.3511, 1.1293, 0.9981, 0.9597, 0.9446, 0.914, 0.8952, 0.8826, 0.8102, 0.7955, 0.7167, 0.6573, 0.6151, 0.6044, 0.6028, 0.593, 0.5705, 0.562, 0.5392, 0.5278, 0.5174, 0.512, 0.4702, 0.4363, 0.4282, 0.4191, 0.4074, 0.3022, 0.1705, 0.3204, 0.241, 0.03, 2.1096, 2.0854, 1.9732, 1.934, 1.8873, 1.8595, 1.5161, 1.4727, 1.4387, 1.2993, 1.1052, 0.989, 0.9686, 0.9186, 0.8759, 0.8453, 0.823, 0.7639, 0.752, 0.7458, 0.6893, 0.6876, 0.6644, 0.6437, 0.586, 0.5685, 0.5443, 0.5179, 0.489, 0.4553, 0.4525, 0.418, 0.3212, 0.0423, 0.0467, -0.3574, 0.1115, 0.1377, -0.8926], \"logprob\": [30.0, 29.0, 28.0, 27.0, 26.0, 25.0, 24.0, 23.0, 22.0, 21.0, 20.0, 19.0, 18.0, 17.0, 16.0, 15.0, 14.0, 13.0, 12.0, 11.0, 10.0, 9.0, 8.0, 7.0, 6.0, 5.0, 4.0, 3.0, 2.0, 1.0, -4.3661, -4.1008, -4.5083, -4.2024, -4.7159, -4.6714, -4.1824, -4.7681, -4.6544, -4.4017, -3.8285, -4.4221, -4.5634, -4.0253, -2.5167, -4.5981, -4.591, -4.2881, -4.4337, -3.6608, -5.0303, -4.8936, -4.6522, -4.5717, -4.8991, -4.6472, -5.2027, -5.0261, -4.9485, -4.0947, -4.6548, -4.0348, -4.7986, -4.6055, -3.8442, -4.3404, -4.1097, -4.4905, -4.4186, -4.3714, -4.6342, -3.6121, -3.6744, -4.0858, -3.483, -3.8706, -2.8869, -3.6373, -4.1932, -4.0005, -2.8081, -4.5965, -4.5455, -4.7054, -4.7238, -3.2221, -4.5097, -4.5182, -4.3341, -4.8413, -5.13, -4.576, -5.0657, -5.1385, -4.9545, -4.8438, -5.0062, -5.059, -5.0712, -5.2274, -4.8261, -4.5898, -4.1859, -3.9475, -4.3298, -4.2239, -4.7513, -4.4018, -4.4077, -4.6533, -3.9188, -4.3898, -2.3464, -3.647, -4.0345, -4.4048, -4.4596, -4.1518, -4.4465, -4.2322, -4.6523, -3.998, -3.2504, -4.578, -4.8862, -3.5838, -4.7239, -4.6278, -4.281, -3.9315, -4.8017, -4.9379, -4.8604, -4.473, -5.0406, -2.8277, -4.9494, -4.7555, -4.4439, -4.5731, -4.1839, -4.6093, -4.0475, -3.9077, -4.3895, -4.6704, -4.6816, -4.6442, -2.9961, -2.6021, -2.825, -2.5043, -3.3895, -4.2653, -4.6398, -4.1187, -4.1518, -3.9015, -4.6085, -4.451, -4.2705, -4.6032, -4.9729, -4.3223, -4.8193, -4.4675, -4.9141, -4.3645, -4.6122, -4.3419, -4.9442, -5.0195, -5.1149, -4.9928, -5.1266, -4.389, -4.5325, -4.3174, -4.6551, -4.2935, -4.4436, -3.7975, -4.5779, -4.1649, -4.7104, -4.5645, -4.7075, -2.6287, -4.0718, -4.1375, -3.6388, -2.4433, -3.6275, -3.9458, -4.1675, -4.4441, -4.0329, -4.3128, -4.6413, -4.476, -4.667, -4.3805, -4.7815, -3.4924, -4.7985, -3.841, -4.6536, -4.7317, -4.7353, -4.7792, -4.5749, -3.5008, -4.9865, -4.4166, -4.7478, -4.8364, -4.68, -4.4674, -4.5481, -3.8605, -4.5441, -4.6028, -4.3843, -4.6539, -4.6862, -2.8869, -3.312, -3.5175, -3.7543, -4.0224, -3.606, -4.3929, -4.2102, -4.4876, -4.5736, -4.4922, -4.4996, -4.3359, -4.0747, -4.5802, -3.9345, -4.5585, -4.7995, -4.3335, -4.826, -4.6075, -4.5129, -3.6515, -4.3343, -4.4896, -4.6829, -4.7679, -4.4263, -4.6665, -4.9434, -4.7134, -3.9221, -4.4569, -3.5023, -4.3319, -4.2224, -4.0315, -4.4474, -4.4667, -2.7153, -3.0579, -3.2671, -3.5988, -3.7824, -3.6532, -4.4158, -4.3985, -4.656, -4.5623, -4.3583, -3.2971, -4.6904, -4.4478, -2.8783, -4.6283, -4.2938, -4.5021, -4.6383, -4.6788, -4.8691, -4.8645, -4.4544, -4.5438, -4.7702, -4.265, -4.6123, -4.7774, -4.8883, -4.7968, -4.0371, -3.435, -4.515, -4.6873, -4.6395, -4.6603, -3.1488, -3.1878, -3.3634, -3.464, -3.3537, -3.274, -3.8203, -3.7706, -3.8489, -3.7085, -4.0742, -3.9866, -4.3617, -4.6115, -4.2306, -4.4337, -4.5351, -3.7536, -4.8727, -4.8119, -4.1912, -4.598, -4.6521, -4.6762, -4.3834, -4.969, -5.0208, -4.9584, -4.8563, -5.1454, -4.9496, -4.4958, -3.9901, -4.3073, -4.3978, -4.0946, -4.627, -4.6392, -4.4876]}, \"token.table\": {\"Topic\": [1, 2, 3, 4, 5, 6, 7, 8, 1, 2, 3, 4, 5, 6, 7, 8, 1, 2, 3, 4, 5, 6, 7, 8, 1, 2, 3, 4, 5, 6, 7, 8, 1, 2, 3, 4, 5, 6, 7, 8, 1, 2, 3, 4, 5, 6, 7, 1, 2, 3, 4, 5, 6, 7, 8, 1, 2, 3, 4, 5, 6, 7, 8, 1, 2, 3, 4, 6, 7, 1, 2, 3, 4, 5, 6, 7, 8, 1, 2, 3, 4, 5, 6, 7, 8, 1, 2, 3, 4, 5, 6, 7, 8, 1, 2, 3, 4, 5, 6, 7, 8, 1, 2, 3, 4, 5, 6, 7, 8, 1, 2, 3, 4, 5, 6, 7, 8, 1, 2, 3, 4, 5, 6, 7, 8, 1, 2, 3, 4, 5, 6, 7, 8, 1, 2, 3, 4, 5, 6, 7, 8, 1, 2, 3, 4, 5, 6, 7, 8, 1, 2, 3, 4, 5, 6, 7, 8, 1, 2, 3, 4, 5, 6, 7, 8, 1, 2, 3, 4, 5, 6, 7, 8, 1, 2, 3, 4, 5, 6, 7, 8, 1, 2, 3, 4, 5, 6, 7, 8, 1, 2, 3, 4, 5, 6, 7, 1, 2, 3, 4, 5, 6, 7, 8, 1, 2, 3, 4, 5, 6, 7, 8, 1, 2, 3, 4, 5, 6, 7, 8, 1, 2, 3, 4, 5, 6, 7, 8, 1, 2, 3, 4, 5, 6, 7, 8, 1, 2, 3, 4, 5, 6, 7, 8, 1, 2, 3, 4, 5, 6, 7, 8, 1, 2, 3, 4, 5, 6, 7, 8, 1, 2, 3, 4, 5, 6, 7, 8, 1, 2, 3, 4, 5, 6, 7, 8, 1, 2, 3, 4, 5, 6, 7, 8, 1, 2, 3, 4, 5, 6, 7, 8, 1, 2, 3, 4, 5, 6, 7, 8, 1, 2, 3, 4, 5, 6, 7, 8, 1, 2, 3, 4, 5, 6, 7, 1, 2, 3, 4, 5, 6, 7, 8, 1, 2, 3, 4, 5, 6, 7, 8, 1, 2, 3, 4, 5, 6, 7, 8, 1, 2, 3, 4, 5, 6, 7, 8, 1, 2, 3, 4, 5, 6, 7, 8, 1, 2, 3, 4, 5, 6, 7, 8, 1, 2, 3, 4, 5, 6, 7, 8, 1, 2, 3, 4, 5, 6, 7, 8, 1, 2, 3, 4, 5, 6, 7, 8, 1, 2, 3, 4, 5, 6, 7, 8, 1, 2, 3, 4, 5, 6, 7, 8, 1, 2, 3, 4, 5, 6, 7, 8, 1, 2, 3, 4, 5, 6, 7, 8, 1, 2, 3, 4, 5, 6, 7, 8, 1, 2, 3, 4, 5, 6, 7, 8, 1, 2, 3, 4, 5, 6, 7, 8, 1, 2, 3, 4, 5, 6, 7, 8, 1, 2, 3, 4, 5, 6, 7, 8, 1, 2, 3, 4, 5, 6, 7, 8, 1, 2, 3, 4, 5, 6, 7, 8, 1, 2, 3, 4, 5, 6, 7, 8, 1, 2, 3, 4, 5, 6, 7, 8, 1, 2, 3, 4, 5, 6, 7, 8, 1, 2, 3, 4, 5, 6, 7, 8, 1, 2, 3, 4, 5, 6, 7, 8, 1, 2, 3, 4, 5, 6, 7, 8, 1, 2, 3, 4, 5, 6, 7, 8, 1, 2, 3, 4, 5, 6, 7, 8, 1, 2, 3, 4, 5, 6, 7, 8, 1, 2, 3, 4, 5, 6, 7, 8, 1, 2, 3, 4, 5, 6, 7, 8, 1, 2, 3, 4, 5, 6, 7, 8, 1, 2, 3, 4, 5, 6, 7, 8, 1, 2, 3, 4, 6, 7, 8, 1, 2, 3, 4, 5, 6, 7, 8, 1, 2, 3, 4, 5, 6, 7, 8, 1, 2, 3, 4, 5, 6, 7, 8, 1, 2, 3, 4, 5, 7, 1, 2, 3, 4, 5, 6, 7, 1, 2, 3, 4, 5, 6, 7, 8, 1, 2, 3, 4, 5, 6, 7, 1, 2, 3, 4, 5, 6, 7, 8, 1, 2, 3, 4, 5, 6, 7, 8, 1, 2, 3, 4, 5, 6, 7, 8, 1, 2, 3, 4, 5, 6, 7, 8, 1, 2, 3, 4, 5, 6, 7, 1, 2, 3, 4, 5, 6, 7, 1, 2, 3, 4, 5, 6, 7, 8, 1, 2, 3, 4, 5, 6, 7, 8, 1, 2, 3, 4, 5, 6, 7, 8, 1, 2, 3, 4, 5, 6, 7, 8, 1, 2, 3, 4, 5, 6, 7, 8, 1, 2, 3, 4, 5, 6, 7, 1, 2, 3, 4, 5, 6, 7, 8, 1, 2, 3, 4, 5, 6, 7, 8, 1, 2, 3, 4, 5, 6, 7, 8, 1, 2, 3, 4, 5, 6, 7, 1, 2, 3, 4, 5, 6, 7, 8, 1, 2, 3, 4, 5, 6, 7, 8, 1, 2, 3, 4, 5, 6, 7, 8, 1, 2, 3, 4, 5, 6, 7, 8, 1, 2, 3, 4, 5, 6, 7, 8, 1, 2, 3, 4, 5, 6, 7, 8, 1, 2, 3, 4, 5, 6, 7, 8, 1, 2, 3, 4, 5, 6, 7, 1, 2, 3, 4, 5, 6, 7, 8, 1, 2, 3, 4, 5, 6, 7, 8, 1, 2, 3, 4, 5, 6, 7, 8, 1, 2, 3, 4, 5, 6, 7, 8, 1, 2, 3, 4, 5, 6, 7, 8, 1, 2, 3, 4, 5, 6, 7, 8, 1, 2, 3, 4, 5, 6, 7, 1, 2, 3, 4, 5, 6, 7, 1, 2, 3, 4, 5, 6, 7, 1, 2, 3, 4, 5, 6, 7, 8, 1, 2, 3, 4, 5, 6, 7, 8, 1, 2, 3, 4, 5, 6, 7, 8, 1, 3, 4, 5, 6, 7, 8, 1, 2, 3, 4, 5, 6, 7, 8, 1, 2, 3, 4, 5, 6, 7, 8, 1, 2, 3, 4, 5, 6, 7, 8, 1, 2, 3, 4, 5, 6, 7, 8, 1, 2, 3, 4, 5, 6, 7, 8, 1, 2, 3, 4, 5, 6, 7, 8, 1, 2, 3, 4, 5, 6, 7, 8, 1, 2, 3, 4, 5, 6, 7, 1, 2, 3, 4, 5, 6, 7, 8, 1, 2, 3, 4, 5, 6, 7, 8, 1, 2, 3, 4, 5, 6, 7, 8, 1, 2, 3, 4, 5, 6, 7, 8, 1, 2, 3, 4, 5, 6, 7, 8, 1, 2, 3, 4, 5, 6, 7, 8, 1, 2, 3, 4, 5, 6, 7, 8, 1, 2, 3, 4, 5, 6, 7, 1, 2, 3, 4, 5, 6, 7, 8, 1, 2, 3, 4, 5, 6, 7, 8, 1, 2, 3, 4, 5, 6, 7, 8, 1, 2, 3, 4, 5, 6, 7, 8, 1, 2, 3, 4, 5, 6, 7, 8, 1, 2, 3, 4, 5, 6, 7, 8, 1, 2, 3, 4, 5, 6, 7, 8], \"Freq\": [0.12995801908264853, 0.25991603816529707, 0.441857264881005, 0.043319339694216176, 0.008663867938843236, 0.051983207633059414, 0.008663867938843236, 0.051983207633059414, 0.26906586215183675, 0.26906586215183675, 0.17410144021589435, 0.06330961462396159, 0.031654807311980795, 0.11079182559193278, 0.015827403655990398, 0.047482210967971186, 0.33390412445576023, 0.17979452855310166, 0.15410959590265855, 0.025684932650443092, 0.025684932650443092, 0.025684932650443092, 0.051369865300886185, 0.25684932650443093, 0.11001515189243187, 0.4180575771912411, 0.04400606075697275, 0.022003030378486374, 0.022003030378486374, 0.13201818227091824, 0.11001515189243187, 0.1540212126494046, 0.19758657039411764, 0.30735688727973853, 0.043908126754248364, 0.043908126754248364, 0.043908126754248364, 0.021954063377124182, 0.08781625350849673, 0.24149469714836602, 0.1806286588243264, 0.3354532235308919, 0.2580409411776092, 0.025804094117760915, 0.05160818823552183, 0.10321637647104366, 0.05160818823552183, 0.3088155796356893, 0.21379540128624644, 0.19004035669888572, 0.023755044587360715, 0.09502017834944286, 0.023755044587360715, 0.04751008917472143, 0.07126513376208216, 0.4553925273198183, 0.08538609887246593, 0.11384813182995457, 0.11384813182995457, 0.028462032957488642, 0.08538609887246593, 0.11384813182995457, 0.028462032957488642, 0.07502907602982706, 0.840325651534063, 0.04501744561789623, 0.01500581520596541, 0.01500581520596541, 0.01500581520596541, 0.182676147023928, 0.33925570161586627, 0.182676147023928, 0.026096592431989713, 0.026096592431989713, 0.10438636972795885, 0.13048296215994856, 0.026096592431989713, 0.2070337041121097, 0.2760449388161462, 0.027604493881614626, 0.08281348164484388, 0.06901123470403656, 0.220835951052917, 0.08281348164484388, 0.04140674082242194, 0.34015609195229757, 0.2354926790438983, 0.2354926790438983, 0.02616585322709981, 0.10466341290839924, 0.02616585322709981, 0.02616585322709981, 0.02616585322709981, 0.05729454632416848, 0.14323636581042118, 0.22917818529667391, 0.11458909264833696, 0.22917818529667391, 0.11458909264833696, 0.05729454632416848, 0.05729454632416848, 0.1358445119766566, 0.2716890239533132, 0.18112601596887543, 0.20376676796498486, 0.0679222559883283, 0.045281503992218856, 0.09056300798443771, 0.022640751996109428, 0.27320666786287817, 0.21249407500446083, 0.15178148214604345, 0.09106888928762606, 0.09106888928762606, 0.12142518571683475, 0.030356296429208687, 0.060712592858417375, 0.4089180105353708, 0.12582092631857564, 0.09436569473893172, 0.12582092631857564, 0.03145523157964391, 0.09436569473893172, 0.12582092631857564, 0.06291046315928782, 0.37788131042025647, 0.28896806090960786, 0.022228312377662145, 0.04445662475532429, 0.06668493713298643, 0.022228312377662145, 0.11114156188831072, 0.04445662475532429, 0.0906502806954066, 0.015108380115901099, 0.7252022455632527, 0.12086704092720879, 0.015108380115901099, 0.015108380115901099, 0.015108380115901099, 0.015108380115901099, 0.16996863831149223, 0.4461676755676671, 0.16996863831149223, 0.04249215957787306, 0.08498431915574611, 0.02124607978893653, 0.04249215957787306, 0.02124607978893653, 0.33330569290212886, 0.23807549493009203, 0.09523019797203681, 0.14284529695805523, 0.023807549493009204, 0.09523019797203681, 0.023807549493009204, 0.023807549493009204, 0.40805586303095964, 0.1680230024245128, 0.12001643030322343, 0.024003286060644686, 0.09601314424257874, 0.04800657212128937, 0.024003286060644686, 0.09601314424257874, 0.43423955226971517, 0.21711977613485758, 0.0723732587116192, 0.0723732587116192, 0.04824883914107947, 0.09649767828215894, 0.024124419570539735, 0.04824883914107947, 0.12077351322965867, 0.1449282158755904, 0.21739232381338558, 0.024154702645931732, 0.12077351322965867, 0.024154702645931732, 0.0724641079377952, 0.26570172910524903, 0.18232783935818553, 0.11395489959886596, 0.5014015582350102, 0.06837293975931957, 0.06837293975931957, 0.02279097991977319, 0.04558195983954638, 0.02279097991977319, 0.09522890970761548, 0.11427469164913857, 0.5523276763041698, 0.05713734582456929, 0.11427469164913857, 0.05713734582456929, 0.019045781941523097, 0.5643495693558369, 0.08518484065748481, 0.14907347115059844, 0.04259242032874241, 0.03194431524655681, 0.010648105082185602, 0.03194431524655681, 0.07453673557529922, 0.20046693053993958, 0.03341115508998993, 0.21717250808493455, 0.016705577544994965, 0.20046693053993958, 0.050116732634984895, 0.2505836631749245, 0.03341115508998993, 0.23621734220397572, 0.3543260133059636, 0.0885815033264909, 0.0885815033264909, 0.05905433555099393, 0.05905433555099393, 0.029527167775496965, 0.05905433555099393, 0.2966433843363406, 0.10787032157685113, 0.4584488667016173, 0.053935160788425564, 0.040451370591319175, 0.013483790197106391, 0.040451370591319175, 0.013483790197106391, 0.4854496895870591, 0.36827217830742415, 0.05021893340555784, 0.01673964446851928, 0.01673964446851928, 0.01673964446851928, 0.01673964446851928, 0.03347928893703856, 0.11083930423228704, 0.30480808663878933, 0.22167860846457407, 0.05541965211614352, 0.22167860846457407, 0.05541965211614352, 0.02770982605807176, 0.02770982605807176, 0.19573349951623253, 0.12045138431768156, 0.3161848838339141, 0.3161848838339141, 0.015056423039710195, 0.015056423039710195, 0.015056423039710195, 0.015056423039710195, 0.7023252976441876, 0.07023252976441875, 0.12290692708773282, 0.017558132441104688, 0.017558132441104688, 0.035116264882209376, 0.017558132441104688, 0.017558132441104688, 0.5381379197571272, 0.1345344799392818, 0.11007366540486693, 0.0978432581376595, 0.024460814534414874, 0.07338244360324463, 0.012230407267207437, 0.012230407267207437, 0.5795394691789256, 0.20362197565746037, 0.06265291558691088, 0.06265291558691088, 0.01566322889672772, 0.03132645779345544, 0.01566322889672772, 0.03132645779345544, 0.24742817259591549, 0.34639944163428166, 0.09897126903836619, 0.07422845177877464, 0.04948563451918309, 0.12371408629795774, 0.024742817259591546, 0.04948563451918309, 0.05891660420974702, 0.019638868069915674, 0.21602754876907243, 0.6284437782373016, 0.03927773613983135, 0.019638868069915674, 0.019638868069915674, 0.019638868069915674, 0.4138591222541452, 0.11036243260110538, 0.11036243260110538, 0.027590608150276346, 0.11036243260110538, 0.13795304075138173, 0.05518121630055269, 0.05518121630055269, 0.31676139742716086, 0.29239513608661, 0.19493009072440667, 0.04873252268110167, 0.04873252268110167, 0.024366261340550834, 0.04873252268110167, 0.04873252268110167, 0.07272715983900019, 0.018181789959750047, 0.12727252971825032, 0.05454536987925014, 0.6181808586315016, 0.05454536987925014, 0.036363579919500094, 0.3472063068626747, 0.24037359705877476, 0.18695724215682483, 0.026708177450974976, 0.026708177450974976, 0.13354088725487487, 0.026708177450974976, 0.026708177450974976, 0.5684862624953386, 0.2084449629149575, 0.056848626249533865, 0.09474771041588978, 0.018949542083177954, 0.018949542083177954, 0.018949542083177954, 0.018949542083177954, 0.023745719202518698, 0.8311001720881545, 0.09498287681007479, 0.023745719202518698, 0.023745719202518698, 0.023745719202518698, 0.023745719202518698, 0.023745719202518698, 0.25475519392080476, 0.09263825233483809, 0.41687213550677144, 0.09263825233483809, 0.06947868925112857, 0.023159563083709523, 0.046319126167419046, 0.023159563083709523, 0.6229292116980377, 0.01683592464048751, 0.01683592464048751, 0.01683592464048751, 0.01683592464048751, 0.03367184928097502, 0.18519517104536257, 0.10101554784292505, 0.32163174170381326, 0.3430738578174008, 0.1715369289087004, 0.0428842322271751, 0.02144211611358755, 0.0428842322271751, 0.0428842322271751, 0.02144211611358755, 0.3009747002877396, 0.20064980019182638, 0.20064980019182638, 0.1504873501438698, 0.025081225023978297, 0.050162450047956594, 0.025081225023978297, 0.025081225023978297, 0.43093520798728885, 0.09368156695375844, 0.07494525356300676, 0.09368156695375844, 0.09368156695375844, 0.11241788034451013, 0.07494525356300676, 0.03747262678150338, 0.53523280531041, 0.06422793663724918, 0.08563724884966559, 0.08563724884966559, 0.021409312212416397, 0.10704656106208198, 0.06422793663724918, 0.042818624424832794, 0.12735103110904306, 0.6876955679888326, 0.10188082488723445, 0.012735103110904306, 0.012735103110904306, 0.03820530933271292, 0.012735103110904306, 0.012735103110904306, 0.3902454731704274, 0.3623707965153969, 0.02787467665503053, 0.08362402996509159, 0.02787467665503053, 0.02787467665503053, 0.02787467665503053, 0.02787467665503053, 0.3084766626698498, 0.1542383313349249, 0.1542383313349249, 0.044068094667121395, 0.1542383313349249, 0.08813618933424279, 0.0661021420006821, 0.022034047333560697, 0.09121232332707867, 0.2964400508130057, 0.31924313164477536, 0.022803080831769667, 0.045606161663539334, 0.09121232332707867, 0.045606161663539334, 0.09121232332707867, 0.14609398771073528, 0.22578161737113633, 0.22578161737113633, 0.17265653093086897, 0.03984381483020053, 0.10625017288053475, 0.026562543220133687, 0.03984381483020053, 0.7115986926554138, 0.022954796537271414, 0.022954796537271414, 0.022954796537271414, 0.022954796537271414, 0.04590959307454283, 0.09181918614908566, 0.06886438961181424, 0.4785494121340734, 0.08355624656309218, 0.17470851554101094, 0.015192044829653124, 0.10634431380757187, 0.007596022414826562, 0.11394033622239844, 0.015192044829653124, 0.27766615943555933, 0.27766615943555933, 0.28795009126650595, 0.09255538647851978, 0.010283931830946643, 0.010283931830946643, 0.010283931830946643, 0.030851795492839926, 0.290695236961343, 0.0528536794475169, 0.4228294355801352, 0.07928051917127535, 0.02642683972375845, 0.02642683972375845, 0.07928051917127535, 0.02642683972375845, 0.3110947131855049, 0.15554735659275246, 0.4044231271411564, 0.015554735659275246, 0.09332841395565147, 0.015554735659275246, 0.015554735659275246, 0.015554735659275246, 0.10977205181592671, 0.04390882072637068, 0.7244955419851162, 0.02195441036318534, 0.04390882072637068, 0.02195441036318534, 0.04390882072637068, 0.02195441036318534, 0.5698771101623019, 0.14866359395538312, 0.14866359395538312, 0.04955453131846104, 0.02477726565923052, 0.02477726565923052, 0.02477726565923052, 0.02477726565923052, 0.5079950934866562, 0.1828782336551962, 0.12191882243679748, 0.020319803739466246, 0.06095941121839874, 0.08127921495786498, 0.04063960747893249, 0.020319803739466246, 0.13763230678178373, 0.7882577570229432, 0.012512027889253065, 0.012512027889253065, 0.02502405577850613, 0.012512027889253065, 0.012512027889253065, 0.012512027889253065, 0.2852778260790678, 0.2074747826029584, 0.3112121739044376, 0.0518686956507396, 0.0259343478253698, 0.0259343478253698, 0.0778030434761094, 0.0518686956507396, 0.5310578869031685, 0.06372694642838021, 0.14869620833288716, 0.12745389285676043, 0.04248463095225347, 0.021242315476126736, 0.04248463095225347, 0.021242315476126736, 0.24769074989337894, 0.020640895824448245, 0.020640895824448245, 0.020640895824448245, 0.020640895824448245, 0.04128179164889649, 0.5573041872601027, 0.10320447912224123, 0.3449824376387954, 0.09199531670367876, 0.16099180423143786, 0.04599765835183938, 0.04599765835183938, 0.06899648752775908, 0.06899648752775908, 0.16099180423143786, 0.3070372393673398, 0.23027792952550485, 0.057569482381376214, 0.13432879222321115, 0.019189827460458737, 0.07675930984183495, 0.09594913730229368, 0.09594913730229368, 0.1727627689350999, 0.24680395562157129, 0.1727627689350999, 0.049360791124314254, 0.024680395562157127, 0.12340197781078564, 0.12340197781078564, 0.07404118668647139, 0.363142024615229, 0.1281677733936102, 0.19225166009041533, 0.14952906895921192, 0.021361295565601703, 0.042722591131203407, 0.0640838866968051, 0.021361295565601703, 0.10431094568146468, 0.312932837044394, 0.10431094568146468, 0.17385157613577445, 0.017385157613577448, 0.10431094568146468, 0.06954063045430979, 0.13908126090861958, 0.24998336086528766, 0.19443150289522373, 0.08332778695509588, 0.1388796449251598, 0.08332778695509588, 0.05555185797006392, 0.11110371594012784, 0.05555185797006392, 0.15460601633925927, 0.3975583277295239, 0.19877916386476194, 0.04417314752550265, 0.022086573762751326, 0.0883462950510053, 0.04417314752550265, 0.04417314752550265, 0.36408091365896234, 0.26478611902469984, 0.13239305951234992, 0.13239305951234992, 0.06619652975617496, 0.03309826487808748, 0.03309826487808748, 0.3023144862349109, 0.21413942774972855, 0.15115724311745546, 0.08817505848518234, 0.02519287385290924, 0.15115724311745546, 0.05038574770581848, 0.01259643692645462, 0.1207516055705589, 0.3622548167116767, 0.1449019266846707, 0.02415032111411178, 0.02415032111411178, 0.19320256891289425, 0.02415032111411178, 0.16905224779878247, 0.12737379974301113, 0.6050255487793028, 0.20698242458239308, 0.015921724967876392, 0.015921724967876392, 0.015921724967876392, 0.015921724967876392, 0.015921724967876392, 0.10791081288882651, 0.053955406444413254, 0.6204871741107525, 0.10791081288882651, 0.053955406444413254, 0.026977703222206627, 0.2707693211424555, 0.13538466057122775, 0.29784625325670105, 0.10830772845698221, 0.17600005874259608, 0.013538466057122776, 0.013538466057122776, 0.4476082323439518, 0.17515104743893767, 0.17515104743893767, 0.019461227493215296, 0.058383682479645885, 0.03892245498643059, 0.019461227493215296, 0.03892245498643059, 0.08412567988000126, 0.6519740190700097, 0.08412567988000126, 0.06309425991000095, 0.021031419970000315, 0.06309425991000095, 0.021031419970000315, 0.4485140774150985, 0.10764337857962365, 0.23322732025585124, 0.053821689289811826, 0.053821689289811826, 0.017940563096603943, 0.035881126193207886, 0.053821689289811826, 0.2109107070900356, 0.2109107070900356, 0.18078060607717336, 0.09039030303858668, 0.030130101012862228, 0.09039030303858668, 0.060260202025724456, 0.09039030303858668, 0.09539354549931675, 0.09539354549931675, 0.09539354549931675, 0.023848386374829188, 0.047696772749658375, 0.5723612729959004, 0.023848386374829188, 0.047696772749658375, 0.13601754687908976, 0.36271345834423935, 0.09067836458605984, 0.02266959114651496, 0.02266959114651496, 0.02266959114651496, 0.02266959114651496, 0.2947046849046945, 0.18406670353567095, 0.2538851083250634, 0.4569931949851141, 0.006347127708126584, 0.08885978791377219, 0.006347127708126584, 0.006347127708126584, 0.004417281096443485, 0.004417281096443485, 0.7818587540704967, 0.004417281096443485, 0.18110852495418286, 0.013251843289330453, 0.00883456219288697, 0.18042940393031565, 0.3747379927783479, 0.16655021901259906, 0.01387918491771659, 0.06939592458858294, 0.041637554753149765, 0.15267103409488247, 0.01387918491771659, 0.17949122196490624, 0.3589824439298125, 0.17949122196490624, 0.08974561098245312, 0.14957601830408854, 0.029915203660817707, 0.029915203660817707, 0.029915203660817707, 0.13121234888278355, 0.5248493955311342, 0.07618781548032594, 0.05925718981803128, 0.04232656415573663, 0.05502453340245762, 0.09735109755819425, 0.016930625662294654, 0.3673951995320944, 0.10715693319686086, 0.29085453296290803, 0.030616266627674533, 0.0459243999415118, 0.015308133313837267, 0.06123253325534907, 0.07654066656918633, 0.28720479998096765, 0.15665716362598234, 0.46997149087794704, 0.02610952727099706, 0.02610952727099706, 0.02610952727099706, 0.02610952727099706, 0.02610952727099706, 0.20815495166662457, 0.23789137333328522, 0.2676277949999459, 0.1784185299999639, 0.029736421666660653, 0.029736421666660653, 0.029736421666660653, 0.31497932207886764, 0.1732386271433772, 0.12599172883154705, 0.01574896610394338, 0.07874483051971691, 0.20473655935126395, 0.09449379662366028, 0.01574896610394338, 0.3927928866777668, 0.1963964433388834, 0.14028317381348815, 0.028056634762697628, 0.16833980857618577, 0.028056634762697628, 0.028056634762697628, 0.056113269525395255, 0.19198462528460258, 0.32911650048789015, 0.19198462528460258, 0.08227912512197254, 0.10970550016263005, 0.05485275008131502, 0.02742637504065751, 0.02742637504065751, 0.2970465463421533, 0.22715324132047018, 0.17473326255420782, 0.17473326255420782, 0.017473326255420783, 0.08736663127710391, 0.017473326255420783, 0.4464746900882856, 0.1488248966960952, 0.1984331955947936, 0.0744124483480476, 0.0496082988986984, 0.0248041494493492, 0.0248041494493492, 0.0496082988986984, 0.639219154647906, 0.094699134021912, 0.023674783505478, 0.023674783505478, 0.07102435051643399, 0.023674783505478, 0.07102435051643399, 0.07102435051643399, 0.41662826103240735, 0.19228996663034187, 0.12819331108689458, 0.06409665554344729, 0.06409665554344729, 0.032048327771723645, 0.032048327771723645, 0.032048327771723645, 0.242789866321742, 0.33383606619239525, 0.242789866321742, 0.09104619987065325, 0.03034873329021775, 0.03034873329021775, 0.03034873329021775, 0.03034873329021775, 0.1436301127905409, 0.7181505639527044, 0.08118223766421877, 0.031223937563161063, 0.006244787512632213, 0.006244787512632213, 0.006244787512632213, 0.006244787512632213, 0.1686263646736828, 0.32192305983157626, 0.2759340512842082, 0.10730768661052544, 0.07664834757894673, 0.015329669515789348, 0.015329669515789348, 0.015329669515789348, 0.4079146054971704, 0.10641250578187054, 0.2128250115637411, 0.1596187586728058, 0.035470835260623515, 0.017735417630311757, 0.017735417630311757, 0.05320625289093527, 0.37325269411904044, 0.1148469828058586, 0.2296939656117172, 0.08613523710439396, 0.02871174570146465, 0.08613523710439396, 0.0574234914029293, 0.6180914355886356, 0.11238026101611556, 0.05619013050805778, 0.05619013050805778, 0.02809506525402889, 0.02809506525402889, 0.05619013050805778, 0.05619013050805778, 0.27602079550027026, 0.03943154221432432, 0.11829462664297298, 0.01971577110716216, 0.03943154221432432, 0.0985788555358108, 0.17744193996445945, 0.23658925328594596, 0.5329649757556999, 0.11092164470042484, 0.2948892505450319, 0.02705405968303045, 0.002705405968303045, 0.02164324774642436, 0.00541081193660609, 0.00541081193660609, 0.5889861065271702, 0.05609391490734954, 0.22437565962939815, 0.02804695745367477, 0.08414087236102431, 0.02804695745367477, 0.02804695745367477, 0.02804695745367477, 0.053107230935238246, 0.053107230935238246, 0.3823720627337154, 0.392993508920763, 0.0424857847481906, 0.0212428923740953, 0.0212428923740953, 0.0212428923740953, 0.24571589799507648, 0.06701342672592994, 0.17870247126914654, 0.044675617817286635, 0.11168904454321658, 0.044675617817286635, 0.022337808908643318, 0.2903915158123631, 0.22120825134658342, 0.23964227229213203, 0.23964227229213203, 0.09217010472774309, 0.14747216756438894, 0.018434020945548617, 0.036868041891097235, 0.26270804049599406, 0.13135402024799703, 0.20641346038970962, 0.07505944014171259, 0.07505944014171259, 0.18764860035428146, 0.037529720070856296, 0.31770986417293606, 0.27232274071965945, 0.15885493208646803, 0.04538712345327658, 0.09077424690655315, 0.04538712345327658, 0.06808068517991486, 0.30523534038817823, 0.07043892470496421, 0.352194623524821, 0.023479641568321403, 0.09391856627328561, 0.07043892470496421, 0.07043892470496421, 0.023479641568321403, 0.25493035350858134, 0.16570472978057785, 0.20394428280686505, 0.3314094595611557, 0.012746517675429066, 0.0191197765131436, 0.006373258837714533, 0.012746517675429066, 0.031643734219160446, 0.8227370896981716, 0.07910933554790112, 0.015821867109580223, 0.015821867109580223, 0.015821867109580223, 0.031643734219160446, 0.015821867109580223, 0.3150458355373192, 0.2965137275645357, 0.03706421594556696, 0.16678897175505134, 0.07412843189113393, 0.07412843189113393, 0.01853210797278348, 0.2255376782227503, 0.12887867327014305, 0.4510753564455006, 0.03221966831753576, 0.03221966831753576, 0.03221966831753576, 0.03221966831753576, 0.06443933663507152, 0.38712179380778144, 0.27908780483816803, 0.10803398896961343, 0.018005664828268902, 0.054016994484806714, 0.09903115655547898, 0.018005664828268902, 0.036011329656537805, 0.1673145096227056, 0.20077741154724674, 0.23424031347178784, 0.13385160769816448, 0.06692580384908224, 0.0836572548113528, 0.050194352886811684, 0.06692580384908224, 0.54317354895159, 0.14984097902112828, 0.1685711013987693, 0.018730122377641035, 0.018730122377641035, 0.03746024475528207, 0.0561903671329231, 0.018730122377641035, 0.26810363101397466, 0.22685691855028625, 0.20623356231844206, 0.06187006869553262, 0.04124671246368841, 0.12374013739106524, 0.04124671246368841, 0.020623356231844206, 0.22567222299076176, 0.2708066675889141, 0.2933738898879903, 0.022567222299076175, 0.13540333379445704, 0.022567222299076175, 0.022567222299076175, 0.022567222299076175, 0.01717978570323235, 0.738730785238991, 0.18897764273555584, 0.01717978570323235, 0.01717978570323235, 0.01717978570323235, 0.01717978570323235, 0.01717978570323235, 0.0759447649359383, 0.05062984329062554, 0.1518895298718766, 0.5949006586648501, 0.05062984329062554, 0.012657460822656385, 0.05062984329062554, 0.2638088471297841, 0.2931209412553157, 0.14656047062765784, 0.14656047062765784, 0.029312094125531568, 0.029312094125531568, 0.029312094125531568, 0.0879362823765947, 0.35375242111387517, 0.4323640702502919, 0.09826456142052088, 0.019652912284104176, 0.03930582456820835, 0.019652912284104176, 0.03930582456820835, 0.019652912284104176, 0.40046256979846284, 0.3403931843286934, 0.02002312848992314, 0.06006938546976943, 0.08009251395969257, 0.04004625697984628, 0.04004625697984628, 0.02002312848992314, 0.41843996768669994, 0.2551463217601829, 0.14288194018570244, 0.010205852870407317, 0.10205852870407316, 0.05102926435203658, 0.010205852870407317, 0.010205852870407317, 0.5931504370499643, 0.10315659774781988, 0.10315659774781988, 0.02578914943695497, 0.02578914943695497, 0.05157829887390994, 0.02578914943695497, 0.05157829887390994, 0.3192256864005379, 0.38643109406380904, 0.06720540766327114, 0.1008081114949067, 0.016801351915817785, 0.05040405574745335, 0.016801351915817785, 0.03360270383163557, 0.42486843883020375, 0.05310855485377547, 0.3452056065495406, 0.05310855485377547, 0.026554277426887735, 0.026554277426887735, 0.05310855485377547, 0.026554277426887735, 0.10709807609532561, 0.053549038047662804, 0.5622648995004594, 0.133872595119157, 0.026774519023831402, 0.026774519023831402, 0.0803235570714942, 0.5001742041357284, 0.2206650900598802, 0.08826603602395208, 0.08826603602395208, 0.07355503001996007, 0.014711006003992014, 0.014711006003992014, 0.014711006003992014, 0.22285123734679402, 0.3599904603294365, 0.13713922298264247, 0.06856961149132124, 0.03428480574566062, 0.05142720861849093, 0.08571201436415155, 0.05142720861849093, 0.25375518569617583, 0.4001524082132003, 0.18055657443766357, 0.034159351920639056, 0.0195196296689366, 0.024399537086170753, 0.06343879642404396, 0.024399537086170753, 0.3167429109841071, 0.24745539920633366, 0.16826967146030689, 0.05938929580952008, 0.019796431936506695, 0.07918572774602678, 0.06928751177777343, 0.03959286387301339, 0.33589883861953185, 0.03535777248626651, 0.4773299285645979, 0.03535777248626651, 0.03535777248626651, 0.017678886243133254, 0.05303665872939977, 0.017678886243133254, 0.10259208807387725, 0.2906775828759855, 0.034197362691292414, 0.13678945076516966, 0.017098681345646207, 0.06839472538258483, 0.3248749455672779, 0.017098681345646207, 0.14274949624815478, 0.11895791354012898, 0.45204007145249014, 0.07137474812407739, 0.07137474812407739, 0.09516633083210319, 0.023791582708025796, 0.023791582708025796], \"Term\": [\"000\", \"000\", \"000\", \"000\", \"000\", \"000\", \"000\", \"000\", \"10\", \"10\", \"10\", \"10\", \"10\", \"10\", \"10\", \"10\", \"12\", \"12\", \"12\", \"12\", \"12\", \"12\", \"12\", \"12\", \"1960\", \"1960\", \"1960\", \"1960\", \"1960\", \"1960\", \"1960\", \"1960\", \"1961\", \"1961\", \"1961\", \"1961\", \"1961\", \"1961\", \"1961\", \"1961\", \"20\", \"20\", \"20\", \"20\", \"20\", \"20\", \"20\", \"30\", \"30\", \"30\", \"30\", \"30\", \"30\", \"30\", \"30\", \"added\", \"added\", \"added\", \"added\", \"added\", \"added\", \"added\", \"added\", \"administration\", \"administration\", \"administration\", \"administration\", \"administration\", \"administration\", \"ago\", \"ago\", \"ago\", \"ago\", \"ago\", \"ago\", \"ago\", \"ago\", \"american\", \"american\", \"american\", \"american\", \"american\", \"american\", \"american\", \"american\", \"announced\", \"announced\", \"announced\", \"announced\", \"announced\", \"announced\", \"announced\", \"announced\", \"annual\", \"annual\", \"annual\", \"annual\", \"annual\", \"annual\", \"annual\", \"annual\", \"area\", \"area\", \"area\", \"area\", \"area\", \"area\", \"area\", \"area\", \"best\", \"best\", \"best\", \"best\", \"best\", \"best\", \"best\", \"best\", \"better\", \"better\", \"better\", \"better\", \"better\", \"better\", \"better\", \"better\", \"big\", \"big\", \"big\", \"big\", \"big\", \"big\", \"big\", \"big\", \"board\", \"board\", \"board\", \"board\", \"board\", \"board\", \"board\", \"board\", \"business\", \"business\", \"business\", \"business\", \"business\", \"business\", \"business\", \"business\", \"called\", \"called\", \"called\", \"called\", \"called\", \"called\", \"called\", \"called\", \"came\", \"came\", \"came\", \"came\", \"came\", \"came\", \"came\", \"came\", \"case\", \"case\", \"case\", \"case\", \"case\", \"case\", \"case\", \"case\", \"center\", \"center\", \"center\", \"center\", \"center\", \"center\", \"center\", \"center\", \"chairman\", \"chairman\", \"chairman\", \"chairman\", \"chairman\", \"chairman\", \"chairman\", \"chairman\", \"children\", \"children\", \"children\", \"children\", \"children\", \"children\", \"children\", \"city\", \"city\", \"city\", \"city\", \"city\", \"city\", \"city\", \"city\", \"club\", \"club\", \"club\", \"club\", \"club\", \"club\", \"club\", \"club\", \"come\", \"come\", \"come\", \"come\", \"come\", \"come\", \"come\", \"come\", \"committee\", \"committee\", \"committee\", \"committee\", \"committee\", \"committee\", \"committee\", \"committee\", \"company\", \"company\", \"company\", \"company\", \"company\", \"company\", \"company\", \"company\", \"country\", \"country\", \"country\", \"country\", \"country\", \"country\", \"country\", \"country\", \"county\", \"county\", \"county\", \"county\", \"county\", \"county\", \"county\", \"county\", \"court\", \"court\", \"court\", \"court\", \"court\", \"court\", \"court\", \"court\", \"day\", \"day\", \"day\", \"day\", \"day\", \"day\", \"day\", \"day\", \"did\", \"did\", \"did\", \"did\", \"did\", \"did\", \"did\", \"did\", \"early\", \"early\", \"early\", \"early\", \"early\", \"early\", \"early\", \"early\", \"education\", \"education\", \"education\", \"education\", \"education\", \"education\", \"education\", \"education\", \"end\", \"end\", \"end\", \"end\", \"end\", \"end\", \"end\", \"end\", \"expected\", \"expected\", \"expected\", \"expected\", \"expected\", \"expected\", \"expected\", \"expected\", \"family\", \"family\", \"family\", \"family\", \"family\", \"family\", \"family\", \"far\", \"far\", \"far\", \"far\", \"far\", \"far\", \"far\", \"far\", \"federal\", \"federal\", \"federal\", \"federal\", \"federal\", \"federal\", \"federal\", \"federal\", \"foreign\", \"foreign\", \"foreign\", \"foreign\", \"foreign\", \"foreign\", \"foreign\", \"foreign\", \"friday\", \"friday\", \"friday\", \"friday\", \"friday\", \"friday\", \"friday\", \"friday\", \"game\", \"game\", \"game\", \"game\", \"game\", \"game\", \"game\", \"game\", \"general\", \"general\", \"general\", \"general\", \"general\", \"general\", \"general\", \"general\", \"given\", \"given\", \"given\", \"given\", \"given\", \"given\", \"given\", \"given\", \"good\", \"good\", \"good\", \"good\", \"good\", \"good\", \"good\", \"good\", \"got\", \"got\", \"got\", \"got\", \"got\", \"got\", \"got\", \"got\", \"government\", \"government\", \"government\", \"government\", \"government\", \"government\", \"government\", \"government\", \"great\", \"great\", \"great\", \"great\", \"great\", \"great\", \"great\", \"great\", \"group\", \"group\", \"group\", \"group\", \"group\", \"group\", \"group\", \"group\", \"held\", \"held\", \"held\", \"held\", \"held\", \"held\", \"held\", \"held\", \"high\", \"high\", \"high\", \"high\", \"high\", \"high\", \"high\", \"high\", \"hit\", \"hit\", \"hit\", \"hit\", \"hit\", \"hit\", \"hit\", \"hit\", \"home\", \"home\", \"home\", \"home\", \"home\", \"home\", \"home\", \"home\", \"house\", \"house\", \"house\", \"house\", \"house\", \"house\", \"house\", \"house\", \"james\", \"james\", \"james\", \"james\", \"james\", \"james\", \"james\", \"james\", \"john\", \"john\", \"john\", \"john\", \"john\", \"john\", \"john\", \"john\", \"jr\", \"jr\", \"jr\", \"jr\", \"jr\", \"jr\", \"jr\", \"jr\", \"judge\", \"judge\", \"judge\", \"judge\", \"judge\", \"judge\", \"judge\", \"judge\", \"just\", \"just\", \"just\", \"just\", \"just\", \"just\", \"just\", \"just\", \"kennedy\", \"kennedy\", \"kennedy\", \"kennedy\", \"kennedy\", \"kennedy\", \"kennedy\", \"kennedy\", \"later\", \"later\", \"later\", \"later\", \"later\", \"later\", \"later\", \"later\", \"law\", \"law\", \"law\", \"law\", \"law\", \"law\", \"law\", \"law\", \"league\", \"league\", \"league\", \"league\", \"league\", \"league\", \"league\", \"league\", \"left\", \"left\", \"left\", \"left\", \"left\", \"left\", \"left\", \"left\", \"like\", \"like\", \"like\", \"like\", \"like\", \"like\", \"like\", \"like\", \"little\", \"little\", \"little\", \"little\", \"little\", \"little\", \"little\", \"little\", \"local\", \"local\", \"local\", \"local\", \"local\", \"local\", \"local\", \"local\", \"long\", \"long\", \"long\", \"long\", \"long\", \"long\", \"long\", \"long\", \"major\", \"major\", \"major\", \"major\", \"major\", \"major\", \"major\", \"major\", \"make\", \"make\", \"make\", \"make\", \"make\", \"make\", \"make\", \"make\", \"making\", \"making\", \"making\", \"making\", \"making\", \"making\", \"making\", \"man\", \"man\", \"man\", \"man\", \"man\", \"man\", \"man\", \"man\", \"march\", \"march\", \"march\", \"march\", \"march\", \"march\", \"march\", \"march\", \"meeting\", \"meeting\", \"meeting\", \"meeting\", \"meeting\", \"meeting\", \"meeting\", \"meeting\", \"member\", \"member\", \"member\", \"member\", \"member\", \"member\", \"members\", \"members\", \"members\", \"members\", \"members\", \"members\", \"members\", \"men\", \"men\", \"men\", \"men\", \"men\", \"men\", \"men\", \"men\", \"million\", \"million\", \"million\", \"million\", \"million\", \"million\", \"million\", \"monday\", \"monday\", \"monday\", \"monday\", \"monday\", \"monday\", \"monday\", \"monday\", \"money\", \"money\", \"money\", \"money\", \"money\", \"money\", \"money\", \"money\", \"month\", \"month\", \"month\", \"month\", \"month\", \"month\", \"month\", \"month\", \"months\", \"months\", \"months\", \"months\", \"months\", \"months\", \"months\", \"months\", \"mr\", \"mr\", \"mr\", \"mr\", \"mr\", \"mr\", \"mr\", \"mrs\", \"mrs\", \"mrs\", \"mrs\", \"mrs\", \"mrs\", \"mrs\", \"national\", \"national\", \"national\", \"national\", \"national\", \"national\", \"national\", \"national\", \"need\", \"need\", \"need\", \"need\", \"need\", \"need\", \"need\", \"need\", \"new\", \"new\", \"new\", \"new\", \"new\", \"new\", \"new\", \"new\", \"night\", \"night\", \"night\", \"night\", \"night\", \"night\", \"night\", \"night\", \"north\", \"north\", \"north\", \"north\", \"north\", \"north\", \"north\", \"north\", \"number\", \"number\", \"number\", \"number\", \"number\", \"number\", \"number\", \"old\", \"old\", \"old\", \"old\", \"old\", \"old\", \"old\", \"old\", \"open\", \"open\", \"open\", \"open\", \"open\", \"open\", \"open\", \"open\", \"past\", \"past\", \"past\", \"past\", \"past\", \"past\", \"past\", \"past\", \"people\", \"people\", \"people\", \"people\", \"people\", \"people\", \"people\", \"place\", \"place\", \"place\", \"place\", \"place\", \"place\", \"place\", \"place\", \"play\", \"play\", \"play\", \"play\", \"play\", \"play\", \"play\", \"play\", \"possible\", \"possible\", \"possible\", \"possible\", \"possible\", \"possible\", \"possible\", \"possible\", \"present\", \"present\", \"present\", \"present\", \"present\", \"present\", \"present\", \"present\", \"president\", \"president\", \"president\", \"president\", \"president\", \"president\", \"president\", \"president\", \"program\", \"program\", \"program\", \"program\", \"program\", \"program\", \"program\", \"program\", \"public\", \"public\", \"public\", \"public\", \"public\", \"public\", \"public\", \"public\", \"received\", \"received\", \"received\", \"received\", \"received\", \"received\", \"received\", \"right\", \"right\", \"right\", \"right\", \"right\", \"right\", \"right\", \"right\", \"run\", \"run\", \"run\", \"run\", \"run\", \"run\", \"run\", \"run\", \"said\", \"said\", \"said\", \"said\", \"said\", \"said\", \"said\", \"said\", \"saturday\", \"saturday\", \"saturday\", \"saturday\", \"saturday\", \"saturday\", \"saturday\", \"saturday\", \"school\", \"school\", \"school\", \"school\", \"school\", \"school\", \"school\", \"school\", \"second\", \"second\", \"second\", \"second\", \"second\", \"second\", \"second\", \"second\", \"service\", \"service\", \"service\", \"service\", \"service\", \"service\", \"service\", \"set\", \"set\", \"set\", \"set\", \"set\", \"set\", \"set\", \"special\", \"special\", \"special\", \"special\", \"special\", \"special\", \"special\", \"st\", \"st\", \"st\", \"st\", \"st\", \"st\", \"st\", \"st\", \"state\", \"state\", \"state\", \"state\", \"state\", \"state\", \"state\", \"state\", \"states\", \"states\", \"states\", \"states\", \"states\", \"states\", \"states\", \"states\", \"sunday\", \"sunday\", \"sunday\", \"sunday\", \"sunday\", \"sunday\", \"sunday\", \"taken\", \"taken\", \"taken\", \"taken\", \"taken\", \"taken\", \"taken\", \"taken\", \"time\", \"time\", \"time\", \"time\", \"time\", \"time\", \"time\", \"time\", \"today\", \"today\", \"today\", \"today\", \"today\", \"today\", \"today\", \"today\", \"told\", \"told\", \"told\", \"told\", \"told\", \"told\", \"told\", \"told\", \"took\", \"took\", \"took\", \"took\", \"took\", \"took\", \"took\", \"took\", \"tuesday\", \"tuesday\", \"tuesday\", \"tuesday\", \"tuesday\", \"tuesday\", \"tuesday\", \"tuesday\", \"united\", \"united\", \"united\", \"united\", \"united\", \"united\", \"united\", \"united\", \"university\", \"university\", \"university\", \"university\", \"university\", \"university\", \"university\", \"use\", \"use\", \"use\", \"use\", \"use\", \"use\", \"use\", \"use\", \"washington\", \"washington\", \"washington\", \"washington\", \"washington\", \"washington\", \"washington\", \"washington\", \"way\", \"way\", \"way\", \"way\", \"way\", \"way\", \"way\", \"way\", \"week\", \"week\", \"week\", \"week\", \"week\", \"week\", \"week\", \"week\", \"went\", \"went\", \"went\", \"went\", \"went\", \"went\", \"went\", \"went\", \"white\", \"white\", \"white\", \"white\", \"white\", \"white\", \"white\", \"white\", \"wife\", \"wife\", \"wife\", \"wife\", \"wife\", \"wife\", \"wife\", \"wife\", \"william\", \"william\", \"william\", \"william\", \"william\", \"william\", \"william\", \"work\", \"work\", \"work\", \"work\", \"work\", \"work\", \"work\", \"work\", \"world\", \"world\", \"world\", \"world\", \"world\", \"world\", \"world\", \"world\", \"year\", \"year\", \"year\", \"year\", \"year\", \"year\", \"year\", \"year\", \"years\", \"years\", \"years\", \"years\", \"years\", \"years\", \"years\", \"years\", \"yesterday\", \"yesterday\", \"yesterday\", \"yesterday\", \"yesterday\", \"yesterday\", \"yesterday\", \"yesterday\", \"york\", \"york\", \"york\", \"york\", \"york\", \"york\", \"york\", \"york\", \"young\", \"young\", \"young\", \"young\", \"young\", \"young\", \"young\", \"young\"]}, \"R\": 30, \"lambda.step\": 0.01, \"plot.opts\": {\"xlab\": \"PC1\", \"ylab\": \"PC2\"}, \"topic.order\": [7, 2, 1, 8, 4, 6, 5, 3]};\n",
       "\n",
       "function LDAvis_load_lib(url, callback){\n",
       "  var s = document.createElement('script');\n",
       "  s.src = url;\n",
       "  s.async = true;\n",
       "  s.onreadystatechange = s.onload = callback;\n",
       "  s.onerror = function(){console.warn(\"failed to load library \" + url);};\n",
       "  document.getElementsByTagName(\"head\")[0].appendChild(s);\n",
       "}\n",
       "\n",
       "if(typeof(LDAvis) !== \"undefined\"){\n",
       "   // already loaded: just create the visualization\n",
       "   !function(LDAvis){\n",
       "       new LDAvis(\"#\" + \"ldavis_el29031396555602600088935760221\", ldavis_el29031396555602600088935760221_data);\n",
       "   }(LDAvis);\n",
       "}else if(typeof define === \"function\" && define.amd){\n",
       "   // require.js is available: use it to load d3/LDAvis\n",
       "   require.config({paths: {d3: \"https://cdnjs.cloudflare.com/ajax/libs/d3/3.5.5/d3.min\"}});\n",
       "   require([\"d3\"], function(d3){\n",
       "      window.d3 = d3;\n",
       "      LDAvis_load_lib(\"https://cdn.rawgit.com/bmabey/pyLDAvis/files/ldavis.v1.0.0.js\", function(){\n",
       "        new LDAvis(\"#\" + \"ldavis_el29031396555602600088935760221\", ldavis_el29031396555602600088935760221_data);\n",
       "      });\n",
       "    });\n",
       "}else{\n",
       "    // require.js not available: dynamically load d3 & LDAvis\n",
       "    LDAvis_load_lib(\"https://cdnjs.cloudflare.com/ajax/libs/d3/3.5.5/d3.min.js\", function(){\n",
       "         LDAvis_load_lib(\"https://cdn.rawgit.com/bmabey/pyLDAvis/files/ldavis.v1.0.0.js\", function(){\n",
       "                 new LDAvis(\"#\" + \"ldavis_el29031396555602600088935760221\", ldavis_el29031396555602600088935760221_data);\n",
       "            })\n",
       "         });\n",
       "}\n",
       "</script>"
      ],
      "text/plain": [
       "PreparedData(topic_coordinates=            Freq  cluster  topics           x           y\n",
       "topic                                                    \n",
       "6      28.376866        1       1  764.074889  350.375676\n",
       "1      23.942521        1       2    1.538880  -30.407273\n",
       "0      21.495998        1       3  -87.205906  350.301339\n",
       "7       7.345719        1       4 -295.175121  117.755331\n",
       "3       5.518297        1       5 -231.707041 -250.371747\n",
       "5       4.958727        1       6  255.007344 -186.690159\n",
       "4       4.720433        1       7 -627.652849 -452.531498\n",
       "2       3.641439        1       8  225.707531  168.449716, topic_info=     Category        Freq        Term       Total  loglift  logprob\n",
       "term                                                               \n",
       "89    Default  226.000000         mrs  226.000000  30.0000  30.0000\n",
       "118   Default  156.000000       state  156.000000  29.0000  29.0000\n",
       "92    Default  236.000000         new  236.000000  28.0000  28.0000\n",
       "128   Default   79.000000  university   79.000000  27.0000  27.0000\n",
       "42    Default   55.000000      family   55.000000  26.0000  26.0000\n",
       "68    Default   48.000000      league   48.000000  25.0000  25.0000\n",
       "112   Default   94.000000      school   94.000000  24.0000  24.0000\n",
       "58    Default  131.000000        home  131.000000  23.0000  23.0000\n",
       "86    Default   41.000000       month   41.000000  22.0000  22.0000\n",
       "39    Default   50.000000   education   50.000000  21.0000  21.0000\n",
       "142   Default   58.000000        york   58.000000  20.0000  20.0000\n",
       "29    Default   59.000000        club   59.000000  19.0000  19.0000\n",
       "47    Default   59.000000        game   59.000000  18.0000  18.0000\n",
       "109   Default   50.000000         run   50.000000  17.0000  17.0000\n",
       "87    Default   44.000000      months   44.000000  16.0000  16.0000\n",
       "88    Default  157.000000          mr  157.000000  15.0000  15.0000\n",
       "113   Default   44.000000      second   44.000000  14.0000  14.0000\n",
       "12    Default   72.000000    american   72.000000  13.0000  13.0000\n",
       "5     Default   45.000000        1961   45.000000  12.0000  12.0000\n",
       "25    Default   41.000000      center   41.000000  11.0000  11.0000\n",
       "104   Default  160.000000   president  160.000000  10.0000  10.0000\n",
       "96    Default   63.000000         old   63.000000   9.0000   9.0000\n",
       "3     Default   38.000000          12   38.000000   8.0000   8.0000\n",
       "34    Default   66.000000      county   66.000000   7.0000   7.0000\n",
       "4     Default   45.000000        1960   45.000000   6.0000   6.0000\n",
       "73    Default   57.000000        long   57.000000   5.0000   5.0000\n",
       "139   Default  204.000000        year  204.000000   4.0000   4.0000\n",
       "122   Default  111.000000        time  111.000000   3.0000   3.0000\n",
       "28    Default   93.000000        city   93.000000   2.0000   2.0000\n",
       "78    Default   41.000000       march   41.000000   1.0000   1.0000\n",
       "...       ...         ...         ...         ...      ...      ...\n",
       "73     Topic8    7.679896        long   57.520330   1.2993  -3.7085\n",
       "68     Topic8    5.327338      league   48.447510   1.1052  -4.0742\n",
       "47     Topic8    5.815276        game   59.396797   0.9890  -3.9866\n",
       "23     Topic8    3.996299        came   41.660962   0.9686  -4.3617\n",
       "129    Topic8    3.113074         use   34.115611   0.9186  -4.6115\n",
       "70     Topic8    4.556115        like   52.110943   0.8759  -4.2306\n",
       "55     Topic8    3.718800        held   43.853723   0.8453  -4.4337\n",
       "71     Topic8    3.360162      little   40.517989   0.8230  -4.5351\n",
       "28     Topic8    7.340877        city   93.913423   0.7639  -3.7536\n",
       "121    Topic8    2.397356       taken   31.036943   0.7520  -4.8727\n",
       "85     Topic8    2.547714       money   33.189401   0.7458  -4.8119\n",
       "93     Topic8    4.739302       night   65.324751   0.6893  -4.1912\n",
       "57     Topic8    3.155189         hit   43.563880   0.6876  -4.5980\n",
       "101    Topic8    2.988960        play   42.239035   0.6644  -4.6521\n",
       "8      Topic8    2.917797          30   42.096322   0.6437  -4.6762\n",
       "123    Topic8    3.910595       today   59.767680   0.5860  -4.3834\n",
       "30     Topic8    2.177364        come   33.867115   0.5685  -4.9690\n",
       "17     Topic8    2.067264        best   32.942095   0.5443  -5.0208\n",
       "74     Topic8    2.200589       major   36.002396   0.5179  -4.9584\n",
       "41     Topic8    2.437019    expected   41.040354   0.4890  -4.8563\n",
       "18     Topic8    1.825220      better   31.791214   0.4553  -5.1454\n",
       "133    Topic8    2.219990        went   38.775998   0.4525  -4.9496\n",
       "1      Topic8    3.494623          10   63.181557   0.4180  -4.4958\n",
       "0      Topic8    5.795140         000  115.421889   0.3212  -3.9901\n",
       "122    Topic8    4.219640        time  111.076154   0.0423  -4.3073\n",
       "140    Topic8    3.854606       years  101.028307   0.0467  -4.3978\n",
       "139    Topic8    5.219900        year  204.921921  -0.3574  -4.0946\n",
       "56     Topic8    3.065214        high   75.293995   0.1115  -4.6270\n",
       "12     Topic8    3.027837    american   72.451971   0.1377  -4.6392\n",
       "92     Topic8    3.523614         new  236.258251  -0.8926  -4.4876\n",
       "\n",
       "[339 rows x 6 columns], token_table=      Topic      Freq       Term\n",
       "term                            \n",
       "0         1  0.129958        000\n",
       "0         2  0.259916        000\n",
       "0         3  0.441857        000\n",
       "0         4  0.043319        000\n",
       "0         5  0.008664        000\n",
       "0         6  0.051983        000\n",
       "0         7  0.008664        000\n",
       "0         8  0.051983        000\n",
       "1         1  0.269066         10\n",
       "1         2  0.269066         10\n",
       "1         3  0.174101         10\n",
       "1         4  0.063310         10\n",
       "1         5  0.031655         10\n",
       "1         6  0.110792         10\n",
       "1         7  0.015827         10\n",
       "1         8  0.047482         10\n",
       "3         1  0.333904         12\n",
       "3         2  0.179795         12\n",
       "3         3  0.154110         12\n",
       "3         4  0.025685         12\n",
       "3         5  0.025685         12\n",
       "3         6  0.025685         12\n",
       "3         7  0.051370         12\n",
       "3         8  0.256849         12\n",
       "4         1  0.110015       1960\n",
       "4         2  0.418058       1960\n",
       "4         3  0.044006       1960\n",
       "4         4  0.022003       1960\n",
       "4         5  0.022003       1960\n",
       "4         6  0.132018       1960\n",
       "...     ...       ...        ...\n",
       "140       3  0.168270      years\n",
       "140       4  0.059389      years\n",
       "140       5  0.019796      years\n",
       "140       6  0.079186      years\n",
       "140       7  0.069288      years\n",
       "140       8  0.039593      years\n",
       "141       1  0.335899  yesterday\n",
       "141       2  0.035358  yesterday\n",
       "141       3  0.477330  yesterday\n",
       "141       4  0.035358  yesterday\n",
       "141       5  0.035358  yesterday\n",
       "141       6  0.017679  yesterday\n",
       "141       7  0.053037  yesterday\n",
       "141       8  0.017679  yesterday\n",
       "142       1  0.102592       york\n",
       "142       2  0.290678       york\n",
       "142       3  0.034197       york\n",
       "142       4  0.136789       york\n",
       "142       5  0.017099       york\n",
       "142       6  0.068395       york\n",
       "142       7  0.324875       york\n",
       "142       8  0.017099       york\n",
       "143       1  0.142749      young\n",
       "143       2  0.118958      young\n",
       "143       3  0.452040      young\n",
       "143       4  0.071375      young\n",
       "143       5  0.071375      young\n",
       "143       6  0.095166      young\n",
       "143       7  0.023792      young\n",
       "143       8  0.023792      young\n",
       "\n",
       "[1107 rows x 3 columns], R=30, lambda_step=0.01, plot_opts={'xlab': 'PC1', 'ylab': 'PC2'}, topic_order=[7, 2, 1, 8, 4, 6, 5, 3])"
      ]
     },
     "execution_count": 79,
     "metadata": {},
     "output_type": "execute_result"
    }
   ],
   "source": [
    "pyLDAvis.enable_notebook()\n",
    "panel = pyLDAvis.sklearn.prepare(lda, counts, cv, mds='tsne')\n",
    "panel"
   ]
  },
  {
   "cell_type": "markdown",
   "metadata": {},
   "source": [
    "## Bonus: A Quote Parser\n",
    "\n",
    "This is not related to topic modeling, but since some of you were interested in separating dialogue from narration (or other prose), here's an example of a quotation/nonquotation separator. See if you can read it and figure out how it works!"
   ]
  },
  {
   "cell_type": "code",
   "execution_count": 50,
   "metadata": {},
   "outputs": [],
   "source": [
    "def separateQuotes(tokens): \n",
    "    quotes = []\n",
    "    nonquotes = []\n",
    "    startquotes = '\"“'\n",
    "    endquotes = '\"”'\n",
    "    isQuote = False\n",
    "    for token in tokens:\n",
    "        if isQuote:\n",
    "            if token in endquotes or '\\n' in token: \n",
    "                isQuote = False\n",
    "            else:\n",
    "                quotes.append(token)\n",
    "        else: \n",
    "            nonquotes.append(token)\n",
    "            if token in startquotes: \n",
    "                isQuote = True\n",
    "    return quotes, nonquotes"
   ]
  },
  {
   "cell_type": "code",
   "execution_count": 51,
   "metadata": {},
   "outputs": [],
   "source": [
    "quotes, nonquotes = separateQuotes(moonstoneTokens)"
   ]
  }
 ],
 "metadata": {
  "kernelspec": {
   "display_name": "Python 3",
   "language": "python",
   "name": "python3"
  },
  "language_info": {
   "codemirror_mode": {
    "name": "ipython",
    "version": 3
   },
   "file_extension": ".py",
   "mimetype": "text/x-python",
   "name": "python",
   "nbconvert_exporter": "python",
   "pygments_lexer": "ipython3",
   "version": "3.6.6"
  }
 },
 "nbformat": 4,
 "nbformat_minor": 2
}
