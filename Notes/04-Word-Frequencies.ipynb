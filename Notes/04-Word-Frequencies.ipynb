{
 "cells": [
  {
   "cell_type": "markdown",
   "metadata": {},
   "source": [
    "# Word Frequencies, Distinctive Words\n",
    "\n",
    "And an introduction to Pandas. \n",
    "\n",
    "It's always a good idea to put all your import statements at the beginning of your notebook. "
   ]
  },
  {
   "cell_type": "code",
   "execution_count": 59,
   "metadata": {},
   "outputs": [],
   "source": [
    "# The Natural Language Processing Toolkit\n",
    "import nltk\n",
    "\n",
    "# We can rename long function names like this,\n",
    "# so that it's easier to type.\n",
    "from nltk import word_tokenize as tokenize\n",
    "from nltk import sent_tokenize as sentTokenize\n",
    "\n",
    "# This one is for counting things. \n",
    "from collections import Counter\n",
    "\n",
    "# And here is the amazing data science library, Pandas.\n",
    "import pandas as pd\n",
    "\n",
    "# This magic command tells Jupyter to display plots (graphs) \n",
    "# here in this notebook, and not elsewhere. \n",
    "%matplotlib inline"
   ]
  },
  {
   "cell_type": "markdown",
   "metadata": {},
   "source": [
    "Before, we tokenized a string with `nltk.word_tokenize()`. But now, we renamed this function to `tokenize()` in the `from ... import ... as` statement above, so now we can just run this: "
   ]
  },
  {
   "cell_type": "code",
   "execution_count": 185,
   "metadata": {},
   "outputs": [
    {
     "data": {
      "text/plain": [
       "['The', 'quick', 'brown', 'fox']"
      ]
     },
     "execution_count": 185,
     "metadata": {},
     "output_type": "execute_result"
    }
   ],
   "source": [
    "tokenize(\"The quick brown fox\")"
   ]
  },
  {
   "cell_type": "markdown",
   "metadata": {},
   "source": [
    "As usual, make sure we're in the right directory (i.e., the one with `moonstone.md` in it). "
   ]
  },
  {
   "cell_type": "code",
   "execution_count": 3,
   "metadata": {},
   "outputs": [
    {
     "name": "stdout",
     "output_type": "stream",
     "text": [
      "/home/jon/Code/course-computational-literary-analysis\n"
     ]
    }
   ],
   "source": [
    "%cd .."
   ]
  },
  {
   "cell_type": "code",
   "execution_count": 4,
   "metadata": {},
   "outputs": [
    {
     "name": "stdout",
     "output_type": "stream",
     "text": [
      "\u001b[0m\u001b[01;34mHomework\u001b[0m/  LICENSE       ngram-pos-experiments.ipynb  README.md\r\n",
      "\u001b[01;34mHW1\u001b[0m/       moonstone.md  \u001b[01;34mNotes\u001b[0m/\r\n"
     ]
    }
   ],
   "source": [
    "%ls"
   ]
  },
  {
   "cell_type": "code",
   "execution_count": 55,
   "metadata": {},
   "outputs": [],
   "source": [
    "moonstone = open('/home/jon/Code/course-computational-literary-analysis/moonstone.md').read()"
   ]
  },
  {
   "cell_type": "markdown",
   "metadata": {},
   "source": [
    "The NLTK tokenizer doesn't seem to be able to understand hyphenated words, so we can replace all hyphens with hyphens surrounded with spaces. This can allow the NLTK tokenizer to recognize words better if there is punctuation around it. "
   ]
  },
  {
   "cell_type": "code",
   "execution_count": 192,
   "metadata": {},
   "outputs": [],
   "source": [
    "moonstone = moonstone.replace('-', ' - ')"
   ]
  },
  {
   "cell_type": "markdown",
   "metadata": {},
   "source": [
    "As before, we've edited the moonstone markdown file, adding these `%%%%%` markers to mark where narratives begin and end. This can allow us to extract certain narratives with these commands: "
   ]
  },
  {
   "cell_type": "code",
   "execution_count": 56,
   "metadata": {},
   "outputs": [],
   "source": [
    "moonstoneParts = moonstone.split('%%%%%')"
   ]
  },
  {
   "cell_type": "code",
   "execution_count": 57,
   "metadata": {},
   "outputs": [],
   "source": [
    "bet = moonstoneParts[1]"
   ]
  },
  {
   "cell_type": "code",
   "execution_count": 60,
   "metadata": {},
   "outputs": [],
   "source": [
    "betSentences = sentTokenize(bet)"
   ]
  },
  {
   "cell_type": "code",
   "execution_count": 63,
   "metadata": {},
   "outputs": [],
   "source": [
    "bet10sents = betSentences[:10]"
   ]
  },
  {
   "cell_type": "code",
   "execution_count": 194,
   "metadata": {},
   "outputs": [],
   "source": [
    "bet = moonstoneParts[1]"
   ]
  },
  {
   "cell_type": "code",
   "execution_count": 195,
   "metadata": {},
   "outputs": [],
   "source": [
    "clack = moonstoneParts[3]"
   ]
  },
  {
   "cell_type": "code",
   "execution_count": 196,
   "metadata": {},
   "outputs": [],
   "source": [
    "bruff = moonstoneParts[4]"
   ]
  },
  {
   "cell_type": "code",
   "execution_count": 14,
   "metadata": {},
   "outputs": [],
   "source": [
    "emsent = []"
   ]
  },
  {
   "cell_type": "code",
   "execution_count": 15,
   "metadata": {},
   "outputs": [
    {
     "data": {
      "text/plain": [
       "list"
      ]
     },
     "execution_count": 15,
     "metadata": {},
     "output_type": "execute_result"
    }
   ],
   "source": [
    "type(emsent)"
   ]
  },
  {
   "cell_type": "code",
   "execution_count": 22,
   "metadata": {},
   "outputs": [],
   "source": [
    "emsent = []"
   ]
  },
  {
   "cell_type": "code",
   "execution_count": 23,
   "metadata": {},
   "outputs": [],
   "source": [
    "emsent.append('item')"
   ]
  },
  {
   "cell_type": "code",
   "execution_count": 24,
   "metadata": {},
   "outputs": [
    {
     "data": {
      "text/plain": [
       "['item']"
      ]
     },
     "execution_count": 24,
     "metadata": {},
     "output_type": "execute_result"
    }
   ],
   "source": [
    "emsent"
   ]
  },
  {
   "cell_type": "code",
   "execution_count": 31,
   "metadata": {},
   "outputs": [
    {
     "data": {
      "text/plain": [
       "['this', 'is', 'a', 'test', '!']"
      ]
     },
     "execution_count": 31,
     "metadata": {},
     "output_type": "execute_result"
    }
   ],
   "source": [
    "tokenize(\"this is a test!\")"
   ]
  },
  {
   "cell_type": "code",
   "execution_count": 32,
   "metadata": {},
   "outputs": [
    {
     "data": {
      "text/plain": [
       "['this', 'is', 'a', 'test!']"
      ]
     },
     "execution_count": 32,
     "metadata": {},
     "output_type": "execute_result"
    }
   ],
   "source": [
    "\"this is a test!\".split()"
   ]
  },
  {
   "cell_type": "code",
   "execution_count": 41,
   "metadata": {},
   "outputs": [],
   "source": [
    "from nltk.stem import PorterStemmer\n",
    "from nltk.stem import WordNetLemmatizer"
   ]
  },
  {
   "cell_type": "code",
   "execution_count": 42,
   "metadata": {},
   "outputs": [],
   "source": [
    "stemmer = PorterStemmer()\n",
    "lemmatizer = WordNetLemmatizer()"
   ]
  },
  {
   "cell_type": "code",
   "execution_count": 40,
   "metadata": {},
   "outputs": [
    {
     "name": "stdout",
     "output_type": "stream",
     "text": [
      "inform\n",
      "inform\n",
      "inform\n"
     ]
    }
   ],
   "source": [
    "for word in [\"inform\", \"information\", \"informative\"]: \n",
    "    print(stemmer.stem(word))"
   ]
  },
  {
   "cell_type": "code",
   "execution_count": 43,
   "metadata": {},
   "outputs": [
    {
     "name": "stdout",
     "output_type": "stream",
     "text": [
      "jump\n",
      "jump\n",
      "jumping\n"
     ]
    }
   ],
   "source": [
    "for word in [\"jump\", \"jumps\", \"jumping\"]:\n",
    "    print(lemmatizer.lemmatize(word))"
   ]
  },
  {
   "cell_type": "markdown",
   "metadata": {},
   "source": [
    "Now we can tokenize them all: "
   ]
  },
  {
   "cell_type": "code",
   "execution_count": 197,
   "metadata": {},
   "outputs": [],
   "source": [
    "betTokens = tokenize(bet)\n",
    "clackTokens = tokenize(clack)\n",
    "bruffTokens = tokenize(bruff)\n",
    "moonstoneTokens = tokenize(moonstone)"
   ]
  },
  {
   "cell_type": "markdown",
   "metadata": {},
   "source": [
    "## Functions\n",
    "\n",
    "Functions, like `for` loops, are good ways to do things repeatedly. We can run some task over a series of objects this way. Here's a simple function that multiplies a number by two: "
   ]
  },
  {
   "cell_type": "code",
   "execution_count": 198,
   "metadata": {},
   "outputs": [],
   "source": [
    "def timesTwo(inputNumber):\n",
    "    numberTimesTwo = inputNumber * 2\n",
    "    return numberTimesTwo"
   ]
  },
  {
   "cell_type": "markdown",
   "metadata": {},
   "source": [
    "If we want, we can make this a little fancier, by checking to make sure that we get an integer passed to us first. "
   ]
  },
  {
   "cell_type": "code",
   "execution_count": 199,
   "metadata": {},
   "outputs": [],
   "source": [
    "def timesTwo(inputNumber):\n",
    "    if type(inputNumber) is not int: \n",
    "        return \"I don't want to multiply this by two, because it's not an integer,\" +\\\n",
    "               \"and I'm afraid of what might happen!!!!!!!!!!\"\n",
    "    numberTimesTwo = inputNumber * 2\n",
    "    return numberTimesTwo"
   ]
  },
  {
   "cell_type": "markdown",
   "metadata": {},
   "source": [
    "Now we can call the function we just made: "
   ]
  },
  {
   "cell_type": "code",
   "execution_count": 204,
   "metadata": {},
   "outputs": [
    {
     "data": {
      "text/plain": [
       "10"
      ]
     },
     "execution_count": 204,
     "metadata": {},
     "output_type": "execute_result"
    }
   ],
   "source": [
    "timesTwo(5)"
   ]
  },
  {
   "cell_type": "code",
   "execution_count": 205,
   "metadata": {},
   "outputs": [
    {
     "data": {
      "text/plain": [
       "\"I don't want to multiply this by two, because it's not an integer,and I'm afraid of what might happen!!!!!!!!!!\""
      ]
     },
     "execution_count": 205,
     "metadata": {},
     "output_type": "execute_result"
    }
   ],
   "source": [
    "timesTwo(\"Hello!\")"
   ]
  },
  {
   "cell_type": "code",
   "execution_count": 44,
   "metadata": {},
   "outputs": [
    {
     "data": {
      "text/plain": [
       "7"
      ]
     },
     "execution_count": 44,
     "metadata": {},
     "output_type": "execute_result"
    }
   ],
   "source": [
    "\"the the the the the the the that's all folks\".count(\"the\")"
   ]
  },
  {
   "cell_type": "code",
   "execution_count": 45,
   "metadata": {},
   "outputs": [],
   "source": [
    "porky = tokenize(\"the the the the the the the that's all folks\")"
   ]
  },
  {
   "cell_type": "code",
   "execution_count": 47,
   "metadata": {},
   "outputs": [
    {
     "data": {
      "text/plain": [
       "11"
      ]
     },
     "execution_count": 47,
     "metadata": {},
     "output_type": "execute_result"
    }
   ],
   "source": [
    "len(porky)"
   ]
  },
  {
   "cell_type": "code",
   "execution_count": 48,
   "metadata": {},
   "outputs": [
    {
     "data": {
      "text/plain": [
       "0.6363636363636364"
      ]
     },
     "execution_count": 48,
     "metadata": {},
     "output_type": "execute_result"
    }
   ],
   "source": [
    "7/11"
   ]
  },
  {
   "cell_type": "code",
   "execution_count": 49,
   "metadata": {},
   "outputs": [],
   "source": [
    "name = \"Rachel, Franklin, Godfrey\".split(', ')"
   ]
  },
  {
   "cell_type": "code",
   "execution_count": 51,
   "metadata": {},
   "outputs": [
    {
     "data": {
      "text/plain": [
       "3"
      ]
     },
     "execution_count": 51,
     "metadata": {},
     "output_type": "execute_result"
    }
   ],
   "source": [
    "len(name)"
   ]
  },
  {
   "cell_type": "markdown",
   "metadata": {},
   "source": [
    "Functions are useful for running some series of tasks repeatedly on something. Let's say I have a list of numbers, and I was to multiply each by two: "
   ]
  },
  {
   "cell_type": "code",
   "execution_count": 206,
   "metadata": {},
   "outputs": [],
   "source": [
    "listOfNumbers = [3, 6, 9, 11, 2, 0]"
   ]
  },
  {
   "cell_type": "code",
   "execution_count": 208,
   "metadata": {},
   "outputs": [
    {
     "name": "stdout",
     "output_type": "stream",
     "text": [
      "6\n",
      "12\n",
      "18\n",
      "22\n",
      "4\n",
      "0\n"
     ]
    }
   ],
   "source": [
    "for number in listOfNumbers: \n",
    "    print(timesTwo(number))"
   ]
  },
  {
   "cell_type": "markdown",
   "metadata": {},
   "source": [
    "I can also write a function that returns `True` or `False`, which will then speak directly to an `if` statement later: "
   ]
  },
  {
   "cell_type": "code",
   "execution_count": 209,
   "metadata": {},
   "outputs": [],
   "source": [
    "def isDelicious(fruit): \n",
    "    if fruit == \"apple\": \n",
    "        return True\n",
    "    else: \n",
    "        return False"
   ]
  },
  {
   "cell_type": "code",
   "execution_count": 210,
   "metadata": {},
   "outputs": [
    {
     "name": "stdout",
     "output_type": "stream",
     "text": [
      "My kiwi is not delicious!!!!! Oh noes!!!!!\n"
     ]
    }
   ],
   "source": [
    "if isDelicious(\"kiwi\"): \n",
    "    print(\"Yay! My kiwi is delicious!\")\n",
    "else: \n",
    "    print(\"My kiwi is not delicious!!!!! Oh noes!!!!!\")"
   ]
  },
  {
   "cell_type": "markdown",
   "metadata": {},
   "source": [
    "Here's an example of a function that takes two inputs: "
   ]
  },
  {
   "cell_type": "code",
   "execution_count": 211,
   "metadata": {},
   "outputs": [],
   "source": [
    "def makeLovers(loverA, loverB): \n",
    "    return loverA + \" and \" + loverB + \", sitting in a tree, K-I-S-S-I-N-G\""
   ]
  },
  {
   "cell_type": "code",
   "execution_count": 212,
   "metadata": {},
   "outputs": [
    {
     "data": {
      "text/plain": [
       "'Rachel and Franklin, sitting in a tree, K-I-S-S-I-N-G'"
      ]
     },
     "execution_count": 212,
     "metadata": {},
     "output_type": "execute_result"
    }
   ],
   "source": [
    "makeLovers('Rachel', 'Franklin')"
   ]
  },
  {
   "cell_type": "markdown",
   "metadata": {},
   "source": [
    "## Word Frequencies\n",
    "\n",
    "Let's analyze the frequencies of the words in each narrative we've read so far. Now that we've tokenized each, we can lowercase each token, so that we're not paying attention to whether a word starts a sentence or not. "
   ]
  },
  {
   "cell_type": "code",
   "execution_count": 213,
   "metadata": {},
   "outputs": [],
   "source": [
    "clackTokensLower = []\n",
    "for token in clackTokens: \n",
    "    clackTokensLower.append(token.lower())"
   ]
  },
  {
   "cell_type": "markdown",
   "metadata": {},
   "source": [
    "Or you can use a more advanced pattern, called a \"list comprehension.\" The clackTokensLower line below is equivalent to the one in the cell above. It's just a shorter and nicer way of writing that. "
   ]
  },
  {
   "cell_type": "code",
   "execution_count": 214,
   "metadata": {},
   "outputs": [],
   "source": [
    "# Using list comprehensions\n",
    "clackTokensLower = [token.lower() for token in clackTokens]\n",
    "betTokensLower = [token.lower() for token in betTokens]\n",
    "bruffTokensLower = [token.lower() for token in bruffTokens]\n",
    "moonstoneTokensLower = [token.lower() for token in moonstoneTokens]"
   ]
  },
  {
   "cell_type": "code",
   "execution_count": 152,
   "metadata": {},
   "outputs": [
    {
     "data": {
      "text/plain": [
       "['#', '#', '#', 'chapter', 'i', 'i', 'am', 'indebted', 'to', 'my']"
      ]
     },
     "execution_count": 152,
     "metadata": {},
     "output_type": "execute_result"
    }
   ],
   "source": [
    "clackTokensLower[:10]"
   ]
  },
  {
   "cell_type": "markdown",
   "metadata": {},
   "source": [
    "We can use the `Counter()` object we imported above from the `collections` module to count anything in a list, like our list of lowercased tokens. "
   ]
  },
  {
   "cell_type": "code",
   "execution_count": 215,
   "metadata": {},
   "outputs": [],
   "source": [
    "clackCounts = Counter(clackTokensLower)\n",
    "betCounts = Counter(betTokensLower)\n",
    "bruffCounts = Counter(bruffTokensLower)\n",
    "moonstoneCounts = Counter(moonstoneTokensLower)"
   ]
  },
  {
   "cell_type": "markdown",
   "metadata": {},
   "source": [
    "Let's try it out. How many times does Miss Clack use exclamation points? "
   ]
  },
  {
   "cell_type": "code",
   "execution_count": 216,
   "metadata": {},
   "outputs": [
    {
     "data": {
      "text/plain": [
       "248"
      ]
     },
     "execution_count": 216,
     "metadata": {},
     "output_type": "execute_result"
    }
   ],
   "source": [
    "clackCounts['!']"
   ]
  },
  {
   "cell_type": "markdown",
   "metadata": {},
   "source": [
    "Betteredge? Bruff?"
   ]
  },
  {
   "cell_type": "code",
   "execution_count": 218,
   "metadata": {},
   "outputs": [
    {
     "data": {
      "text/plain": [
       "335"
      ]
     },
     "execution_count": 218,
     "metadata": {},
     "output_type": "execute_result"
    }
   ],
   "source": [
    "betCounts['!']"
   ]
  },
  {
   "cell_type": "code",
   "execution_count": 219,
   "metadata": {},
   "outputs": [
    {
     "data": {
      "text/plain": [
       "992"
      ]
     },
     "execution_count": 219,
     "metadata": {},
     "output_type": "execute_result"
    }
   ],
   "source": [
    "moonstoneCounts['!']"
   ]
  },
  {
   "cell_type": "markdown",
   "metadata": {},
   "source": [
    "Now let's build up a dictionary where we compare the relative proportions of words in Clack's narrative and in Betteredge's narrative. "
   ]
  },
  {
   "cell_type": "code",
   "execution_count": 158,
   "metadata": {},
   "outputs": [],
   "source": [
    "clacknesses = {}\n",
    "for word in clackCounts: \n",
    "    # How many times does Miss Clack use this word? \n",
    "    clackCount = clackCounts[word]\n",
    "    \n",
    "    # Adjust for the number of words in Miss Clack's narrative. \n",
    "    clackProportion = clackCount / len(clackTokensLower)\n",
    "    \n",
    "    # How many times does Betteredge use this word?\n",
    "\n",
    "    # Instead of indexing the word directly, which \n",
    "    # would fail if the word isn't in our dictionary, \n",
    "    # we can use the dictionary `.get()` method, which allows\n",
    "    # us to say what we want it to return if the word isn't in the \n",
    "    # dictionary (in this case, 0). \n",
    "    betCount = betCounts.get(word, 0)\n",
    "    betProportion = betCount / len(betTokensLower)\n",
    "    \n",
    "    # Define \"clackness\" as the difference in proportions\n",
    "    # between Clack's and Betteredge's narratives\n",
    "    clackness = (clackProportion - betProportion)*100\n",
    "    #print(word, clackness)\n",
    "    clacknesses[word] = clackness"
   ]
  },
  {
   "cell_type": "markdown",
   "metadata": {},
   "source": [
    "Now we can sort the dictionary, and print out the top 20 words with highest scores for \"Clackness\":"
   ]
  },
  {
   "cell_type": "code",
   "execution_count": 222,
   "metadata": {},
   "outputs": [
    {
     "name": "stdout",
     "output_type": "stream",
     "text": [
      "i 0.4429010077119939\n",
      "! 0.3274994929197816\n",
      "my 0.30563630809693193\n",
      "godfrey 0.2840785409841493\n",
      "aunt 0.2517972218755506\n",
      "dear 0.22362791586109432\n",
      "ablewhite 0.20260033138523487\n",
      "which 0.19439841508607547\n",
      ". 0.1793568699493528\n",
      "me 0.16722308784032766\n",
      "? 0.1664868114811185\n",
      "bruff 0.14715259442612658\n",
      "rachel 0.13792359136233168\n",
      "be 0.1358510308172969\n",
      "clack 0.133266731488864\n",
      "to 0.13055750276120756\n",
      "not 0.11583947816151018\n",
      "by 0.11576953929629424\n",
      "is 0.11332884057165499\n",
      "of 0.10531846752790189\n"
     ]
    }
   ],
   "source": [
    "clacknessesSorted = sorted(clacknesses, key=clacknesses[1], reverse=True)\n",
    "for word in clacknessesSorted[:20]: \n",
    "    print(word, clacknesses[word])"
   ]
  },
  {
   "cell_type": "markdown",
   "metadata": {},
   "source": [
    "## Word Frequencies as a Pandas Data Frame\n",
    "\n",
    "That was the long way of doing it. Now here is a slightly easier way, using Pandas. First, make a new Pandas DataFrame object, and give it a list of all of our counts. I'm also giving it some labels, so that the table is easier to read. "
   ]
  },
  {
   "cell_type": "code",
   "execution_count": 160,
   "metadata": {},
   "outputs": [],
   "source": [
    "frequencies = pd.DataFrame([clackCounts, betCounts, bruffCounts, moonstoneCounts], \n",
    "                          index = ['Clack', 'Betteredge', 'Bruff', 'All'])"
   ]
  },
  {
   "cell_type": "markdown",
   "metadata": {},
   "source": [
    "Since Pandas doesn't know how to handle words that are not in a particular dictionary, it calls them \"NaN\" or \"not a number.\" We know that if a word isn't in a dictionary, it doesn't appear in that character's narrative, so we can replace these with zero (and that will make our calculations easier below). "
   ]
  },
  {
   "cell_type": "code",
   "execution_count": 223,
   "metadata": {},
   "outputs": [],
   "source": [
    "frequencies = frequencies.fillna(0)"
   ]
  },
  {
   "cell_type": "markdown",
   "metadata": {},
   "source": [
    "Transpose it! Just because columns are easier to work with than rows. "
   ]
  },
  {
   "cell_type": "code",
   "execution_count": 225,
   "metadata": {},
   "outputs": [],
   "source": [
    "frequencies = frequencies.T"
   ]
  },
  {
   "cell_type": "markdown",
   "metadata": {},
   "source": [
    "We can divide by the total number of tokens in each speaker to transform the raw counts into proportions of counts. We can multiply this by 100 to make it a little easier to read (and to make it seem more like a percentage). "
   ]
  },
  {
   "cell_type": "code",
   "execution_count": 163,
   "metadata": {},
   "outputs": [],
   "source": [
    "frequencies['clackP'] = (frequencies['Clack'] / len(clackTokens)) * 100\n",
    "frequencies['betP'] = (frequencies['Betteredge'] / len(betTokens)) * 100\n",
    "frequencies['bruffP'] = (frequencies['Bruff'] / len(bruffTokens)) * 100\n",
    "frequencies['allP'] = (frequencies['All'] / len(moonstoneTokens)) * 100"
   ]
  },
  {
   "cell_type": "markdown",
   "metadata": {},
   "source": [
    "Now we can define the distinctiveness of certain words among characters by looking at how much more they say a certain word than the average for the text: "
   ]
  },
  {
   "cell_type": "code",
   "execution_count": 226,
   "metadata": {},
   "outputs": [],
   "source": [
    "frequencies['clackness'] = frequencies['clackP'] - frequencies['allP']\n",
    "frequencies['bruffness'] = frequencies['bruffP'] - frequencies['allP']"
   ]
  },
  {
   "cell_type": "markdown",
   "metadata": {},
   "source": [
    "Sorting for \"bruffness,\" for instance, we see the words distinctive of bruff: "
   ]
  },
  {
   "cell_type": "code",
   "execution_count": 227,
   "metadata": {},
   "outputs": [
    {
     "data": {
      "text/html": [
       "<div>\n",
       "<style>\n",
       "    .dataframe thead tr:only-child th {\n",
       "        text-align: right;\n",
       "    }\n",
       "\n",
       "    .dataframe thead th {\n",
       "        text-align: left;\n",
       "    }\n",
       "\n",
       "    .dataframe tbody tr th {\n",
       "        vertical-align: top;\n",
       "    }\n",
       "</style>\n",
       "<table border=\"1\" class=\"dataframe\">\n",
       "  <thead>\n",
       "    <tr style=\"text-align: right;\">\n",
       "      <th></th>\n",
       "      <th>Clack</th>\n",
       "      <th>Betteredge</th>\n",
       "      <th>Bruff</th>\n",
       "      <th>All</th>\n",
       "      <th>clackP</th>\n",
       "      <th>betP</th>\n",
       "      <th>bruffP</th>\n",
       "      <th>allP</th>\n",
       "      <th>clackness</th>\n",
       "      <th>bruffness</th>\n",
       "    </tr>\n",
       "  </thead>\n",
       "  <tbody>\n",
       "    <tr>\n",
       "      <th>of</th>\n",
       "      <td>854.0</td>\n",
       "      <td>2135.0</td>\n",
       "      <td>395.0</td>\n",
       "      <td>5603.0</td>\n",
       "      <td>2.329578</td>\n",
       "      <td>2.224260</td>\n",
       "      <td>3.246220</td>\n",
       "      <td>2.370296</td>\n",
       "      <td>-0.040718</td>\n",
       "      <td>0.875924</td>\n",
       "    </tr>\n",
       "    <tr>\n",
       "      <th>the</th>\n",
       "      <td>1592.0</td>\n",
       "      <td>4838.0</td>\n",
       "      <td>671.0</td>\n",
       "      <td>12166.0</td>\n",
       "      <td>4.342726</td>\n",
       "      <td>5.040266</td>\n",
       "      <td>5.514464</td>\n",
       "      <td>5.146710</td>\n",
       "      <td>-0.803984</td>\n",
       "      <td>0.367754</td>\n",
       "    </tr>\n",
       "    <tr>\n",
       "      <th>had</th>\n",
       "      <td>294.0</td>\n",
       "      <td>803.0</td>\n",
       "      <td>141.0</td>\n",
       "      <td>1959.0</td>\n",
       "      <td>0.801986</td>\n",
       "      <td>0.836572</td>\n",
       "      <td>1.158777</td>\n",
       "      <td>0.828736</td>\n",
       "      <td>-0.026750</td>\n",
       "      <td>0.330041</td>\n",
       "    </tr>\n",
       "    <tr>\n",
       "      <th>to</th>\n",
       "      <td>1084.0</td>\n",
       "      <td>2713.0</td>\n",
       "      <td>391.0</td>\n",
       "      <td>6955.0</td>\n",
       "      <td>2.956982</td>\n",
       "      <td>2.826424</td>\n",
       "      <td>3.213346</td>\n",
       "      <td>2.942247</td>\n",
       "      <td>0.014735</td>\n",
       "      <td>0.271100</td>\n",
       "    </tr>\n",
       "    <tr>\n",
       "      <th>was</th>\n",
       "      <td>350.0</td>\n",
       "      <td>958.0</td>\n",
       "      <td>149.0</td>\n",
       "      <td>2353.0</td>\n",
       "      <td>0.954745</td>\n",
       "      <td>0.998052</td>\n",
       "      <td>1.224523</td>\n",
       "      <td>0.995414</td>\n",
       "      <td>-0.040669</td>\n",
       "      <td>0.229109</td>\n",
       "    </tr>\n",
       "    <tr>\n",
       "      <th>that</th>\n",
       "      <td>377.0</td>\n",
       "      <td>1069.0</td>\n",
       "      <td>164.0</td>\n",
       "      <td>2647.0</td>\n",
       "      <td>1.028397</td>\n",
       "      <td>1.113692</td>\n",
       "      <td>1.347798</td>\n",
       "      <td>1.119788</td>\n",
       "      <td>-0.091391</td>\n",
       "      <td>0.228009</td>\n",
       "    </tr>\n",
       "    <tr>\n",
       "      <th>i</th>\n",
       "      <td>943.0</td>\n",
       "      <td>2044.0</td>\n",
       "      <td>326.0</td>\n",
       "      <td>5818.0</td>\n",
       "      <td>2.572356</td>\n",
       "      <td>2.129455</td>\n",
       "      <td>2.679158</td>\n",
       "      <td>2.461249</td>\n",
       "      <td>0.111107</td>\n",
       "      <td>0.217909</td>\n",
       "    </tr>\n",
       "    <tr>\n",
       "      <th>indians</th>\n",
       "      <td>6.0</td>\n",
       "      <td>52.0</td>\n",
       "      <td>32.0</td>\n",
       "      <td>120.0</td>\n",
       "      <td>0.016367</td>\n",
       "      <td>0.054174</td>\n",
       "      <td>0.262985</td>\n",
       "      <td>0.050765</td>\n",
       "      <td>-0.034398</td>\n",
       "      <td>0.212220</td>\n",
       "    </tr>\n",
       "    <tr>\n",
       "      <th>verinder</th>\n",
       "      <td>64.0</td>\n",
       "      <td>73.0</td>\n",
       "      <td>40.0</td>\n",
       "      <td>291.0</td>\n",
       "      <td>0.174582</td>\n",
       "      <td>0.076052</td>\n",
       "      <td>0.328731</td>\n",
       "      <td>0.123105</td>\n",
       "      <td>0.051477</td>\n",
       "      <td>0.205626</td>\n",
       "    </tr>\n",
       "    <tr>\n",
       "      <th>would</th>\n",
       "      <td>67.0</td>\n",
       "      <td>119.0</td>\n",
       "      <td>44.0</td>\n",
       "      <td>391.0</td>\n",
       "      <td>0.182765</td>\n",
       "      <td>0.123975</td>\n",
       "      <td>0.361604</td>\n",
       "      <td>0.165409</td>\n",
       "      <td>0.017357</td>\n",
       "      <td>0.196195</td>\n",
       "    </tr>\n",
       "    <tr>\n",
       "      <th>in</th>\n",
       "      <td>626.0</td>\n",
       "      <td>1674.0</td>\n",
       "      <td>234.0</td>\n",
       "      <td>4092.0</td>\n",
       "      <td>1.707630</td>\n",
       "      <td>1.743986</td>\n",
       "      <td>1.923077</td>\n",
       "      <td>1.731082</td>\n",
       "      <td>-0.023452</td>\n",
       "      <td>0.191995</td>\n",
       "    </tr>\n",
       "    <tr>\n",
       "      <th>indian</th>\n",
       "      <td>6.0</td>\n",
       "      <td>38.0</td>\n",
       "      <td>28.0</td>\n",
       "      <td>91.0</td>\n",
       "      <td>0.016367</td>\n",
       "      <td>0.039589</td>\n",
       "      <td>0.230112</td>\n",
       "      <td>0.038497</td>\n",
       "      <td>-0.022130</td>\n",
       "      <td>0.191615</td>\n",
       "    </tr>\n",
       "    <tr>\n",
       "      <th>their</th>\n",
       "      <td>31.0</td>\n",
       "      <td>135.0</td>\n",
       "      <td>36.0</td>\n",
       "      <td>268.0</td>\n",
       "      <td>0.084563</td>\n",
       "      <td>0.140644</td>\n",
       "      <td>0.295858</td>\n",
       "      <td>0.113375</td>\n",
       "      <td>-0.028812</td>\n",
       "      <td>0.182483</td>\n",
       "    </tr>\n",
       "    <tr>\n",
       "      <th>they</th>\n",
       "      <td>41.0</td>\n",
       "      <td>207.0</td>\n",
       "      <td>43.0</td>\n",
       "      <td>405.0</td>\n",
       "      <td>0.111842</td>\n",
       "      <td>0.215654</td>\n",
       "      <td>0.353386</td>\n",
       "      <td>0.171331</td>\n",
       "      <td>-0.059490</td>\n",
       "      <td>0.182055</td>\n",
       "    </tr>\n",
       "    <tr>\n",
       "      <th>which</th>\n",
       "      <td>174.0</td>\n",
       "      <td>269.0</td>\n",
       "      <td>73.0</td>\n",
       "      <td>988.0</td>\n",
       "      <td>0.474645</td>\n",
       "      <td>0.280246</td>\n",
       "      <td>0.599934</td>\n",
       "      <td>0.417964</td>\n",
       "      <td>0.056681</td>\n",
       "      <td>0.181970</td>\n",
       "    </tr>\n",
       "    <tr>\n",
       "      <th>his</th>\n",
       "      <td>205.0</td>\n",
       "      <td>566.0</td>\n",
       "      <td>94.0</td>\n",
       "      <td>1447.0</td>\n",
       "      <td>0.559208</td>\n",
       "      <td>0.589663</td>\n",
       "      <td>0.772518</td>\n",
       "      <td>0.612140</td>\n",
       "      <td>-0.052932</td>\n",
       "      <td>0.160379</td>\n",
       "    </tr>\n",
       "    <tr>\n",
       "      <th>luker</th>\n",
       "      <td>41.0</td>\n",
       "      <td>7.0</td>\n",
       "      <td>24.0</td>\n",
       "      <td>122.0</td>\n",
       "      <td>0.111842</td>\n",
       "      <td>0.007293</td>\n",
       "      <td>0.197239</td>\n",
       "      <td>0.051611</td>\n",
       "      <td>0.060231</td>\n",
       "      <td>0.145628</td>\n",
       "    </tr>\n",
       "    <tr>\n",
       "      <th>be</th>\n",
       "      <td>185.0</td>\n",
       "      <td>354.0</td>\n",
       "      <td>68.0</td>\n",
       "      <td>994.0</td>\n",
       "      <td>0.504651</td>\n",
       "      <td>0.368800</td>\n",
       "      <td>0.558843</td>\n",
       "      <td>0.420502</td>\n",
       "      <td>0.084149</td>\n",
       "      <td>0.138341</td>\n",
       "    </tr>\n",
       "    <tr>\n",
       "      <th>murthwaite</th>\n",
       "      <td>0.0</td>\n",
       "      <td>21.0</td>\n",
       "      <td>19.0</td>\n",
       "      <td>47.0</td>\n",
       "      <td>0.000000</td>\n",
       "      <td>0.021878</td>\n",
       "      <td>0.156147</td>\n",
       "      <td>0.019883</td>\n",
       "      <td>-0.019883</td>\n",
       "      <td>0.136264</td>\n",
       "    </tr>\n",
       "    <tr>\n",
       "      <th>moonstone</th>\n",
       "      <td>22.0</td>\n",
       "      <td>65.0</td>\n",
       "      <td>25.0</td>\n",
       "      <td>167.0</td>\n",
       "      <td>0.060013</td>\n",
       "      <td>0.067718</td>\n",
       "      <td>0.205457</td>\n",
       "      <td>0.070648</td>\n",
       "      <td>-0.010635</td>\n",
       "      <td>0.134809</td>\n",
       "    </tr>\n",
       "    <tr>\n",
       "      <th>will</th>\n",
       "      <td>98.0</td>\n",
       "      <td>180.0</td>\n",
       "      <td>42.0</td>\n",
       "      <td>513.0</td>\n",
       "      <td>0.267329</td>\n",
       "      <td>0.187525</td>\n",
       "      <td>0.345168</td>\n",
       "      <td>0.217020</td>\n",
       "      <td>0.050309</td>\n",
       "      <td>0.128148</td>\n",
       "    </tr>\n",
       "    <tr>\n",
       "      <th>her</th>\n",
       "      <td>331.0</td>\n",
       "      <td>828.0</td>\n",
       "      <td>98.0</td>\n",
       "      <td>1611.0</td>\n",
       "      <td>0.902916</td>\n",
       "      <td>0.862617</td>\n",
       "      <td>0.805391</td>\n",
       "      <td>0.681518</td>\n",
       "      <td>0.221398</td>\n",
       "      <td>0.123873</td>\n",
       "    </tr>\n",
       "    <tr>\n",
       "      <th>it</th>\n",
       "      <td>351.0</td>\n",
       "      <td>970.0</td>\n",
       "      <td>139.0</td>\n",
       "      <td>2409.0</td>\n",
       "      <td>0.957473</td>\n",
       "      <td>1.010554</td>\n",
       "      <td>1.142341</td>\n",
       "      <td>1.019105</td>\n",
       "      <td>-0.061632</td>\n",
       "      <td>0.123236</td>\n",
       "    </tr>\n",
       "    <tr>\n",
       "      <th>office</th>\n",
       "      <td>2.0</td>\n",
       "      <td>3.0</td>\n",
       "      <td>15.0</td>\n",
       "      <td>27.0</td>\n",
       "      <td>0.005456</td>\n",
       "      <td>0.003125</td>\n",
       "      <td>0.123274</td>\n",
       "      <td>0.011422</td>\n",
       "      <td>-0.005966</td>\n",
       "      <td>0.111852</td>\n",
       "    </tr>\n",
       "    <tr>\n",
       "      <th>first</th>\n",
       "      <td>34.0</td>\n",
       "      <td>133.0</td>\n",
       "      <td>31.0</td>\n",
       "      <td>342.0</td>\n",
       "      <td>0.092747</td>\n",
       "      <td>0.138560</td>\n",
       "      <td>0.254767</td>\n",
       "      <td>0.144680</td>\n",
       "      <td>-0.051933</td>\n",
       "      <td>0.110087</td>\n",
       "    </tr>\n",
       "    <tr>\n",
       "      <th>him</th>\n",
       "      <td>129.0</td>\n",
       "      <td>383.0</td>\n",
       "      <td>62.0</td>\n",
       "      <td>953.0</td>\n",
       "      <td>0.351892</td>\n",
       "      <td>0.399012</td>\n",
       "      <td>0.509533</td>\n",
       "      <td>0.403158</td>\n",
       "      <td>-0.051266</td>\n",
       "      <td>0.106376</td>\n",
       "    </tr>\n",
       "    <tr>\n",
       "      <th>at</th>\n",
       "      <td>220.0</td>\n",
       "      <td>558.0</td>\n",
       "      <td>92.0</td>\n",
       "      <td>1555.0</td>\n",
       "      <td>0.600125</td>\n",
       "      <td>0.581329</td>\n",
       "      <td>0.756082</td>\n",
       "      <td>0.657828</td>\n",
       "      <td>-0.057702</td>\n",
       "      <td>0.098254</td>\n",
       "    </tr>\n",
       "    <tr>\n",
       "      <th>money</th>\n",
       "      <td>4.0</td>\n",
       "      <td>33.0</td>\n",
       "      <td>16.0</td>\n",
       "      <td>82.0</td>\n",
       "      <td>0.010911</td>\n",
       "      <td>0.034380</td>\n",
       "      <td>0.131492</td>\n",
       "      <td>0.034689</td>\n",
       "      <td>-0.023778</td>\n",
       "      <td>0.096803</td>\n",
       "    </tr>\n",
       "    <tr>\n",
       "      <th>mr.</th>\n",
       "      <td>242.0</td>\n",
       "      <td>609.0</td>\n",
       "      <td>91.0</td>\n",
       "      <td>1550.0</td>\n",
       "      <td>0.660138</td>\n",
       "      <td>0.634461</td>\n",
       "      <td>0.747863</td>\n",
       "      <td>0.655713</td>\n",
       "      <td>0.004425</td>\n",
       "      <td>0.092151</td>\n",
       "    </tr>\n",
       "    <tr>\n",
       "      <th>position</th>\n",
       "      <td>14.0</td>\n",
       "      <td>11.0</td>\n",
       "      <td>15.0</td>\n",
       "      <td>74.0</td>\n",
       "      <td>0.038190</td>\n",
       "      <td>0.011460</td>\n",
       "      <td>0.123274</td>\n",
       "      <td>0.031305</td>\n",
       "      <td>0.006885</td>\n",
       "      <td>0.091969</td>\n",
       "    </tr>\n",
       "    <tr>\n",
       "      <th>...</th>\n",
       "      <td>...</td>\n",
       "      <td>...</td>\n",
       "      <td>...</td>\n",
       "      <td>...</td>\n",
       "      <td>...</td>\n",
       "      <td>...</td>\n",
       "      <td>...</td>\n",
       "      <td>...</td>\n",
       "      <td>...</td>\n",
       "      <td>...</td>\n",
       "    </tr>\n",
       "    <tr>\n",
       "      <th>got</th>\n",
       "      <td>18.0</td>\n",
       "      <td>127.0</td>\n",
       "      <td>4.0</td>\n",
       "      <td>241.0</td>\n",
       "      <td>0.049101</td>\n",
       "      <td>0.132310</td>\n",
       "      <td>0.032873</td>\n",
       "      <td>0.101953</td>\n",
       "      <td>-0.052852</td>\n",
       "      <td>-0.069080</td>\n",
       "    </tr>\n",
       "    <tr>\n",
       "      <th>from</th>\n",
       "      <td>117.0</td>\n",
       "      <td>280.0</td>\n",
       "      <td>29.0</td>\n",
       "      <td>746.0</td>\n",
       "      <td>0.319158</td>\n",
       "      <td>0.291706</td>\n",
       "      <td>0.238330</td>\n",
       "      <td>0.315588</td>\n",
       "      <td>0.003569</td>\n",
       "      <td>-0.077258</td>\n",
       "    </tr>\n",
       "    <tr>\n",
       "      <th>door</th>\n",
       "      <td>32.0</td>\n",
       "      <td>83.0</td>\n",
       "      <td>2.0</td>\n",
       "      <td>224.0</td>\n",
       "      <td>0.087291</td>\n",
       "      <td>0.086470</td>\n",
       "      <td>0.016437</td>\n",
       "      <td>0.094761</td>\n",
       "      <td>-0.007470</td>\n",
       "      <td>-0.078325</td>\n",
       "    </tr>\n",
       "    <tr>\n",
       "      <th>;</th>\n",
       "      <td>124.0</td>\n",
       "      <td>420.0</td>\n",
       "      <td>39.0</td>\n",
       "      <td>945.0</td>\n",
       "      <td>0.338253</td>\n",
       "      <td>0.437559</td>\n",
       "      <td>0.320513</td>\n",
       "      <td>0.399773</td>\n",
       "      <td>-0.061521</td>\n",
       "      <td>-0.079260</td>\n",
       "    </tr>\n",
       "    <tr>\n",
       "      <th>again</th>\n",
       "      <td>47.0</td>\n",
       "      <td>144.0</td>\n",
       "      <td>9.0</td>\n",
       "      <td>366.0</td>\n",
       "      <td>0.128209</td>\n",
       "      <td>0.150020</td>\n",
       "      <td>0.073964</td>\n",
       "      <td>0.154833</td>\n",
       "      <td>-0.026624</td>\n",
       "      <td>-0.080868</td>\n",
       "    </tr>\n",
       "    <tr>\n",
       "      <th>your</th>\n",
       "      <td>104.0</td>\n",
       "      <td>268.0</td>\n",
       "      <td>26.0</td>\n",
       "      <td>707.0</td>\n",
       "      <td>0.283696</td>\n",
       "      <td>0.279204</td>\n",
       "      <td>0.213675</td>\n",
       "      <td>0.299090</td>\n",
       "      <td>-0.015394</td>\n",
       "      <td>-0.085414</td>\n",
       "    </tr>\n",
       "    <tr>\n",
       "      <th>there</th>\n",
       "      <td>57.0</td>\n",
       "      <td>238.0</td>\n",
       "      <td>17.0</td>\n",
       "      <td>539.0</td>\n",
       "      <td>0.155487</td>\n",
       "      <td>0.247950</td>\n",
       "      <td>0.139711</td>\n",
       "      <td>0.228019</td>\n",
       "      <td>-0.072532</td>\n",
       "      <td>-0.088308</td>\n",
       "    </tr>\n",
       "    <tr>\n",
       "      <th>rachel</th>\n",
       "      <td>130.0</td>\n",
       "      <td>208.0</td>\n",
       "      <td>13.0</td>\n",
       "      <td>465.0</td>\n",
       "      <td>0.354620</td>\n",
       "      <td>0.216696</td>\n",
       "      <td>0.106838</td>\n",
       "      <td>0.196714</td>\n",
       "      <td>0.157906</td>\n",
       "      <td>-0.089876</td>\n",
       "    </tr>\n",
       "    <tr>\n",
       "      <th>as</th>\n",
       "      <td>216.0</td>\n",
       "      <td>825.0</td>\n",
       "      <td>80.0</td>\n",
       "      <td>1771.0</td>\n",
       "      <td>0.589214</td>\n",
       "      <td>0.859491</td>\n",
       "      <td>0.657462</td>\n",
       "      <td>0.749205</td>\n",
       "      <td>-0.159991</td>\n",
       "      <td>-0.091742</td>\n",
       "    </tr>\n",
       "    <tr>\n",
       "      <th>our</th>\n",
       "      <td>46.0</td>\n",
       "      <td>144.0</td>\n",
       "      <td>2.0</td>\n",
       "      <td>272.0</td>\n",
       "      <td>0.125481</td>\n",
       "      <td>0.150020</td>\n",
       "      <td>0.016437</td>\n",
       "      <td>0.115067</td>\n",
       "      <td>0.010414</td>\n",
       "      <td>-0.098630</td>\n",
       "    </tr>\n",
       "    <tr>\n",
       "      <th>room</th>\n",
       "      <td>73.0</td>\n",
       "      <td>123.0</td>\n",
       "      <td>8.0</td>\n",
       "      <td>393.0</td>\n",
       "      <td>0.199133</td>\n",
       "      <td>0.128142</td>\n",
       "      <td>0.065746</td>\n",
       "      <td>0.166255</td>\n",
       "      <td>0.032878</td>\n",
       "      <td>-0.100509</td>\n",
       "    </tr>\n",
       "    <tr>\n",
       "      <th>rosanna</th>\n",
       "      <td>0.0</td>\n",
       "      <td>206.0</td>\n",
       "      <td>0.0</td>\n",
       "      <td>241.0</td>\n",
       "      <td>0.000000</td>\n",
       "      <td>0.214612</td>\n",
       "      <td>0.000000</td>\n",
       "      <td>0.101953</td>\n",
       "      <td>-0.101953</td>\n",
       "      <td>-0.101953</td>\n",
       "    </tr>\n",
       "    <tr>\n",
       "      <th>cuff</th>\n",
       "      <td>1.0</td>\n",
       "      <td>186.0</td>\n",
       "      <td>0.0</td>\n",
       "      <td>248.0</td>\n",
       "      <td>0.002728</td>\n",
       "      <td>0.193776</td>\n",
       "      <td>0.000000</td>\n",
       "      <td>0.104914</td>\n",
       "      <td>-0.102186</td>\n",
       "      <td>-0.104914</td>\n",
       "    </tr>\n",
       "    <tr>\n",
       "      <th>said</th>\n",
       "      <td>124.0</td>\n",
       "      <td>383.0</td>\n",
       "      <td>30.0</td>\n",
       "      <td>845.0</td>\n",
       "      <td>0.338253</td>\n",
       "      <td>0.399012</td>\n",
       "      <td>0.246548</td>\n",
       "      <td>0.357469</td>\n",
       "      <td>-0.019217</td>\n",
       "      <td>-0.110921</td>\n",
       "    </tr>\n",
       "    <tr>\n",
       "      <th>betteredge</th>\n",
       "      <td>1.0</td>\n",
       "      <td>120.0</td>\n",
       "      <td>2.0</td>\n",
       "      <td>324.0</td>\n",
       "      <td>0.002728</td>\n",
       "      <td>0.125017</td>\n",
       "      <td>0.016437</td>\n",
       "      <td>0.137065</td>\n",
       "      <td>-0.134337</td>\n",
       "      <td>-0.120629</td>\n",
       "    </tr>\n",
       "    <tr>\n",
       "      <th>t</th>\n",
       "      <td>105.0</td>\n",
       "      <td>309.0</td>\n",
       "      <td>18.0</td>\n",
       "      <td>635.0</td>\n",
       "      <td>0.286424</td>\n",
       "      <td>0.321919</td>\n",
       "      <td>0.147929</td>\n",
       "      <td>0.268631</td>\n",
       "      <td>0.017793</td>\n",
       "      <td>-0.120702</td>\n",
       "    </tr>\n",
       "    <tr>\n",
       "      <th>she</th>\n",
       "      <td>267.0</td>\n",
       "      <td>617.0</td>\n",
       "      <td>45.0</td>\n",
       "      <td>1194.0</td>\n",
       "      <td>0.728334</td>\n",
       "      <td>0.642795</td>\n",
       "      <td>0.369822</td>\n",
       "      <td>0.505110</td>\n",
       "      <td>0.223224</td>\n",
       "      <td>-0.135288</td>\n",
       "    </tr>\n",
       "    <tr>\n",
       "      <th>a</th>\n",
       "      <td>569.0</td>\n",
       "      <td>1498.0</td>\n",
       "      <td>162.0</td>\n",
       "      <td>3467.0</td>\n",
       "      <td>1.552143</td>\n",
       "      <td>1.560628</td>\n",
       "      <td>1.331361</td>\n",
       "      <td>1.466681</td>\n",
       "      <td>0.085461</td>\n",
       "      <td>-0.135320</td>\n",
       "    </tr>\n",
       "    <tr>\n",
       "      <th>“</th>\n",
       "      <td>481.0</td>\n",
       "      <td>1212.0</td>\n",
       "      <td>139.0</td>\n",
       "      <td>3057.0</td>\n",
       "      <td>1.312093</td>\n",
       "      <td>1.262671</td>\n",
       "      <td>1.142341</td>\n",
       "      <td>1.293235</td>\n",
       "      <td>0.018858</td>\n",
       "      <td>-0.150894</td>\n",
       "    </tr>\n",
       "    <tr>\n",
       "      <th>”</th>\n",
       "      <td>481.0</td>\n",
       "      <td>1212.0</td>\n",
       "      <td>139.0</td>\n",
       "      <td>3057.0</td>\n",
       "      <td>1.312093</td>\n",
       "      <td>1.262671</td>\n",
       "      <td>1.142341</td>\n",
       "      <td>1.293235</td>\n",
       "      <td>0.018858</td>\n",
       "      <td>-0.150894</td>\n",
       "    </tr>\n",
       "    <tr>\n",
       "      <th>franklin</th>\n",
       "      <td>23.0</td>\n",
       "      <td>387.0</td>\n",
       "      <td>7.0</td>\n",
       "      <td>526.0</td>\n",
       "      <td>0.062740</td>\n",
       "      <td>0.403180</td>\n",
       "      <td>0.057528</td>\n",
       "      <td>0.222519</td>\n",
       "      <td>-0.159779</td>\n",
       "      <td>-0.164991</td>\n",
       "    </tr>\n",
       "    <tr>\n",
       "      <th>out</th>\n",
       "      <td>54.0</td>\n",
       "      <td>343.0</td>\n",
       "      <td>10.0</td>\n",
       "      <td>626.0</td>\n",
       "      <td>0.147304</td>\n",
       "      <td>0.357340</td>\n",
       "      <td>0.082183</td>\n",
       "      <td>0.264823</td>\n",
       "      <td>-0.117520</td>\n",
       "      <td>-0.182641</td>\n",
       "    </tr>\n",
       "    <tr>\n",
       "      <th>’</th>\n",
       "      <td>369.0</td>\n",
       "      <td>1191.0</td>\n",
       "      <td>108.0</td>\n",
       "      <td>2546.0</td>\n",
       "      <td>1.006574</td>\n",
       "      <td>1.240793</td>\n",
       "      <td>0.887574</td>\n",
       "      <td>1.077061</td>\n",
       "      <td>-0.070487</td>\n",
       "      <td>-0.189487</td>\n",
       "    </tr>\n",
       "    <tr>\n",
       "      <th>!</th>\n",
       "      <td>248.0</td>\n",
       "      <td>335.0</td>\n",
       "      <td>27.0</td>\n",
       "      <td>992.0</td>\n",
       "      <td>0.676505</td>\n",
       "      <td>0.349006</td>\n",
       "      <td>0.221893</td>\n",
       "      <td>0.419656</td>\n",
       "      <td>0.256849</td>\n",
       "      <td>-0.197763</td>\n",
       "    </tr>\n",
       "    <tr>\n",
       "      <th>sergeant</th>\n",
       "      <td>4.0</td>\n",
       "      <td>385.0</td>\n",
       "      <td>0.0</td>\n",
       "      <td>496.0</td>\n",
       "      <td>0.010911</td>\n",
       "      <td>0.401096</td>\n",
       "      <td>0.000000</td>\n",
       "      <td>0.209828</td>\n",
       "      <td>-0.198917</td>\n",
       "      <td>-0.209828</td>\n",
       "    </tr>\n",
       "    <tr>\n",
       "      <th>and</th>\n",
       "      <td>653.0</td>\n",
       "      <td>1945.0</td>\n",
       "      <td>200.0</td>\n",
       "      <td>4447.0</td>\n",
       "      <td>1.781282</td>\n",
       "      <td>2.026316</td>\n",
       "      <td>1.643655</td>\n",
       "      <td>1.881261</td>\n",
       "      <td>-0.099979</td>\n",
       "      <td>-0.237606</td>\n",
       "    </tr>\n",
       "    <tr>\n",
       "      <th>you</th>\n",
       "      <td>333.0</td>\n",
       "      <td>806.0</td>\n",
       "      <td>92.0</td>\n",
       "      <td>2435.0</td>\n",
       "      <td>0.908372</td>\n",
       "      <td>0.839697</td>\n",
       "      <td>0.756082</td>\n",
       "      <td>1.030104</td>\n",
       "      <td>-0.121732</td>\n",
       "      <td>-0.274022</td>\n",
       "    </tr>\n",
       "    <tr>\n",
       "      <th>,</th>\n",
       "      <td>2107.0</td>\n",
       "      <td>6281.0</td>\n",
       "      <td>707.0</td>\n",
       "      <td>14413.0</td>\n",
       "      <td>5.747565</td>\n",
       "      <td>6.543594</td>\n",
       "      <td>5.810322</td>\n",
       "      <td>6.097282</td>\n",
       "      <td>-0.349717</td>\n",
       "      <td>-0.286960</td>\n",
       "    </tr>\n",
       "    <tr>\n",
       "      <th>-</th>\n",
       "      <td>215.0</td>\n",
       "      <td>549.0</td>\n",
       "      <td>26.0</td>\n",
       "      <td>1261.0</td>\n",
       "      <td>0.586486</td>\n",
       "      <td>0.571952</td>\n",
       "      <td>0.213675</td>\n",
       "      <td>0.533454</td>\n",
       "      <td>0.053032</td>\n",
       "      <td>-0.319779</td>\n",
       "    </tr>\n",
       "    <tr>\n",
       "      <th>.</th>\n",
       "      <td>1391.0</td>\n",
       "      <td>3470.0</td>\n",
       "      <td>411.0</td>\n",
       "      <td>8819.0</td>\n",
       "      <td>3.794430</td>\n",
       "      <td>3.615073</td>\n",
       "      <td>3.377712</td>\n",
       "      <td>3.730794</td>\n",
       "      <td>0.063636</td>\n",
       "      <td>-0.353082</td>\n",
       "    </tr>\n",
       "  </tbody>\n",
       "</table>\n",
       "<p>10821 rows × 10 columns</p>\n",
       "</div>"
      ],
      "text/plain": [
       "             Clack  Betteredge  Bruff      All    clackP      betP    bruffP  \\\n",
       "of           854.0      2135.0  395.0   5603.0  2.329578  2.224260  3.246220   \n",
       "the         1592.0      4838.0  671.0  12166.0  4.342726  5.040266  5.514464   \n",
       "had          294.0       803.0  141.0   1959.0  0.801986  0.836572  1.158777   \n",
       "to          1084.0      2713.0  391.0   6955.0  2.956982  2.826424  3.213346   \n",
       "was          350.0       958.0  149.0   2353.0  0.954745  0.998052  1.224523   \n",
       "that         377.0      1069.0  164.0   2647.0  1.028397  1.113692  1.347798   \n",
       "i            943.0      2044.0  326.0   5818.0  2.572356  2.129455  2.679158   \n",
       "indians        6.0        52.0   32.0    120.0  0.016367  0.054174  0.262985   \n",
       "verinder      64.0        73.0   40.0    291.0  0.174582  0.076052  0.328731   \n",
       "would         67.0       119.0   44.0    391.0  0.182765  0.123975  0.361604   \n",
       "in           626.0      1674.0  234.0   4092.0  1.707630  1.743986  1.923077   \n",
       "indian         6.0        38.0   28.0     91.0  0.016367  0.039589  0.230112   \n",
       "their         31.0       135.0   36.0    268.0  0.084563  0.140644  0.295858   \n",
       "they          41.0       207.0   43.0    405.0  0.111842  0.215654  0.353386   \n",
       "which        174.0       269.0   73.0    988.0  0.474645  0.280246  0.599934   \n",
       "his          205.0       566.0   94.0   1447.0  0.559208  0.589663  0.772518   \n",
       "luker         41.0         7.0   24.0    122.0  0.111842  0.007293  0.197239   \n",
       "be           185.0       354.0   68.0    994.0  0.504651  0.368800  0.558843   \n",
       "murthwaite     0.0        21.0   19.0     47.0  0.000000  0.021878  0.156147   \n",
       "moonstone     22.0        65.0   25.0    167.0  0.060013  0.067718  0.205457   \n",
       "will          98.0       180.0   42.0    513.0  0.267329  0.187525  0.345168   \n",
       "her          331.0       828.0   98.0   1611.0  0.902916  0.862617  0.805391   \n",
       "it           351.0       970.0  139.0   2409.0  0.957473  1.010554  1.142341   \n",
       "office         2.0         3.0   15.0     27.0  0.005456  0.003125  0.123274   \n",
       "first         34.0       133.0   31.0    342.0  0.092747  0.138560  0.254767   \n",
       "him          129.0       383.0   62.0    953.0  0.351892  0.399012  0.509533   \n",
       "at           220.0       558.0   92.0   1555.0  0.600125  0.581329  0.756082   \n",
       "money          4.0        33.0   16.0     82.0  0.010911  0.034380  0.131492   \n",
       "mr.          242.0       609.0   91.0   1550.0  0.660138  0.634461  0.747863   \n",
       "position      14.0        11.0   15.0     74.0  0.038190  0.011460  0.123274   \n",
       "...            ...         ...    ...      ...       ...       ...       ...   \n",
       "got           18.0       127.0    4.0    241.0  0.049101  0.132310  0.032873   \n",
       "from         117.0       280.0   29.0    746.0  0.319158  0.291706  0.238330   \n",
       "door          32.0        83.0    2.0    224.0  0.087291  0.086470  0.016437   \n",
       ";            124.0       420.0   39.0    945.0  0.338253  0.437559  0.320513   \n",
       "again         47.0       144.0    9.0    366.0  0.128209  0.150020  0.073964   \n",
       "your         104.0       268.0   26.0    707.0  0.283696  0.279204  0.213675   \n",
       "there         57.0       238.0   17.0    539.0  0.155487  0.247950  0.139711   \n",
       "rachel       130.0       208.0   13.0    465.0  0.354620  0.216696  0.106838   \n",
       "as           216.0       825.0   80.0   1771.0  0.589214  0.859491  0.657462   \n",
       "our           46.0       144.0    2.0    272.0  0.125481  0.150020  0.016437   \n",
       "room          73.0       123.0    8.0    393.0  0.199133  0.128142  0.065746   \n",
       "rosanna        0.0       206.0    0.0    241.0  0.000000  0.214612  0.000000   \n",
       "cuff           1.0       186.0    0.0    248.0  0.002728  0.193776  0.000000   \n",
       "said         124.0       383.0   30.0    845.0  0.338253  0.399012  0.246548   \n",
       "betteredge     1.0       120.0    2.0    324.0  0.002728  0.125017  0.016437   \n",
       "t            105.0       309.0   18.0    635.0  0.286424  0.321919  0.147929   \n",
       "she          267.0       617.0   45.0   1194.0  0.728334  0.642795  0.369822   \n",
       "a            569.0      1498.0  162.0   3467.0  1.552143  1.560628  1.331361   \n",
       "“            481.0      1212.0  139.0   3057.0  1.312093  1.262671  1.142341   \n",
       "”            481.0      1212.0  139.0   3057.0  1.312093  1.262671  1.142341   \n",
       "franklin      23.0       387.0    7.0    526.0  0.062740  0.403180  0.057528   \n",
       "out           54.0       343.0   10.0    626.0  0.147304  0.357340  0.082183   \n",
       "’            369.0      1191.0  108.0   2546.0  1.006574  1.240793  0.887574   \n",
       "!            248.0       335.0   27.0    992.0  0.676505  0.349006  0.221893   \n",
       "sergeant       4.0       385.0    0.0    496.0  0.010911  0.401096  0.000000   \n",
       "and          653.0      1945.0  200.0   4447.0  1.781282  2.026316  1.643655   \n",
       "you          333.0       806.0   92.0   2435.0  0.908372  0.839697  0.756082   \n",
       ",           2107.0      6281.0  707.0  14413.0  5.747565  6.543594  5.810322   \n",
       "-            215.0       549.0   26.0   1261.0  0.586486  0.571952  0.213675   \n",
       ".           1391.0      3470.0  411.0   8819.0  3.794430  3.615073  3.377712   \n",
       "\n",
       "                allP  clackness  bruffness  \n",
       "of          2.370296  -0.040718   0.875924  \n",
       "the         5.146710  -0.803984   0.367754  \n",
       "had         0.828736  -0.026750   0.330041  \n",
       "to          2.942247   0.014735   0.271100  \n",
       "was         0.995414  -0.040669   0.229109  \n",
       "that        1.119788  -0.091391   0.228009  \n",
       "i           2.461249   0.111107   0.217909  \n",
       "indians     0.050765  -0.034398   0.212220  \n",
       "verinder    0.123105   0.051477   0.205626  \n",
       "would       0.165409   0.017357   0.196195  \n",
       "in          1.731082  -0.023452   0.191995  \n",
       "indian      0.038497  -0.022130   0.191615  \n",
       "their       0.113375  -0.028812   0.182483  \n",
       "they        0.171331  -0.059490   0.182055  \n",
       "which       0.417964   0.056681   0.181970  \n",
       "his         0.612140  -0.052932   0.160379  \n",
       "luker       0.051611   0.060231   0.145628  \n",
       "be          0.420502   0.084149   0.138341  \n",
       "murthwaite  0.019883  -0.019883   0.136264  \n",
       "moonstone   0.070648  -0.010635   0.134809  \n",
       "will        0.217020   0.050309   0.128148  \n",
       "her         0.681518   0.221398   0.123873  \n",
       "it          1.019105  -0.061632   0.123236  \n",
       "office      0.011422  -0.005966   0.111852  \n",
       "first       0.144680  -0.051933   0.110087  \n",
       "him         0.403158  -0.051266   0.106376  \n",
       "at          0.657828  -0.057702   0.098254  \n",
       "money       0.034689  -0.023778   0.096803  \n",
       "mr.         0.655713   0.004425   0.092151  \n",
       "position    0.031305   0.006885   0.091969  \n",
       "...              ...        ...        ...  \n",
       "got         0.101953  -0.052852  -0.069080  \n",
       "from        0.315588   0.003569  -0.077258  \n",
       "door        0.094761  -0.007470  -0.078325  \n",
       ";           0.399773  -0.061521  -0.079260  \n",
       "again       0.154833  -0.026624  -0.080868  \n",
       "your        0.299090  -0.015394  -0.085414  \n",
       "there       0.228019  -0.072532  -0.088308  \n",
       "rachel      0.196714   0.157906  -0.089876  \n",
       "as          0.749205  -0.159991  -0.091742  \n",
       "our         0.115067   0.010414  -0.098630  \n",
       "room        0.166255   0.032878  -0.100509  \n",
       "rosanna     0.101953  -0.101953  -0.101953  \n",
       "cuff        0.104914  -0.102186  -0.104914  \n",
       "said        0.357469  -0.019217  -0.110921  \n",
       "betteredge  0.137065  -0.134337  -0.120629  \n",
       "t           0.268631   0.017793  -0.120702  \n",
       "she         0.505110   0.223224  -0.135288  \n",
       "a           1.466681   0.085461  -0.135320  \n",
       "“           1.293235   0.018858  -0.150894  \n",
       "”           1.293235   0.018858  -0.150894  \n",
       "franklin    0.222519  -0.159779  -0.164991  \n",
       "out         0.264823  -0.117520  -0.182641  \n",
       "’           1.077061  -0.070487  -0.189487  \n",
       "!           0.419656   0.256849  -0.197763  \n",
       "sergeant    0.209828  -0.198917  -0.209828  \n",
       "and         1.881261  -0.099979  -0.237606  \n",
       "you         1.030104  -0.121732  -0.274022  \n",
       ",           6.097282  -0.349717  -0.286960  \n",
       "-           0.533454   0.053032  -0.319779  \n",
       ".           3.730794   0.063636  -0.353082  \n",
       "\n",
       "[10821 rows x 10 columns]"
      ]
     },
     "execution_count": 227,
     "metadata": {},
     "output_type": "execute_result"
    }
   ],
   "source": [
    "frequencies.sort_values('bruffness', ascending=False)"
   ]
  },
  {
   "cell_type": "markdown",
   "metadata": {},
   "source": [
    "Notice that `.` is token which is the least distinctive of Bruff. Is this because he has longer sentences? Let's test that theory. Here I'll create a list of sentence lengths."
   ]
  },
  {
   "cell_type": "code",
   "execution_count": 169,
   "metadata": {},
   "outputs": [],
   "source": [
    "bruffSentLens = [len(sent) for sent in nltk.sent_tokenize(bruff)]"
   ]
  },
  {
   "cell_type": "markdown",
   "metadata": {},
   "source": [
    "...and then find the average of all of them. "
   ]
  },
  {
   "cell_type": "code",
   "execution_count": 170,
   "metadata": {},
   "outputs": [
    {
     "data": {
      "text/plain": [
       "124.6065934065934"
      ]
     },
     "execution_count": 170,
     "metadata": {},
     "output_type": "execute_result"
    }
   ],
   "source": [
    "sum(bruffSentLens)/len(bruffSentLens)"
   ]
  },
  {
   "cell_type": "markdown",
   "metadata": {},
   "source": [
    "Since this is something I'm going to want to do repeatedly, I can abstract this into a function:"
   ]
  },
  {
   "cell_type": "code",
   "execution_count": 228,
   "metadata": {},
   "outputs": [],
   "source": [
    "def averageSentLen(text): \n",
    "    sentLengths = [len(sent) for sent in nltk.sent_tokenize(text)]\n",
    "    return sum(sentLengths)/len(sentLengths)"
   ]
  },
  {
   "cell_type": "code",
   "execution_count": 172,
   "metadata": {},
   "outputs": [
    {
     "data": {
      "text/plain": [
       "124.6065934065934"
      ]
     },
     "execution_count": 172,
     "metadata": {},
     "output_type": "execute_result"
    }
   ],
   "source": [
    "averageSentLen(bruff)"
   ]
  },
  {
   "cell_type": "code",
   "execution_count": 174,
   "metadata": {},
   "outputs": [
    {
     "data": {
      "text/plain": [
       "100.13305489260144"
      ]
     },
     "execution_count": 174,
     "metadata": {},
     "output_type": "execute_result"
    }
   ],
   "source": [
    "averageSentLen(clack)"
   ]
  },
  {
   "cell_type": "code",
   "execution_count": 175,
   "metadata": {},
   "outputs": [
    {
     "data": {
      "text/plain": [
       "112.3322818086225"
      ]
     },
     "execution_count": 175,
     "metadata": {},
     "output_type": "execute_result"
    }
   ],
   "source": [
    "averageSentLen(bet)"
   ]
  },
  {
   "cell_type": "markdown",
   "metadata": {},
   "source": [
    "Yep. Bruff has the longest sentences of anyone, so far. "
   ]
  }
 ],
 "metadata": {
  "kernelspec": {
   "display_name": "Python 3",
   "language": "python",
   "name": "python3"
  },
  "language_info": {
   "codemirror_mode": {
    "name": "ipython",
    "version": 3
   },
   "file_extension": ".py",
   "mimetype": "text/x-python",
   "name": "python",
   "nbconvert_exporter": "python",
   "pygments_lexer": "ipython3",
   "version": "3.6.6"
  }
 },
 "nbformat": 4,
 "nbformat_minor": 2
}
