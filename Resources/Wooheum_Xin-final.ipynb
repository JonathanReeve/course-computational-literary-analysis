{
 "cells": [
  {
   "cell_type": "markdown",
   "metadata": {},
   "source": [
    "# Write a categorizer\n",
    "\n",
    "## Wooheum Xin\n",
    "\n",
    "13 August 2022\n",
    "\n",
    "Introduction to Computational Literary Analysis\n",
    "\n",
    "Department of Digital Humanities, University of California, Berkeley\n",
    "\n",
    "Instructor: Jonathan Reeve"
   ]
  },
  {
   "cell_type": "code",
   "execution_count": 1,
   "metadata": {},
   "outputs": [
    {
     "name": "stderr",
     "output_type": "stream",
     "text": [
      "c:\\Users\\xin98\\.conda\\envs\\notebook\\lib\\site-packages\\scipy\\__init__.py:146: UserWarning: A NumPy version >=1.16.5 and <1.23.0 is required for this version of SciPy (detected version 1.23.1\n",
      "  warnings.warn(f\"A NumPy version >={np_minversion} and <{np_maxversion}\"\n"
     ]
    }
   ],
   "source": [
    "import spacy\n",
    "import nltk\n",
    "import pandas as pd\n",
    "import sklearn\n",
    "import numpy as np\n",
    "import string\n",
    "import json\n",
    "import requests\n",
    "import random\n",
    "import seaborn as sns\n",
    "import matplotlib\n",
    "import matplotlib.pyplot as plt\n",
    "from tqdm.notebook import tqdm\n",
    "from collections import Counter\n",
    "from nltk.corpus import stopwords\n",
    "from sklearn.base import TransformerMixin\n",
    "from sklearn.feature_extraction._stop_words import ENGLISH_STOP_WORDS\n",
    "from sklearn.feature_extraction.text import CountVectorizer\n",
    "from sklearn.metrics import accuracy_score\n",
    "from sklearn.svm import LinearSVC\n",
    "from sklearn.pipeline import Pipeline\n",
    "from sklearn.model_selection import train_test_split\n",
    "from sklearn import metrics\n",
    "nlp = spacy.load('en_core_web_lg')"
   ]
  },
  {
   "cell_type": "markdown",
   "metadata": {},
   "source": [
    "### Go to corpus-db to see which subjects are available"
   ]
  },
  {
   "cell_type": "code",
   "execution_count": 2,
   "metadata": {},
   "outputs": [
    {
     "data": {
      "text/plain": [
       "[['Fiction', 1920],\n",
       " ['Short stories', 1581],\n",
       " ['Science fiction', 1283],\n",
       " ['Adventure stories', 766],\n",
       " ['Historical fiction', 634],\n",
       " ['Poetry', 633],\n",
       " ['Love stories', 619],\n",
       " [', ', 557],\n",
       " ['English wit and humor -- Periodicals', 555],\n",
       " ['Conduct of life -- Juvenile fiction', 554],\n",
       " ['Detective and mystery stories', 537],\n",
       " ['Western stories', 432],\n",
       " ['Man-woman relationships -- Fiction', 389],\n",
       " ['England -- Fiction', 309],\n",
       " ['Friendship -- Juvenile fiction', 307]]"
      ]
     },
     "execution_count": 2,
     "metadata": {},
     "output_type": "execute_result"
    }
   ],
   "source": [
    "baseURL = \"http://corpus-db.org\" \n",
    "allSubjects = requests.get(baseURL + \"/api/subjects\").text\n",
    "subjects = json.loads(allSubjects)\n",
    "subjects[:15]"
   ]
  },
  {
   "cell_type": "markdown",
   "metadata": {},
   "source": [
    "### Determined by four subjects\n",
    ">'Detective and mystery stories','Adventure stories','Love stories','Science fiction'"
   ]
  },
  {
   "cell_type": "code",
   "execution_count": 3,
   "metadata": {},
   "outputs": [],
   "source": [
    "sub_list=['Detective and mystery stories','Adventure stories','Love stories','Science fiction']\n",
    "AllMeta={} \n",
    "def getMeta(sub_list):\n",
    "    for sub in sub_list:\n",
    "        AllMeta[sub]=json.loads(requests.get(baseURL + \"/api/subject/\"+sub).text)\n",
    "getMeta(sub_list)"
   ]
  },
  {
   "cell_type": "code",
   "execution_count": 4,
   "metadata": {},
   "outputs": [],
   "source": [
    "def Meta2Fulltext(Meta,num):\n",
    "    Fulltext,usefull_link=[],[]\n",
    "    counter=0\n",
    "    for index in range(len(Meta)):\n",
    "        start_num=Meta[index]['formats'].find('text/plain; charset=utf-8')+29\n",
    "        if(start_num==28):\n",
    "            start_num=Meta[index]['formats'].find(\"text/plain':\")+14\n",
    "            if(start_num==13):\n",
    "                continue\n",
    "        new_str=Meta[index]['formats'][start_num:]\n",
    "        weblink=new_str[:new_str.find(\"'\")]\n",
    "        if(weblink[-3:]=='zip'):\n",
    "            continue\n",
    "        usefull_link.append(weblink)\n",
    "        counter=counter+1\n",
    "        if(counter==num):\n",
    "            break\n",
    "    for index in tqdm(range(len(usefull_link))):\n",
    "        tmptext=requests.get(usefull_link[index])\n",
    "        Fulltext.append(tmptext.text)\n",
    "    return Fulltext"
   ]
  },
  {
   "cell_type": "code",
   "execution_count": 5,
   "metadata": {},
   "outputs": [
    {
     "name": "stdout",
     "output_type": "stream",
     "text": [
      "Loading :Detective and mystery stories\n"
     ]
    },
    {
     "data": {
      "application/vnd.jupyter.widget-view+json": {
       "model_id": "790b9a97ff50411599d93344ed6f71f1",
       "version_major": 2,
       "version_minor": 0
      },
      "text/plain": [
       "  0%|          | 0/10 [00:00<?, ?it/s]"
      ]
     },
     "metadata": {},
     "output_type": "display_data"
    },
    {
     "name": "stdout",
     "output_type": "stream",
     "text": [
      "Loading :Adventure stories\n"
     ]
    },
    {
     "data": {
      "application/vnd.jupyter.widget-view+json": {
       "model_id": "789cdee2587e4644a25af565b1de507c",
       "version_major": 2,
       "version_minor": 0
      },
      "text/plain": [
       "  0%|          | 0/10 [00:00<?, ?it/s]"
      ]
     },
     "metadata": {},
     "output_type": "display_data"
    },
    {
     "name": "stdout",
     "output_type": "stream",
     "text": [
      "Loading :Love stories\n"
     ]
    },
    {
     "data": {
      "application/vnd.jupyter.widget-view+json": {
       "model_id": "4d8154a7114d4d0d848dd32db77647f8",
       "version_major": 2,
       "version_minor": 0
      },
      "text/plain": [
       "  0%|          | 0/10 [00:00<?, ?it/s]"
      ]
     },
     "metadata": {},
     "output_type": "display_data"
    },
    {
     "name": "stdout",
     "output_type": "stream",
     "text": [
      "Loading :Science fiction\n"
     ]
    },
    {
     "data": {
      "application/vnd.jupyter.widget-view+json": {
       "model_id": "ca67969056db4da18cb553d989b05e58",
       "version_major": 2,
       "version_minor": 0
      },
      "text/plain": [
       "  0%|          | 0/10 [00:00<?, ?it/s]"
      ]
     },
     "metadata": {},
     "output_type": "display_data"
    }
   ],
   "source": [
    "AllText={}\n",
    "for key, value in AllMeta.items():\n",
    "    print(\"Loading :\"+key)\n",
    "    AllText[key]=Meta2Fulltext(value,10)"
   ]
  },
  {
   "cell_type": "markdown",
   "metadata": {},
   "source": [
    "### Clearing any unwanted parts of the text."
   ]
  },
  {
   "cell_type": "code",
   "execution_count": 6,
   "metadata": {},
   "outputs": [],
   "source": [
    "STOPLIST = set(stopwords.words('english') + list(ENGLISH_STOP_WORDS))\n",
    "SYMBOLS = \" \".join(string.punctuation).split(\" \") + [\"-\", \"...\", \"”\", \"”\"]\n",
    "def Get_Text(ALLTexts):\n",
    "    df=pd.DataFrame(columns=['subject','novel'])\n",
    "    for cate,novel in ALLTexts.items():\n",
    "        for text in novel:\n",
    "            end_num=text.find(\"*** END OF \")\n",
    "            start_num=text.find(\"*** START OF \")+3\n",
    "            tmp=text[start_num:].find(\"***\")+3\n",
    "            finalText=text[start_num+tmp:end_num]\n",
    "            finalText = finalText.strip().replace(\"\\n\", \" \").replace(\"\\r\", \" \")\n",
    "            finalText = finalText.lower()\n",
    "            df.loc[len(df.index)]=[cate,finalText ]\n",
    "    return df"
   ]
  },
  {
   "cell_type": "markdown",
   "metadata": {},
   "source": [
    "### Separating 33% of the dataset for testing purposes"
   ]
  },
  {
   "cell_type": "code",
   "execution_count": 7,
   "metadata": {},
   "outputs": [
    {
     "name": "stdout",
     "output_type": "stream",
     "text": [
      "Training Data Shape: (26, 2)\n",
      "Testing Data Shape: (14, 2)\n"
     ]
    }
   ],
   "source": [
    "AllCleanText=Get_Text(AllText)\n",
    "train, test = train_test_split(AllCleanText, test_size=0.33, random_state=42)\n",
    "print('Training Data Shape:', train.shape)\n",
    "print('Testing Data Shape:', test.shape)"
   ]
  },
  {
   "cell_type": "markdown",
   "metadata": {},
   "source": [
    "### Use spaCy for text preprocessing, and then try to find the most used word in each subject"
   ]
  },
  {
   "cell_type": "code",
   "execution_count": 8,
   "metadata": {},
   "outputs": [
    {
     "data": {
      "application/vnd.jupyter.widget-view+json": {
       "model_id": "539b28783df644ab9c73fd524e1675aa",
       "version_major": 2,
       "version_minor": 0
      },
      "text/plain": [
       "  0%|          | 0/7 [00:00<?, ?it/s]"
      ]
     },
     "metadata": {},
     "output_type": "display_data"
    },
    {
     "data": {
      "application/vnd.jupyter.widget-view+json": {
       "model_id": "755c132157f94631937711a4138f066b",
       "version_major": 2,
       "version_minor": 0
      },
      "text/plain": [
       "  0%|          | 0/5 [00:00<?, ?it/s]"
      ]
     },
     "metadata": {},
     "output_type": "display_data"
    },
    {
     "data": {
      "application/vnd.jupyter.widget-view+json": {
       "model_id": "98b8ad9d32544f0982d546dd0bacb448",
       "version_major": 2,
       "version_minor": 0
      },
      "text/plain": [
       "  0%|          | 0/7 [00:00<?, ?it/s]"
      ]
     },
     "metadata": {},
     "output_type": "display_data"
    },
    {
     "data": {
      "application/vnd.jupyter.widget-view+json": {
       "model_id": "8c7ba51ccc1d4763965e1e5c779bd8d8",
       "version_major": 2,
       "version_minor": 0
      },
      "text/plain": [
       "  0%|          | 0/7 [00:00<?, ?it/s]"
      ]
     },
     "metadata": {},
     "output_type": "display_data"
    }
   ],
   "source": [
    "nlp.max_length = 20000000\n",
    "punctuations = string.punctuation\n",
    "def cleanup_text(docs, logging=True):\n",
    "    texts = []\n",
    "    counter = 1\n",
    "    pbar=tqdm(docs)\n",
    "    for doc in pbar:\n",
    "        if counter % 1000 != 0 and logging:\n",
    "            pbar.set_description(\"Processing %s\" %counter)\n",
    "            # print(\"Processed %d out of %d documents.\" % (counter, len(docs)))\n",
    "        counter += 1\n",
    "        doc = nlp(doc, disable=['parser', 'ner'])\n",
    "        tokens = [tok.lemma_.lower().strip() for tok in doc if tok.lemma_ != '-PRON-']\n",
    "        tokens = [tok for tok in tokens if tok not in STOPLIST and tok not in punctuations]\n",
    "        tokens = ' '.join(tokens)\n",
    "        texts.append(tokens)\n",
    "    return pd.Series(texts)\n",
    "clean_text={}\n",
    "for sub in sub_list:\n",
    "    clean_text[sub]=[text for text in train[train['subject'] == sub]['novel']]\n",
    "    clean_text[sub]=' '.join(cleanup_text(clean_text[sub])).split()"
   ]
  },
  {
   "cell_type": "code",
   "execution_count": 9,
   "metadata": {},
   "outputs": [
    {
     "name": "stderr",
     "output_type": "stream",
     "text": [
      "c:\\Users\\xin98\\.conda\\envs\\notebook\\lib\\site-packages\\IPython\\core\\pylabtools.py:151: UserWarning: Glyph 128 (\\x80) missing from current font.\n",
      "  fig.canvas.print_figure(bytes_io, **kw)\n",
      "c:\\Users\\xin98\\.conda\\envs\\notebook\\lib\\site-packages\\IPython\\core\\pylabtools.py:151: UserWarning: Glyph 157 (\\x9d) missing from current font.\n",
      "  fig.canvas.print_figure(bytes_io, **kw)\n"
     ]
    },
    {
     "data": {
      "image/png": "[encoded data removed]",
      "text/plain": [
       "<Figure size 1296x432 with 1 Axes>"
      ]
     },
     "metadata": {
      "needs_background": "light"
     },
     "output_type": "display_data"
    },
    {
     "data": {
      "image/png": "[encoded data removed]",
      "text/plain": [
       "<Figure size 1296x432 with 1 Axes>"
      ]
     },
     "metadata": {
      "needs_background": "light"
     },
     "output_type": "display_data"
    },
    {
     "data": {
      "image/png": "[encoded data removed]",
      "text/plain": [
       "<Figure size 1296x432 with 1 Axes>"
      ]
     },
     "metadata": {
      "needs_background": "light"
     },
     "output_type": "display_data"
    },
    {
     "data": {
      "image/png": "[encoded data removed]",
      "text/plain": [
       "<Figure size 1296x432 with 1 Axes>"
      ]
     },
     "metadata": {
      "needs_background": "light"
     },
     "output_type": "display_data"
    }
   ],
   "source": [
    "for sub in sub_list:\n",
    "    counts=Counter(clean_text[sub])\n",
    "    common_words=[word[0] for word in counts.most_common(20)]\n",
    "    common_counts= [word[1] for word in counts.most_common(20)]\n",
    "    fig = plt.figure(figsize=(18,6))\n",
    "    sns.barplot(x=common_words, y=common_counts)\n",
    "    plt.title('Most Common Words used in the subject for '+sub)\n",
    "    plt.rc('font', family='SimSun')\n",
    "    plt.show()"
   ]
  },
  {
   "cell_type": "markdown",
   "metadata": {},
   "source": [
    "## Machine Learning with SpaCy\n",
    "### First we load the spacy model Create language processing objects.Then clean up the text with spaCy.Finally, we define a function to show the most significant features, with the highest correlation coefficients"
   ]
  },
  {
   "cell_type": "code",
   "execution_count": 10,
   "metadata": {},
   "outputs": [],
   "source": [
    "nlp.max_length = 30000000\n",
    "def cleanText_spacy(text):\n",
    "    text = text.strip().replace(\"\\n\", \" \").replace(\"\\r\", \" \")\n",
    "    text = text.lower()\n",
    "    return text\n",
    "class CleanTextTransformer(TransformerMixin):   \n",
    "    def transform(self, X, **transform_params):\n",
    "        return [cleanText_spacy(text) for text in X]\n",
    "    def fit(self, X, y=None, **fit_params):\n",
    "        return self\n",
    "    def get_params(self, deep=True):\n",
    "        return {}\n",
    "def tokenizeText(sample):\n",
    "    tokens = nlp(sample)\n",
    "    lemmas = []\n",
    "    for tok in tokens:\n",
    "        lemmas.append(tok.lemma_.lower().strip() if tok.lemma_ != \"-PRON-\" else tok.lower_)\n",
    "    tokens = [tok for tok in lemmas if tok not in [list(STOPLIST)+SYMBOLS]]\n",
    "    return tokens\n",
    "def printNMostInformative(vectorizer, clf, N):\n",
    "    feature_names = vectorizer.get_feature_names_out()\n",
    "    subject_with_fns = sorted(zip(clf.coef_[0], feature_names))\n",
    "    topClass1 = subject_with_fns[:N]\n",
    "    topClass2 = subject_with_fns[:-(N + 1):-1]\n",
    "    print(\"Class 1 best: \")\n",
    "    for feat in topClass1:\n",
    "        print(feat)\n",
    "    print(\"Class 2 best: \")\n",
    "    for feat in topClass2:\n",
    "        print(feat)\n",
    "vectorizer = CountVectorizer(tokenizer=tokenizeText, ngram_range=(2,2))\n",
    "clf = LinearSVC(max_iter=1500000,verbose=True)\n",
    "pipe = Pipeline([('cleanText', CleanTextTransformer()), ('vectorizer', vectorizer), ('clf', clf)])"
   ]
  },
  {
   "cell_type": "code",
   "execution_count": 11,
   "metadata": {},
   "outputs": [],
   "source": [
    "# data\n",
    "train1 = train['novel'].tolist()\n",
    "labelsTrain1 = train['subject'].tolist()\n",
    "test1 = test['novel'].tolist()\n",
    "labelsTest1 = test['subject'].tolist()"
   ]
  },
  {
   "cell_type": "code",
   "execution_count": 12,
   "metadata": {},
   "outputs": [
    {
     "name": "stdout",
     "output_type": "stream",
     "text": [
      "[LibLinear]"
     ]
    },
    {
     "data": {
      "text/plain": [
       "Pipeline(steps=[('cleanText',\n",
       "                 <__main__.CleanTextTransformer object at 0x0000025FEBBC6F40>),\n",
       "                ('vectorizer',\n",
       "                 CountVectorizer(ngram_range=(2, 2),\n",
       "                                 tokenizer=<function tokenizeText at 0x0000025F9CE93790>)),\n",
       "                ('clf', LinearSVC(max_iter=1500000, verbose=True))])"
      ]
     },
     "execution_count": 12,
     "metadata": {},
     "output_type": "execute_result"
    }
   ],
   "source": [
    "# train\n",
    "pipe.fit(train1, labelsTrain1)"
   ]
  },
  {
   "cell_type": "code",
   "execution_count": 13,
   "metadata": {},
   "outputs": [
    {
     "name": "stdout",
     "output_type": "stream",
     "text": [
      "accuracy: 0.7857142857142857\n",
      "Top 10 features used to predict: \n",
      "Class 1 best: \n",
      "(-0.0016522296201464616, ', â\\x80\\x9d')\n",
      "(-0.0010841411454976591, '. ')\n",
      "(-0.0010537286071259802, '= =')\n",
      "(-0.0010219752716888548, '. i')\n",
      "(-0.0009031155068184193, 'i have')\n",
      "(-0.0008996563028014741, 'i be')\n",
      "(-0.000895866854669399, ', i')\n",
      "(-0.0008216683706886048, '; and')\n",
      "(-0.0008214409213043977, '. the')\n",
      "(-0.0007419863712896687, 'of the')\n",
      "Class 2 best: \n",
      "(0.008027005530948038, ' the')\n",
      "(0.001735883661326808, '. .')\n",
      "(0.0009242538752650433, 'the pequod')\n",
      "(0.0008526040844898001, ', and')\n",
      "(0.0006517525575467015, 'the cabin')\n",
      "(0.00064833459187691, ' it')\n",
      "(0.0006233780499605717, 'meet the')\n",
      "(0.0006178203342080192, ' he')\n",
      "(0.0006161692501766945, 'whale ')\n",
      "(0.0006161692501766945, 'the whale')\n"
     ]
    }
   ],
   "source": [
    "# test\n",
    "preds = pipe.predict(test1)\n",
    "print(\"accuracy:\", accuracy_score(labelsTest1, preds))\n",
    "print(\"Top 10 features used to predict: \")\n",
    "printNMostInformative(vectorizer, clf, 10)"
   ]
  },
  {
   "cell_type": "code",
   "execution_count": 14,
   "metadata": {},
   "outputs": [],
   "source": [
    "pipe = Pipeline([('cleanText', CleanTextTransformer()), ('vectorizer', vectorizer)])\n",
    "transform = pipe.fit_transform(train1, labelsTrain1)\n",
    "vocab = vectorizer.get_feature_names_out()\n",
    "for i in range(len(train1)):\n",
    "    s = \"\"\n",
    "    indexIntoVocab = transform.indices[transform.indptr[i]:transform.indptr[i+1]]\n",
    "    numOccurences = transform.data[transform.indptr[i]:transform.indptr[i+1]]\n",
    "    for idx, num in zip(indexIntoVocab, numOccurences):\n",
    "        s += str((vocab[idx], num))"
   ]
  },
  {
   "cell_type": "markdown",
   "metadata": {},
   "source": [
    "### Calculation accuracy, recall, F1 score:"
   ]
  },
  {
   "cell_type": "code",
   "execution_count": 15,
   "metadata": {},
   "outputs": [
    {
     "name": "stdout",
     "output_type": "stream",
     "text": [
      "                               precision    recall  f1-score   support\n",
      "\n",
      "Detective and mystery stories       0.71      1.00      0.83         5\n",
      "            Adventure stories       0.67      0.67      0.67         3\n",
      "                 Love stories       1.00      0.67      0.80         3\n",
      "              Science fiction       1.00      0.67      0.80         3\n",
      "\n",
      "                     accuracy                           0.79        14\n",
      "                    macro avg       0.85      0.75      0.77        14\n",
      "                 weighted avg       0.83      0.79      0.78        14\n",
      "\n"
     ]
    }
   ],
   "source": [
    "print(metrics.classification_report(labelsTest1, preds, target_names=sub_list))"
   ]
  }
 ],
 "metadata": {
  "kernelspec": {
   "display_name": "Python 3.9.12 ('notebook')",
   "language": "python",
   "name": "python3"
  },
  "language_info": {
   "codemirror_mode": {
    "name": "ipython",
    "version": 3
   },
   "file_extension": ".py",
   "mimetype": "text/x-python",
   "name": "python",
   "nbconvert_exporter": "python",
   "pygments_lexer": "ipython3",
   "version": "3.9.12"
  },
  "vscode": {
   "interpreter": {
    "hash": "98610404e4cea0688f837f10e73ecc4df58f27266ebad8bacdb4a3fb12a86a2e"
   }
  }
 },
 "nbformat": 4,
 "nbformat_minor": 4
}
