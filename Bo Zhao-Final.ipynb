{
 "cells": [
  {
   "cell_type": "markdown",
   "metadata": {},
   "source": [
    "# Digital Humanities and Text and Language Analysis\n",
    "## Zhao, Bo\n",
    "# Commonalities of Detective Novels, from _The Moonstone_ to _Sherlock Holmes_\n",
    "Instructions: \n",
    "\n",
    "1. Replace \"yourname\" in the title of this notebook, and \"your name here\" in the markdown above, with your name.\n",
    "2. Create a title for your final project. Preferably, this should indicate what your argument is. Replace \"your title here\" in the markdown above with your title.\n",
    "3. Write your paper, and include everything (your prose in Markdown, your code, and your figures) in this notebook. Don't include the texts you're analyzing. If you generated your corpus programmatically (i.e. using corpus-db.org or some fancy Python), maybe you'll want to include that in the code somewhere here. Your notebook file (`.ipynb`) will be the only thing you turn in.  \n",
    "3. Annotate your code using markdown cells, and/or comment lines (lines beginning with `#`), explaining why you're doing what you're doing. If one of your functions takes certain parameters, for instance, why did you choose those parameters? \n",
    "3. Prune your notebook of unnecessary or redundant code. Run all your code again, to show that it works as-is. Each code cell should have a number in it, and an output, if applicable. \n",
    "4. Proofread well! If English is not your first language, you might consider making an appointment with [the Writing Center](https://slc.berkeley.edu/appointment-service) to get help polishing the language of your paper. At the minimum, you'll want to use a spell checker and maybe even an automatic grammar-checking service like [Grammerly](https://www.grammarly.com/). (Of course, you now have the tools to analyze your own writing, if you want. You can get your markdown text into Python by adapting the word count function below, and use it to analyze your most frequent n-grams!) You might also consider organizing a mutual editing session with classmates.\n",
    "4. Ensure that you have no more than three plots (figures). One figure with several subplots is OK, and counts as one figure.\n",
    "4. If you quote from or reference literary works, or works of criticirm, provide in-text parenthetical citations. Then create a bibliographic entry for each work you cite, and include them at the end. Unless your discipline requires a different format, use [MLA Style](https://style.mla.org/) as the format for your bibliography, and title it \"works cited.\" \n",
    "4. Replace the value of the `filename` variable in the wordcount cell below to the name your file. (E.g., `Jonathan-Final.ipynb`.) Then run the wordcount cell. Ensure that your paper is between 1000 and 2000 words, so it doesn't give you any errors or warnings.  \n",
    "5. Optionally, and for a 5% bonus, add your notebook to the `/Projects` directory of the course repository, and submit it as a pull request. Your project will then become public. \n",
    "6. Email me your `.ipynb` file: jonathan.reeve@columbia.edu. Please email me only your `.ipynb` file, alone and uncompressed. Please don't respond to an existing email, but create a new email, with the subject: `Yourname: Final Project`, replacing `yourname` with your name. Do this regardless of whether you also submit a pull request. \n",
    "7. Celebrate! You've finished your final project, and gloriously completed _Introduction to Computational Literary Analysis_!"
   ]
  },
  {
   "cell_type": "code",
   "execution_count": 96,
   "metadata": {},
   "outputs": [],
   "source": [
    "# Import all your libraries here, and only here, please.\n",
    "\n",
    "# Don't remove this line. It's necessary for the wordcount function \n",
    "# below to work. \n",
    "from IPython.nbformat import current\n",
    "from nltk.corpus import brown\n",
    "from nltk.text import Text\n",
    "from collections import Counter\n",
    "from textblob import TextBlob\n",
    "import pandas as pd\n",
    "from nltk import word_tokenize, sent_tokenize, pos_tag, ngrams, pos_tag_sents\n",
    "from sklearn.feature_extraction.text import TfidfVectorizer\n",
    "from sklearn.decomposition import PCA\n",
    "import requests\n",
    "import json\n",
    "\n",
    "\n",
    "\n",
    "# This is to make your plots a little bigger.\n",
    "# You may adjust this, but be careful of making your plots too big or too small.\n",
    "import matplotlib.pyplot as plt\n",
    "%matplotlib inline\n",
    "plt.rcParams['figure.figsize'] = [10, 5]"
   ]
  },
  {
   "cell_type": "markdown",
   "metadata": {},
   "source": [
    "## Introduction\n",
    "In the history of the United Kingdom, while Romantic poetry had been the dominant genre, it was the novel that was most important in the Victorian period, from 1837 to 1901. It is known to all that Charles Dickens dominated the first part of Victoria's reign; William Thackeray's Vanity Fair appeared in 1848, and the three Brontë sisters, Charlotte, Emily and Anne, also published significant works in the 1840s. At the same period of time, Wilkie Collins published The Moonstone, known as the first detective novel. About two decades later, still in the Victorian era, Arthur Conan Doyle published the corpora of _Sherlock Holmes_, which is also the name of a famous detective with super-human characteristics in the UK. However, the sensibility of Doyle's writing is often regarded as Edwardian despite his works came out in the Victorian period. There might be some underlying associations and common features between the two famous detective novels since it is believed Arthur Conan Doyle was influenced by Wilkie Collins."
   ]
  },
  {
   "cell_type": "markdown",
   "metadata": {},
   "source": [
    "Firstly, open all the texts I will analyze and split some of them."
   ]
  },
  {
   "cell_type": "code",
   "execution_count": 97,
   "metadata": {
    "collapsed": true
   },
   "outputs": [],
   "source": [
    "response = requests.get('http://corpus-db.org/api/author/Doyle, Arthur Conan')\n",
    "response.ok\n",
    "parsed = json.loads(response.text)"
   ]
  },
  {
   "cell_type": "code",
   "execution_count": 98,
   "metadata": {
    "scrolled": true
   },
   "outputs": [
    {
     "data": {
      "text/plain": [
       "[('108.0', 'The Return of Sherlock Holmes'),\n",
       " ('126.0', 'The Poison Belt'),\n",
       " ('139.0', 'The Lost World'),\n",
       " ('221.0', 'The Return of Sherlock Holmes'),\n",
       " ('244.0', 'A Study in Scarlet'),\n",
       " ('290.0',\n",
       "  'The Stark Munro Letters: Being series of twelve letters written by J. Stark Munro, M.B., to his friend and former fellow-student, Herbert Swanborough, of Lowell, Massachusetts, during the years 1881-1884'),\n",
       " ('294.0', 'The Captain of the Polestar, and Other Tales'),\n",
       " ('355.0', 'The Parasite: A Story'),\n",
       " ('356.0', 'Beyond the City'),\n",
       " ('423.0', 'Round the Red Lamp: Being Facts and Fancies of Medical Life'),\n",
       " ('439.0', 'The Vital Message'),\n",
       " ('537.0', 'Tales of Terror and Mystery'),\n",
       " ('834.0', 'The Memoirs of Sherlock Holmes'),\n",
       " ('903.0', 'The White Company'),\n",
       " ('1638.0', 'The New Revelation'),\n",
       " ('1644.0', 'The Adventures of Gerard'),\n",
       " ('1661.0', 'The Adventures of Sherlock Holmes'),\n",
       " ('2097.0', 'The Sign of the Four'),\n",
       " ('2343.0', 'The Adventure of Wisteria Lodge'),\n",
       " ('2344.0', 'The Adventure of the Cardboard Box'),\n",
       " ('2345.0', 'The Adventure of the Red Circle'),\n",
       " ('2346.0', 'The Adventure of the Bruce-Partington Plans'),\n",
       " ('2347.0', 'The Adventure of the Dying Detective'),\n",
       " ('2348.0', 'The Disappearance of Lady Frances Carfax'),\n",
       " ('2349.0', \"The Adventure of the Devil's Foot\"),\n",
       " ('2350.0', 'His Last Bow: An Epilogue of Sherlock Holmes'),\n",
       " ('2845.0', 'Sir Nigel'),\n",
       " ('2852.0', 'The Hound of the Baskervilles'),\n",
       " ('3069.0', 'The Great Boer War'),\n",
       " ('3070.0', 'The Hound of the Baskervilles'),\n",
       " ('3289.0', 'The Valley of Fear'),\n",
       " ('3776.0', 'The Valley of Fear'),\n",
       " ('4295.0', 'Songs of Action'),\n",
       " ('5148.0', 'Rodney Stone'),\n",
       " ('5260.0', 'A Duet, with an Occasional Chorus'),\n",
       " ('5317.0', 'Through the Magic Door'),\n",
       " ('7964.0', 'The Mystery of Cloomber'),\n",
       " ('8394.0', 'The Doings of Raffles Haw'),\n",
       " ('8727.0', 'The Last Galley; Impressions and Tales'),\n",
       " ('9504.0',\n",
       "  'Micah Clarke: His Statement as made to his three grandchildren Joseph,; Gervas and Reuben During the Hard Winter of 1734'),\n",
       " ('9874.0', 'A Visit to Three Fronts: June 1916'),\n",
       " ('10446.0', 'The Green Flag, and Other Stories of War and Sport'),\n",
       " ('10581.0', 'Uncle Bernac: A Memory of the Empire'),\n",
       " ('11247.0', 'The Exploits of Brigadier Gerard'),\n",
       " ('11413.0', 'The Refugees: A Tale of Two Continents'),\n",
       " ('11656.0', 'The Great Shadow and Other Napoleonic Tales'),\n",
       " ('12555.0', 'The Tragedy of the Korosko'),\n",
       " ('13152.0', 'The Firm of Girdlestone'),\n",
       " ('13734.0', 'Jim Harrison, boxeur'),\n",
       " ('13735.0', 'La grande ombre'),\n",
       " ('13795.0', 'Nouveaux mystères et aventures'),\n",
       " ('14254.0', 'Enoni: muistoja Napoleonin ajoilta'),\n",
       " ('15949.0', 'Le Horror Altissime = The Horror of the Heights'),\n",
       " ('17398.0', \"The Cabman's Story: The Mysteries of a London 'Growler'\"),\n",
       " ('18716.0', 'Micah Clarke - Tome I: Les recrues de Monmouth'),\n",
       " ('18717.0', 'Micah Clarke - Tome II: Le Capitaine Micah Clarke'),\n",
       " ('18718.0', 'Micah Clarke - Tome III: La Bataille de Sedgemoor'),\n",
       " ('21768.0', 'A Desert Drama: Being The Tragedy Of The \"Korosko\"'),\n",
       " ('21769.0', 'Songs Of The Road'),\n",
       " ('22357.0', 'Danger! and Other Stories'),\n",
       " ('23059.0', 'My Friend The Murderer'),\n",
       " ('24951.0', 'The War in South Africa, Its Cause and Conduct'),\n",
       " ('26153.0', 'The Last of the Legions and Other Tales of Long Ago'),\n",
       " ('29392.0', 'Etienne Gerards Bedrifter'),\n",
       " ('29490.0', 'De dood van Sherlock Holmes — De terugkeer van Sherlock Holmes'),\n",
       " ('30933.0', 'Sherlock Holmes: De Agra-Schat'),\n",
       " ('32536.0', 'Baskervillen koira'),\n",
       " ('32777.0',\n",
       "  'The Great Keinplatz Experiment and Other Tales of Twilight and the Unseen'),\n",
       " ('34079.0', \"Tajemnica Baskerville'ów: dziwne przygody Sherlocka Holmes\"),\n",
       " ('34627.0', 'The Dealings of Captain Sharkey, and Other Tales of Pirates'),\n",
       " ('34797.0', 'The Man from Archangel, and Other Tales of Adventure'),\n",
       " ('36050.0', 'Rodney Stone'),\n",
       " ('36453.0', 'La guardia blanca: novela histórica escrita en inglés'),\n",
       " ('37712.0', 'The Crime of the Congo'),\n",
       " ('38071.0', 'The Guards Came Through, and Other Poems'),\n",
       " ('38443.0', 'The Croxley Master: A Great Tale Of The Prize Ring'),\n",
       " ('39718.0', 'The Wanderings of a Spiritualist'),\n",
       " ('40848.0', 'The Gully of Bluemansdyke, and Other stories'),\n",
       " ('42127.0', 'The German War'),\n",
       " ('45335.0', \"Toisen tahran tarina: Ym. Sherlock Holmes'in seikkailuja\"),\n",
       " ('47506.0', 'The Coming of the Fairies'),\n",
       " ('48320.0', 'Adventures of Sherlock Holmes: Illustrated'),\n",
       " ('49584.0', 'Napoleonin sotilaan seikkailut'),\n",
       " ('49702.0', 'Uusi katakombi ja muita kertoelmia'),\n",
       " ('51818.0', 'Kadonnut maailma'),\n",
       " ('52099.0', 'Neljän merkit'),\n",
       " ('52253.0', 'Vainottu: Romaani'),\n",
       " ('52677.0', 'Kauhun laakso 1: Murhenäytelmä Birlstonen kartanossa'),\n",
       " ('52678.0', 'Kauhun laakso 2: Salaseuralaiset'),\n",
       " ('54109.0', 'Round the Fire Stories'),\n",
       " ('54158.0', 'Myrkkyvyöhyke')]"
      ]
     },
     "execution_count": 98,
     "metadata": {},
     "output_type": "execute_result"
    }
   ],
   "source": [
    "[(item['id'],item['title']) for item in parsed]"
   ]
  },
  {
   "cell_type": "code",
   "execution_count": 99,
   "metadata": {
    "collapsed": true
   },
   "outputs": [],
   "source": [
    "def getFullText(bookID): \n",
    "    response = requests.get('http://corpus-db.org/api/id/' + bookID + '/fulltext')\n",
    "    if response.ok: \n",
    "        print('Got full text for ' + bookID)\n",
    "        parsed = json.loads(response.text)\n",
    "        if len(parsed)>0 and 'text' in parsed[0]: \n",
    "            return parsed[0]['text']\n",
    "    else: \n",
    "        print('Response came back bad: ' + response.status)"
   ]
  },
  {
   "cell_type": "code",
   "execution_count": 100,
   "metadata": {},
   "outputs": [
    {
     "name": "stdout",
     "output_type": "stream",
     "text": [
      "Got full text for 3070.0\n",
      "Got full text for 1661.0\n"
     ]
    }
   ],
   "source": [
    "Hound = getFullText('3070.0')# The Hound of the Baskervilles, one of the most famous novella of Sherlock Holmes\n",
    "AdvtuHolmes = getFullText('1661.0')#The Adventures of Sherlock Holmes, story collection related by Watson"
   ]
  },
  {
   "cell_type": "code",
   "execution_count": 101,
   "metadata": {
    "collapsed": true
   },
   "outputs": [],
   "source": [
    "moonstone = open('moonstone.md', encoding = \"UTF-8\").read()\n",
    "moonstoneParts = moonstone.split('%%%%%')\n",
    "clack = moonstoneParts[2]\n",
    "bruff = moonstoneParts[4]\n",
    "dubliners = open('dubliners.md', encoding = \"UTF-8\").read()\n",
    "gardenparty = open('garden-party.md', encoding =\"UTF-8\").read()"
   ]
  },
  {
   "cell_type": "markdown",
   "metadata": {},
   "source": [
    "## Uncertainty of A Text "
   ]
  },
  {
   "cell_type": "markdown",
   "metadata": {},
   "source": [
    "There are many features of a text. Uncertainty is a feature which is easy to analyze by computer."
   ]
  },
  {
   "cell_type": "markdown",
   "metadata": {},
   "source": [
    "### Hypothesis 1: \n",
    "It is highly possible that the uncertainty of detective novels is higher than that of other genres."
   ]
  },
  {
   "cell_type": "markdown",
   "metadata": {},
   "source": [
    "In order to know the uncertainty of a text, I will measure it by calculating the frequency of 'may'. Here is a function to calculate the frequency of 'may' in a text."
   ]
  },
  {
   "cell_type": "code",
   "execution_count": 102,
   "metadata": {
    "collapsed": true
   },
   "outputs": [],
   "source": [
    "def mayFrequency(text):\n",
    "    textTokens= word_tokenize(text)\n",
    "    textTokensLower = [token.lower() for token in textTokens]\n",
    "    CountMay = Counter(textTokensLower)['may']\n",
    "    return CountMay/len(textTokens)*100"
   ]
  },
  {
   "cell_type": "code",
   "execution_count": 103,
   "metadata": {
    "collapsed": true
   },
   "outputs": [],
   "source": [
    "Corpus = [gardenparty, dubliners, moonstone, Hound, AdvtuHolmes]"
   ]
  },
  {
   "cell_type": "code",
   "execution_count": 104,
   "metadata": {
    "collapsed": true
   },
   "outputs": [],
   "source": [
    "TextmayFrequency = [mayFrequency(text) for text in Corpus]"
   ]
  },
  {
   "cell_type": "code",
   "execution_count": 105,
   "metadata": {
    "collapsed": true
   },
   "outputs": [],
   "source": [
    "frequencies = pd.DataFrame(TextmayFrequency, columns = [\"Frequency of 'may'\"],\n",
    "                          index = ['The Garden Party', 'Dubliners', 'The Moonstone', 'The Hound Of The Baskervilles', 'The Adventures Of Sherlock Holmes'])"
   ]
  },
  {
   "cell_type": "code",
   "execution_count": 106,
   "metadata": {},
   "outputs": [
    {
     "data": {
      "text/html": [
       "<div>\n",
       "<style>\n",
       "    .dataframe thead tr:only-child th {\n",
       "        text-align: right;\n",
       "    }\n",
       "\n",
       "    .dataframe thead th {\n",
       "        text-align: left;\n",
       "    }\n",
       "\n",
       "    .dataframe tbody tr th {\n",
       "        vertical-align: top;\n",
       "    }\n",
       "</style>\n",
       "<table border=\"1\" class=\"dataframe\">\n",
       "  <thead>\n",
       "    <tr style=\"text-align: right;\">\n",
       "      <th></th>\n",
       "      <th>Frequency of 'may'</th>\n",
       "    </tr>\n",
       "  </thead>\n",
       "  <tbody>\n",
       "    <tr>\n",
       "      <th>The Garden Party</th>\n",
       "      <td>0.012108</td>\n",
       "    </tr>\n",
       "    <tr>\n",
       "      <th>Dubliners</th>\n",
       "      <td>0.032230</td>\n",
       "    </tr>\n",
       "    <tr>\n",
       "      <th>The Moonstone</th>\n",
       "      <td>0.111124</td>\n",
       "    </tr>\n",
       "    <tr>\n",
       "      <th>The Hound Of The Baskervilles</th>\n",
       "      <td>0.145351</td>\n",
       "    </tr>\n",
       "    <tr>\n",
       "      <th>The Adventures Of Sherlock Holmes</th>\n",
       "      <td>0.155153</td>\n",
       "    </tr>\n",
       "  </tbody>\n",
       "</table>\n",
       "</div>"
      ],
      "text/plain": [
       "                                   Frequency of 'may'\n",
       "The Garden Party                             0.012108\n",
       "Dubliners                                    0.032230\n",
       "The Moonstone                                0.111124\n",
       "The Hound Of The Baskervilles                0.145351\n",
       "The Adventures Of Sherlock Holmes            0.155153"
      ]
     },
     "execution_count": 106,
     "metadata": {},
     "output_type": "execute_result"
    }
   ],
   "source": [
    "frequencies"
   ]
  },
  {
   "cell_type": "code",
   "execution_count": 107,
   "metadata": {},
   "outputs": [
    {
     "data": {
      "text/plain": [
       "<matplotlib.axes._subplots.AxesSubplot at 0x24060eb8d68>"
      ]
     },
     "execution_count": 107,
     "metadata": {},
     "output_type": "execute_result"
    },
    {
     "data": {
      "image/png": "[encoded data removed]",
      "text/plain": [
       "<Figure size 720x360 with 1 Axes>"
      ]
     },
     "metadata": {},
     "output_type": "display_data"
    }
   ],
   "source": [
    "frequencies.plot(kind=\"bar\")"
   ]
  },
  {
   "cell_type": "markdown",
   "metadata": {},
   "source": [
    "### Conclusion 1:\n",
    "According to the plot of the result above, the frequency of 'may' in _The Moonstone_ and _Sherlock Holmes_ is much higher than that in _Dubliners_ and _The Garden Party_, which is about 10 times of other types of stories. _The Moonstone_ and _Sherlock Holmes_ both belong to detective genre while _Dubliners_ and _The Garden Party_ are not. According to the frequency of 'may', I can draw the conclusion that the uncertainty of detective novels or story collections is much higher than that of other genres, which conforms to the hypothesis we made before. "
   ]
  },
  {
   "cell_type": "markdown",
   "metadata": {},
   "source": [
    "## A Comparative Stylometry of _The Moonstone_, _Sherlock Holmes_ and Other Genres of Literature"
   ]
  },
  {
   "cell_type": "markdown",
   "metadata": {},
   "source": [
    "Uncertainty is one of the features of a text. And the technique of 'TfidfVectorize' can capture a large number of features of a text, not necessarily including uncertainty, to compare the stylometry of texts."
   ]
  },
  {
   "cell_type": "markdown",
   "metadata": {},
   "source": [
    "The function of the codes below is to measure how similar _The Moonstone_, by Wilkie Collins, and _The Hound of the Baskervilles_, one of the most famous novellas of _Sherlock Holmes_ corpus, and _The Adventures of Sherlock Holmes_, a story collection, and _Dubliners_ and _The Garden Party_, which are as references."
   ]
  },
  {
   "cell_type": "markdown",
   "metadata": {},
   "source": [
    "### Hypothesis 2：\n",
    "_The Hound of the Baskervilles_ and _The Adventures of Sherlock Holmes_ should be the most similar because they both belong to the same corpus. And _The Moonstone_ should be more similar to _Sherlock Holmes_ than the other two novels because _The Moonstone_ and _Sherlock Holmes_ are both detective novels."
   ]
  },
  {
   "cell_type": "code",
   "execution_count": 108,
   "metadata": {
    "collapsed": true
   },
   "outputs": [],
   "source": [
    "tfidf = TfidfVectorizer(use_idf=False, max_features=500)"
   ]
  },
  {
   "cell_type": "markdown",
   "metadata": {},
   "source": [
    "I put labels on all the points I am going to create in the plot."
   ]
  },
  {
   "cell_type": "code",
   "execution_count": 109,
   "metadata": {
    "collapsed": true
   },
   "outputs": [],
   "source": [
    "CorpusLabel = ['The Garden Party', 'Dubliners', 'The Moonstone', 'The Hound of the Baskervilles', 'The Adventures of Sherlock Holmes']"
   ]
  },
  {
   "cell_type": "code",
   "execution_count": 110,
   "metadata": {
    "collapsed": true
   },
   "outputs": [],
   "source": [
    "allTf = tfidf.fit_transform(Corpus).todense()"
   ]
  },
  {
   "cell_type": "code",
   "execution_count": 111,
   "metadata": {},
   "outputs": [
    {
     "data": {
      "text/plain": [
       "(5, 500)"
      ]
     },
     "execution_count": 111,
     "metadata": {},
     "output_type": "execute_result"
    }
   ],
   "source": [
    "allTf.shape"
   ]
  },
  {
   "cell_type": "markdown",
   "metadata": {},
   "source": [
    "Now reduce the number of dimensions in that matrix from 500 to 2, so that we can plot it easier and see the relationships easier: "
   ]
  },
  {
   "cell_type": "code",
   "execution_count": 112,
   "metadata": {
    "collapsed": true
   },
   "outputs": [],
   "source": [
    "pca = PCA(2)"
   ]
  },
  {
   "cell_type": "code",
   "execution_count": 113,
   "metadata": {},
   "outputs": [
    {
     "data": {
      "text/plain": [
       "matrix([[ 0.00179581,  0.        ,  0.01755906, ...,  0.0091786 ,\n",
       "          0.01935487,  0.00239442],\n",
       "        [ 0.00091842,  0.        ,  0.0197461 , ...,  0.01699083,\n",
       "          0.0078066 ,  0.00168378],\n",
       "        [ 0.00156746,  0.00820305,  0.01818257, ...,  0.00663559,\n",
       "          0.03699212,  0.00376191],\n",
       "        [ 0.00495292,  0.        ,  0.01926136, ...,  0.00385227,\n",
       "          0.03283604,  0.00366883],\n",
       "        [ 0.00329194,  0.        ,  0.01784021, ...,  0.00860153,\n",
       "          0.04205193,  0.00446005]])"
      ]
     },
     "execution_count": 113,
     "metadata": {},
     "output_type": "execute_result"
    }
   ],
   "source": [
    "allTf"
   ]
  },
  {
   "cell_type": "code",
   "execution_count": 114,
   "metadata": {
    "collapsed": true
   },
   "outputs": [],
   "source": [
    "pcaOut = pca.fit_transform(allTf)"
   ]
  },
  {
   "cell_type": "code",
   "execution_count": 115,
   "metadata": {},
   "outputs": [
    {
     "data": {
      "image/png": "[encoded data removed]",
      "text/plain": [
       "<Figure size 720x360 with 1 Axes>"
      ]
     },
     "metadata": {},
     "output_type": "display_data"
    }
   ],
   "source": [
    "xs, ys = pcaOut[:,0], pcaOut[:,1]\n",
    "for i in range(len(xs)): \n",
    "    plt.scatter(xs[i], ys[i])\n",
    "    plt.annotate(CorpusLabel[i], (xs[i], ys[i]))"
   ]
  },
  {
   "cell_type": "markdown",
   "metadata": {},
   "source": [
    "### Conclusion 2:\n",
    "According to the plot above, the two books belonging to the corpus of _Sherlock Holmes_ are the most similar. As expected, _Sherlock Holmes_ is more similar to _The Moonstone_ than _Dubliners_ and _The Garden Party_, which are as references. The result conforms to the hypothesis."
   ]
  },
  {
   "cell_type": "markdown",
   "metadata": {},
   "source": [
    "## William Wilkie Collins's influence on _Sherlock Holmes_"
   ]
  },
  {
   "cell_type": "markdown",
   "metadata": {},
   "source": [
    "_The Moonstone_ is known as the first detective novel. Sergeant Cuff, who appears in _The Moonstone_, is known as one of the best detectives in Britain and so is Sherlock Homles created by Conan Doyle.\n",
    "The two detectives, Cuff and Holmes, have similarities and differences. They both have some special hobbies. Cuff likes roses and Holmes uses drugs. Cuff is a great detective with great patience and resistance rather than superhuman gifts, while Sherlock Holmes reveals his knowledge of the criminal underworld of London, portraited as a genius."
   ]
  },
  {
   "cell_type": "markdown",
   "metadata": {},
   "source": [
    "### Hypothesis 3: \n",
    "The probability is high that Arthur Conan Doyle was influenced by Wilkie Collins and borrowed some traits from the detectives Collins made in his books."
   ]
  },
  {
   "cell_type": "markdown",
   "metadata": {},
   "source": [
    "Since the data and plot showed above proves their works are more similar compared to other books, I will print out the context of some motifs to validate the hypothesis."
   ]
  },
  {
   "cell_type": "code",
   "execution_count": 116,
   "metadata": {
    "collapsed": true
   },
   "outputs": [],
   "source": [
    "moonstoneTokens = word_tokenize(moonstone)\n",
    "moonstoneText = Text(moonstoneTokens)"
   ]
  },
  {
   "cell_type": "markdown",
   "metadata": {},
   "source": [
    "Wilkie Collins is an addict of opium because of it is a euphoria though it was viewed as a symbol of corruption and licentiousness in the UK at that time. So I display the context of 'opium' in his book using the technique of concordance, _The Moonstone_. "
   ]
  },
  {
   "cell_type": "code",
   "execution_count": 117,
   "metadata": {},
   "outputs": [
    {
     "name": "stdout",
     "output_type": "stream",
     "text": [
      "Displaying 25 of 45 matches:\n",
      " time . Sometimes they said he was given up to smoking opium and collecting old books ; sometimes he was reported t\n",
      "uable papers he possessed was by accepting a matter of opium as a matter of fact , my father was quite willing to t\n",
      "rs from my sentence of death . But even the virtues of opium have their limit . The progress of the disease has gra\n",
      "of the disease has gradually forced me from the use of opium to the abuse of it . I am feeling the penalty at last \n",
      " suppose . Have you ever been accustomed to the use of opium ? ” “ I never tasted it in my life. ” “ Were your nerv\n",
      " said , “ that you have never–to your knowledge–tasted opium in your life. ” “ To my knowledge , ” I repeated . “ Y\n",
      " Let us go on . You are not aware of ever having taken opium . At this time , last year , you were suffering from n\n",
      " took the Diamond , in a state of trance , produced by opium . Secondly , that the opium was given to you by Mr. Ca\n",
      "te of trance , produced by opium . Secondly , that the opium was given to you by Mr. Candy–without your own knowled\n",
      " the course of his practice . The ignorant distrust of opium ( in England ) is by no means confined to the lower an\n",
      " same position , physically and morally , in which the opium found you last year . In that case we may fairly hope \n",
      "se are active proceedings . I thought the influence of opium was first to stupefy you , and then to send you to sle\n",
      " then to send you to sleep. ” “ The common error about opium , Mr. Blake ! I am , at this moment , exerting my inte\n",
      "e said , “ are the far-famed CONFESSIONS OF AN ENGLISH OPIUM EATER ! Take the book away with you , and read it . At\n",
      " De Quincey had committed what he calls ‘ a debauch of opium , ’ he either went to the gallery at the Opera to enjo\n",
      "I am not answered yet as to the effect produced by the opium on myself. ” “ I will try to answer you in a few words\n",
      "n a few words , ” said Ezra Jennings . “ The action of opium is comprised , in the majority of cases , in two influ\n",
      " held the stone . In the spiritualised intoxication of opium , you would do all that . Later , as the sedative acti\n",
      " sleep . When the morning came , and the effect of the opium had been all slept off , you would wake as absolutely \n",
      "y remember , under the influence of the second dose of opium , the place in which you hid the Diamond under the inf\n",
      "the present , let us return to our experiment with the opium . We have decided that you leave off the habit of smok\n",
      "tten . Let Ezra Jennings tell how the venture with the opium was tried , and how it ended . # # Fourth Narrative Ex\n",
      "fter a dreadful night ; the vengeance of yesterday ’ s opium , pursuing me through a series of frightful dreams . A\n",
      "ed to think , yesterday , that our experiment with the opium was not likely to be viewed very favourably by some of\n",
      " present as one of the witnesses on the night when the opium is tried for the second time . Here , again , there is\n"
     ]
    }
   ],
   "source": [
    "moonstoneText.concordance('opium', width=115)"
   ]
  },
  {
   "cell_type": "markdown",
   "metadata": {},
   "source": [
    "From the context of 'opium', it is learned that Colonel used opium, so did Frankin Blake. And the effect of opium is harmful, some of them resulting in adverse consequences."
   ]
  },
  {
   "cell_type": "markdown",
   "metadata": {},
   "source": [
    "Sergeant Cuff seems to like roses. Let's see the context that surrounds 'roses'."
   ]
  },
  {
   "cell_type": "code",
   "execution_count": 118,
   "metadata": {},
   "outputs": [
    {
     "name": "stdout",
     "output_type": "stream",
     "text": [
      "Displaying 22 of 22 matches:\n",
      " these . Grass , Mr. Gardener–grass walks between your roses ; gravel ’ s too hard for them . That ’ s a sweet pret\n",
      "o hard for them . That ’ s a sweet pretty bed of white roses and blush roses . They always mix well together , don \n",
      ". That ’ s a sweet pretty bed of white roses and blush roses . They always mix well together , don ’ t they ? Here \n",
      " out the thief who stole it ! “ You seem to be fond of roses , Sergeant ? ” I remarked . “ I haven ’ t much time to\n",
      "fondness to bestow , most times , Mr. Betteredge , the roses get it . I began my life among them in my father ’ s n\n",
      "ire from catching thieves , and try my hand at growing roses . There will be grass walks , Mr. Gardener , between m\n",
      "aracter . It reminded him , you see , of his favourite roses , and , as HE whistled it , it was the most melancholy\n",
      "is weekly account . The Sergeant got on the subject of roses and the merits of grass walks and gravel walks immedia\n",
      "them , head over ears in an argument on the growing of roses . The Sergeant was so deeply interested that he held u\n",
      "f boys . Knowing nothing whatever about the growing of roses , I steered a middle course–just as her Majesty ’ s ju\n",
      ", ” he said . “ And mind , if you ever take to growing roses , the white moss rose is all the better for not being \n",
      "rently meaning me ) , “ only understood the growing of roses he would be the most completely perfect character on t\n",
      " the Sergeant and the gardener were wrangling over the roses ) we two spent the interval before the news came back \n",
      ". Away they went together , fighting the battle of the roses without asking or giving quarter on either side . The \n",
      "I left , to surprise my aunt , among the geraniums and roses . The happy thought followed , “ Why not do the same f\n",
      " Dorking ; and he ’ s up to his eyes in the growing of roses . I have it in his own handwriting , Mr. Franklin . He\n",
      "r , before you knew it yourself . She used to give you roses to wear in your button-hole . Ah , Mr. Franklin , you \n",
      " in your button-hole . Ah , Mr. Franklin , you wore my roses oftener than either you or she thought ! The only comf\n",
      "as jealous of Rachel , confessing that she changed the roses , confessing that she saw a glimpse of hope for hersel\n",
      "out the last Sybarite years of his life , smothered in roses ! A decent elderly woman opened the gate to me , and a\n",
      "y one business now , sir , ” she said ; “ and that ’ s roses . Some great man ’ s gardener in Ireland has found out\n",
      "t have got from this , to the subject of his favourite roses , if my servant had not interrupted us by announcing t\n"
     ]
    }
   ],
   "source": [
    "moonstoneText.concordance('roses', width=115)"
   ]
  },
  {
   "cell_type": "markdown",
   "metadata": {},
   "source": [
    "Seeing sentences or phrases like “You seem to be fond of roses, Sergeant ?”, \"the subject of his favourite roses\", we can conclude it is true that Cuff loves roses."
   ]
  },
  {
   "cell_type": "markdown",
   "metadata": {},
   "source": [
    "Let's see the context of 'opium' in _Sherlock Holmes_ and see what Sherlock Holmes loves."
   ]
  },
  {
   "cell_type": "code",
   "execution_count": 119,
   "metadata": {
    "collapsed": true
   },
   "outputs": [],
   "source": [
    "ScarletTokenText = Text(word_tokenize(Scarlet))\n",
    "AdvtuHolmesTokenText = Text(word_tokenize(AdvtuHolmes))"
   ]
  },
  {
   "cell_type": "code",
   "execution_count": 120,
   "metadata": {},
   "outputs": [
    {
     "name": "stdout",
     "output_type": "stream",
     "text": [
      "Displaying 11 of 11 matches:\n",
      " TWISTED LIP Isa Whitney , brother of the late Elias Whitney , D.D. , Principal of the Theological College of St. George 's , was much addicted to opium . The habit grew upon him , as I understand , from some foolish freak when he was at college ; for having read De Quincey 's description of his dr\n",
      "could bring him back to her ? It seems that it was . She had the surest information that of late he had , when the fit was on him , made use of an opium den in the farthest east of the City . Hitherto his orgies had always been confined to one day , and he had come back , twitching and shattered , \n",
      "and by the light of a flickering oil-lamp above the door I found the latch and made my way into a long , low room , thick and heavy with the brown opium smoke , and terraced with wooden berths , like the forecastle of an emigrant ship . Through the gloom one could dimly catch a glimpse of bodies ly\n",
      " . They could only have come from the old man at my side , and yet he sat now as absorbed as ever , very thin , very wrinkled , bent with age , an opium pipe dangling down from between his knees , as though it had dropped in sheer lassitude from his fingers . I took two steps forward and looked bac\n",
      " Whitney 's bill , led him out to the cab , and seen him driven through the darkness . In a very short time a decrepit figure had emerged from the opium den , and I was walking down the street with Sherlock Holmes . For two streets he shuffled along with a bent back and an uncertain foot . Then , g\n",
      "n neither collar nor necktie . `` Convinced that something was amiss with him , she rushed down the steps -- for the house was none other than the opium den in which you found me to-night -- and running through the front room she attempted to ascend the stairs which led to the first floor . At the \n",
      "ence of the missing gentleman 's clothes . `` So much for the Lascar manager . Now for the sinister cripple who lives upon the second floor of the opium den , and who was certainly the last human being whose eyes rested upon Neville St. Clair . His name is Hugh Boone , and his hideous face is one w\n",
      "with a reply to any piece of chaff which may be thrown at him by the passers-by . This is the man whom we now learn to have been the lodger at the opium den , and to have been the last man to see the gentleman of whom we are in quest . '' `` But a cripple ! '' said I . `` What could he have done si\n",
      "quiet and innocent one . There the matter stands at present , and the questions which have to be solved -- what Neville St. Clair was doing in the opium den , what happened to him when there , where is he now , and what Hugh Boone had to do with his disappearance -- are all as far from a solution a\n",
      "e . I distinctly saw his bare throat . '' `` Had he ever spoken of Swandam Lane ? '' `` Never . '' `` Had he ever showed any signs of having taken opium ? '' `` Never . '' `` Thank you , Mrs. St. Clair . Those are the principal points about which I wished to be absolutely clear . We shall now have \n",
      "wife knew that I had business in the City . She little knew what . `` Last Monday I had finished for the day and was dressing in my room above the opium den when I looked out of my window and saw , to my horror and astonishment , that my wife was standing in the street , with her eyes fixed full up\n"
     ]
    }
   ],
   "source": [
    "AdvtuHolmesTokenText.concordance('opium', width=300)"
   ]
  },
  {
   "cell_type": "markdown",
   "metadata": {},
   "source": [
    "It is interesting that the phrase, \"opium den\", appears frequently. As far as I know, it appears in _The Man with the Twisted Lip_ collected in _The Adventures of Sherlock Holmes_. Although whether Conan Doyle himself took up the \"pipe\" has remained undisclosed, he must have visited the opium den."
   ]
  },
  {
   "cell_type": "code",
   "execution_count": 121,
   "metadata": {},
   "outputs": [
    {
     "name": "stdout",
     "output_type": "stream",
     "text": [
      "Displaying 3 of 3 matches:\n",
      " with his whole Bohemian soul , remained in our lodgings in Baker Street , buried among his old books , and alternating from week to week between cocaine and ambition , the drowsiness of the drug , and the fierce energy of his own keen nature . He was still , as ever , deeply attracted by the study\n",
      "tric , anatomy unsystematic , sensational literature and crime records unique , violin-player , boxer , swordsman , lawyer , and self-poisoner by cocaine and tobacco . Those , I think , were the main points of my analysis . '' Holmes grinned at the last item . `` Well , '' he said , `` I say now , \n",
      "himself out and burst into a hearty fit of laughter . `` I suppose , Watson , '' said he , `` that you imagine that I have added opium-smoking to cocaine injections , and all the other little weaknesses on which you have favoured me with your medical views . '' `` I was certainly surprised to find \n"
     ]
    }
   ],
   "source": [
    "AdvtuHolmesTokenText.concordance('cocaine', width=300)"
   ]
  },
  {
   "cell_type": "code",
   "execution_count": 122,
   "metadata": {},
   "outputs": [
    {
     "name": "stdout",
     "output_type": "stream",
     "text": [
      "Displaying 5 of 5 matches:\n",
      " Do you include violin-playing in your category of rows ? '' he asked , anxiously . `` It depends on the player , '' I answered . `` A well-played violin is a treat for the gods -- a badly-played one -- -- '' '' Oh , that 's all right , '' he cried , with a merry laugh . `` I think we may consider t\n",
      "nsystematic . 9 . Sensational Literature. -- Immense . He appears to know every detail of every horror perpetrated in the century . 10 . Plays the violin well . 11 . Is an expert singlestick player , boxer , and swordsman . 12 . Has a good practical knowledge of British law . When I had got so far i\n",
      "ch needs them all , '' I said to myself , `` I may as well give up the attempt at once . '' I see that I have alluded above to his powers upon the violin . These were very remarkable , but as eccentric as all his other accomplishments . That he could play pieces , and difficult pieces , I knew well \n",
      " his advice . When I returned with the pistol the table had been cleared , and Holmes was engaged in his favourite occupation of scraping upon his violin . `` The plot thickens , '' he said , as I entered ; `` I have just had an answer to my American telegram . My view of the case is the correct one\n",
      "tion . I left Holmes seated in front of the smouldering fire , and long into the watches of the night I heard the low , melancholy wailings of his violin , and knew that he was still pondering over the strange problem which he had set himself to unravel . CHAPTER VI . TOBIAS GREGSON SHOWS WHAT HE CA\n"
     ]
    }
   ],
   "source": [
    "ScarletTokenText.concordance('violin', width=300)"
   ]
  },
  {
   "cell_type": "markdown",
   "metadata": {
    "collapsed": true
   },
   "source": [
    "From the context above, it is certain that Sherlock Holmes loves playing the violin a lot and sometimes he injects cocaine and smokes tobacco."
   ]
  },
  {
   "cell_type": "markdown",
   "metadata": {},
   "source": [
    "### Conclusion 3:\n",
    "All these pieces of evidence increase the belief that there are some influences on Arthur Conan Doyle from Wilkie Collins."
   ]
  },
  {
   "cell_type": "markdown",
   "metadata": {},
   "source": [
    "##  Sentiment Analysis of Women Characters \n",
    "Sentiment analysis bases on TextBlob library for processing textual data."
   ]
  },
  {
   "cell_type": "markdown",
   "metadata": {},
   "source": [
    "During the era of Victoria, women did not have the right to vote, sue, or own property. At the same time, the number of women participated in the paid workforce increased. In the last years of the Victorian era, feminist ideas spread among the educated middle classes and discriminatory laws were repealed. It is interesting to compare the sentiment of texts containing female to those without in detective novels written in that time."
   ]
  },
  {
   "cell_type": "markdown",
   "metadata": {},
   "source": [
    "### Hypothesis 4：\n",
    "Female characters may be portrayed weaker than the male in detective novels during the period of Victoria. "
   ]
  },
  {
   "cell_type": "code",
   "execution_count": 123,
   "metadata": {
    "collapsed": true
   },
   "outputs": [],
   "source": [
    "moonstoneSents = sent_tokenize(moonstone)\n",
    "clackSents = sent_tokenize(clack)\n",
    "AdvtuHolmesSents = sent_tokenize(AdvtuHolmes)\n",
    "dublinersSents = sent_tokenize(dubliners)\n",
    "HoundSents = sent_tokenize(Hound)"
   ]
  },
  {
   "cell_type": "markdown",
   "metadata": {},
   "source": [
    "This is a program to pick up sentences containing female ('she', 'her', 'hers', 'woman', 'women') from the whole text."
   ]
  },
  {
   "cell_type": "code",
   "execution_count": 124,
   "metadata": {
    "collapsed": true
   },
   "outputs": [],
   "source": [
    "Women = []\n",
    "noWomen = []\n",
    "for sent in moonstoneSents: \n",
    "    if ' she ' in sent or ' her ' in sent or ' hers ' in sent or ' woman ' in sent or ' women ' in sent: \n",
    "        Women.append(sent)\n",
    "    else: \n",
    "        noWomen.append(sent)"
   ]
  },
  {
   "cell_type": "code",
   "execution_count": 125,
   "metadata": {
    "collapsed": true
   },
   "outputs": [],
   "source": [
    "Women0 = []\n",
    "for sent in clackSents: \n",
    "    if ' she ' in sent or ' her ' in sent or ' hers ' in sent or ' woman ' in sent or ' women ' in sent: \n",
    "        Women0.append(sent)"
   ]
  },
  {
   "cell_type": "code",
   "execution_count": 126,
   "metadata": {
    "collapsed": true
   },
   "outputs": [],
   "source": [
    "clackWomen = ' '.join(Women0)"
   ]
  },
  {
   "cell_type": "code",
   "execution_count": 127,
   "metadata": {
    "collapsed": true
   },
   "outputs": [],
   "source": [
    "MoonstoneWomen = ' '.join(Women)\n",
    "MoonstoneNoWomen = ' '.join(noWomen)"
   ]
  },
  {
   "cell_type": "code",
   "execution_count": 128,
   "metadata": {
    "collapsed": true
   },
   "outputs": [],
   "source": [
    "Women1 = []\n",
    "noWomen1 = []\n",
    "for sent in AdvtuHolmesSents: \n",
    "    if ' she ' in sent or ' her ' in sent or ' hers ' in sent or ' woman ' in sent or ' women ' in sent:\n",
    "        Women1.append(sent)\n",
    "    else: \n",
    "        noWomen1.append(sent)"
   ]
  },
  {
   "cell_type": "code",
   "execution_count": 129,
   "metadata": {
    "collapsed": true
   },
   "outputs": [],
   "source": [
    "AdvtuHolmesWomen = ' '.join(Women1)\n",
    "AdvtuHolmesNoWomen = ' '.join(noWomen1)"
   ]
  },
  {
   "cell_type": "code",
   "execution_count": 130,
   "metadata": {
    "collapsed": true
   },
   "outputs": [],
   "source": [
    "Women2 = []\n",
    "noWomen2 = []\n",
    "for sent in dublinersSents: \n",
    "    if ' she ' in sent or ' her ' in sent or ' hers ' in sent or ' woman ' in sent or ' women ' in sent:\n",
    "        Women2.append(sent)\n",
    "    else: \n",
    "        noWomen2.append(sent)"
   ]
  },
  {
   "cell_type": "code",
   "execution_count": 131,
   "metadata": {
    "collapsed": true
   },
   "outputs": [],
   "source": [
    "dublinersWomen = ' '.join(Women2)\n",
    "dublinersNoWomen = ' '.join(noWomen2)"
   ]
  },
  {
   "cell_type": "markdown",
   "metadata": {},
   "source": [
    "The polarity score is a float within the range [-1.0, 1.0], from negative to positive.\n",
    "Let's test it by three interesting sentences first!"
   ]
  },
  {
   "cell_type": "code",
   "execution_count": 132,
   "metadata": {},
   "outputs": [
    {
     "data": {
      "text/plain": [
       "Sentiment(polarity=0.5, subjectivity=1.0)"
      ]
     },
     "execution_count": 132,
     "metadata": {},
     "output_type": "execute_result"
    }
   ],
   "source": [
    "testimonial0 = TextBlob(\"My final project is extremely awesome that everyone loves it.\")\n",
    "testimonial0.sentiment"
   ]
  },
  {
   "cell_type": "code",
   "execution_count": 133,
   "metadata": {},
   "outputs": [
    {
     "data": {
      "text/plain": [
       "Sentiment(polarity=0.0, subjectivity=0.0)"
      ]
     },
     "execution_count": 133,
     "metadata": {},
     "output_type": "execute_result"
    }
   ],
   "source": [
    "testimonial1 = TextBlob(\"Mike Wallace is here!\")\n",
    "testimonial1.sentiment"
   ]
  },
  {
   "cell_type": "code",
   "execution_count": 134,
   "metadata": {},
   "outputs": [
    {
     "data": {
      "text/plain": [
       "Sentiment(polarity=0.033333333333333326, subjectivity=0.6)"
      ]
     },
     "execution_count": 134,
     "metadata": {},
     "output_type": "execute_result"
    }
   ],
   "source": [
    "testimonial2 = TextBlob(\"I love California so much expecially cold Berkeley, but I have to leave tomorrow morning.\")\n",
    "testimonial2.sentiment"
   ]
  },
  {
   "cell_type": "markdown",
   "metadata": {},
   "source": [
    "TextBlob cannot be always correct, for instance, it does not know Mike Wallace, but we can use it if the length of the text is big enough. "
   ]
  },
  {
   "cell_type": "code",
   "execution_count": 135,
   "metadata": {
    "collapsed": true
   },
   "outputs": [],
   "source": [
    "SeveralTexts = [clackWomen, MoonstoneWomen, MoonstoneNoWomen, AdvtuHolmesWomen, AdvtuHolmesNoWomen, dublinersWomen, dublinersNoWomen]"
   ]
  },
  {
   "cell_type": "code",
   "execution_count": 136,
   "metadata": {},
   "outputs": [],
   "source": [
    "SeveralBlobs = [TextBlob(text).sentiment\n",
    "            for text in SeveralTexts]"
   ]
  },
  {
   "cell_type": "code",
   "execution_count": 137,
   "metadata": {},
   "outputs": [],
   "source": [
    "SeveralSentiments = [item.polarity\n",
    "                 for item in SeveralBlobs]"
   ]
  },
  {
   "cell_type": "code",
   "execution_count": 138,
   "metadata": {},
   "outputs": [
    {
     "data": {
      "text/plain": [
       "<matplotlib.axes._subplots.AxesSubplot at 0x2406101eba8>"
      ]
     },
     "execution_count": 138,
     "metadata": {},
     "output_type": "execute_result"
    },
    {
     "data": {
      "image/png": "[encoded data removed]",
      "text/plain": [
       "<Figure size 720x360 with 1 Axes>"
      ]
     },
     "metadata": {},
     "output_type": "display_data"
    }
   ],
   "source": [
    "pd.Series(SeveralSentiments, index=[\"clackWomen\", \"MoonstoneWomen\", \"MoonstoneNoWomen\", \"AdvtuHolmesWomen\", \"AdvtuHolmesNoWomen\", \"dublinersWomen\", \"dublinersNoWomen\"]).plot(kind='bar')"
   ]
  },
  {
   "cell_type": "markdown",
   "metadata": {
    "collapsed": true
   },
   "source": [
    "### Conclusion 4:\n",
    "In _The Moonstone_, When Cuff was investigating the case, it is more often that Cuff talked to Betteredge, the house-steward rather than Mrs.Verinder. Mrs. Ablewhite, Rachel's aunt, was so upset that Rachel went back on the engagement. Rosanna Spearman, the poor servant, committed suicide silently. All these pieces of evidence implicate female status was lower than male in that era."
   ]
  },
  {
   "cell_type": "markdown",
   "metadata": {
    "collapsed": true
   },
   "source": [
    "In _Sherlock Holmes_, there are several female characters in different stories. Sherlock Holmes seems to have little interest in women in most times though he deals with women with gentleness and courtesy. There is one exception, Irene Adler, a character in _A Scandal in Bohemia_, collected in _The Adventures of Sherlock Holmes_ because she is the only woman who beat Sherlock in the battle of wits."
   ]
  },
  {
   "cell_type": "markdown",
   "metadata": {
    "collapsed": true
   },
   "source": [
    "It is known that there were both resistance and obedience of women during the Victorian era. Irene Adler in _Adventure of Sherlock Holmes_ could be an example that the social position of the female has been increasing."
   ]
  },
  {
   "cell_type": "markdown",
   "metadata": {},
   "source": [
    "From the plot above, in _The Moonstone_, sentences containing women (\"she\", \"her\", \"hers\", \"woman\", \"women\") are less positive than those without, and that of the part of Miss Clack's narrative is even more negative compared with the whole text.\n",
    "The same thing happens in _The Adventures of Sherlock Holmes_. This might be another influence on Conan Doyle by Wilkie Collins. The result of _Dubliners_ is the opposite. Although the relative difference of the height of bars is not so big, it still shows that female characters are portrayed weaker in these two detective novels more and less."
   ]
  },
  {
   "cell_type": "markdown",
   "metadata": {},
   "source": [
    "## Epilogue\n",
    "The method and the focus diversifies when a text is analyzed by human and computer. The result of the analysis cannot be always the same. However, it becomes more and more important to combine brain and computer when reading works of literature for synergy effect. "
   ]
  },
  {
   "cell_type": "markdown",
   "metadata": {},
   "source": [
    "In my project, hypotheses are based on reading by the human. Since computers are better to deal with long texts in a much shorter time, I calculated the frequency of 'may', plotted a comparative stylometry, displayed the context of some certain words and analyzed the sentiment using TextBlob, a library for processing textual data, by computer. With the help of computational literary analysis, people can develop a more profound understanding of literary works."
   ]
  },
  {
   "cell_type": "markdown",
   "metadata": {},
   "source": [
    "## Work Cited"
   ]
  },
  {
   "cell_type": "markdown",
   "metadata": {},
   "source": [
    "### Wordcount Function\n",
    "\n",
    "Please replace `Yourname-Final.ipynb` with the filename of this notebook. For instance, if my name is Jonathan, and I've renamed this notebook to `Jonathan-Final.ipynb`, I'd change `filename = 'Yourname-Final.ipynb'` below to `filename = 'Jonathan-Final.ipynb`. "
   ]
  },
  {
   "cell_type": "code",
   "execution_count": 142,
   "metadata": {},
   "outputs": [
    {
     "name": "stdout",
     "output_type": "stream",
     "text": [
      "Total words: 1508\n"
     ]
    }
   ],
   "source": [
    "filename = 'Bo Zhao-Final.ipynb'\n",
    "\n",
    "if filename == 'Yourname-Final.ipynb': \n",
    "    raise ValueError(\"You forgot to change the filename above!\")\n",
    "\n",
    "with open('Bo Zhao-Final.ipynb', encoding='utf-8') as f:\n",
    "    nb = current.read(f, 'json')\n",
    "\n",
    "wordCount = 0\n",
    "\n",
    "for cell in nb.worksheets[0].cells:\n",
    "    if cell.cell_type == \"markdown\":\n",
    "        wordCount += len(cell['source'].replace('#', '').lstrip().split(' '))\n",
    "\n",
    "# This is the word count of my instructions. \n",
    "# My instructions obviously don't count toward the final word count, \n",
    "tare = 533\n",
    "\n",
    "wordCount = wordCount - tare\n",
    "\n",
    "print(\"Total words: {}\".format(wordCount))\n",
    "\n",
    "if wordCount < 1000: \n",
    "    raise Warning('Your paper has not yet met the minimum required length.')\n",
    "if wordCount > 2000: \n",
    "    raise Warning('Your paper has exceeded the maximum allowed length. Please edit for concision.')"
   ]
  },
  {
   "cell_type": "code",
   "execution_count": null,
   "metadata": {
    "collapsed": true
   },
   "outputs": [],
   "source": []
  }
 ],
 "metadata": {
  "kernelspec": {
   "display_name": "Python 3",
   "language": "python",
   "name": "python3"
  },
  "language_info": {
   "codemirror_mode": {
    "name": "ipython",
    "version": 3
   },
   "file_extension": ".py",
   "mimetype": "text/x-python",
   "name": "python",
   "nbconvert_exporter": "python",
   "pygments_lexer": "ipython3",
   "version": "3.6.6"
  }
 },
 "nbformat": 4,
 "nbformat_minor": 2
}
