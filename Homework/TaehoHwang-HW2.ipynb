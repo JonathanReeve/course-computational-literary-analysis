{
 "cells": [
  {
   "cell_type": "markdown",
   "metadata": {},
   "source": [
    "# Homework 2\n",
    "\n",
    "## Taeho Hwang\n",
    "\n",
    "Instructions: \n",
    "\n",
    " 1. Please replace \"Yourname\" above, and in the title / filename of this notebook. \n",
    " 2. Import all the libraries you end up using in the cell below. Please only use those libraries which we have used in class (i.e. nltk, collections, pandas, etc.). \n",
    " 3. Complete all the exercises, replacing \"enter code here\" with your code, and \"enter markdown here\" with your markdown. Annotate your code with markdown cells, to explain what you're doing, and interpret your results.  \n",
    " 4. From the Kernel menu, select \"restart and run all.\" This will help me to see the output of your answers. \n",
    " 5. Email me your completed notebook: jonathan.reeve@columbia.edu\n"
   ]
  },
  {
   "cell_type": "code",
   "execution_count": 1,
   "metadata": {},
   "outputs": [],
   "source": [
    "# Import all your libraries here. \n",
    "import nltk\n",
    "import collections\n",
    "import pandas as pd\n",
    "import re\n",
    "from nltk.tokenize import word_tokenize"
   ]
  },
  {
   "cell_type": "markdown",
   "metadata": {},
   "source": [
    "### 1. Split *The Moonstone* into a dictionary which represents the text of its narrators. \n",
    "\n",
    "The dictionary's keys should be the narrators' names, and the values should be the text of that narration. Keep in mind that some narrators have two narrations, as with Betteredge and Franklin Blake. You'll have to concatenate those. \n",
    "\n",
    "Your data structure should be called something like `moonstoneNarrators`. You should be able to run something like this:\n",
    "\n",
    "```python\n",
    "moonstoneNarrators[\"Miss Clack\"]\n",
    "```\n",
    "\n",
    "and it should output text beginning: \"Contributed by Miss Clack; niece of the late Sir John Verinder.\" Similarly, you should be able to run:\n",
    "\n",
    "```python\n",
    "moonstoneNarrators[\"Franklin Blake\"]\n",
    "```\n",
    "\n",
    "and it will output text beginning \"Contributed by Franklin Blake\" but which also contains\n",
    "\"The Story Resumed by Franklin Blake ...\" \n",
    "\n",
    "Demonstrate that your dictionary works, by printing out the first 200 or so characters of each narration. **Nota bene**: Please do not print out the entire contents of a narration, as that will make your notebook very difficult to read and grade. "
   ]
  },
  {
   "cell_type": "code",
   "execution_count": 2,
   "metadata": {},
   "outputs": [
    {
     "name": "stdout",
     "output_type": "stream",
     "text": [
      "Miss Clack  : \n",
      " \n",
      "\n",
      "Contributed by MISS CLACK; niece of the late SIR JOHN VERINDER\n",
      "\n",
      "### Chapter I\n",
      "\n",
      "I am indebted to my dear parents (both now in heaven) for having had\n",
      "habits of order and regularity instilled into me a \n",
      "\n",
      "\n",
      "\n",
      "Mathew Bruff  : \n",
      " \n",
      "\n",
      "Contributed by MATHEW BRUFF, Solicitor, of Gray’s Inn Square\n",
      "\n",
      "### Chapter I\n",
      "\n",
      "My fair friend, Miss Clack, having laid down the pen, there are two\n",
      "reasons for my taking it up next, in my turn.\n",
      "\n",
      "In the \n",
      "\n",
      "\n",
      "\n",
      "Franklin Blake  : \n",
      " \n",
      "\n",
      "Contributed by FRANKLIN BLAKE\n",
      "\n",
      "### Chapter I\n",
      "\n",
      "In the spring of the year eighteen hundred and forty-nine I was\n",
      "wandering in the East, and had then recently altered the travelling\n",
      "plans which I had la \n",
      "\n",
      "\n",
      "\n",
      "Ezra Jennings  : \n",
      " \n",
      "\n",
      "Extracted from the Journal of EZRA JENNINGS\n",
      "\n",
      "1849.–June 15…. With some interruption from patients, and some\n",
      "interruption from pain, I finished my letter to Miss Verinder in time\n",
      "for to-day’s post. I \n",
      "\n",
      "\n",
      "\n",
      "Sergeant Cuff  : \n",
      " \n",
      "\n",
      "Contributed by SERGEANT CUFF\n",
      "\n",
      "### Chapter I\n",
      "\n",
      "Dorking, Surrey, July 30th, 1849. To Franklin Blake, Esq. Sir,–I beg to\n",
      "apologise for the delay that has occurred in the production of the\n",
      "Report, with w \n",
      "\n",
      "\n",
      "\n",
      "Mr. Candy  : \n",
      " \n",
      "\n",
      "In a Letter from MR. CANDY\n",
      "\n",
      "Frizinghall, Wednesday, September 26th, 1849.–Dear Mr. Franklin Blake,\n",
      "you will anticipate the sad news I have to tell you, on finding your\n",
      "letter to Ezra Jennings return \n",
      "\n",
      "\n",
      "\n",
      "Gabriel Betteredge  : \n",
      " \n",
      "\n",
      "THE LOSS OF THE DIAMOND (1848)\n",
      "\n",
      "The events related by GABRIEL BETTEREDGE, house-steward in the service\n",
      "of JULIA, LADY VERINDER.\n",
      "\n",
      "### Chapter I\n",
      "\n",
      "In the first part of ROBINSON CRUSOE, at page one hund \n",
      "\n",
      "\n",
      "\n"
     ]
    }
   ],
   "source": [
    "moonstoneNarrators = {\"Miss Clack\" : \"\",\n",
    "             \"Mathew Bruff\": \"\",\n",
    "             \"Franklin Blake\": \"\",\n",
    "             \"Ezra Jennings\": \"\",\n",
    "             \"Sergeant Cuff\": \"\",\n",
    "             \"Mr. Candy\": \"\",\n",
    "             \"Gabriel Betteredge\": \"\"\n",
    "            }\n",
    "\n",
    "with open(\"/Users/hwangyun/Desktop/course-computational-literary-analysis/Texts/moonstone.md\", \"r\") as f:\n",
    "    moonstone = f.read()\n",
    "    moonstoneChapter = re.split('## [a-zA-Z]* Period', moonstone)\n",
    "    #print(moonstoneChapter[2])\n",
    "    chapterNarrative = re.split('## [a-zA-Z]* Narrative', moonstoneChapter[2])\n",
    "    moonstoneNarrators[\"Gabriel Betteredge\"] += moonstoneChapter[1]\n",
    "    for index in range(1, len(chapterNarrative)):\n",
    "        for narrator in moonstoneNarrators:\n",
    "            if narrator.lower() in chapterNarrative[index][:50].strip().split('\\n')[0].lower():\n",
    "                moonstoneNarrators[narrator] += chapterNarrative[index]\n",
    "                break\n",
    "\n",
    "\n",
    "for narrator, story in moonstoneNarrators.items():\n",
    "    print(narrator, \" : \\n\", story[:200], \"\\n\"* 3)"
   ]
  },
  {
   "cell_type": "markdown",
   "metadata": {},
   "source": [
    "## How to solve #1\n",
    "\n",
    "```python\n",
    "moonstoneNarrators = {\"Miss Clack\" : \"\",\n",
    "             \"Mathew Bruff\": \"\",\n",
    "             \"Franklin Blake\": \"\",\n",
    "             \"Ezra Jennings\": \"\",\n",
    "             \"Sergeant Cuff\": \"\",\n",
    "             \"Mr. Candy\": \"\",\n",
    "             \"Gabriel Betteredge\": \"\"\n",
    "            }\n",
    " ```\n",
    " \n",
    "* At first, I made a dictionary which keys are narrators.\n",
    "\n",
    "```python\n",
    "with open(\"/Users/hwangyun/Desktop/course-computational-literary-analysis/Texts/moonstone.md\", \"r\") as f:\n",
    "    moonstone = f.read()\n",
    "    moonstoneChapter = re.split('## [a-zA-Z]* Period', moonstone)\n",
    "    chapterNarrative = re.split('## [a-zA-Z]* Narrative', moonstoneChapter[2])\n",
    "    moonstoneNarrators[\"Gabriel Betteredge\"] += moonstoneChapter[1]\n",
    "    for index in range(1, len(chapterNarrative)):\n",
    "        for narrator in moonstoneNarrators:\n",
    "            if narrator.lower() in chapterNarrative[index][:50].strip().split('\\n')[0].lower():\n",
    "                moonstoneNarrators[narrator] += chapterNarrative[index]\n",
    "                break\n",
    "\n",
    "```\n",
    "* I opened the moonstone text file. Using regular expression, I split by a period. The first chapter is all about Betteredge, so I added it right away.Then I split the period into chapter. Whether the narrator was included was examined through an if statement. If a narrator is included, I added a string to the dict using it as a key.\n",
    "  \n",
    "for narrator, story in moonstoneNarrators.items():\n",
    "    print(narrator, \" : \\n\", story[:200], \"\\n\"* 3)\n",
    "\n",
    "* I printed the moonstone's Narrators story. It worked well."
   ]
  },
  {
   "cell_type": "markdown",
   "metadata": {},
   "source": [
    "### 2. Using your dictionary from #1, make a new dictionary where those texts are lowercased and tokenized. \n",
    "\n",
    "The new dictionary's keys should still be the narrator's names, and the values should be a list of lowercased tokens for that narration. Call it something like `moonstoneNarratorsTokens`. \n",
    "\n",
    "You should be able to run this: \n",
    "\n",
    "```python\n",
    "moonstoneNarratorsTokens[\"Miss Clack\"]\n",
    "```\n",
    "\n",
    "and it should output a list beginning: `['contributed', 'by', 'miss', 'clack', ';' ... ]`\n",
    "\n",
    "Hint: Use a `for` loop and the NLTK's word tokenizing function. "
   ]
  },
  {
   "cell_type": "code",
   "execution_count": 3,
   "metadata": {},
   "outputs": [],
   "source": [
    "moonstoneNarratorsTokens = {k: list() for k in moonstoneNarrators}\n",
    "for k, v in moonstoneNarrators.items():\n",
    "    moonstoneNarratorsTokens[k] = word_tokenize(v.lower())\n",
    "#print(moonstoneNarratorsTokens)"
   ]
  },
  {
   "cell_type": "markdown",
   "metadata": {},
   "source": [
    "### 3. Using your dictionary from #2, create a new dictionary containing NLTK `Text()` objects for each narrator. \n",
    "\n",
    "The new dictionary's keys should still be narrator names, and the values should be nltk Text() objects. Call it something like `moonstoneNarratorsTexts`. \n",
    "\n",
    "You should be able to run this: \n",
    "\n",
    "```python\n",
    "moonstoneNarratorsTexts[\"Miss Clack\"].collocations()\n",
    "```\n",
    "\n",
    "And it should give a list of common collocations for Miss Clack's narrative. "
   ]
  },
  {
   "cell_type": "code",
   "execution_count": 4,
   "metadata": {},
   "outputs": [
    {
     "name": "stderr",
     "output_type": "stream",
     "text": [
      "[nltk_data] Downloading package stopwords to\n",
      "[nltk_data]     /Users/hwangyun/nltk_data...\n",
      "[nltk_data]   Package stopwords is already up-to-date!\n"
     ]
    },
    {
     "data": {
      "text/plain": [
       "[('mr.', 'godfrey'),\n",
       " ('mr.', 'bruff'),\n",
       " ('miss', 'clack'),\n",
       " ('lady', 'verinder'),\n",
       " ('mr.', 'luker'),\n",
       " ('mr.', 'ablewhite'),\n",
       " ('franklin', 'blake'),\n",
       " ('montagu', 'square'),\n",
       " ('jane', 'ann'),\n",
       " ('miss', 'verinder'),\n",
       " ('northumberland', 'street'),\n",
       " ('ann', 'stamper'),\n",
       " ('godfrey', 'ablewhite'),\n",
       " ('miss', 'jane'),\n",
       " ('precious', 'publications'),\n",
       " ('aunt', 'ablewhite'),\n",
       " ('fallen', 'nature'),\n",
       " ('christian', 'hero'),\n",
       " ('sound', 'doctrine'),\n",
       " ('mr.', 'franklin')]"
      ]
     },
     "execution_count": 4,
     "metadata": {},
     "output_type": "execute_result"
    }
   ],
   "source": [
    "nltk.download('stopwords')\n",
    "moonstoneNarratorsTexts = {k: list() for k in moonstoneNarrators}\n",
    "for key, token in moonstoneNarratorsTokens.items():\n",
    "    moonstoneNarratorsTexts[key] = nltk.Text(token, name=key)  \n",
    "    \n",
    " \n",
    "moonstoneNarratorsTexts[\"Miss Clack\"].collocation_list()"
   ]
  },
  {
   "cell_type": "markdown",
   "metadata": {},
   "source": [
    "### 4. Using your dictionary from #2 or #3, calculate the lengths, in words, of the text of each narrator. "
   ]
  },
  {
   "cell_type": "code",
   "execution_count": 5,
   "metadata": {},
   "outputs": [
    {
     "name": "stdout",
     "output_type": "stream",
     "text": [
      "Miss Clack length :  138583\n",
      "Mathew Bruff length :  46769\n",
      "Franklin Blake length :  224435\n",
      "Ezra Jennings length :  65186\n",
      "Sergeant Cuff length :  20396\n",
      "Mr. Candy length :  3485\n",
      "Gabriel Betteredge length :  364660\n"
     ]
    }
   ],
   "source": [
    "for k, v in moonstoneNarratorsTokens.items():\n",
    "    length = 0\n",
    "    for token in moonstoneNarratorsTokens[k]:\n",
    "        #print(token)\n",
    "        length += len(token)\n",
    "    print(k, \"length : \", length)"
   ]
  },
  {
   "cell_type": "markdown",
   "metadata": {},
   "source": [
    "### 5. Using your dictionary from #3, find the common collocations for each narrator. \n",
    "\n",
    "Then, in the markdown cell below, write about what you notice about these. "
   ]
  },
  {
   "cell_type": "code",
   "execution_count": 6,
   "metadata": {},
   "outputs": [
    {
     "name": "stdout",
     "output_type": "stream",
     "text": [
      "Miss Clack and Mathew Bruff common collocation :\n",
      "  {('lady', 'verinder'), ('miss', 'verinder'), ('mr.', 'luker'), ('godfrey', 'ablewhite'), ('franklin', 'blake'), ('miss', 'clack'), ('mr.', 'godfrey'), ('mr.', 'bruff'), ('mr.', 'franklin')}\n",
      "\n",
      "Miss Clack and Franklin Blake common collocation :\n",
      "  {('lady', 'verinder'), ('miss', 'verinder'), ('mr.', 'luker'), ('godfrey', 'ablewhite'), ('franklin', 'blake'), ('mr.', 'bruff'), ('mr.', 'franklin')}\n",
      "\n",
      "Miss Clack and Ezra Jennings common collocation :\n",
      "  {('franklin', 'blake'), ('miss', 'verinder'), ('mr.', 'bruff'), ('mr.', 'franklin')}\n",
      "\n",
      "Miss Clack and Sergeant Cuff common collocation :\n",
      "  {('mr.', 'godfrey'), ('miss', 'verinder'), ('mr.', 'luker'), ('godfrey', 'ablewhite')}\n",
      "\n",
      "Miss Clack and Mr. Candy common collocation :\n",
      "  {('franklin', 'blake'), ('miss', 'verinder'), ('mr.', 'franklin')}\n",
      "\n",
      "Miss Clack and Gabriel Betteredge common collocation :\n",
      "  {('mr.', 'godfrey'), ('franklin', 'blake'), ('miss', 'verinder'), ('mr.', 'franklin')}\n",
      "\n",
      "\n",
      "Mathew Bruff and Miss Clack common collocation :\n",
      "  {('lady', 'verinder'), ('miss', 'verinder'), ('mr.', 'luker'), ('godfrey', 'ablewhite'), ('franklin', 'blake'), ('miss', 'clack'), ('mr.', 'godfrey'), ('mr.', 'bruff'), ('mr.', 'franklin')}\n",
      "\n",
      "Mathew Bruff and Franklin Blake common collocation :\n",
      "  {('lady', 'verinder'), ('miss', 'verinder'), ('mr.', 'luker'), ('godfrey', 'ablewhite'), ('franklin', 'blake'), ('mr.', 'bruff'), ('mr.', 'franklin')}\n",
      "\n",
      "Mathew Bruff and Ezra Jennings common collocation :\n",
      "  {('franklin', 'blake'), ('miss', 'verinder'), ('mr.', 'bruff'), ('mr.', 'franklin')}\n",
      "\n",
      "Mathew Bruff and Sergeant Cuff common collocation :\n",
      "  {('mr.', 'godfrey'), ('miss', 'verinder'), ('mr.', 'luker'), ('godfrey', 'ablewhite')}\n",
      "\n",
      "Mathew Bruff and Mr. Candy common collocation :\n",
      "  {('franklin', 'blake'), ('miss', 'verinder'), ('mr.', 'franklin')}\n",
      "\n",
      "Mathew Bruff and Gabriel Betteredge common collocation :\n",
      "  {('mr.', 'murthwaite'), ('miss', 'verinder'), ('franklin', 'blake'), ('mr.', 'godfrey'), ('mr.', 'franklin')}\n",
      "\n",
      "\n",
      "Franklin Blake and Miss Clack common collocation :\n",
      "  {('lady', 'verinder'), ('miss', 'verinder'), ('mr.', 'luker'), ('godfrey', 'ablewhite'), ('franklin', 'blake'), ('mr.', 'bruff'), ('mr.', 'franklin')}\n",
      "\n",
      "Franklin Blake and Mathew Bruff common collocation :\n",
      "  {('lady', 'verinder'), ('miss', 'verinder'), ('mr.', 'luker'), ('godfrey', 'ablewhite'), ('franklin', 'blake'), ('mr.', 'bruff'), ('mr.', 'franklin')}\n",
      "\n",
      "Franklin Blake and Ezra Jennings common collocation :\n",
      "  {('sergeant', 'cuff'), ('mrs.', 'merridew'), ('last', 'year'), ('robinson', 'crusoe'), ('miss', 'verinder'), ('franklin', 'blake'), ('mr.', 'candy'), ('mr.', 'blake'), ('mr.', 'bruff'), ('mr.', 'franklin')}\n",
      "\n",
      "Franklin Blake and Sergeant Cuff common collocation :\n",
      "  {('miss', 'verinder'), ('mr.', 'luker'), ('godfrey', 'ablewhite')}\n",
      "\n",
      "Franklin Blake and Mr. Candy common collocation :\n",
      "  {('franklin', 'blake'), ('miss', 'verinder'), ('mr.', 'franklin')}\n",
      "\n",
      "Franklin Blake and Gabriel Betteredge common collocation :\n",
      "  {('sergeant', 'cuff'), ('robinson', 'crusoe'), ('miss', 'rachel'), ('rosanna', 'spearman'), ('miss', 'verinder'), ('shivering', 'sand'), ('franklin', 'blake'), ('mr.', 'candy'), ('mr.', 'franklin')}\n",
      "\n",
      "\n",
      "Ezra Jennings and Miss Clack common collocation :\n",
      "  {('franklin', 'blake'), ('miss', 'verinder'), ('mr.', 'bruff'), ('mr.', 'franklin')}\n",
      "\n",
      "Ezra Jennings and Mathew Bruff common collocation :\n",
      "  {('franklin', 'blake'), ('miss', 'verinder'), ('mr.', 'bruff'), ('mr.', 'franklin')}\n",
      "\n",
      "Ezra Jennings and Franklin Blake common collocation :\n",
      "  {('sergeant', 'cuff'), ('mrs.', 'merridew'), ('last', 'year'), ('robinson', 'crusoe'), ('miss', 'verinder'), ('franklin', 'blake'), ('mr.', 'candy'), ('mr.', 'blake'), ('mr.', 'bruff'), ('mr.', 'franklin')}\n",
      "\n",
      "Ezra Jennings and Sergeant Cuff common collocation :\n",
      "  {('miss', 'verinder')}\n",
      "\n",
      "Ezra Jennings and Mr. Candy common collocation :\n",
      "  {('franklin', 'blake'), ('miss', 'verinder'), ('mr.', 'franklin')}\n",
      "\n",
      "Ezra Jennings and Gabriel Betteredge common collocation :\n",
      "  {('sergeant', 'cuff'), ('robinson', 'crusoe'), ('young', 'lady'), ('miss', 'verinder'), ('franklin', 'blake'), ('mr.', 'candy'), ('mr.', 'franklin')}\n",
      "\n",
      "\n",
      "Sergeant Cuff and Miss Clack common collocation :\n",
      "  {('mr.', 'godfrey'), ('miss', 'verinder'), ('mr.', 'luker'), ('godfrey', 'ablewhite')}\n",
      "\n",
      "Sergeant Cuff and Mathew Bruff common collocation :\n",
      "  {('mr.', 'godfrey'), ('miss', 'verinder'), ('mr.', 'luker'), ('godfrey', 'ablewhite')}\n",
      "\n",
      "Sergeant Cuff and Franklin Blake common collocation :\n",
      "  {('miss', 'verinder'), ('mr.', 'luker'), ('godfrey', 'ablewhite')}\n",
      "\n",
      "Sergeant Cuff and Ezra Jennings common collocation :\n",
      "  {('miss', 'verinder')}\n",
      "\n",
      "Sergeant Cuff and Mr. Candy common collocation :\n",
      "  {('miss', 'verinder')}\n",
      "\n",
      "Sergeant Cuff and Gabriel Betteredge common collocation :\n",
      "  {('mr.', 'godfrey'), ('miss', 'verinder')}\n",
      "\n",
      "\n",
      "Mr. Candy and Miss Clack common collocation :\n",
      "  {('franklin', 'blake'), ('miss', 'verinder'), ('mr.', 'franklin')}\n",
      "\n",
      "Mr. Candy and Mathew Bruff common collocation :\n",
      "  {('franklin', 'blake'), ('miss', 'verinder'), ('mr.', 'franklin')}\n",
      "\n",
      "Mr. Candy and Franklin Blake common collocation :\n",
      "  {('franklin', 'blake'), ('miss', 'verinder'), ('mr.', 'franklin')}\n",
      "\n",
      "Mr. Candy and Ezra Jennings common collocation :\n",
      "  {('franklin', 'blake'), ('miss', 'verinder'), ('mr.', 'franklin')}\n",
      "\n",
      "Mr. Candy and Sergeant Cuff common collocation :\n",
      "  {('miss', 'verinder')}\n",
      "\n",
      "Mr. Candy and Gabriel Betteredge common collocation :\n",
      "  {('franklin', 'blake'), ('miss', 'verinder'), ('mr.', 'franklin')}\n",
      "\n",
      "\n",
      "Gabriel Betteredge and Miss Clack common collocation :\n",
      "  {('mr.', 'godfrey'), ('franklin', 'blake'), ('miss', 'verinder'), ('mr.', 'franklin')}\n",
      "\n",
      "Gabriel Betteredge and Mathew Bruff common collocation :\n",
      "  {('mr.', 'murthwaite'), ('miss', 'verinder'), ('franklin', 'blake'), ('mr.', 'godfrey'), ('mr.', 'franklin')}\n",
      "\n",
      "Gabriel Betteredge and Franklin Blake common collocation :\n",
      "  {('sergeant', 'cuff'), ('robinson', 'crusoe'), ('miss', 'rachel'), ('rosanna', 'spearman'), ('miss', 'verinder'), ('shivering', 'sand'), ('franklin', 'blake'), ('mr.', 'candy'), ('mr.', 'franklin')}\n",
      "\n",
      "Gabriel Betteredge and Ezra Jennings common collocation :\n",
      "  {('sergeant', 'cuff'), ('robinson', 'crusoe'), ('young', 'lady'), ('miss', 'verinder'), ('franklin', 'blake'), ('mr.', 'candy'), ('mr.', 'franklin')}\n",
      "\n",
      "Gabriel Betteredge and Sergeant Cuff common collocation :\n",
      "  {('mr.', 'godfrey'), ('miss', 'verinder')}\n",
      "\n",
      "Gabriel Betteredge and Mr. Candy common collocation :\n",
      "  {('franklin', 'blake'), ('miss', 'verinder'), ('mr.', 'franklin')}\n",
      "\n",
      "\n"
     ]
    }
   ],
   "source": [
    "collocationList = {k: list() for k in moonstoneNarrators}\n",
    "for narrator in moonstoneNarratorsTexts:\n",
    "    tempList = moonstoneNarratorsTexts[narrator].collocation_list()\n",
    "    for t in tempList:\n",
    "        collocationList[narrator].append(t)\n",
    "    collocationList[narrator] = set(collocationList[narrator])\n",
    "\n",
    "for key, value in collocationList.items():\n",
    "    for key2, value2 in collocationList.items():\n",
    "        if key == key2:\n",
    "            continue\n",
    "        print(key, \"and\", key2, \"common collocation :\\n \", value & value2)\n",
    "        print()\n",
    "    print()\n"
   ]
  },
  {
   "cell_type": "markdown",
   "metadata": {},
   "source": [
    "* Usually, when there was a common collocation, it was often a person's name. Through this, it will be possible to predict the person who knows in common between the two characters. As mentioned earlier, it is expected that the relationship between characters can be expressed in a graph."
   ]
  },
  {
   "cell_type": "markdown",
   "metadata": {},
   "source": [
    "### 6. Using your dictionary from #3, find the hapax legomena for each narrator. \n",
    "\n",
    "Then, in the markdown cell below, write about what you notice about those. "
   ]
  },
  {
   "cell_type": "code",
   "execution_count": 7,
   "metadata": {},
   "outputs": [
    {
     "name": "stdout",
     "output_type": "stream",
     "text": [
      "Miss Clack :\n",
      " ['contributed', 'regularity', 'instilled', 'bygone', 'article', 'clothing', 'retiring', 'entry', 'preceded', 'hymn.', 'sad', 'meditations', 'slumbers', 'haunt', 'uneasy', 'pillow', 'links', 'childhood–before', 'papa', 'latter', 'habit–hitherto', 'mainly', 'adam–has', 'enabled', 'caprice', 'cut', 'isolated', 'infrequently', 'brittany', 'inhabited', 'advantages', 'protestant', 'cheap', 'market', 'retirement–a', 'patmos', 'amid', 'howling', 'ocean', 'popery', 'surrounds', 'us–a', 'insignificant', 'existence', 'relative–would', 'spiritually-wealthy', '–writes', 'disguising', 'wants', 'whim', 'stir', 'remuneration', 'me–with', 're-open', 'recall', 'intensely', 'remembrances–and', 'compensated', 'laceration', 'humility', 'conquered', 'self-denial', 'doubt–pray', 'grossest', '–if', 'honestly', 'labourer', 'forgives', 'thanks', 'suppress', 'flattering', 'purchased', 'wealth', 'blake.–miss', 'altered', 'writers', 'peculiarities', 'treatment', 'mark', 'literary', 'disfigure', 'narratives', 'collecting', 'line', 'tampered', 'anywhere', 'me–and', 'preserve', 'endorsed', 'attestations', 'brave', 'smartest', 'unquestionable', 'value', 'instrument', 'exhibition', 'informs', '3rd', 'july', 'shutters', 'blinds', 'meditated', 'declining', 'disturb', 'begging', 'standing', 'betteredge–long', 'tolerated', 'answer–and', 'applicable', 'dirty', 'consciousness', 'raised', 'familiar', 'cap-ribbons.', 'two.', 'boldness', 'favour', 'sow', 'somehow', 'letter-box', 'area', 'railings', 'is–as', 'know–to', 'rescue', 'unredeemed', 'fathers', 'pawnbroker', 'resumption', 'irreclaimable', 'parent', 'abridging', 'proportions', 'boardroom', 'expressing', 'sisters', 'starting-point', 'gentlemen–occupying', 'widely-different', 'positions', 'society–had', 'victims', 'gentlemen', 'septimus', 'isolation', 'introducing', 'newspaper-account', 'deprived', 'fervid', 'infancy', 'neatly', 'date–thanks', 'dictionary', 'dates–was', 'june', '30th', 'memorable', 'cashing', 'banking-house', 'lombard', 'blotted', 'hazard', 'guess', 'fortunately', 'circumstance', 'transacted', 'gaining', 'encountered', 'gentleman–a', 'him–who', 'politeness', 'ensued', 'precede', 'thoughtless', 'superficial', 'trumpery', 'incident', 'absurdly', 'circumstantial', 'fellow-sinners', 'beware', 'presuming', 'carnal', 'spotless', 'pardons', 'insensibly', 'sunday-school', 'inappropriate', 'worldly–let', 'trifles', 'premising', 'kilburn', 'clad', 'delicate', 'interesting-looking', 'entrusted', 'incidents', 'promoter', 'unfamiliar']\n",
      "\n",
      "Mathew Bruff :\n",
      " ['contributed', 'mathew', 'laid', 'light', 'points', 'breaking', 'engagement–and', 'charming', 'cousin–and', 'fortune', 'personally', 'involved–at', 'writing–in', 'distinguished', 'manners', 'celebrated', 'held', 'important', 'claims', 'fill', 'occupy', 'true', 'broken', 'comes', 'therefore', 'tracing', 'chain', 'bedside', 'share–perhaps', 'share–of', 'harmless', 'amiable', 'weaknesses', 'incidental', 'humanity', 'mention', 'applicable', 'invincible', 'reluctance–so', 'enjoyed', 'health–to', 'rouse', 'admitted', 'justice', 'views–but', 'afflicted', 'illness', 'ultimately', 'simplest', 'career', 'dozing', 'sha', 'n', 'again.', 'collected', 'pens', 'paper', 'ready', 'dip', 'waited', 'all.', 'pillow', 'obliged', 'understand', 'die', 'possessed', 'kinds', 'purposely', 'abstain', 'using', 'technical', 'majority', 'afraid', 'reconsider', 'unreserved', 'wives', '–but', 'capable', 'properly', 'administering', 'thousand', 'minutes', 'drawn', 'executed', 'finishing', 'interrupted', 'amply', 'justified', 'widowhood', 'sound', 'sensible', 'relieved', 'necessity', 'shaping', 'legal', 'fortnight', 'wisely', 'affectionately', 'provided', 'fireproof', 'summer', 'eighteen', 'hundred', 'melancholy', 'pronounced', 'literally', 'situation', 'improve', 'relating', 'lapse', 'wishes', 'regard', 'minor', 'legacies', 'different', 'relatives', 'undergone', 'modification', 'codicils', 'fear', 'accident', 'obtained', 'ladyship', 'permission', 'embody', 'avoid', 'inevitable', 'confusions', 'repetitions', 'disfigured', 'grated', 'fitness', 'execution', 'obliging', 'witness', 'regarded', 'exact', 'counterpart', 'changes', 'introduced', 'related', 'concerning', 'phrase', 'time–as', 'remember–the', 'warning', 'unusual', 'observed', 'greater', 'contested', 'nobody', 'examining', 'benefit', 'allows', 'applies', 'payment', 'shilling', 'fee', 'yet', 'folio', 'registers', 'depart', 'older.', 'solicitors', 'unaccountable', 'examination', 'deceased', 'comparatively', 'common-law', 'owing', 'past', 'picked', 'crumbs', 'fell', 'various', 'undertake', 'intended', 'spoke', 'compliments', 'glad', 'messrs.', 'examine', 'message', 'acted', 'breach', 'smart', 'discussion', 'angry', 'suspicious–and', 'insisted', 'knowing', 'claimed', 'freedom', 'discretion', 'even', 'unwarrantable', 'advantage', 'choose', 'mine.', 'indefensible']\n",
      "\n",
      "Franklin Blake :\n",
      " ['contributed', 'eighteen', 'forty-nine', 'recently', 'remittances', 'consul', 'resting-places', 'scheme', 'appointed', 'delayed', 'encamped', 'borders', 'desert', 'tent', 'heir', 'wealth', 'entreated', 'daybreak', 'overdrawn', 'satirical', 'references', 'education', 'italian', 'professed', 'jest', 'real', 'barring', 'drawback', 'representing', 'resolved–if', 'denies', 'exclusive', 'contemplation', 'novelty', 'effectually', 'homeward', 'narrative–one', 'circumstance', 'excepted', 'liberty', 'troubled', 'embarrassing', 'effected', 'widowed', 'sister', 'john', 'verinder–one', 'merridew–whom', 'executors', 'reported', 'admirably', 'place–without', 'upstairs', 'speediest', 'pardon–miss', 'convenient', 'press', 'tire', 'applying', 'begs', 'correspondence', 'indignantly', 'roof', 'moving', 'threatening', 'exertions.', 'pack', 'portmanteau', 'train.', 'worthy', 'remonstrate–to', 'induce', 'reason–to', 'deaf', 'urge', 'earthly', 'onwards', 'supply', 'peaceful', 'sunning', 'seek', 'paths', 'was–the', 'mouth', 'slanting', 'rays', 'keen', 'scent', 'growl', 'shaded', 'failing', 'inquiringly', 'ii', 'knee', 'harry', 'backwards', 'forwards', 'surveyed', 'volume', 'stare', 'anticipation–as', 'speech', 'fifty-six', 'thunderstruck', 'apparition.', '–there', 'closing', 'bang', 'overwhelm', 'no–the', 'old-fashioned', 'bow', 'afterwards–i', 'changes', 'bed–and', 'latour', 'claret', 'throat', 'fighting', 'manfully', 'gloom', 'sociable', 'courteous', 'vexed', 'commonest', 'self-respect', 'me–properly', 'downright', 'agreeably', 'redolent', 'know–the', 'faults–i', 'ride', 'often–invariably', 'producing', 'example', 'inbred', 'frailty', 'sex', 'exhibited', 'ways', 'exercise', 'animal', 'brutal', 'time–just', 'betteredge–affectionately', 'understand–up', 'holus-bolus', 'shirt-sleeves', 'cooked', 'enjoyed', 'washed', 'crockery', 'cleaned', 'knives', 'forks', 'swept', 'hearth', 'fondest', 'desire.', 'moral', 'powers', 'persuasion', 'slily', 'freehold.', 'farm-house', 'sheltered', 'inland', 'valley', 'banks', 'prettiest', 'farmer', 'artists', 'anglers', 'tourists', 'abode', 'mrs', 'recommend', 'yesterday.', 'pleasure.', 'travelling-bag', 'handle', 'swinging', 'bag', 'relapse', 'bewilderment', 'wheeled', 'goodish', 'servants–', 'blake–and', 'damme', 'lodging', 'wagging', 'growling', 'ominously', 'seven-and-sixpence', 'stroke', 'sarcasm', 'duties', 'hospitality']\n",
      "\n",
      "Ezra Jennings :\n",
      " ['extracted', '1849.–june', '15…', 'finished', 'decision', '16th.–rose', 'pursuing', 'series', 'whirling', 'phantoms', 'enemies', 'beloved', 'bedside', 'hideously', 'phosphorescent', 'darkness', 'glared', 'grinned', 'slight', 'welcome', 'dispelled', 'visions–and', 'bearable', 'stretched', 'breakfasting', 'brandy', 'soda-water', 'dry', 'biscuit', 'miserable', 'total', 'pleased.', 'earliest', 'careful', 'exhausted', 'air.', 'horse', 'by-the-by', 'yes–by', 'post.', 'news', 'favourably', 'amused', 'protested', 'number', 'foolish', 'tops', 'prejudices', 'meet', 'rounds', 'happier', 'interview', 'attraction', 'contrast', 'frankly', 'merciless', 'dislike', 'answers', 'sympathy–the', 'survived', 'solitude', 'persecution', 'seems', 'grow', 'endure', 'questions', 'seeking', '17th.–before', 'breakfast', 'fortnight', 'south', 'special', 'doctors', 'superseded', 'employ', 'fortunate', 'hardly', 'undesirable', 'confidence', 'unquestionably', 'gives', 'highest', 'conceal', 'tells', 'prettiest', 'need', 'assertion', 'upbraids', 'herself–most', 'undeservedly', '–for', 'divined', 'underlying', 'proceeds', 'eagerness', 'inflicted', 'throughout', 'estrangement', 'rapture', 'discovering', 'deserved', 'breaks', 'stoutest', 'formalities', 'ink', 'defies', 'delightful', 'chosen', 'trampled', 'torn', 'others', 'making–a', 'renewed', 'merciful', 'death', 'arms', 'enfold', 'whispers', 'prevents', 'authorised', 'willingly', 'desired', 'add', 'comply', 'embarrasses', 'seriously', 'content', 'instructing', 'whatever', 'asks', 'personally', 'superintending', 'restoration', 'surface', 'fancy', 'forbidden', 'interpret', 'vindicate', 'admire', 'anxiety', 'acquit', 'longing', 'agitation', 'sides–reviving', 'dormant', 'appealing', 'memories', 'awakening', 'hopes–would', 'almost', 'fatal', 'reproduce', 'emotions', 'agitate', 'knowing', 'post-time', 'damage', 'bound', 'render', 'visits', 'intervals', 'broken', 'after-dinner', 'advised', 'curtail', 'restorative', 'sailor', 'fine', 'steering', 'permitted', 'invent', 'excuses', 'bitterly', 'understood', 'delicacy', 'disinclined', 'courtesy', 'justice', 'keeps', 'result.', 'sorely', 'tempted', 'hint', 'reflection', 'shrank', 'forestalling', 'double', 'luxury', 'forgiving', 'compelled', 'agony', 'disease', 'upper', 'alarm', 'distress', 'lasted', 'quarter', 'reconciles', 'sides', 'consent']\n",
      "\n",
      "Sergeant Cuff :\n",
      " ['contributed', 'dorking', 'surrey', '30th', '1849.', 'franklin', 'esq', '–i', 'beg', 'delay', 'production', 'engaged', 'furnish', 'waited', 'complete', 'obstacles', 'possible', 'remove', 'expenditure', 'patience', 'myself', 'attained', 'pages', 'answers', 'greater', 'part–if', 'all–of', 'questions', 'concerning', 'mind', 'propose', 'tell', 'you–in', 'place–what', 'appending', 'inferences', 'conclusions', 'justified', 'opinion', 'drawing', 'endeavour–in', 'place–to', 'discoveries', 'respecting', 'guests', 'country-house', 'ii', 'established', 'reasonable', 'doubt', 'killed', 'immediately', 'waking', 'bed–that', 'murdering', 'indians–and', 'achieved', 'obtain', 'dead', 'face', 'medical', 'examined', 'informed', 'circumstance', 'post-mortem', 'appearances', 'compatible', 'smothering–that', 'pressing', 'mouth', 'until', 'congestion', 'lungs', 'small', 'containing', 'table', 'personally', 'identified', 'seal', 'declared', 'contain', 'admitted', 'given', 'concealed', 'afternoon', 'twenty-sixth', 'stealing', 'high', 'ceiling', 'short', 'used', 'obtaining', 'opening', 'enable', 'easily', 'itself', 'square', 'wood', 'apparently', 'exceedingly', 'instrument', 'behind', 'fastened', 'inner', 'outside', 'dropped', 'noiselessly', 'lowered', 'room–its', 'height', 'admission', 'evident', 'fact', 'remarked', 'third', 'repair–that', 'workmen', 'pavement', 'top', 'house–and', 'returning', 'work', 'plank', 'tied', 'prevent', 'using', 'absence', 'removed', 'possibility', 'ascending', 'roofs', 'houses', 'descending', 'unobserved–it', 'policeman', 'passes', 'twice', 'beat', 'testimony', 'inhabitants', 'declares', 'midnight', 'quietest', 'loneliest', 'streets', 'infer', 'that–with', 'ordinary', 'caution', 'presence', 'mind–any', 'ascended', 'descended', 'unobserved', 'once', 'experiment', 'parapet', 'front', 'conceal', 'lastly', '1', 'possessing', '2', 'least', 'probable', 'looking', 'octavius', 'guy', 'window', 'cab', 'speaking', 'hindoo', 'conspirators', '3', '26th', 'lead', 'suspicion', 'examining', '4', 'morsel', 'picked', 'expert', 'declare', 'manufacture', 'species', 'england', '5', 'answering', 'description', 'thames', 'tower', 'wharf', 'steamer', 'bound', 'rotterdam', 'moral', 'legal', 'whether', 'personating', 'impossible']\n",
      "\n",
      "Mr. Candy :\n",
      " ['frizinghall', 'september', '26th', '1849.–dear', 'anticipate', 'sad', 'news', 'finding', 'ezra', 'jennings', 'returned', 'unopened', 'enclosure', 'arms', 'sunrise', 'blame', 'failed', 'warn', 'expressly', 'forbade', 'indebted', 'seen', 'happy', 'days', 'don', 'candy–don', 'him.', 'terrible', 'intervals', 'remission', 'clear', 'entreated', 'relatives', 'whom', 'might', 'forgiven', 'refusing', 'anything', 'said–not', 'bitterly–that', 'would', 'die', 'lived', 'unknown', 'maintained', 'hope', 'now', 'making', 'discoveries', 'concerning', 'story', 'blank', 'day', 'where', 'find', 'papers', 'brought', 'bed', 'old', 'which', 'aside', 'diary–in', 'many', 'locked', 'opened', 'volume', 'year', 'tore', 'by', 'relating', 'together', 'years', 'may', 'interest', 'looking', 'written', 'there.', 'clasped', 'hands', 'prayed', 'god', 'fervently', 'bless', 'should', 'like', 'moment', 'altered', 'answered', 'offered', 'request', 'collected', 'papers–that', 'say', 'diary–and', 'enclosed', 'sealed', 'seal', 'into', 'coffin', 'touches', 'afterwards.', 'performed', 'thing', 'him–which', 'cost', 'hard', 'struggle', 'comply', 'word', 'honour', 'allow', 'monument', 'sort–not', 'even', 'commonest', 'tombstone–to', 'mark', 'burial', 'sleep', 'unknown.', 'tried', 'plead', 'alter', 'became', 'first', 'only', 'violently', 'agitated', 'could', 'bear', 'way', 'nothing', 'grass', 'mound', 'marks', 'tombstones', 'round', 'people', 'who', 'after', 'look', 'wonder', 'death', 'ceased', 'dozed', 'dreamed', 'once', 'or', 'twice', 'smiled', 'woman', 'suppose–the', 'ella', '–was', 'often', 'lips', 'few', 'minutes', 'lift', 'pillow', 'sun', 'through', 'window', 'weak', 'fell', 'whispered', 'coming', 'kiss', 'kissed', 'forehead', 'sudden', 'lifted', 'sunlight', 'touched', 'face', 'beautiful', 'angelic', 'came', 'over', 'cried', 'three', 'times', 'sank', 'long', 'trouble', 'so', 'gone', 'great', 'man–though', 'world', 'knew', 'sweetest', 'temper', 'ever', 'met', 'loss', 'makes', 'lonely', 'perhaps', 'quite']\n",
      "\n",
      "Gabriel Betteredge :\n",
      " ['1848', 'twenty-nine', 'writing–and', 'better.', 'perceiving', 'already–as', 'memories', 'hereafter', 'turn–as', 'extends', 'farther', 'prefatory', 'eye-witness', 'story.', 'unequal', 'task', 'perform', 'desk', 'quoted', 'above–namely', 'ask–if', 'superstitious', 'scholar', 'years–generally', 'tobacco–and', 'necessities', 'bad–robinson', 'advice–robinson', 'plagued', 'much–robinson', 'stout', 'crusoes', 'blue', 'diamond–does', 'sheet', 'travail', 'fashionable', 'adelaide', 'julia–this', 'opportunities', 'longest', 'fifteen', 'throve', 'fat', 'dating', 'omitted', 'lands', 'either.', 'too–with', 'farmer', 'promotion', 'pension', 'pensioned', 'clover', 'rounds', 'estate', 'evening–what', 'eden', 'william', 'cobbett', 'chews', 'likewise', 'economy–with', 'cheaper', 'at–my', 'misgive', 'acknowledged', 'compensation', 'feather-bed', 'true–she', 'half-a-dozen', 'misunderstandings', 'all-wise', 'providence', 'promoted', 'christmas', '1847', 'wool', 'bitter', 'bribe', 'wheedle', 'indignity', 'wiping', 'woollen', 'perturbation', 'fifty-eight', 'hate.', 'farm-bailiff', 'farm', 'selves', 'writing-paper', 'scratching', 'compulsion', 'improvement', 'observes', 'fiddlesticks', 'sweethearts', 'twenty-fourth', 'staying', 'ceiling', 'nicest', 'spun', 'atrocious', 'tyrant', 'driver', 'exhausted', 'harness', 'ache', 'heir', 'blake–equally', 'riches', 'worrying', 'place–how', 'purses', 'wrong–is', 'educating', 'disliked', 'fellow-countrymen', 'publish', 'unfinished', 'transaction', 'consisted', 'four-bladed', 'knife', 'money–the', 'stature', 'teach', 'italians', 'sang', 'little–borrowing', 'borrowed', 'sieve', 'sew', 'europe–to', 'for.', 'unmentionable', 'did–before', 'butler', 'vexed', 'cellar', '–then', 'fetched', 'latour', 'concluding', 'next–seeing', 'age–i', 'beating', 'mahogany-coloured', 'frocks', 'trousers', 'hand-drums', 'delicate-looking', 'light-haired', 'fellows', 'conjurors', 'tools', 'amusement', 'shades', 'darker', 'weaknesses–and', 'weakness', 'pantry-table', 'gossip', 'lodge-keeper', 'foreigners–for', 'delicate-looking–the', 'jabbered', 'disputed', 'stays', 'creep.', 'shrunk', 'market–a', 'hungry', 'ragged', 'forsaken', 'chap', 'indian–first', 'air–then', 'look.', 'hollow', 'question–after', 'answered–also', 'first–', 'tell.', 'rises', 'catechism', 'blew', 'foretell', 'magic', 'actors', 'fifth', 'clasping', 'comes.', 'earnestness', 'too.', 'franklin–mainly', 'fully', 'expectations', 'here–before', 'further–that']\n",
      "\n"
     ]
    }
   ],
   "source": [
    "from nltk.probability import FreqDist\n",
    "\n",
    "for narrator in moonstoneNarratorsTexts:\n",
    "\n",
    "    print(narrator, \":\\n\", FreqDist(moonstoneNarratorsTexts[narrator]).hapaxes()[:200])\n",
    "    print()\n"
   ]
  },
  {
   "cell_type": "markdown",
   "metadata": {},
   "source": [
    "* Hapax legomena is a word that appears only once in the writing. It's not worth it, so I think it's okay to remove it from the writing. Since it does not play an important role in writing, it would be better to remove it in the preprocessing process and perform natural language processing."
   ]
  },
  {
   "cell_type": "markdown",
   "metadata": {},
   "source": [
    "### 7. Write a function that computes the type / token ratio for a text. Then, use the function, and the dictionary you made in #2, to compute the type/token ratios for samples from all the narrators. \n",
    "\n",
    "Truncate each text to some pre-determined value, first, before calculating its type/token ratio, so that you're comparing the same amount of words in each. \n",
    "\n",
    "Then, in the markdown cell below, write 1-2 paragraphs where you interpret your results. "
   ]
  },
  {
   "cell_type": "code",
   "execution_count": 8,
   "metadata": {},
   "outputs": [
    {
     "name": "stdout",
     "output_type": "stream",
     "text": [
      "Miss Clack 's the type / token ratio : 0.1308147005911077\n",
      "Mathew Bruff 's the type / token ratio : 0.19221619564183082\n",
      "Franklin Blake 's the type / token ratio : 0.09270224546293448\n",
      "Ezra Jennings 's the type / token ratio : 0.1649705409748259\n",
      "Sergeant Cuff 's the type / token ratio : 0.26610395379831187\n",
      "Mr. Candy 's the type / token ratio : 0.44471153846153844\n",
      "Gabriel Betteredge 's the type / token ratio : 0.07271448328484906\n"
     ]
    }
   ],
   "source": [
    "def getTypeTokenRatio(string):\n",
    "    tokens = word_tokenize(string)\n",
    "    return len(set(tokens)) / len(tokens)\n",
    "\n",
    "def cleanString(string):\n",
    "    string = re.sub('[^a-zA-Z0-9]',' ',string).strip()\n",
    "    return string\n",
    "\n",
    "for narrator, string in moonstoneNarrators.items():\n",
    "    string = cleanString(string)\n",
    "    print(narrator, \"'s the type / token ratio :\", getTypeTokenRatio(string))"
   ]
  },
  {
   "cell_type": "markdown",
   "metadata": {},
   "source": [
    "* The type/talken ratio represents the variety of characters' vocabulary. It is an indicator that calculates how many different words are used.\n",
    "\n",
    "* The following meaningful information can be extracted through type/talken ratio.\n",
    "\n",
    "1. When a person uses various words, it can be said that the person deals with various topics. It uses various words because it deals with various events. Looking at Betteredge, which deals with many cases, it can be seen that the figure is 0.07271448328484906, which uses a wide variety of words.\n",
    "\n",
    "2. It will be able to express how much a person has learned. A person with a lot of education would have gotten more vocabulary. It can be seen that Franklin Blank, who has received relatively much education, uses various words as 0.09270224546293448. By comparison, Mr Candy's does not use various words."
   ]
  },
  {
   "cell_type": "markdown",
   "metadata": {},
   "source": [
    "### 8. Write a function that computes the average number of words per sentence, for a text. Then, use your function, and your dictionary from #1, to calculate the average sentence length, in words, for all the narrators. \n",
    "\n",
    "Then, in the markdown cell below, describe what you think this might indicate, and how it compares to type/token ratio. \n",
    "\n",
    "Hint: use the NLTK's sentence tokenizing function. "
   ]
  },
  {
   "cell_type": "code",
   "execution_count": 9,
   "metadata": {},
   "outputs": [
    {
     "name": "stdout",
     "output_type": "stream",
     "text": [
      "Miss Clack : 19.15989010989011\n",
      "Mathew Bruff : 21.233695652173914\n",
      "Franklin Blake : 19.261811023622048\n",
      "Ezra Jennings : 15.918582375478927\n",
      "Sergeant Cuff : 18.51851851851852\n",
      "Mr. Candy : 12.777777777777779\n",
      "Gabriel Betteredge : 20.233411563900148\n"
     ]
    }
   ],
   "source": [
    "def getAvgSentenceLength(string):\n",
    "    stringList = string.split('.')\n",
    "    cnt = 0\n",
    "    tokenCount = 0\n",
    "    for s in stringList:\n",
    "        tokens = word_tokenize(s)\n",
    "        #print(tokens)\n",
    "        tokenCount += len(tokens)\n",
    "        cnt +=1\n",
    "    return tokenCount / cnt\n",
    "\n",
    "for key, value in moonstoneNarrators.items():\n",
    "    print(key, \":\", getAvgSentenceLength(value))\n",
    "    "
   ]
  },
  {
   "cell_type": "markdown",
   "metadata": {},
   "source": [
    "* The type/token ratio and average number of words perception seem quite relevant.\n",
    "* If the average number of words per sentence is large, the type/token ratio is small, and if the type/token ratio is small, the average number of words per sentence is large.\n",
    "* Maybe it's because vocabulary and writing many words in sentences have a relationship."
   ]
  },
  {
   "cell_type": "markdown",
   "metadata": {},
   "source": [
    "### 9. Choose a motif that you notice in _The Moonstone_. Choose around 3-5 words (or tokens, stems, or lemmas) that you think represent this motif. Create a plot to show the positions of these words in the narrative time of _The Moonstone_. Then create concordances for a few of these words. Finally, in 2-3 paragraphs of well-formatted markdown, describe what this tells you about how the motif operates in the novel. "
   ]
  },
  {
   "cell_type": "code",
   "execution_count": 10,
   "metadata": {},
   "outputs": [
    {
     "name": "stdout",
     "output_type": "stream",
     "text": [
      "<Text: layout narrative title the moonstone author wilkie collins...>\n"
     ]
    },
    {
     "data": {
      "image/png": "[encoded data removed]",
      "text/plain": [
       "<Figure size 432x288 with 1 Axes>"
      ]
     },
     "metadata": {
      "needs_background": "light"
     },
     "output_type": "display_data"
    },
    {
     "name": "stdout",
     "output_type": "stream",
     "text": [
      "Displaying 25 of 324 matches:\n",
      "t applying however as in india to a diamond devoted to the service of a god but\n",
      "n time the adventures of the yellow diamond begin with the eleventh century of \n",
      " inviolate deity bearing the yellow diamond in its forehead was removed by nigh\n",
      "d the breath of his divinity on the diamond in the forehead of the god and the \n",
      "he eighteenth christian century the diamond fell into the possession of tippoo \n",
      "boastful way that we should see the diamond on his finger if the english army t\n",
      "out among them and the story of the diamond turned up again unexpectedly in the\n",
      "en taunted more than once about the diamond by those who recollect his angry ou\n",
      "l live to regret it if he keeps the diamond and that others will live to regret\n",
      " taking it from him if he gives the diamond away the story first period the los\n",
      " story first period the loss of the diamond 1848 the events related by gabriel \n",
      "n talking of the loss of the indian diamond in my aunts house in yorkshire two \n",
      "nklin went on in this matter of the diamond he said the characters of innocent \n",
      "er we must begin by showing how the diamond first fell into the hands of my unc\n",
      "next thing to do is to tell how the diamond found its way into my aunts house i\n",
      " concern was with the matter of the diamond if you are curious to know what cou\n",
      " my lady a line or two back now the diamond could never have been in our house \n",
      "do with him in this business of the diamond he had the longest tongue and the s\n",
      "i am asked to tell the story of the diamond and instead of that i have been tel\n",
      "edom and let you and i stick to the diamond the diamond takes us back to mr fra\n",
      " you and i stick to the diamond the diamond takes us back to mr franklin who wa\n",
      " this reason that the matter of the diamond touches them both nearly how hard i\n",
      "e means my uncle herncastles famous diamond good lord sir i broke out how do yo\n",
      "be in charge of the wicked colonels diamond the wicked colonels will has left h\n",
      "e wicked colonels will has left his diamond as a birthday present to my cousin \n",
      "Displaying 25 of 90 matches:\n",
      " after us can appeal there can be no doubt that this strange family story of ou\n",
      "very satisfactory to both of them no doubt but i failed to see what i myself ha\n",
      "ver yet found to fail me in cases of doubt and emergency i smoked a pipe and to\n",
      "and looked at each other like men in doubt then they all turned to their little\n",
      "d into dry land before my own eyes i doubt if i could have been more surprised \n",
      "e are really so extraordinary that i doubt if i can trust my own language to do\n",
      "ed to my great disappointment and no doubt to yours also nothing had happened h\n",
      "house it often falls heavy enough no doubt on people who are really obliged to \n",
      "e nobody who saw and heard him could doubt the difficulty was to fathom miss ra\n",
      "aid to miss rachel about her jewel i doubt if he spoke six words or drank so mu\n",
      "he had pricked them with a bayonet i doubt if the indians could have started an\n",
      " it is answered mr murthwaite i cant doubt after what you have told me that the\n",
      "ed for them with drugged meat as the doubt crossed my mind the dogs themselves \n",
      "y lady who was also in the secret no doubt and who alone had access to miss rac\n",
      "irl whose honesty had been above all doubt as long as i had known her the matro\n",
      " back to me in a frenzy there was no doubt of it any longerthe policeofficer ha\n",
      " you had seen something there was no doubt about and that let me tell you was b\n",
      " an opinionand as things are now any doubt you might previously have felt about\n",
      "ion you might have given it to me no doubt in the house instead of out of it bu\n",
      " know for the second time i began to doubt whether i had been one too many for \n",
      " place to my lady or to me a certain doubt came up in my mind whether sergeant \n",
      "mmer as he looked at it there was no doubt now he had made another discovery to\n",
      "ening up wonderfully there cant be a doubt about it answered the sergeant ask m\n",
      " owned to being puzzled a comforting doubt crossed my mind whether any great ha\n",
      "clean out of my head as they have no doubt gone clean out of yours i didnt see \n",
      "Displaying 25 of 127 matches:\n",
      "open door and saw the bodies of two indians by their dress as i guessed officer\n",
      "d it is true that i heard the dying indians words but if those words were prono\n",
      "race i found three mahoganycoloured indians in white linen frocks and trousers \n",
      "rousers looking up at the house the indians as i saw on looking closer had smal\n",
      "daughter the two girls had seen the indians pass out after i had warned them of\n",
      "elopes next words stirred me up the indians looked up the road and down the roa\n",
      "she particularly reminded me of the indians third question has the english gent\n",
      " i inquired tell me about the three indians you have had at the house today say\n",
      "lot then a plot organised among the indians who originally owned the jewel says\n",
      "eets me i find that three strolling indians have been at the house and that my \n",
      "ther we really have evidence of the indians being on the track of the moonstone\n",
      "ad happened he had not met with the indians either going or returning he had de\n",
      "cted that i had disturbed the three indians lurking about the house and bent in\n",
      "u his opinion was not only that the indians had been lurking about after the di\n",
      "depend upon it says mr franklin the indians took it for granted that we should \n",
      "oubled with no more visits from the indians for the present if he cant we shall\n",
      "ds all that i have to say about the indians for the present on the twentyninth \n",
      " coat have you seen anything of the indians not a glimpse with that answer he a\n",
      "ouple of skyrockets wild to see the indians exhibit their tricks the other ladi\n",
      " knowledge of the truth showing the indians the diamond in the bosom of her dre\n",
      " them with a bayonet i doubt if the indians could have started and turned on hi\n",
      "wine i and the footman followed the indians and saw them safe off the premises \n",
      " mr betteredge he began those three indians are no more jugglers than you and i\n",
      "aveller if he had ever met with the indians before never says mr murthwaite but\n",
      "out tonight sir i asked suppose the indians come back mr murthwaite answered me\n"
     ]
    }
   ],
   "source": [
    "from nltk.corpus import stopwords\n",
    "\n",
    "stop_words = set(stopwords.words('english')) \n",
    "out = re.sub(r'[^\\w\\s]','',moonstone)\n",
    "filtered = word_tokenize(out.lower())\n",
    "result = []\n",
    "for w in filtered: \n",
    "    if w not in stop_words: \n",
    "        result.append(w) \n",
    "counts = collections.Counter(result)\n",
    "#print(counts)\n",
    "#choose 'Diamond', 'Indians', 'doubt', 'Moonstone', 'birthday'\n",
    "text = nltk.Text(filtered)\n",
    "print(text)\n",
    "text.dispersion_plot(['diamond', 'indians', 'doubt', 'moonstone', 'birthday'])\n",
    "text.concordance('diamond')\n",
    "text.concordance('doubt')\n",
    "text.concordance('indians')"
   ]
  },
  {
   "cell_type": "markdown",
   "metadata": {},
   "source": [
    " - '*Diamonds*' are the center of the story. I can see that diamonds continue to appear throughout the story. \n",
    " - The storyline first began with '*birthday*', but over time, the word *birthday* did not appear much in the middle of the event because it was not important, but because the event of the loss of the diamond was important.\n",
    " - As it is a detective novel, the word '*doubt*' appeared steadily. It means a relationship in which characters suspect each other. It's a very interesting phenomenon."
   ]
  },
  {
   "cell_type": "markdown",
   "metadata": {},
   "source": [
    "### 10. Write a program to determine whose name appears in the most number of paragraphs with the lemmas \"moonstone\" and \"diamond.\" Then, in a markdown cell, describe anything you might notice about your results. \n",
    "\n",
    "Here's one way you might do this: \n",
    " - Make a list of names we've encountered in the novel so far. (Be careful to include both \"Rachel\" and \"Miss Verinder,\" for instance.) \n",
    " - Break the novel into paragraphs by splitting on double line breaks (`\\n\\n`). \n",
    " - Tokenize each paragraph. \n",
    " - Test for the presence of a word using the `in` keyword for lists. \n",
    " - Maintain a dictionary for each character, where the key is the character's name, and the value is a tally of how many times their name has appeared in the same paragraph as \"moonstone\" and \"diamond.\" "
   ]
  },
  {
   "cell_type": "code",
   "execution_count": 11,
   "metadata": {},
   "outputs": [
    {
     "name": "stdout",
     "output_type": "stream",
     "text": [
      "{'Rachel': 1605, 'Betteredge': 630, 'The Colonel': 705, 'Blake': 1770, 'Godfrey': 705, 'Ezra': 225, 'Sergeant Cuff': 975, 'Mr. Bruff': 435, 'Mr. Candy': 105, 'Seegrave': 285, 'Mr. Murthwaite': 195, 'Penelope': 270, 'Samuel': 30, 'Rosanna': 660, 'wilkie collins': 30}\n"
     ]
    }
   ],
   "source": [
    "characterAlias = {\n",
    "    \"Rachel\": [\"rachel\", \"verinder\"],\n",
    "    \"Betteredge\": [\"betteredge\", \"gabriel\"],\n",
    "    \"The Colonel\": [\"colonel\", \"john\" ,\"herncastle\"],\n",
    "    \"Blake\": [\"franklin\", \"blake\"],\n",
    "    \"Godfrey\": [\"godfrey\", \"ablewhite\"],\n",
    "    \"Ezra\": [\"jennings\", \"ezra\"],\n",
    "    \"Sergeant Cuff\": [\"cuff\", \"sergeant\"],\n",
    "    \"Mr. Bruff\": ['bruff'],\n",
    "    \"Mr. Candy\": ['candy'],\n",
    "    \"Seegrave\": [\"superintendent\", \"seegrave\"],\n",
    "    \"Mr. Murthwaite\": [\"murthwaite\"],\n",
    "    \"Penelope\": [\"penelope\"],\n",
    "    \"Samuel\": [\"samuel\"],\n",
    "    \"Rosanna\": [\"rosanna\", \"spearman\"],\n",
    "    \"wilkie collins\": [\"wilkie\", \"collins\"]\n",
    "}\n",
    "\n",
    "characterCounter = {k: 0 for k in characterAlias}\n",
    "\n",
    "paragraphs = moonstone.split(\"\\n\\n\")\n",
    "for char in characterCounter:    \n",
    "    for p in paragraphs:\n",
    "        tokens = word_tokenize(p.lower())  \n",
    "        for character, alias in characterAlias.items():\n",
    "\n",
    "            for a in alias:\n",
    "                if a in tokens and (\"moonstone\" in tokens or \"diamond\" in tokens):\n",
    "                    #print(character)\n",
    "                    characterCounter[character] += 1\n",
    "\n",
    "\n",
    "\n",
    "\n",
    "print(characterCounter)"
   ]
  },
  {
   "cell_type": "markdown",
   "metadata": {},
   "source": [
    "**Rachel** appeared a lot with diamonds. The reason is that the story begins with Rachel losing her diamond. **Blake** appeared a lot, too. Because he's a person who delivers diamonds. As the story progresses, if I look at the appearance of diamonds and characters in paragraphs, I can see who the story revolves around. And in this story, I can see the influence of each character. The more it's mentioned, the more it's a person who directly influencing the story."
   ]
  },
  {
   "cell_type": "markdown",
   "metadata": {},
   "source": [
    "### Bonus: Write a program to determine the words of *The Moonstone* that occur more often in sentences ending in exclamation marks. In a markdown cell, describe anything you notice in your results. \n",
    "\n",
    "Here's one way you might do this: \n",
    "\n",
    " - Sentence-tokenize the novel.\n",
    " - Make two empty lists, one for exclamation-mark sentences, and one for other sentences. \n",
    " - Write a `for` loop to go through each sentence, and append it to one of the two lists, depending on whether it contains an exclamation mark.\n",
    " - Join the lists together, using `\" \".join(list)`, so that they're easier to word-tokenize. \n",
    " - Word-tokenize each string. \n",
    " - Make `Counter()` objects for the resulting list of word-tokens. \n",
    " - Subtract one set of numbers from the other, to find the words that occur much more in one category than another. \n",
    " - Sort the results using `sorted()`, according to the difference in frequencies between the two."
   ]
  },
  {
   "cell_type": "code",
   "execution_count": 12,
   "metadata": {},
   "outputs": [
    {
     "name": "stdout",
     "output_type": "stream",
     "text": [
      "['!', '19th.–another', '25th', 'about.', 'accuracy', 'adam–it', 'admit–that', 'age–never', 'ah', 'alas', 'amazing', 'anchored', 'angel', 'apparent', 'appointment.', 'are.', 'are–as', 'ask.', 'assassin', 'attempt–at', 'away.', 'aye', 'beings', 'benefits', 'bet', 'betteredge–until', 'bishops', 'bit–page', 'blake–nothing', 'blinding', 'boards', 'book–and', 'branded', 'break-down', 'breakfast-bell', 'bringing-up', 'bruff–on', 'buckles', 'burthen', 'business-life', 'but–ah', 'chair–oh', 'chaperones.', 'character–and', 'christendom', 'cistern–such', 'clapping', 'clergy', 'clergyman', 'cocks', 'coiled', 'combatants', 'compassionately', 'comprehension', 'conceive', 'conditional', 'confessions', 'congratulate', 'conjecture.', 'consequent', 'continuous', 'coward', 'credited', 'crimes', 'dart', 'dashing', 'daughter–i', 'day–try', 'dedicate', 'design', 'desire.', 'destitute', 'destroys', 'diamond–and', 'diamond–the', 'disappeared–and', 'disgusting', 'dissipation', 'disunited–the', 'doctors.', 'doctrine', 'door–farewell', 'dreaming', 'drusilla–for', 'dug', 'earth.', 'eater', 'egad', 'egg', 'eighteen–a', 'eighty', 'enrage', 'enveloped', 'eve', 'ever–but', 'face.', 'far-famed', 'fate', 'feast', 'fellow-creature', 'fellow-sinners', 'fingers–', 'flatter', 'follies', 'follows.–', 'fondest', 'footnote', 'foresight', 'forgotten.', 'furnished–but', 'gaily', 'gentleman.–so', 'godfrey–of', 'goto', 'groom.', 'ha', 'happens–i', 'heartless', 'hens', 'here–four', 'her–yes', 'he–of', 'he–turns', 'him–was', 'hindrances', 'hole.', 'honours', 'hopeless.', 'housemaid–what', 'howled', 'hurting', 'immodest', 'imparted', 'impostor–justifying', 'indifferently', 'indignant', 'innocence–just', 'inspire', 'island', 'is–leave', 'it–all', 'it–lord', 'it–yourself', 'kills', 'knock-down', 'leader', 'life–oh', 'likenesses', 'locked–and', 'london–i', 'lonely–and', 'longer–the', 'manna', 'man–whom', 'mazes', 'mentally', 'me–both', 'millions', 'minister', 'modesty–oh', 'momentous', 'monday.–the', 'mortifying', 'motherless', 'murderer', 'mysteries', 'natures', 'next–and', 'night–he', 'noon-day', 'nostrils', 'november', 'obstructive', 'occult', 'off–he', 'oh', 'out–if', 'owed', 'pagan', 'paradise', 'parched', 'pare', 'partakes', 'part–and', 'passage–one', 'passage–there', 'passions', 'phantom', 'pitfall', 'pitfalls', 'place–without', 'pleading', 'pleasure-seekers', 'plover', 'plunges', 'poison', 'poisoned', 'police–i', 'positively–when', 'pounce', 'praised', 'pressings', 'prettily–but', 'prizes', 'proceeding–capable', 'proclaiming', 'puppies', 'rarity', 'recklessness', 'rectitude', 'reduced', 'rest–but', 'retreat', 'ridden', 'rose–this', 'routine', 'rustic', 'sacrifices–though', 'savers', 'screw', 'secret–but', 'seeking.', 'self-conceit', 'sentiment', 'sergeant–all', 'serious–and', 'seventy-eight', 'shade', 'sheep', 'shortcomings', 'sickened', 'sitting-room–or', 'situation–to', 'sixty-one–as', 'six–and', 'sleep.', 'slovenly-minded', 'smooth-tongued', 'soothing', 'spirited', 'spotless', 'stagnant', 'stake', 'stifles', 'stinking', 'stole', 'story-book', 'straps', 'strictest', 'struggling', 'suck', 'suffocating', 'suppose–oh', 'suppose–that', 'sybarite', 'table–such', 'tangible', 'tearing', 'terrifying', 'that–and', 'theft–the', 'then–no', 'thief-taker', 'thief–while', 'this.', 'thoroughbred', 'thump-thump', 'thumped', 'tongs', 'too.', 'tops', 'treble', 'trembled–the', 'try–do', 'try–to', 'unceasingly', 'undermost', 'undeveloped', 'unearthly', 'unfeigned', 'union', 'universe.', 'unwholesome', 'upright', 'up–and', 'usury', 'victories', 'viii.\\\\', 'vowed', 'waists', 'was–the', 'wean', 'were–for', 'wondering–absurdly', 'words—-', 'worldlings', 'yet–to', 'youthful', 'you–she', 'you–you', '–on']\n"
     ]
    }
   ],
   "source": [
    "# Enter code here. \n",
    "from nltk.tokenize import sent_tokenize\n",
    "from collections import Counter\n",
    "\n",
    "exclamationMarkList = list()\n",
    "otherSentencesList = list()\n",
    "\n",
    "senTokens = sent_tokenize(moonstone.lower())\n",
    "for sen in senTokens:\n",
    "    if sen[-1] == \"!\":\n",
    "        exclamationMarkList.append(sen)\n",
    "    else:\n",
    "        otherSentencesList.append(sen) \n",
    "\n",
    "onlyExclaimationString = \" \".join(exclamationMarkList)\n",
    "otherSentenceString = \" \".join(otherSentencesList)\n",
    "\n",
    "onlyExclaimationToken = word_tokenize(onlyExclaimationString)\n",
    "otherSentenceToken = word_tokenize(otherSentenceString)\n",
    "\n",
    "onlyExclaimationCounter = Counter(onlyExclaimationToken)\n",
    "otherSentenceCounter = Counter(otherSentenceToken)\n",
    "\n",
    "print(sorted(onlyExclaimationCounter - otherSentenceCounter))"
   ]
  },
  {
   "cell_type": "markdown",
   "metadata": {},
   "source": [
    "\n",
    "- It's an interesting result. It is said that many exclamatory words, Aye, Ah, But-Ah, and chair-oh, appeared. Exclamation marks and exclamations are very closely related.\n"
   ]
  }
 ],
 "metadata": {
  "kernelspec": {
   "display_name": "Python 3 (ipykernel)",
   "language": "python",
   "name": "python3"
  },
  "language_info": {
   "codemirror_mode": {
    "name": "ipython",
    "version": 3
   },
   "file_extension": ".py",
   "mimetype": "text/x-python",
   "name": "python",
   "nbconvert_exporter": "python",
   "pygments_lexer": "ipython3",
   "version": "3.9.12"
  }
 },
 "nbformat": 4,
 "nbformat_minor": 4
}
