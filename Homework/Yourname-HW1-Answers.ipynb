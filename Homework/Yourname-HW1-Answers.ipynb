{
 "cells": [
  {
   "cell_type": "markdown",
   "metadata": {},
   "source": [
    "# Homework 1\n",
    "\n",
    "Replace \"Yourname\" in the title of this notebook with your first name, and replace \"your name here\" below, as well. \n",
    "\n",
    "## Your name here\n",
    "\n",
    "Instructions: complete all problems 1-8, and run the cell containing your solution, to show that it works. You should be able to run \"restart and run all\" from the Kernel menu, and have it output the correct solutions. The two bonus problems are optional. \n",
    "\n",
    "### 1. Using this inventory of delicious produce: "
   ]
  },
  {
   "cell_type": "code",
   "execution_count": 1,
   "metadata": {},
   "outputs": [],
   "source": [
    "fruit = {\"apples\": 2, \"oranges\": 10, \"bananas\": 50}"
   ]
  },
  {
   "cell_type": "markdown",
   "metadata": {},
   "source": [
    "...write a line of Python that gets the number of oranges (10)."
   ]
  },
  {
   "cell_type": "code",
   "execution_count": 2,
   "metadata": {},
   "outputs": [
    {
     "data": {
      "text/plain": [
       "10"
      ]
     },
     "execution_count": 2,
     "metadata": {},
     "output_type": "execute_result"
    }
   ],
   "source": [
    "# Enter code here. \n",
    "fruit['oranges']"
   ]
  },
  {
   "cell_type": "markdown",
   "metadata": {},
   "source": [
    "### 2. Given the dictionary below, get the name of the second chapter from the second period. \n",
    "\n",
    "Your code should output `Chapter 2`. "
   ]
  },
  {
   "cell_type": "code",
   "execution_count": 3,
   "metadata": {},
   "outputs": [],
   "source": [
    "chapters = {\"First Period\": ['Chapter I', 'Chapter II', 'Chapter III'], \n",
    "            \"Second Period\": ['Chapter 1', 'Chapter 2', 'Chapter 3']}"
   ]
  },
  {
   "cell_type": "code",
   "execution_count": 5,
   "metadata": {},
   "outputs": [
    {
     "data": {
      "text/plain": [
       "'Chapter 2'"
      ]
     },
     "execution_count": 5,
     "metadata": {},
     "output_type": "execute_result"
    }
   ],
   "source": [
    "# Enter code here. \n",
    "chapters[\"Second Period\"][1]"
   ]
  },
  {
   "cell_type": "markdown",
   "metadata": {},
   "source": [
    "### 3. Split the following string, `heapsOfBooks`, on semicolons. \n",
    "\n",
    "The output should be: \n",
    "\n",
    "```\n",
    "['I am not superstitious',\n",
    " ' I have read a heap of books in my time',\n",
    " ' I am a scholar in my own way.']\n",
    "``` "
   ]
  },
  {
   "cell_type": "code",
   "execution_count": 6,
   "metadata": {},
   "outputs": [],
   "source": [
    "heapsOfBooks = \"I am not superstitious; I have read a heap of books in my time; I am a scholar in my own way.\""
   ]
  },
  {
   "cell_type": "code",
   "execution_count": 8,
   "metadata": {},
   "outputs": [],
   "source": [
    "clauses = heapsOfBooks.split(\";\")"
   ]
  },
  {
   "cell_type": "markdown",
   "metadata": {},
   "source": [
    "### 4. Split each output of the string above, `heapsOfBooks`, into words (i.e. split along spaces). Your output should be this list of lists: \n",
    "\n",
    "```\n",
    "[['I', 'am', 'not', 'superstitious'],\n",
    " ['I', 'have', 'read', 'a', 'heap', 'of', 'books', 'in', 'my', 'time'],\n",
    " ['I', 'am', 'a', 'scholar', 'in', 'my', 'own', 'way.']]\n",
    "```\n"
   ]
  },
  {
   "cell_type": "code",
   "execution_count": 11,
   "metadata": {},
   "outputs": [],
   "source": [
    "wordsInClauses = []\n",
    "for clause in clauses: \n",
    "    wordsInClauses.append(clause.split())"
   ]
  },
  {
   "cell_type": "code",
   "execution_count": 12,
   "metadata": {},
   "outputs": [
    {
     "data": {
      "text/plain": [
       "[['I', 'am', 'not', 'superstitious'],\n",
       " ['I', 'have', 'read', 'a', 'heap', 'of', 'books', 'in', 'my', 'time'],\n",
       " ['I', 'am', 'a', 'scholar', 'in', 'my', 'own', 'way.']]"
      ]
     },
     "execution_count": 12,
     "metadata": {},
     "output_type": "execute_result"
    }
   ],
   "source": [
    "wordsInClauses"
   ]
  },
  {
   "cell_type": "markdown",
   "metadata": {},
   "source": [
    "### 5. Write a little program that takes the user's name, and returns that name spelled backwards, but with the capital letter on the first letter, and with a lowercase final letter. For example: \n",
    "\n",
    "```\n",
    "What's your name: Jonathan\n",
    "Your name backwards is Nahtanoj!\n",
    "```\n",
    "\n",
    "Hint: use the `input()` function. "
   ]
  },
  {
   "cell_type": "code",
   "execution_count": 28,
   "metadata": {},
   "outputs": [
    {
     "name": "stdout",
     "output_type": "stream",
     "text": [
      "What is your name? Jonathan\n",
      "Your name backwards is Nahtanoj\n"
     ]
    }
   ],
   "source": [
    "name = input(\"What is your name? \")\n",
    "\n",
    "nameReversed = \"\"\n",
    "for letter in name: \n",
    "    nameReversed = letter + nameReversed\n",
    "print(\"Your name backwards is \" + nameReversed.lower().capitalize())"
   ]
  },
  {
   "cell_type": "markdown",
   "metadata": {},
   "source": [
    "### 6. Add a few more fruits to the `fruit` dictionary above. Then use that data to create a string like this: \n",
    "\n",
    "```\n",
    "I went to the store yesterday and I bought 2 apples, 10 oranges, 5 limes, and 50 bananas. Because I really, really like bananas.\n",
    "```\n",
    "\n",
    "Note that before the final item in the series, there is the word \"and.\" "
   ]
  },
  {
   "cell_type": "code",
   "execution_count": 30,
   "metadata": {},
   "outputs": [],
   "source": [
    "fruit['kiwis'] = 1000\n",
    "fruit['mangoes'] = 5000\n",
    "fruit['peaches'] = 0\n"
   ]
  },
  {
   "cell_type": "code",
   "execution_count": 46,
   "metadata": {},
   "outputs": [],
   "source": [
    "fruitList = []\n",
    "for f in fruit: \n",
    "    fruitString = str(fruit[f]) + \" \" + f\n",
    "    fruitList.append(fruitString)"
   ]
  },
  {
   "cell_type": "code",
   "execution_count": 52,
   "metadata": {},
   "outputs": [],
   "source": [
    "fruitListWithCommas = []\n",
    "for item in fruitList[1:-1]:\n",
    "    fruitListWithCommas.append(\", \" + item)"
   ]
  },
  {
   "cell_type": "code",
   "execution_count": 53,
   "metadata": {},
   "outputs": [
    {
     "data": {
      "text/plain": [
       "[', 10 oranges', ', 50 bananas', ', 1000 kiwis', ', 5000 mangoes']"
      ]
     },
     "execution_count": 53,
     "metadata": {},
     "output_type": "execute_result"
    }
   ],
   "source": [
    "fruitListWithCommas"
   ]
  },
  {
   "cell_type": "code",
   "execution_count": 54,
   "metadata": {},
   "outputs": [],
   "source": [
    "first = fruitList[0]"
   ]
  },
  {
   "cell_type": "code",
   "execution_count": 55,
   "metadata": {},
   "outputs": [
    {
     "data": {
      "text/plain": [
       "'2 apples'"
      ]
     },
     "execution_count": 55,
     "metadata": {},
     "output_type": "execute_result"
    }
   ],
   "source": [
    "first"
   ]
  },
  {
   "cell_type": "code",
   "execution_count": 56,
   "metadata": {},
   "outputs": [],
   "source": [
    "last = \", and \" + fruitList[-1]"
   ]
  },
  {
   "cell_type": "code",
   "execution_count": 57,
   "metadata": {},
   "outputs": [
    {
     "data": {
      "text/plain": [
       "', and 0 peaches'"
      ]
     },
     "execution_count": 57,
     "metadata": {},
     "output_type": "execute_result"
    }
   ],
   "source": [
    "last"
   ]
  },
  {
   "cell_type": "code",
   "execution_count": 58,
   "metadata": {},
   "outputs": [],
   "source": [
    "fruitListCommasString = \"\"\n",
    "for item in fruitListWithCommas: \n",
    "    fruitListCommasString = fruitListCommasString + item"
   ]
  },
  {
   "cell_type": "code",
   "execution_count": 71,
   "metadata": {},
   "outputs": [
    {
     "data": {
      "text/plain": [
       "', 10 oranges, 50 bananas, 1000 kiwis, 5000 mangoes'"
      ]
     },
     "execution_count": 71,
     "metadata": {},
     "output_type": "execute_result"
    }
   ],
   "source": [
    "fruitListCommasString"
   ]
  },
  {
   "cell_type": "code",
   "execution_count": 74,
   "metadata": {},
   "outputs": [
    {
     "data": {
      "text/plain": [
       "', 10 oranges---, 50 bananas---, 1000 kiwis---, 5000 mangoes'"
      ]
     },
     "execution_count": 74,
     "metadata": {},
     "output_type": "execute_result"
    }
   ],
   "source": [
    "\"---\".join(fruitListWithCommas)"
   ]
  },
  {
   "cell_type": "code",
   "execution_count": 61,
   "metadata": {},
   "outputs": [
    {
     "data": {
      "text/plain": [
       "', 10 oranges, 50 bananas, 1000 kiwis, 5000 mangoes'"
      ]
     },
     "execution_count": 61,
     "metadata": {},
     "output_type": "execute_result"
    }
   ],
   "source": [
    "\"\".join(fruitListWithCommas)"
   ]
  },
  {
   "cell_type": "code",
   "execution_count": 65,
   "metadata": {},
   "outputs": [],
   "source": [
    "allFruit = first + fruitListCommasString + last"
   ]
  },
  {
   "cell_type": "code",
   "execution_count": 66,
   "metadata": {},
   "outputs": [
    {
     "data": {
      "text/plain": [
       "'I went to the store and I bought: 2 apples, 10 oranges, 50 bananas, 1000 kiwis, 5000 mangoes, and 0 peaches because I hate peaches.'"
      ]
     },
     "execution_count": 66,
     "metadata": {},
     "output_type": "execute_result"
    }
   ],
   "source": [
    "\"I went to the store and I bought: \" + allFruit + \" because I hate peaches.\""
   ]
  },
  {
   "cell_type": "code",
   "execution_count": 70,
   "metadata": {},
   "outputs": [
    {
     "data": {
      "text/plain": [
       "('bananas', 50)"
      ]
     },
     "execution_count": 70,
     "metadata": {},
     "output_type": "execute_result"
    }
   ],
   "source": [
    "list(fruit.items())[2]"
   ]
  },
  {
   "cell_type": "markdown",
   "metadata": {},
   "source": [
    "### 7. Using a table of contents for _The Moonstone_, compose a list of lists that shows the hierarchical structure of the novel.\n",
    " \n",
    "And write a sentence or two (in a markdown cell) with anything you notice about this structure. "
   ]
  },
  {
   "cell_type": "code",
   "execution_count": 76,
   "metadata": {},
   "outputs": [],
   "source": [
    "moonstone = {\"Preface\": [\"I\", \"II\", \"III\", \"IV\"], \n",
    "             \"The Story\": \n",
    "                      {\"First Period\": [\"Chapter 1\", \"Chapter 2\"], \n",
    "                       \"Second Period\": {\"First Narrative\": [], \n",
    "                                         \"Second Narrative\": []}}}"
   ]
  },
  {
   "cell_type": "code",
   "execution_count": 77,
   "metadata": {},
   "outputs": [
    {
     "data": {
      "text/plain": [
       "{'Preface': ['I', 'II', 'III', 'IV'],\n",
       " 'The Story': {'First Period': ['Chapter 1', 'Chapter 2'],\n",
       "  'Second Period': {'First Narrative': [], 'Second Narrative': []}}}"
      ]
     },
     "execution_count": 77,
     "metadata": {},
     "output_type": "execute_result"
    }
   ],
   "source": [
    "moonstone"
   ]
  },
  {
   "cell_type": "markdown",
   "metadata": {},
   "source": [
    "Enter markdown here. "
   ]
  },
  {
   "cell_type": "markdown",
   "metadata": {},
   "source": [
    "### 8. Write 1-2 paragraphs about something you notice happening in _The Moonstone_ that you think might be operationalized (i.e. tested using a computational analysis). \n",
    "\n",
    "And also, what do you think the results of the analysis will be? "
   ]
  },
  {
   "cell_type": "markdown",
   "metadata": {},
   "source": [
    "Enter markdown here. "
   ]
  },
  {
   "cell_type": "markdown",
   "metadata": {},
   "source": [
    "### Bonus: write some code to correct one of the formatting problems in _The Moonstone_. \n",
    "\n",
    "Input: Any string (like The Moonstone) that contains a sequence of ALL CAPS LIKE THIS. \n",
    "Output: That same string, but with ALL CAPS replaced with `_Title Case Markdown Italics_`. Note that in title case, certain short prepositions and articles are not capitalized, as in `_Raiders of the Lost Ark_`. \n",
    "\n",
    "Example input: `When my spirits are bad–ROBINSON CRUSOE. When I want advice–ROBINSON CRUSOE.`\n",
    "Example output: `When my spirits are bad—_Robinson Crusoe_. When I want advice—_Robinson Crusoe_.`\n",
    "\n",
    "Hint: you can add spaces around punctuation to make words easier to work with, then remove the spaces after you're done. \n",
    "\n",
    "### Super bonus: actually make this change, using your program, on the markdown text of _The Moonstone_ in our course repository (on the gh-pages branch). Submit a pull request with the changes. \n",
    "\n",
    "You may have to read about how to submit a pull request on GitHub if you don't already know how to do this. \n",
    "\n",
    "The first accurate pull request will be accepted."
   ]
  },
  {
   "cell_type": "code",
   "execution_count": 78,
   "metadata": {},
   "outputs": [
    {
     "data": {
      "text/plain": [
       "'Hi! My nzzzme is Jonzzzthzzzn'"
      ]
     },
     "execution_count": 78,
     "metadata": {},
     "output_type": "execute_result"
    }
   ],
   "source": [
    "# Enter code here. \n",
    "\"Hi! My name is Jonathan\".replace(\"a\", \"zzz\")"
   ]
  },
  {
   "cell_type": "code",
   "execution_count": 79,
   "metadata": {},
   "outputs": [
    {
     "data": {
      "text/plain": [
       "'This is a load of c*&*%!'"
      ]
     },
     "execution_count": 79,
     "metadata": {},
     "output_type": "execute_result"
    }
   ],
   "source": [
    "\"This is a load of crap!\".replace(\"crap\", \"c*&*%\")"
   ]
  },
  {
   "cell_type": "code",
   "execution_count": 80,
   "metadata": {},
   "outputs": [],
   "source": [
    "import string"
   ]
  },
  {
   "cell_type": "code",
   "execution_count": 81,
   "metadata": {},
   "outputs": [
    {
     "data": {
      "text/plain": [
       "'!\"#$%&\\'()*+,-./:;<=>?@[\\\\]^_`{|}~'"
      ]
     },
     "execution_count": 81,
     "metadata": {},
     "output_type": "execute_result"
    }
   ],
   "source": [
    "string.punctuation"
   ]
  },
  {
   "cell_type": "code",
   "execution_count": 82,
   "metadata": {},
   "outputs": [],
   "source": [
    "toBeReplaced = \"Here is 'my thing' to _replace_ with #%&\"\n",
    "for item in string.punctuation: \n",
    "    toBeReplaced = toBeReplaced.replace(item, \" \" + item + \" \")"
   ]
  },
  {
   "cell_type": "code",
   "execution_count": 83,
   "metadata": {},
   "outputs": [
    {
     "data": {
      "text/plain": [
       "\"Here is  ' my thing '  to  _ replace _  with  #  %  & \""
      ]
     },
     "execution_count": 83,
     "metadata": {},
     "output_type": "execute_result"
    }
   ],
   "source": [
    "toBeReplaced\n"
   ]
  },
  {
   "cell_type": "code",
   "execution_count": 88,
   "metadata": {},
   "outputs": [],
   "source": [
    "replaced = \"\"\n",
    "for word in toBeReplaced.split(): \n",
    "    if word.isalpha(): \n",
    "        replaced = replaced + word + \" \""
   ]
  },
  {
   "cell_type": "code",
   "execution_count": 89,
   "metadata": {},
   "outputs": [
    {
     "data": {
      "text/plain": [
       "'Here is my thing to replace with '"
      ]
     },
     "execution_count": 89,
     "metadata": {},
     "output_type": "execute_result"
    }
   ],
   "source": [
    "replaced"
   ]
  },
  {
   "cell_type": "code",
   "execution_count": null,
   "metadata": {},
   "outputs": [],
   "source": []
  }
 ],
 "metadata": {
  "kernelspec": {
   "display_name": "Python 3",
   "language": "python",
   "name": "python3"
  },
  "language_info": {
   "codemirror_mode": {
    "name": "ipython",
    "version": 3
   },
   "file_extension": ".py",
   "mimetype": "text/x-python",
   "name": "python",
   "nbconvert_exporter": "python",
   "pygments_lexer": "ipython3",
   "version": "3.6.6"
  }
 },
 "nbformat": 4,
 "nbformat_minor": 2
}
