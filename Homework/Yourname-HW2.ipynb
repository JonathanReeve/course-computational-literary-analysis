{
 "cells": [
  {
   "cell_type": "markdown",
   "metadata": {},
   "source": [
    "# Homework 2\n",
    "\n",
    "## Yourname\n",
    "\n",
    "Instructions: \n",
    "\n",
    " 1. Please replace \"Yourname\" above, and in the title of this notebook. \n",
    " 2. Import all the libraries you end up using in the cell below. Please only use those libraries which we have used in class (i.e. nltk, collections, pandas, etc.). \n",
    " 3. Complete all the exercises, replacing \"enter code here\" with your code, and \"enter markdown here\" with your markdown. Annotate with comments (lines beginning with `#`) or with markdown cells, to show how you arrived at your answers.  \n",
    " 4. From the Kernel menu, select \"restart and run all.\" This will help me to see the output of your answers. \n",
    " 5. Email me your completed notebook: jonathan.reeve@columbia.edu\n"
   ]
  },
  {
   "cell_type": "code",
   "execution_count": null,
   "metadata": {},
   "outputs": [],
   "source": [
    "# Import all your libraries here. "
   ]
  },
  {
   "cell_type": "markdown",
   "metadata": {},
   "source": [
    "### 1. Write a function that takes a text in English (i.e. a string), tokenizes it using `nltk.word_tokenize()`, and returns its type/token ratio. "
   ]
  },
  {
   "cell_type": "code",
   "execution_count": 1,
   "metadata": {},
   "outputs": [],
   "source": [
    "# Enter code here. "
   ]
  },
  {
   "cell_type": "markdown",
   "metadata": {},
   "source": [
    "### 2. Use your function to calculate the type/token ratios for all the narrators we have read so far (Betteredge, Clack, Bruff, Blake). Then, in a markdown cell, describe what you think this might indicate."
   ]
  },
  {
   "cell_type": "code",
   "execution_count": 1,
   "metadata": {},
   "outputs": [],
   "source": [
    "# Enter code here. "
   ]
  },
  {
   "cell_type": "markdown",
   "metadata": {},
   "source": [
    "Enter markdown here. "
   ]
  },
  {
   "cell_type": "markdown",
   "metadata": {},
   "source": [
    "### 3. Choose a motif that you notice in _The Moonstone_. Choose around 3-5 words (or tokens, stems, or lemmas) that you think represent this motif. Create a dispersion plot to show the positions of these words in the narrative time of _The Moonstone_ (at least the amount that we've read of it). Then create concordances for a few of these words. Then, in 2-3 paragraphs of well-formatted markdown, describe what this tells you about how the motif operates in the novel. "
   ]
  },
  {
   "cell_type": "code",
   "execution_count": 1,
   "metadata": {},
   "outputs": [],
   "source": [
    "# Enter code here. "
   ]
  },
  {
   "cell_type": "markdown",
   "metadata": {},
   "source": [
    "Enter markdown here. "
   ]
  },
  {
   "cell_type": "markdown",
   "metadata": {},
   "source": [
    "### 4. Find the distinctive words of Franklin Blake's narrative, as compared with the rest of _The Moonstone_. Then find the distinctive words of Franklin Blake's narrative, as compared with Miss Clack's. In 2-3 paragraphs, discuss these words, and your interpretation of them. Do these words help reveal their personality? Why or why not? And why do you think Franklin and Drusilla don't get along? (Hint: re-read their letters.)"
   ]
  },
  {
   "cell_type": "code",
   "execution_count": 1,
   "metadata": {},
   "outputs": [],
   "source": [
    "# Enter code here. "
   ]
  },
  {
   "cell_type": "markdown",
   "metadata": {},
   "source": [
    "Enter markdown here. "
   ]
  },
  {
   "cell_type": "markdown",
   "metadata": {},
   "source": [
    "### 5. Write a program to determine whose name appears in the most number of paragraphs with the words \"moonstone\" and \"diamond.\" Then, in a markdown cell, describe anything you might notice about your results. \n",
    "\n",
    "Here's one way you might do this: \n",
    " - Make a list of all names we've encountered in the novel so far. (Be careful to include both \"Rachel\" and \"Miss Verinder,\" for instance.)\n",
    " - Break the novel into paragraphs by splitting on double line breaks (`\\n\\n`). \n",
    " - Tokenize each paragraph. \n",
    " - Test for the presence of a word using the `in` keyword for lists. \n",
    " - Maintain a dictionary for each character, where the key is the character's name, and the value is a tally of how many times their name has appeared in the same paragraph as \"moonstone\" and \"diamond.\" "
   ]
  },
  {
   "cell_type": "code",
   "execution_count": 1,
   "metadata": {},
   "outputs": [],
   "source": [
    "# Enter code here. "
   ]
  },
  {
   "cell_type": "markdown",
   "metadata": {},
   "source": [
    "Enter markdown here. "
   ]
  },
  {
   "cell_type": "markdown",
   "metadata": {},
   "source": [
    "### 6. Write a program to determine the words that occur more often in sentences ending in exclamation marks. In a markdown cell, describe anything you notice in your results. \n",
    "\n",
    "Here's one way you might do this: \n",
    "\n",
    " - Sentence-tokenize the novel.\n",
    " - Make two empty lists, one for exclamation-mark sentences, and one for other sentences. \n",
    " - Write a `for` loop to go through each sentence, and append it to one of the two lists, depending on whether it contains an exclamation mark.\n",
    " - Join the lists together, using `\" \".join(list)`, so that they're easier to word-tokenize. \n",
    " - Word-tokenize each string. \n",
    " - Make `Counter()` objects for the resulting list of word-tokens. \n",
    " - Subtract one set of numbers from the other, to find the words that occur much more in one category than another. \n",
    " - Sort the results according to the difference in frequencies between the two."
   ]
  },
  {
   "cell_type": "code",
   "execution_count": 1,
   "metadata": {},
   "outputs": [],
   "source": [
    "# Enter code here. "
   ]
  },
  {
   "cell_type": "markdown",
   "metadata": {},
   "source": [
    "Enter markdown here. "
   ]
  }
 ],
 "metadata": {
  "kernelspec": {
   "display_name": "Python 3",
   "language": "python",
   "name": "python3"
  },
  "language_info": {
   "codemirror_mode": {
    "name": "ipython",
    "version": 3
   },
   "file_extension": ".py",
   "mimetype": "text/x-python",
   "name": "python",
   "nbconvert_exporter": "python",
   "pygments_lexer": "ipython3",
   "version": "3.6.6"
  }
 },
 "nbformat": 4,
 "nbformat_minor": 2
}
