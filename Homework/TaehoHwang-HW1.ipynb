{
 "cells": [
  {
   "cell_type": "markdown",
   "metadata": {
    "tags": []
   },
   "source": [
    "# Homework 1\n",
    "\n",
    "## Taeho Hwang\n",
    "\n",
    "Instructions: \n",
    "\n",
    " 1. Watch [Lecture 2](https://www.youtube.com/watch?v=g9vOlQ7kiTo&t=183s) and [Lecture 3](https://www.youtube.com/watch?v=EUwFQTEBjPU). \n",
    " 1. Download this file from the course repository, save it to your computer, and open it in Jupyter Lab.\n",
    " 2. Replace \"Yourname\" in the title of this notebook with your first name, and replace \"your name here\" in the heading above, as well.\n",
    " 2. Complete all problems, and **run the cell containing your solution**, to show that it works. In other words, enter code in the cells marked `# Enter code here.`, and press Ctrl+Enter to run that code.\n",
    " 3. When you're done, run \"restart and run all\" from the kernel menu, to make sure that your notebook runs sequentially (to avoid any problems with running cells out of order). \n",
    " 4. Email me the resulting .ipynb file, to jonathan.reeve@columbia.edu, before our discussion section on Monday.\n",
    " \n",
    " **Since late work can't be accepted, please start on this early, and turn it in as early as you can.**"
   ]
  },
  {
   "cell_type": "markdown",
   "metadata": {
    "tags": []
   },
   "source": [
    "### 1. Demonstrate that you've mastered Markdown. \n",
    "\n",
    "In the markdown cell below, copy the following text and make all the appropriate changes to its formatting: \n",
    "\n",
    " - This should be a link to the website Duck Duck Go.\n",
    " - The name of the novel The Moonstone should be italicized. \n",
    " - The word \"boldface\" in this sentence should be emphasized in boldface. \n",
    " - Format the inline code: print(\"Hello world\") as Python code\n",
    " - Format the code block below as Python code\n",
    "\n",
    "for word in \"Hello world\".split():     \n",
    "&nbsp;&nbsp;&nbsp;&nbsp;print(word.upper())    \n",
    "\n",
    " - Format the block below as a prose block quote: \n",
    " \n",
    " I am not superstitious. I have read a heap of books in my time. I am a scholar in my own way. \n",
    " \n",
    " - Insert an image of a kitten, from placekitten.com\n",
    " - Make a second-level header for this cell and call it \"answer to #1.\" \n"
   ]
  },
  {
   "cell_type": "markdown",
   "metadata": {
    "tags": []
   },
   "source": [
    "## answer to #1.\n",
    "- \n",
    " [This should be a link to the website Duck Duck Go.][link]\n",
    "[link]: https://duckduckgo.com \"Go ducudckgo\"\n",
    " - The name of the novel *The Moonstone* should be italicized. \n",
    " - The word **\"boldface\"** in this sentence should be emphasized in **boldface.** \n",
    " - Format the inline code: `print(\"Hello world\")` as Python code\n",
    " - Format the code block below as Python code\n",
    "\n",
    "```python\n",
    " for word in \"Hello world\".split():     \n",
    "    print(word.upper())    \n",
    "\n",
    "```\n",
    " - Format the block below as a prose block quote: \n",
    " \n",
    " > I am not superstitious. I have read a heap of books in my time. I am a scholar in my own way. \n",
    " \n",
    " - Insert an image of a kitten, from placekitten.com\n",
    " \n",
    " ![kitten](http://placekitten.com/200/300)\n",
    " - Make a second-level header for this cell and call it \"answer to #1.\" \n",
    "\n"
   ]
  },
  {
   "cell_type": "markdown",
   "metadata": {
    "tags": []
   },
   "source": [
    "### 2. Write a line of Python to split this passage into sentences. \n",
    "\n",
    "Here is the sentence to split:\n",
    "\n",
    "\"I am not superstitious. I have read a heap of books in my time. I am a scholar in my own way.\"\n",
    "\n",
    "Your output should be a list like this: \n",
    "\n",
    "```python\n",
    "[\"I am not superstitious\", \" I have read a heap of books in my time\", \" I am a scholar in my own way\", '']\n",
    "```\n",
    "\n",
    "(There is an empty list at the end, which is because Python still splits on the last period, and gives you what comes after it, which is an empty string, `''`. You can either keep this, or remove it with `.pop()`, or by slicing: `mystring[:-1]`)"
   ]
  },
  {
   "cell_type": "code",
   "execution_count": 41,
   "metadata": {},
   "outputs": [
    {
     "name": "stdout",
     "output_type": "stream",
     "text": [
      "['I am not superstitious', ' I have read a heap of books in my time', ' I am a scholar in my own way']\n"
     ]
    }
   ],
   "source": [
    "listOfText = \"I am not superstitious. I have read a heap of books in my time. I am a scholar in my own way.\".split('.')\n",
    "listOfText.pop()\n",
    "print(listOfText)"
   ]
  },
  {
   "cell_type": "markdown",
   "metadata": {},
   "source": [
    "### 3. Could you use the method from #1 to split a whole novel into sentences? Why or why not? "
   ]
  },
  {
   "cell_type": "markdown",
   "metadata": {},
   "source": [
    "No. There are several exception in the sentence including *'.'* character. If some sentence includes the period in the sentence then it chop the sentence into sub word sets."
   ]
  },
  {
   "cell_type": "markdown",
   "metadata": {},
   "source": [
    "### 4. Using the output from question #2, split those three sentences into words. \n",
    "\n",
    "Your input should be something like this list:\n",
    "\n",
    "```python\n",
    "[\"I am not superstitious\", \" I have read a heap of books in my time\", \" I am a scholar in my own way\", '']\n",
    "```\n",
    "\n",
    "Your output should be something like this:\n",
    "\n",
    "```python\n",
    "['I', 'am', 'not', 'superstitious'],\n",
    "['I', 'have', 'read', 'a', 'heap', 'of', 'books', 'in', 'my', 'time'],\n",
    "['I', 'am', 'a', 'scholar', 'in', 'my', 'own', 'way.']\n",
    "[]\n",
    "```\n",
    "\n",
    "(Hint: use a `for` loop to go through each of the sentences you made in #1. You may or may not have an empty list at the end, depending on whether you got rid of the empty string above.) "
   ]
  },
  {
   "cell_type": "code",
   "execution_count": 42,
   "metadata": {},
   "outputs": [
    {
     "name": "stdout",
     "output_type": "stream",
     "text": [
      "['I', 'am', 'not', 'superstitious']\n",
      "['I', 'have', 'read', 'a', 'heap', 'of', 'books', 'in', 'my', 'time']\n",
      "['I', 'am', 'a', 'scholar', 'in', 'my', 'own', 'way']\n"
     ]
    }
   ],
   "source": [
    "for sentence in listOfText:\n",
    "    print(sentence.split())"
   ]
  },
  {
   "cell_type": "markdown",
   "metadata": {},
   "source": [
    "### 5. Write some Python to extract the first word from the sentence above. \n",
    "\n",
    "Start with this list of words:\n",
    "\n",
    "```python\n",
    "['I', 'have', 'read', 'a', 'heap', 'of', 'books', 'in', 'my', 'time']\n",
    "```\n",
    "\n",
    "Your output should be:\n",
    "\n",
    "```python\n",
    "\"I\"\n",
    "```"
   ]
  },
  {
   "cell_type": "code",
   "execution_count": 43,
   "metadata": {},
   "outputs": [
    {
     "name": "stdout",
     "output_type": "stream",
     "text": [
      "\"I\"\n"
     ]
    }
   ],
   "source": [
    "temp = ['I', 'have', 'read', 'a', 'heap', 'of', 'books', 'in', 'my', 'time']\n",
    "print('\"' + temp[0] + '\"')"
   ]
  },
  {
   "cell_type": "markdown",
   "metadata": {},
   "source": [
    "### 6. Write some Python to extract the fifth through seventh words from that same sentence. \n",
    "\n",
    "Starting with this list, again: \n",
    "\n",
    "```python\n",
    "['I', 'have', 'read', 'a', 'heap', 'of', 'books', 'in', 'my', 'time']\n",
    "```\n",
    "\n",
    "Your output should be: \n",
    "\n",
    "```\n",
    "[\"heap\", \"of\", \"books\"]\n",
    "```"
   ]
  },
  {
   "cell_type": "code",
   "execution_count": 44,
   "metadata": {},
   "outputs": [
    {
     "name": "stdout",
     "output_type": "stream",
     "text": [
      "['heap', 'of', 'books']\n"
     ]
    }
   ],
   "source": [
    "temp = ['I', 'have', 'read', 'a', 'heap', 'of', 'books', 'in', 'my', 'time'] \n",
    "print(temp[4:7])"
   ]
  },
  {
   "cell_type": "markdown",
   "metadata": {},
   "source": [
    "temp[]### 7. Write a little program that takes a name as user input, and checks whether it is in a list of *Moonstone* characters. \n",
    "\n",
    "Here's a list you could use: \n",
    "\n",
    "```python\n",
    "characters = [\"Gabriel\", \"Rachel\", \"Franklin\", \"Rosanna\", \"Moonstone\"]\n",
    "```\n",
    "\n",
    "And here's what it would look like to run the program: \n",
    "\n",
    "```\n",
    "What's the name you want to check? Franklin\n",
    "Franklin is a character in *The Moonstone*!\n",
    "\n",
    "What's the name you want to check? Jonathan\n",
    "Jonathan is not a character in *The Moonstone*!\n",
    "```\n",
    "\n",
    "Hint: use the `input()` function to get user input, and check (using `if`) whether that answer is in (using `in`) the list. "
   ]
  },
  {
   "cell_type": "code",
   "execution_count": 45,
   "metadata": {},
   "outputs": [
    {
     "name": "stdin",
     "output_type": "stream",
     "text": [
      "What's the name you want to check? Gabriel\n"
     ]
    },
    {
     "name": "stdout",
     "output_type": "stream",
     "text": [
      "Gabriel is a character in *The Moonstone*!\n"
     ]
    }
   ],
   "source": [
    "inputCharacter = input(\"What's the name you want to check?\")\n",
    "characters = [\"Gabriel\", \"Rachel\", \"Franklin\", \"Rosanna\", \"Moonstone\"]\n",
    "if inputCharacter in characters:\n",
    "    print(inputCharacter, \"is a character in *The Moonstone*!\")\n",
    "else:\n",
    "    print(inputCharacter, \"is not a character in *The Moonstone*!\")"
   ]
  },
  {
   "cell_type": "markdown",
   "metadata": {},
   "source": [
    "### 8. Does your program work if you enter the lowercased version of a name? (I.e., \"franklin\" instead of \"Franklin\"?) Why is that? And how could you modify your program so that works with lowercased names, too? "
   ]
  },
  {
   "cell_type": "markdown",
   "metadata": {},
   "source": [
    "No. It don't check whether it is lower or not. I need to transform all the word to lower case and then, check the condition. \n",
    "\n",
    "**modified version**:\n",
    "```python\n",
    "inputCharacter = input(\"What's the name you want to check?\")\n",
    "characters = [\"Gabriel\", \"Rachel\", \"Franklin\", \"Rosanna\", \"Moonstone\"]\n",
    "if inputCharacter in characters:\n",
    "    print(inputCharacter, \"is a character in *The Moonstone*!\")\n",
    "else:\n",
    "    print(inputCharacter, \"is not a character in *The Moonstone*!\")\n",
    "```"
   ]
  },
  {
   "cell_type": "markdown",
   "metadata": {
    "tags": []
   },
   "source": [
    "### 9. Using the list of characters above, write some Python to print them out in a string like the one below. \n",
    "\n",
    "Your output should look like this: \n",
    "\n",
    "```\n",
    "Some characters in *The Moonstone* are: Gabriel, Rachel, Franklin, Rosanna, and Moonstone.\n",
    "```\n",
    "\n",
    "Note that there is an `and` before the final element. \n",
    "\n",
    "Your program should work the same way, no matter the length or contents of the character list. So if you were to change your character list to just this: \n",
    "\n",
    "```python\n",
    "characters = [\"Betteredge\", \"Rachel\"]\n",
    "```\n",
    "\n",
    "It should then output: \n",
    "\n",
    "```\n",
    "Some characters in *The Moonstone* are: Betteredge, and Rachel.\n",
    "```"
   ]
  },
  {
   "cell_type": "code",
   "execution_count": 46,
   "metadata": {},
   "outputs": [
    {
     "name": "stdout",
     "output_type": "stream",
     "text": [
      "Some characters in *The Moonstone* are: Gabriel, Rachel, Franklin, Rosanna, and Moonstone.\n"
     ]
    }
   ],
   "source": [
    "characters = [\"Gabriel\", \"Rachel\", \"Franklin\", \"Rosanna\", \"Moonstone\"]\n",
    "\n",
    "print(\"Some characters in *The Moonstone* are: \", end=\"\")\n",
    "for i in range(len(characters)):\n",
    "    if i == len(characters) - 1:\n",
    "        print(\"and \" + characters[i] + \".\")\n",
    "    else:\n",
    "        print(characters[i], end=\", \")\n"
   ]
  },
  {
   "cell_type": "markdown",
   "metadata": {
    "tags": []
   },
   "source": [
    "### 10. Write 1-2 paragraphs about something you notice happening in _The Moonstone_ that you think might be operationalized (i.e. tested using a computational analysis). \n",
    "\n",
    "And also, what do you think the results of the analysis will be? "
   ]
  },
  {
   "cell_type": "markdown",
   "metadata": {},
   "source": [
    "I can make computational analysis that who is the narrator in the sentence. Every character in the novel has different insight so that they find the suspect. They have different personality and they use their own speaking style respectively. Count the word what they use and make word cloud, use TF-IDF to make their own keyword. Therefore, I can analysis their chracteristic. \n",
    "\n",
    "I can make sentimental analysis by sentences. In each paragraphs has own sentiment like sad, excited, happy. so I can make the sentiment analysis by the sentence to deduce narrator's feelings. Finally, I could make the classifier that classify the sentences. "
   ]
  },
  {
   "cell_type": "markdown",
   "metadata": {
    "tags": []
   },
   "source": [
    "### BONUS: (This question is optional.) Write a program to calculate the tea-to-coffee ratio for a text, and run it on a few novels of your choosing, some British, and some American. \n",
    "\n",
    "Count the number of times the word \"tea\" appears, and the number of times \"coffee\" appears in a text: \n",
    "\n",
    "$$\\frac{\\text{\"tea\" counts}}{\\text{\"coffee\" counts}}$$ \n",
    "\n",
    "You may need to look up how to load files.\n",
    "\n",
    "Make sure that you're counting \"tea\" but not, e.g., \"teal.\" \n",
    "\n",
    "In a markdown cell, write about what you notice."
   ]
  },
  {
   "cell_type": "code",
   "execution_count": 47,
   "metadata": {},
   "outputs": [
    {
     "name": "stdout",
     "output_type": "stream",
     "text": [
      "tea 35\n",
      "coffee 0\n",
      "3.5e+101\n",
      "\n",
      "tea 0\n",
      "coffee 0\n",
      "1.0\n",
      "\n",
      "tea 0\n",
      "coffee 0\n",
      "1.0\n",
      "\n",
      "tea 0\n",
      "coffee 0\n",
      "1.0\n",
      "\n",
      "tea 0\n",
      "coffee 0\n",
      "1.0\n",
      "\n",
      "tea 0\n",
      "coffee 0\n",
      "1.0\n",
      "\n",
      "tea 147\n",
      "coffee 6\n",
      "24.5\n"
     ]
    }
   ],
   "source": [
    "\n",
    "import urllib.request\n",
    "import re\n",
    "\n",
    "link = \"https://www.gutenberg.org/cache/epub/14469/pg14469.txt\"\n",
    "f = urllib.request.urlopen(link)\n",
    "myfile = f.read()\n",
    "result = myfile.decode('utf-8')\n",
    "\n",
    "epsilon = 1e-100\n",
    "teaCount = result.count(\"tea\") + epsilon\n",
    "coffeeCount = result.count(\"coffee\") + epsilon\n",
    "\n",
    "print(\"tea\", int(teaCount))\n",
    "print(\"coffee\", int(coffeeCount))\n",
    "print(teaCount /coffeeCount)\n",
    "\n",
    "print()\n",
    "link = \"https://www.fulltextarchive.com/page/Pride-and-Prejudice1/\"\n",
    "f = urllib.request.urlopen(link)\n",
    "myfile = f.read()\n",
    "result = myfile.decode('utf-8')\n",
    "\n",
    "epsilon = 1e-100\n",
    "teaCount = result.count(\"tea\") + epsilon\n",
    "coffeeCount = result.count(\"coffee\") + epsilon\n",
    "print(\"tea\", int(teaCount))\n",
    "print(\"coffee\", int(coffeeCount))\n",
    "print(teaCount /coffeeCount)\n",
    "\n",
    "print()\n",
    "link = \"https://www.fulltextarchive.com/page/The-Call-of-the-Wild-by-Jack-London1/\"\n",
    "f = urllib.request.urlopen(link)\n",
    "myfile = f.read()\n",
    "result = myfile.decode('utf-8')\n",
    "\n",
    "epsilon = 1e-100\n",
    "teaCount = result.count(\"tea\") + epsilon\n",
    "coffeeCount = result.count(\"coffee\") + epsilon\n",
    "print(\"tea\", int(teaCount))\n",
    "print(\"coffee\", int(coffeeCount))\n",
    "print(teaCount /coffeeCount)\n",
    "\n",
    "\n",
    "print()\n",
    "link = \"https://www.fulltextarchive.com/page/Treasure-Island-by-Robert-Louis-Stevenson1/\"\n",
    "f = urllib.request.urlopen(link)\n",
    "myfile = f.read()\n",
    "result = myfile.decode('utf-8')\n",
    "\n",
    "epsilon = 1e-100\n",
    "teaCount = result.count(\"tea\") + epsilon\n",
    "coffeeCount = result.count(\"coffee\") + epsilon\n",
    "print(\"tea\", int(teaCount))\n",
    "print(\"coffee\", int(coffeeCount))\n",
    "print(teaCount /coffeeCount)\n",
    "\n",
    "print()\n",
    "link = \"https://www.fulltextarchive.com/page/The-Adventures-of-Huckleberry-Finn1/\"\n",
    "f = urllib.request.urlopen(link)\n",
    "myfile = f.read()\n",
    "result = myfile.decode('utf-8')\n",
    "\n",
    "epsilon = 1e-100\n",
    "teaCount = result.count(\"tea\") + epsilon\n",
    "coffeeCount = result.count(\"coffee\") + epsilon\n",
    "print(\"tea\", int(teaCount))\n",
    "print(\"coffee\", int(coffeeCount))\n",
    "print(teaCount /coffeeCount)\n",
    "\n",
    "\n",
    "\n",
    "print()\n",
    "link = \"https://www.fulltextarchive.com/page/Romeo-and-Juliet1/\"\n",
    "f = urllib.request.urlopen(link)\n",
    "myfile = f.read()\n",
    "result = myfile.decode('utf-8')\n",
    "\n",
    "epsilon = 1e-100\n",
    "teaCount = result.count(\"tea\") + epsilon\n",
    "coffeeCount = result.count(\"coffee\") + epsilon\n",
    "print(\"tea\", int(teaCount))\n",
    "print(\"coffee\", int(coffeeCount))\n",
    "print(teaCount /coffeeCount)\n",
    "\n",
    "\n",
    "#The moonstone\n",
    "print()\n",
    "link = \"http://icla2022.jonreeve.com/texts/moonstone.html#chapter-xi\"\n",
    "f = urllib.request.urlopen(link)\n",
    "myfile = f.read()\n",
    "result = myfile.decode('utf-8')\n",
    "\n",
    "epsilon = 1e-100\n",
    "teaCount = result.count(\"tea\") + epsilon\n",
    "coffeeCount = result.count(\"coffee\") + epsilon\n",
    "print(\"tea\", int(teaCount))\n",
    "print(\"coffee\", int(coffeeCount))\n",
    "print(teaCount /coffeeCount)\n",
    "\n",
    "\n"
   ]
  },
  {
   "cell_type": "markdown",
   "metadata": {},
   "source": [
    "I add epsilon for handling zero division exception. It is hard to find the novel including the word \"tea\", \"coffee\". \n",
    "\n",
    "I tested at the *The moonstone* and it worked well.\n"
   ]
  },
  {
   "cell_type": "code",
   "execution_count": null,
   "metadata": {},
   "outputs": [],
   "source": []
  }
 ],
 "metadata": {
  "kernelspec": {
   "display_name": "Python 3 (ipykernel)",
   "language": "python",
   "name": "python3"
  },
  "language_info": {
   "codemirror_mode": {
    "name": "ipython",
    "version": 3
   },
   "file_extension": ".py",
   "mimetype": "text/x-python",
   "name": "python",
   "nbconvert_exporter": "python",
   "pygments_lexer": "ipython3",
   "version": "3.9.12"
  }
 },
 "nbformat": 4,
 "nbformat_minor": 4
}
