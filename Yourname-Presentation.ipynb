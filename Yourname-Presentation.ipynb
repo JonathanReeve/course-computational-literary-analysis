{
 "cells": [
  {
   "cell_type": "markdown",
   "metadata": {},
   "source": [
    "# Final Project Presentation \n",
    "\n",
    "## Your Name Here\n",
    "\n",
    "Instructions: \n",
    "\n",
    "1. Replace \"yourname\" with your name. \n",
    "2. Put your analyses here. Make sure to run your cells, so we see the output! You're not required to put any prose here, but you can, if you want. Just keep in mind that it might not be very legible or practical for your audience to read much during your presentation. \n",
    "3. Make your notebook into a GitHub Gist by dragging and dropping it to [gist.github.com](https://gist.github.com/). \n",
    "4. Post the URL of your gist to the chatroom. During your presentation, you'll open your gist on my computer."
   ]
  },
  {
   "cell_type": "code",
   "execution_count": null,
   "metadata": {},
   "outputs": [],
   "source": []
  }
 ],
 "metadata": {
  "kernelspec": {
   "display_name": "Python 3",
   "language": "python",
   "name": "python3"
  },
  "language_info": {
   "codemirror_mode": {
    "name": "ipython",
    "version": 3
   },
   "file_extension": ".py",
   "mimetype": "text/x-python",
   "name": "python",
   "nbconvert_exporter": "python",
   "pygments_lexer": "ipython3",
   "version": "3.6.6"
  }
 },
 "nbformat": 4,
 "nbformat_minor": 2
}
