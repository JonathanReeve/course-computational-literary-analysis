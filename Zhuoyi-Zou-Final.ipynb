{
 "cells": [
  {
   "cell_type": "markdown",
   "metadata": {},
   "source": [
    "# Text Computational Analysis for *Dubliners*\n",
    "\n",
    "## Zhuoyi Zou\n",
    "\n",
    "Instructions: \n",
    "\n",
    "1. Replace \"yourname\" in the title of this notebook, and \"your name here\" in the markdown above, with your name.\n",
    "2. Create a title for your final project. Preferably, this should indicate what your argument is. Replace \"your title here\" in the markdown above with your title.\n",
    "3. Write your paper, and include everything (your prose in Markdown, your code, and your figures) in this notebook. Don't include the texts you're analyzing. If you generated your corpus programmatically (i.e. using corpus-db.org or some fancy Python), maybe you'll want to include that in the code somewhere here. Your notebook file (`.ipynb`) will be the only thing you turn in.  \n",
    "3. Annotate your code using markdown cells, and/or comment lines (lines beginning with `#`), explaining why you're doing what you're doing. If one of your functions takes certain parameters, for instance, why did you choose those parameters? \n",
    "3. Prune your notebook of unnecessary or redundant code. Run all your code again, to show that it works as-is. Each code cell should have a number in it, and an output, if applicable. \n",
    "4. Proofread well! If English is not your first language, you might consider making an appointment with [the Writing Center](https://slc.berkeley.edu/appointment-service) to get help polishing the language of your paper. At minimum, you'll want to use a spell checker and maybe even an automatic grammar-checking service like [Grammerly](https://www.grammarly.com/). (Of course, you now have the tools to analyze your own writing, if you want. You can get your markdown text into Python by adapting the word count function below, and use it to analyze your most frequent n-grams!) You might also consider organizing a mutual editing session with classmates.\n",
    "4. Ensure that you have no more than three plots (figures). One figure with several subplots is OK, and counts as one figure.\n",
    "4. If you quote from or reference literary works, or works of criticirm, provide in-text parenthetical citations. Then create a bibliographic entry for each work you cite, and include them at the end. Unless your discipline requires a different format, use [MLA Style](https://style.mla.org/) as the format for your bibliography, and title it \"works cited.\" \n",
    "4. Replace the value of the `filename` variable in the wordcount cell below to the name your file. (E.g., `Jonathan-Final.ipynb`.) Then run the wordcount cell. Ensure that your paper is between 1000 and 2000 words, so it doesn't give you any errors or warnings.  \n",
    "5. Optionally, and for a 5% bonus, add your notebook to the `/Projects` directory of the course repository, and submit it as a pull request. Your project will then become public. \n",
    "6. Email me your `.ipynb` file: jonathan.reeve@columbia.edu. Please email me only your `.ipynb` file, alone and uncompressed. Please don't respond to an existing email, but create a new email, with the subject: `Yourname: Final Project`, replacing `yourname` with your name. Do this regardless of whether you also submit a pull request. \n",
    "7. Celebrate! You've finished your final project, and gloriously completed _Introduction to Computational Literary Analysis_!"
   ]
  },
  {
   "cell_type": "code",
   "execution_count": 8,
   "metadata": {},
   "outputs": [],
   "source": [
    "# Import all your libraries here, and only here, please.\n",
    "from nltk import word_tokenize, sent_tokenize, pos_tag, pos_tag_sents, ngrams, Text\n",
    "from sklearn.feature_extraction.text import TfidfVectorizer, CountVectorizer\n",
    "from sklearn.decomposition import LatentDirichletAllocation\n",
    "from more_itertools import chunked\n",
    "from textblob import TextBlob\n",
    "import numpy as np\n",
    "import pandas as pd\n",
    "import spacy\n",
    "from collections import Counter\n",
    "from string import punctuation\n",
    "from sklearn.decomposition import PCA\n",
    "from matplotlib import pyplot as plt\n",
    "%matplotlib inline\n",
    "import matplotlib.pyplot as plt\n",
    "import seaborn as sns\n",
    "sns.set()\n",
    "plt.rcParams['figure.figsize'] = [10, 5]\n",
    "# Don't remove this line. It's necessary for the wordcount function \n",
    "# below to work. \n",
    "from IPython.nbformat import current\n",
    "\n",
    "# This is to make your plots a little bigger.\n",
    "# You may adjust this, but be careful of making your plots too big or too small.\n",
    "import matplotlib.pyplot as plt\n",
    "plt.rcParams['figure.figsize'] = [10, 6]"
   ]
  },
  {
   "cell_type": "markdown",
   "metadata": {},
   "source": [
    "## Introduction"
   ]
  },
  {
   "cell_type": "markdown",
   "metadata": {},
   "source": [
    "The following text computational analysis was based on James Joyce's *Dubliners*, the analysis was from the literature evaluation perspectives. The corpus Dubliners contains 15 short stories about the middle class residential lives in Dublin, Ireland in the early 20th century. The corpus contains 80583 English vocabularies. The 15 stories in *Dubliners* were arranged by the order of the age of the main characters of the stories. \n",
    "\n",
    "The goals of this text computational analysis were detecting the writing patterns of *Dubliners*, exploring the Parts of Speech distributions in *Dubliners*, parsing the similarities in 15 stories by groups, giving hypothesis based on finding and testing them. \n",
    "\n",
    "This text computational analysis used pos_tag function from nltk module to parse the Parts of Speech in *Dubliners*; used chunk.root.text function from Spacy module to find the noun roots; used TfidfVectorizer function and PCA function from sklearn module to construct a Principle Component Analysis model; used LatentDirichletAllocation function from sklearn module to construct a Topics model; and used dispersion_plot function from nltk module to visualize the occurrence of the vocabularies; used sentiment function in nltk to visualize the sentiment changed in plots. \n",
    "\n",
    "There are five parts in this text computational analysis. The first part is \"General Exploration of *Dubliners*,\" there are steps to show how to use word_tokenize( ) and sent_tokenize( ) to get the average number of words in each sentence in each story; there are steps to show how to pos_tag( ) to get the distributions for each class of the Parts of Speech. The second part is \"Selecting Feature Words,\" there are steps to show how to choose the feature words for constructing a Principle Component Analysis model. The third part is \"PCA,\" which used the feature words that were selected from the second part and plotted the first two principle component scores to visualize the similarities of the stories. The fourth part is \"Topic Model,\" indicated the use of the LatentDirichletAllocation function to find a topics model. The fifth part is \"Futher Hypothesis and Test,\" given the hypothesises and tested them."
   ]
  },
  {
   "cell_type": "markdown",
   "metadata": {},
   "source": [
    "## General Exploration of *Dubliners*"
   ]
  },
  {
   "cell_type": "code",
   "execution_count": 4,
   "metadata": {},
   "outputs": [],
   "source": [
    "### Open the Dubliners Corpus.\n",
    "dubliners = open(\"dubliners-Copy1.md\").read()\n",
    "\n",
    "### Splitting the stories from the corpus.\n",
    "dublinersParts = dubliners.split(\"##\")\n",
    "\n",
    "### The list of title for each story.\n",
    "TextLabels = [\"The Sister\", \"An Encounter\", \"Araby\", \"Eveline\", \"After the Race\", \"Two Gallants\", \"The Boarding House\",\n",
    "             \"A Little Cloud\", \"Counterparts\", \"Clay\", \"A Painful Case\", \"Ivy Day in the Committee Room\", \"A Mother\",\n",
    "             \"Grace\", \"The Dead\"]\n",
    "\n",
    "### Apply word_tokenize() to each story in Dubliners.\n",
    "word_length = [len(word_tokenize(text.lower())) for text in dublinersParts]\n",
    "\n",
    "### Apply sent_tokenize() to each story in Dubliners.\n",
    "sent_length = [len(sent_tokenize(text)) for text in dublinersParts]\n",
    "\n",
    "### Assigning a function to get the average number of words in each sentence. \n",
    "def averageSentLen(text): \n",
    "    sentLengths = [len(word_tokenize(sent.lower())) for sent in sent_tokenize(text)]\n",
    "    return sum(sentLengths)/len(sent_tokenize(text))\n",
    "\n",
    "avg_word_per_sent = [averageSentLen(text) for text in dublinersParts]"
   ]
  },
  {
   "cell_type": "code",
   "execution_count": 5,
   "metadata": {},
   "outputs": [],
   "source": [
    "### Use the pos_tag() to find the POS\n",
    "dublinersPOS = [pos_tag(word_tokenize(text.lower()))for text in dublinersParts]\n",
    "\n",
    "def getPOS(textPOS): \n",
    "    pos = [pair[1] for pair in textPOS]\n",
    "    return Counter(pos)\n",
    "get_dublinersPOS = [getPOS(text) for text in dublinersPOS]\n",
    "\n",
    "### Construct a dataframe to store the information of POS\n",
    "POS = pd.DataFrame(get_dublinersPOS[1:], index = TextLabels).fillna(0).T\n",
    "POS = pd.DataFrame([POS[\"The Sister\"]/word_length[1], POS[\"An Encounter\"]/word_length[2], POS[\"Araby\"]/word_length[3], \n",
    "                    POS[\"Eveline\"]/word_length[4], POS[\"After the Race\"]/word_length[5], POS[\"Two Gallants\"]/word_length[6],\n",
    "                    POS[\"The Boarding House\"]/word_length[7], POS[\"A Little Cloud\"]/word_length[8], POS[\"Counterparts\"]/word_length[9],\n",
    "                    POS[\"Clay\"]/word_length[10], POS[\"A Painful Case\"]/word_length[11], POS[\"Ivy Day in the Committee Room\"]/word_length[12],\n",
    "                    POS[\"A Mother\"]/word_length[13], POS[\"Grace\"]/word_length[14], POS[\"The Dead\"]/word_length[15]])\n",
    "\n",
    "POS[\"VB SUM\"] = POS[\"VB\"] + POS[\"VBD\"] + POS[\"VBG\"] + POS[\"VBN\"] + POS[\"VBP\"] + POS[\"VBZ\"]\n",
    "POS[\"JJ SUM\"] = POS[\"JJ\"] + POS[\"JJR\"] + POS[\"JJS\"]\n",
    "POS[\"PRP SUM\"] = POS[\"PRP\"] + POS[\"PRP$\"]\n",
    "POS[\"NN SUM\"] = POS[\"NN\"] + POS[\"NNS\"] + POS[\"NNP\"]\n",
    "POS[\"RB SUM\"] = POS[\"RB\"] + POS[\"RBR\"] + POS[\"RBS\"] + POS[\"RP\"]"
   ]
  },
  {
   "cell_type": "code",
   "execution_count": 9,
   "metadata": {},
   "outputs": [
    {
     "data": {
      "text/plain": [
       "Text(0,0.5,'Percentage Occurrence')"
      ]
     },
     "execution_count": 9,
     "metadata": {},
     "output_type": "execute_result"
    },
    {
     "data": {
      "image/png": "[encoded data removed]",
      "text/plain": [
       "<Figure size 720x432 with 1 Axes>"
      ]
     },
     "metadata": {},
     "output_type": "display_data"
    }
   ],
   "source": [
    "avg_len = pd.Series(avg_word_per_sent[1:],index = TextLabels)\n",
    "\n",
    "### Use bar plot to visualize the average number of words per sentence in each story \n",
    "#plt.subplot()\n",
    "#avg_len.plot(kind = \"bar\")\n",
    "#plt.title(\"Average number of words per sentence\")\n",
    "#plt.ylabel(\"Words per Sentence\")\n",
    "\n",
    "### Use bar plot to visualize the distributions of POS in each story\n",
    "POS[[\"VB SUM\", \"JJ SUM\", \"PRP SUM\", \"NN SUM\", \"RB SUM\"]].plot(kind = \"bar\")\n",
    "plt.title(\"The Distribution of POS\")\n",
    "plt.ylabel(\"Percentage Occurrence\")"
   ]
  },
  {
   "cell_type": "markdown",
   "metadata": {},
   "source": [
    "The plot of the distributions of POS, showed that the distribution of POS in each story was roughly identical. This indicated that the author had a constant writing style when he created this work. The noun appeared most frequently in every story except \"The Sister\";  \"The Sister\" contained more verb compared to the noun. The adjective vocabularies did not appear frequently in stories. This result was quite surprised me, I didn't expect that the proportion of adjective vocabularies was roughly 6% in each story. The lack of the adjective vocabularies indicated that the author preferred describing events rustically or intentionally preferred neutral-toned."
   ]
  },
  {
   "cell_type": "markdown",
   "metadata": {},
   "source": [
    "### Hypothesis: Using 40 vocabularies and applying them into a PCA model, the first two principle components plot could provide me some information about the similarities of the content of the stories.  "
   ]
  },
  {
   "cell_type": "markdown",
   "metadata": {},
   "source": [
    "The reasons that I came up with this hypothesis: \n",
    "There is a setting \"max_feature = \" in constructing a PCA model, it selects the most frequent words in the corpus. Even though, it selects the most frequent words in the corpus but it does not consider the unbalance occurrence of the vocabularies in each story. For example, there is a word that appears a lot of times in a specific story but it never appears in another stories, there would be a lot of missing values in the consideration of constructing a model, that provides us a lot of uncertainty of the model which means that we will have a big prediction variation. Thus I wanted to try manually selecting the feature words to construct a PCA model and attempted to find some links between the stories from the feature words."
   ]
  },
  {
   "cell_type": "markdown",
   "metadata": {},
   "source": [
    "### Selecting 40 Feature Words"
   ]
  },
  {
   "cell_type": "code",
   "execution_count": 10,
   "metadata": {},
   "outputs": [
    {
     "name": "stderr",
     "output_type": "stream",
     "text": [
      "/Users/cherrycherry/anaconda3/lib/python3.6/importlib/_bootstrap.py:219: RuntimeWarning: numpy.dtype size changed, may indicate binary incompatibility. Expected 96, got 88\n",
      "  return f(*args, **kwds)\n",
      "/Users/cherrycherry/anaconda3/lib/python3.6/importlib/_bootstrap.py:219: RuntimeWarning: numpy.ufunc size changed, may indicate binary incompatibility. Expected 192, got 176\n",
      "  return f(*args, **kwds)\n"
     ]
    }
   ],
   "source": [
    "nlp = spacy.load('en_core_web_lg')"
   ]
  },
  {
   "cell_type": "code",
   "execution_count": 11,
   "metadata": {},
   "outputs": [],
   "source": [
    "doc = [nlp(text) for text in dublinersParts[1:]]"
   ]
  },
  {
   "cell_type": "code",
   "execution_count": 10,
   "metadata": {},
   "outputs": [],
   "source": [
    "root_1 =[chunk.root.text for chunk in doc[0].noun_chunks]\n",
    "root_2 =[chunk.root.text for chunk in doc[1].noun_chunks]\n",
    "root_3 =[chunk.root.text for chunk in doc[2].noun_chunks]\n",
    "root_4 =[chunk.root.text for chunk in doc[3].noun_chunks]\n",
    "root_5 =[chunk.root.text for chunk in doc[4].noun_chunks]\n",
    "root_6 =[chunk.root.text for chunk in doc[5].noun_chunks]\n",
    "root_7 =[chunk.root.text for chunk in doc[6].noun_chunks]\n",
    "root_8 =[chunk.root.text for chunk in doc[7].noun_chunks]\n",
    "root_9 =[chunk.root.text for chunk in doc[8].noun_chunks]\n",
    "root_10 =[chunk.root.text for chunk in doc[9].noun_chunks]\n",
    "root_11 =[chunk.root.text for chunk in doc[10].noun_chunks]\n",
    "root_12 =[chunk.root.text for chunk in doc[11].noun_chunks]\n",
    "root_13 =[chunk.root.text for chunk in doc[12].noun_chunks]\n",
    "root_14 =[chunk.root.text for chunk in doc[13].noun_chunks]\n",
    "root_15 =[chunk.root.text for chunk in doc[14].noun_chunks]\n",
    "\n",
    "noun_table = pd.DataFrame([Counter(root_1).most_common(50), Counter(root_2).most_common(50), Counter(root_3).most_common(50),\n",
    "             Counter(root_4).most_common(50), Counter(root_5).most_common(50), Counter(root_6).most_common(50),\n",
    "             Counter(root_7).most_common(50), Counter(root_8).most_common(50), Counter(root_9).most_common(50),\n",
    "             Counter(root_10).most_common(50), Counter(root_11).most_common(50), Counter(root_12).most_common(50),\n",
    "             Counter(root_13).most_common(50), Counter(root_14).most_common(50), Counter(root_15).most_common(50)], \n",
    "            index = TextLabels).T"
   ]
  },
  {
   "cell_type": "code",
   "execution_count": 11,
   "metadata": {},
   "outputs": [],
   "source": [
    "def getVBD(taggedText):\n",
    "    VBD = []\n",
    "    for pair in taggedText:\n",
    "        word = pair[0]\n",
    "        pos = pair[1]\n",
    "        if pos == \"VB\" or pos == \"VBD\" or pos == \"VBG\" or pos == \"VBN\" or pos == \"VBP\" or pos == \"VBZ\":\n",
    "            VBD.append(word)\n",
    "    return VBD\n",
    "root_1 = getVBD(pos_tag(word_tokenize(dublinersParts[1].lower())))\n",
    "root_2 = getVBD(pos_tag(word_tokenize(dublinersParts[2].lower())))\n",
    "root_3 = getVBD(pos_tag(word_tokenize(dublinersParts[3].lower())))\n",
    "root_4 = getVBD(pos_tag(word_tokenize(dublinersParts[4].lower())))\n",
    "root_5 = getVBD(pos_tag(word_tokenize(dublinersParts[5].lower())))\n",
    "root_6 = getVBD(pos_tag(word_tokenize(dublinersParts[6].lower())))\n",
    "root_7 = getVBD(pos_tag(word_tokenize(dublinersParts[7].lower())))\n",
    "root_8 = getVBD(pos_tag(word_tokenize(dublinersParts[8].lower())))\n",
    "root_9 = getVBD(pos_tag(word_tokenize(dublinersParts[9].lower())))\n",
    "root_10 = getVBD(pos_tag(word_tokenize(dublinersParts[10].lower())))\n",
    "root_11 = getVBD(pos_tag(word_tokenize(dublinersParts[11].lower())))\n",
    "root_12 = getVBD(pos_tag(word_tokenize(dublinersParts[12].lower())))\n",
    "root_13 = getVBD(pos_tag(word_tokenize(dublinersParts[13].lower())))\n",
    "root_14 = getVBD(pos_tag(word_tokenize(dublinersParts[14].lower())))\n",
    "root_15 = getVBD(pos_tag(word_tokenize(dublinersParts[15].lower())))\n",
    "\n",
    "verb_table = pd.DataFrame([Counter(root_1).most_common(20), Counter(root_2).most_common(20), Counter(root_3).most_common(20),\n",
    "             Counter(root_4).most_common(20), Counter(root_5).most_common(20), Counter(root_6).most_common(20),\n",
    "             Counter(root_7).most_common(20), Counter(root_8).most_common(20), Counter(root_9).most_common(20),\n",
    "             Counter(root_10).most_common(20), Counter(root_11).most_common(20), Counter(root_12).most_common(20),\n",
    "             Counter(root_13).most_common(20), Counter(root_14).most_common(20), Counter(root_15).most_common(20)], \n",
    "            index = TextLabels).T\n",
    "\n"
   ]
  },
  {
   "cell_type": "code",
   "execution_count": 12,
   "metadata": {},
   "outputs": [],
   "source": [
    "def getJJ(taggedText):\n",
    "    JJ = []\n",
    "    for pair in taggedText:\n",
    "        word = pair[0]\n",
    "        pos = pair[1]\n",
    "        if pos == \"JJ\" or pos == \"JJR\" or pos == \"JJS\":\n",
    "            JJ.append(word)\n",
    "    return JJ\n",
    "root_1 = getJJ(pos_tag(word_tokenize(dublinersParts[1].lower())))\n",
    "root_2 = getJJ(pos_tag(word_tokenize(dublinersParts[2].lower())))\n",
    "root_3 = getJJ(pos_tag(word_tokenize(dublinersParts[3].lower())))\n",
    "root_4 = getJJ(pos_tag(word_tokenize(dublinersParts[4].lower())))\n",
    "root_5 = getJJ(pos_tag(word_tokenize(dublinersParts[5].lower())))\n",
    "root_6 = getJJ(pos_tag(word_tokenize(dublinersParts[6].lower())))\n",
    "root_7 = getJJ(pos_tag(word_tokenize(dublinersParts[7].lower())))\n",
    "root_8 = getJJ(pos_tag(word_tokenize(dublinersParts[8].lower())))\n",
    "root_9 = getJJ(pos_tag(word_tokenize(dublinersParts[9].lower())))\n",
    "root_10 = getJJ(pos_tag(word_tokenize(dublinersParts[10].lower())))\n",
    "root_11 = getJJ(pos_tag(word_tokenize(dublinersParts[11].lower())))\n",
    "root_12 = getJJ(pos_tag(word_tokenize(dublinersParts[12].lower())))\n",
    "root_13 = getJJ(pos_tag(word_tokenize(dublinersParts[13].lower())))\n",
    "root_14 = getJJ(pos_tag(word_tokenize(dublinersParts[14].lower())))\n",
    "root_15 = getJJ(pos_tag(word_tokenize(dublinersParts[15].lower())))\n",
    "\n",
    "JJ_table = pd.DataFrame([Counter(root_1).most_common(30), Counter(root_2).most_common(30), Counter(root_3).most_common(30),\n",
    "             Counter(root_4).most_common(30), Counter(root_5).most_common(30), Counter(root_6).most_common(30),\n",
    "             Counter(root_7).most_common(30), Counter(root_8).most_common(30), Counter(root_9).most_common(30),\n",
    "             Counter(root_10).most_common(30), Counter(root_11).most_common(30), Counter(root_12).most_common(30),\n",
    "             Counter(root_13).most_common(30), Counter(root_14).most_common(30), Counter(root_15).most_common(30)], \n",
    "            index = TextLabels).T"
   ]
  },
  {
   "cell_type": "markdown",
   "metadata": {},
   "source": [
    "In this part, I used chunk.root.text function to find the noun roots in each story. Using pos_tag( ) function might provide the same or similar results of finding the nouns. Then I used pos_tag( ) function to find the adjective vocabularies and verb vocabularies. I used Counter( ) function to count the frequency of the vocabularies in each category and used the most_common( ) function to sort the vocabularies in descending order and showed the first tens vocabularies. I did not want to have any missing values in my list of the feature words that would be applied to the PCA model. At first, my standard was looking for the vocabularies that appeared at least one time in each story. However, it was very limited to get those words that were excluding the English common words. Thus I lowered my standard to find the feature words. I ended up with at most 4 missing values for each feature words, and I ended up with 40 feature words. \n"
   ]
  },
  {
   "cell_type": "markdown",
   "metadata": {},
   "source": [
    "### Testing Hypothesis through PCA model"
   ]
  },
  {
   "cell_type": "code",
   "execution_count": 13,
   "metadata": {},
   "outputs": [],
   "source": [
    "tfidf = TfidfVectorizer(use_idf=False, stop_words=\"english\", ngram_range = (1, 3), \n",
    "                        vocabulary = [\"way\", \"room\",\"street\", \"door\", \"house\", \"table\", \"man\", \"money\",\n",
    "                                      \"life\", \"like\", \"head\", \"hands\", \"eyes\", \"face\", \"voice\", \"time\",\n",
    "                                      \"came\", \"said\", \"did\", \"saw\", \"looked\", \"began\", \"went\", \"knew\",\n",
    "                                     \"little\", \"old\", \"young\", \"good\", \"great\", \"light\", \"white\", \"dark\",\n",
    "                                     \"grey\", \"bad\", \"sure\", \"open\", \"irish\", \"music\", \"god\", \"silent\"]) \n",
    "dublinersParts = [text.replace(punctuation, \" \") for text in dublinersParts]\n",
    "tf = tfidf.fit_transform(dublinersParts[1:])"
   ]
  },
  {
   "cell_type": "code",
   "execution_count": 14,
   "metadata": {},
   "outputs": [],
   "source": [
    "TfDense = tf.todense()\n",
    "WordLabels = tfidf.get_feature_names()\n",
    "TextLabels = [\"The Sister\", \"An Encounter\", \"Araby\", \"Eveline\", \"After the Race\", \"Two Gallants\", \"The Boarding House\",\n",
    "             \"A Little Cloud\", \"Counterparts\", \"Clay\", \"A Painful Case\", \"Ivy Day in the Committee Room\", \"A Mother\",\n",
    "             \"Grace\", \"The Dead\"]\n",
    "allDf = pd.DataFrame(TfDense, index = TextLabels, columns = WordLabels) "
   ]
  },
  {
   "cell_type": "code",
   "execution_count": 15,
   "metadata": {},
   "outputs": [
    {
     "data": {
      "image/png": "[encoded data removed]",
      "text/plain": [
       "<Figure size 720x432 with 1 Axes>"
      ]
     },
     "metadata": {},
     "output_type": "display_data"
    }
   ],
   "source": [
    "allDf = pd.DataFrame(TfDense, index = TextLabels, columns = WordLabels) \n",
    "pca = PCA(2)\n",
    "pcaOut = pca.fit_transform(TfDense)\n",
    "xs, ys = pcaOut[:,0], pcaOut[:,1]\n",
    "for i in range(len(xs)): \n",
    "    plt.scatter(xs[i], ys[i])\n",
    "    plt.annotate(TextLabels[i], (xs[i], ys[i]))"
   ]
  },
  {
   "cell_type": "markdown",
   "metadata": {},
   "source": [
    "From the plot with the first two principle components, the result made sense to me. The plot does not only show the sililarities of the words' frequencies, but shows some content information about the stories as well. Joyce had the similar frequency used of these 40 words when he describled stories that had the same theme. \"Eveline\" and \"A Painful Case,\" both of these stories are about the separation of the lovers. \"Two Gallants\" and \"An Encounter\" both of these stories contain a majority of male characters. \"Thd Dead\" and \"Clay\" both of these stories have a theme about death and have a theme about Irish festivals. "
   ]
  },
  {
   "cell_type": "markdown",
   "metadata": {},
   "source": [
    "## Topics Model"
   ]
  },
  {
   "cell_type": "code",
   "execution_count": 16,
   "metadata": {},
   "outputs": [],
   "source": [
    "def chunk(tokens, size): \n",
    "    return list(zip(*[tokens[i::size] for i in range(size)])) "
   ]
  },
  {
   "cell_type": "code",
   "execution_count": 17,
   "metadata": {},
   "outputs": [
    {
     "name": "stderr",
     "output_type": "stream",
     "text": [
      "/Users/cherrycherry/anaconda3/lib/python3.6/site-packages/sklearn/decomposition/online_lda.py:294: DeprecationWarning: n_topics has been renamed to n_components in version 0.19 and will be removed in 0.21\n",
      "  DeprecationWarning)\n"
     ]
    }
   ],
   "source": [
    "dublinersTokens = word_tokenize(dubliners.lower())\n",
    "dublinersChunks = chunk(dublinersTokens, 300)\n",
    "dublinersChunks = [' '.join(chunk) for chunk in dublinersChunks]\n",
    "cv = CountVectorizer(min_df=2, max_df=0.95, stop_words='english')\n",
    "counts = cv.fit_transform(dublinersChunks)\n",
    "wordLabels = cv.get_feature_names()\n",
    "lda = LatentDirichletAllocation(n_topics=5, learning_method='online')\n",
    "ldaOut = lda.fit_transform(counts)"
   ]
  },
  {
   "cell_type": "code",
   "execution_count": 18,
   "metadata": {},
   "outputs": [
    {
     "name": "stdout",
     "output_type": "stream",
     "text": [
      "Topic 0\n",
      "maria joe nice donnelly children\n",
      "Topic 1\n",
      "said mr gabriel did man\n",
      "Topic 2\n",
      "alleyne farrington desk little office\n",
      "Topic 3\n",
      "jimmy men segouin little young\n",
      "Topic 4\n",
      "life little face gallaher man\n"
     ]
    }
   ],
   "source": [
    "topicLabels = []\n",
    "for i, topic in enumerate(lda.components_):\n",
    "    print(\"Topic {}\".format(i))\n",
    "    topicLabel = \" \".join([wordLabels[i] for i in topic.argsort()[:-5 - 1:-1]])\n",
    "    print(topicLabel)\n",
    "    topicLabels.append(topicLabel)"
   ]
  },
  {
   "cell_type": "markdown",
   "metadata": {},
   "source": [
    "I used the LatentDirichletAllocation function to find the topics of *Dubliners*. Notice that, the \"topics\" here is different from the meaning of a \"theme\". The topics model does not give information about the contents of the stories. Instead, the topics model helps to find the most frequent pattern of words that appear in the corpus. \"life,\" \"little,\" \"face,\" \"man,\" \"young,\" \"said\" and \"nice\" were the feature words that I selected in the second part of this analysis, not surprised to see them appear in the topics model."
   ]
  },
  {
   "cell_type": "markdown",
   "metadata": {},
   "source": [
    "### Hypothesis: The sentences that contain \"ireland,\" \"irish\"  and \"little\" have negative sentiment scores. The sentences that contain \"light\" have positive sentiment scores. "
   ]
  },
  {
   "cell_type": "markdown",
   "metadata": {},
   "source": [
    "### Testing Sentiment Scores"
   ]
  },
  {
   "cell_type": "code",
   "execution_count": 16,
   "metadata": {},
   "outputs": [],
   "source": [
    "dublinersSentenceTokens = [sent_tokenize(text) for text in dublinersParts[1:]]"
   ]
  },
  {
   "cell_type": "code",
   "execution_count": 21,
   "metadata": {},
   "outputs": [],
   "source": [
    "def findLight(sentence):\n",
    "    light_list = []\n",
    "    for i in sentence:\n",
    "        if \"light\" in i:\n",
    "            light_list.append(i)\n",
    "    light_list_out = \" \".join(light_list)\n",
    "    return light_list_out\n",
    "\n",
    "def findLittle(sentence):\n",
    "    little_list = []\n",
    "    for i in sentence:\n",
    "        if \"little\" in i:\n",
    "            little_list.append(i)\n",
    "    little_list_out = \" \".join(little_list)\n",
    "    return little_list_out\n",
    "\n",
    "def findIrish(sentence):\n",
    "    sentence = [s.lower() for s in sentence] \n",
    "    irish_list = []\n",
    "    for i in sentence:\n",
    "        if \"irish\" in i:\n",
    "            irish_list.append(i)\n",
    "    irish_list_out = \" \".join(irish_list)\n",
    "    return irish_list_out\n",
    "\n",
    "def findIreland(sentence):\n",
    "    sentence = [s.lower() for s in sentence] \n",
    "    ireland_list = []\n",
    "    for i in sentence:\n",
    "        if \"ireland\" in i:\n",
    "            ireland_list.append(i)\n",
    "    ireland_list_out = \" \".join(ireland_list)\n",
    "    return ireland_list_out"
   ]
  },
  {
   "cell_type": "code",
   "execution_count": 22,
   "metadata": {},
   "outputs": [],
   "source": [
    "light_sentences = [findLight(text) for text in dublinersSentenceTokens]\n",
    "little_sentences = [findLittle(text) for text in dublinersSentenceTokens]\n",
    "irish_sentences = [findIrish(text) for text in dublinersSentenceTokens]\n",
    "ireland_sentences = [findIreland(text) for text in dublinersSentenceTokens]"
   ]
  },
  {
   "cell_type": "code",
   "execution_count": 23,
   "metadata": {},
   "outputs": [],
   "source": [
    "allBlobs_light = [TextBlob(text).sentiment for text in light_sentences]\n",
    "allSentiments_light = [item.polarity for item in allBlobs_light]\n",
    "\n",
    "allBlobs_little = [TextBlob(text).sentiment for text in little_sentences]\n",
    "allSentiments_little = [item.polarity for item in allBlobs_little]\n",
    "\n",
    "allBlobs_irish = [TextBlob(text).sentiment for text in irish_sentences]\n",
    "allSentiments_irish = [item.polarity for item in allBlobs_irish]\n",
    "\n",
    "allBlobs_ireland = [TextBlob(text).sentiment for text in ireland_sentences]\n",
    "allSentiments_ireland = [item.polarity for item in allBlobs_ireland]"
   ]
  },
  {
   "cell_type": "code",
   "execution_count": 24,
   "metadata": {},
   "outputs": [
    {
     "data": {
      "text/plain": [
       "<matplotlib.axes._subplots.AxesSubplot at 0x1a4c63ed30>"
      ]
     },
     "execution_count": 24,
     "metadata": {},
     "output_type": "execute_result"
    },
    {
     "data": {
      "image/png": "[encoded data removed]",
      "text/plain": [
       "<Figure size 720x432 with 1 Axes>"
      ]
     },
     "metadata": {},
     "output_type": "display_data"
    }
   ],
   "source": [
    "pd.DataFrame([allSentiments_light, allSentiments_little, allSentiments_irish, allSentiments_ireland], \n",
    "             index = [\"light\", \"little\", \"irish\", \"ireland\"]).T.plot()"
   ]
  },
  {
   "cell_type": "markdown",
   "metadata": {},
   "source": [
    "At the first story and the 8th story, the sentences that contain \"light\" have negative sentiment scores, because the function miscalculted \"lighlamb\" and \"lighting\" as \"light.\" These two scenarios were in the evening, which makes the computer think them count as negative mood. The sentences that contain \"ireland\" have positive sentiment scores in all the stories but the sentences that contain \"irish\" have negative sentiment scores in most of the stories but have negative sentiment scores in the 8th story and the 13th story. There is a common theme in the 8th story and the 13th story, which is about the main characters in both of the stories meet their career bottleneck. It is resonable for the sentences that contain \"irish\" have negative sentiment scores in this theme. The sentences that contain \"little\" have the negative sentiment scores as I expected. "
   ]
  },
  {
   "cell_type": "markdown",
   "metadata": {},
   "source": [
    "### Hypothesis:  \"little\" is more associated to female characters. "
   ]
  },
  {
   "cell_type": "markdown",
   "metadata": {},
   "source": [
    "### Testing the ratio of the sentences that contain \"little\" with female characters and male characters."
   ]
  },
  {
   "cell_type": "code",
   "execution_count": 17,
   "metadata": {},
   "outputs": [],
   "source": [
    "def detectFemale(text):\n",
    "    female = []\n",
    "    female_list = [\"her\", \"she\", \"girl\", \"girls\", \"woman\", \"women\",\n",
    "                  \"nannie\", \"eliza\", \"sister\", \"sisters\", \"aunt\",\n",
    "                  \"eveline\", \"mother\", \"mrs.\", \"polly\", \"araby\", \n",
    "                  \"mangan\", \"ann\", \"wife\", \"miss\", \"maria\", \"matron\",\n",
    "                  \"mrs.\", \"mary\", \"kathleen\", \"kearney\", \"madam\",\n",
    "                  \"jane\", \"gretta\"]\n",
    "    text = [word_tokenize(t.lower()) for t in text]\n",
    "    for i in text:\n",
    "        for l in i:\n",
    "            if l in female_list:\n",
    "                female.append(l)\n",
    "    return female\n",
    "\n",
    "\n",
    "def detectMale(text):\n",
    "    male = []\n",
    "    male_list = [\"he\", \"him\", \"boy\", \"boys\", \"man\", \"men\", \n",
    "                 \"bartell\", \"browne\", \"freddy\", \"gretta\", \"gabriel\", \n",
    "                \"father\", \"fogarty\", \"m'coy\", \"martin\", \"power\",\n",
    "                \"constable\", \"kernan\", \"o'madden\", \"hendrick\", \"baritone\",\n",
    "                \"bell\", \"duggan\", \"fitzpatrick\", \"kearney\", \"holohan\",\n",
    "                \"lyons\", \"crofton\", \"richard\", \"hynes\", \"henchy\", \"o'connor\",\n",
    "                \"jack\", \"sinico\", \"james\", \"joe\", \"matron\", \"tom\", \"weathers\",\n",
    "                \"nosey\", \"paddy\", \"o'halloran\", \"callan\", \"alleyne\", \"farrington\",\n",
    "                \"ignatius\", \"chandler\", \"doran\", \"lenehan\", \"corley\", \"farley\",\n",
    "                \"routh\", \"jimmy\", \"andre\", \"willona\", \"charles\", \"frank\", \"mahony\",\n",
    "                \"leo\", \"joe\", \"cotter\"]\n",
    "    text = [word_tokenize(t.lower()) for t in text]\n",
    "    for i in text:\n",
    "        for l in i:\n",
    "            if l in male_list:\n",
    "                male.append(l)\n",
    "    return male\n",
    "\n",
    "    \n",
    "def detectNegative(text):\n",
    "    negative = []\n",
    "    negative_list = [\"dack\", \"black\", \"brown\"]\n",
    "    text = [word_tokenize(t.lower()) for t in text]\n",
    "    for i in text:\n",
    "        for l in i:\n",
    "            if l in negative_list:\n",
    "                negative.append(l)\n",
    "    return negative         "
   ]
  },
  {
   "cell_type": "code",
   "execution_count": 26,
   "metadata": {},
   "outputs": [
    {
     "data": {
      "text/plain": [
       "(0.005050227809189219, 0.008014491958061152)"
      ]
     },
     "execution_count": 26,
     "metadata": {},
     "output_type": "execute_result"
    }
   ],
   "source": [
    "female_number = len(detectFemale(little_sentences))\n",
    "male_number = len(detectMale(little_sentences))\n",
    "total_word_number = sum([len(t.replace(punctuation, \" \")) for t in little_sentences])\n",
    "female_number/total_word_number, male_number/total_word_number"
   ]
  },
  {
   "cell_type": "markdown",
   "metadata": {},
   "source": [
    "In fact the male characters were more frequently along with \"little,\" it might due to the unbalance of female and male characters in the stories. There were more chances to see the male characters in the sentences. Farther approach, checking the distance between the characters and \"little\" might make more sense. "
   ]
  },
  {
   "cell_type": "markdown",
   "metadata": {},
   "source": [
    "### Hypothesis: \"little\" is more associated with \"dark,\" \"black\" or \"brown\" compared to \"ireland,\" \"irish,\" and \"light.\""
   ]
  },
  {
   "cell_type": "markdown",
   "metadata": {},
   "source": [
    "### Testing the ratio of the sentences that contain \"dark,\" \"black\" or \"brown.\""
   ]
  },
  {
   "cell_type": "code",
   "execution_count": 47,
   "metadata": {},
   "outputs": [
    {
     "data": {
      "text/plain": [
       "0.4"
      ]
     },
     "execution_count": 47,
     "metadata": {},
     "output_type": "execute_result"
    }
   ],
   "source": [
    "len(detectNegative(little_sentences))/len(little_sentences)"
   ]
  },
  {
   "cell_type": "code",
   "execution_count": 48,
   "metadata": {},
   "outputs": [
    {
     "data": {
      "text/plain": [
       "0.3333333333333333"
      ]
     },
     "execution_count": 48,
     "metadata": {},
     "output_type": "execute_result"
    }
   ],
   "source": [
    "len(detectNegative(light_sentences))/len(light_sentences)"
   ]
  },
  {
   "cell_type": "code",
   "execution_count": 51,
   "metadata": {},
   "outputs": [
    {
     "data": {
      "text/plain": [
       "0.0"
      ]
     },
     "execution_count": 51,
     "metadata": {},
     "output_type": "execute_result"
    }
   ],
   "source": [
    "len(detectNegative(irish_sentences))/len(irish_sentences)"
   ]
  },
  {
   "cell_type": "code",
   "execution_count": 54,
   "metadata": {},
   "outputs": [
    {
     "data": {
      "text/plain": [
       "0.0"
      ]
     },
     "execution_count": 54,
     "metadata": {},
     "output_type": "execute_result"
    }
   ],
   "source": [
    "len(detectNegative(ireland_sentences))/len(ireland_sentences)"
   ]
  },
  {
   "cell_type": "markdown",
   "metadata": {},
   "source": [
    "The results supported my hypothesis. The sentences that contain \"little\" are more likely to appear \"dark,\" \"black\" and \"brown.\" Thus, \"dark,\" \"black,\" and \"brown\" might help to contribute the negative sentiment scores of the sentences that contain \"little.\" "
   ]
  },
  {
   "cell_type": "markdown",
   "metadata": {},
   "source": [
    "## Conclusion"
   ]
  },
  {
   "cell_type": "markdown",
   "metadata": {},
   "source": [
    "James Joyce had a constant writing style while he was creating *Dubliners*. The Parts of Speech distributions in all stories are roughly identical in *Dubliners*. He preferred using noun and verb compared to using adjective vocabularies in *Dubliners*. Using 40 selected feature words helps to develope a PCA plot that gives the content information about the stories. The sentences that contain \"ireland,\" \"irish\" and \"light\" have the majority of positive sentiment scores through the book, but the sentences that contain \"little\" have the majority of negative sentiment scores through the book. The association between \"little\" and female characters need farther consideration. \"little\" is more associated with \"dark,\" \"black\" or \"brown\" compared to \"ireland,\" \"irish,\" and \"light.\""
   ]
  },
  {
   "cell_type": "markdown",
   "metadata": {},
   "source": [
    "### Wordcount Function\n",
    "\n",
    "Please replace `Yourname-Final.ipynb` with the filename of this notebook. For instance, if my name is Jonathan, and I've renamed this notebook to `Jonathan-Final.ipynb`, I'd change `filename = 'Yourname-Final.ipynb'` below to `filename = 'Jonathan-Final.ipynb`. "
   ]
  },
  {
   "cell_type": "code",
   "execution_count": 20,
   "metadata": {},
   "outputs": [
    {
     "name": "stdout",
     "output_type": "stream",
     "text": [
      "Total words: 1281\n"
     ]
    }
   ],
   "source": [
    "filename = 'Zhuoyi-Zou-Final.ipynb'\n",
    "\n",
    "if filename == 'Yourname-Final.ipynb': \n",
    "    raise ValueError(\"You forgot to change the filename above!\")\n",
    "\n",
    "with open('Zhuoyi-Zou-Final.ipynb', encoding='utf-8') as f:\n",
    "    nb = current.read(f, 'json')\n",
    "\n",
    "wordCount = 0\n",
    "\n",
    "for cell in nb.worksheets[0].cells:\n",
    "    if cell.cell_type == \"markdown\":\n",
    "        wordCount += len(cell['source'].replace('#', '').lstrip().split(' '))\n",
    "\n",
    "# This is the word count of my instructions. \n",
    "# My instructions obviously don't count toward the final word count, \n",
    "tare = 533\n",
    "\n",
    "wordCount = wordCount - tare\n",
    "\n",
    "print(\"Total words: {}\".format(wordCount))\n",
    "\n",
    "if wordCount < 1000: \n",
    "    raise Warning('Your paper has not yet met the minimum required length.')\n",
    "if wordCount > 2000: \n",
    "    raise Warning('Your paper has exceeded the maximum allowed length. Please edit for concision.')"
   ]
  },
  {
   "cell_type": "code",
   "execution_count": null,
   "metadata": {},
   "outputs": [],
   "source": []
  }
 ],
 "metadata": {
  "kernelspec": {
   "display_name": "Python 3",
   "language": "python",
   "name": "python3"
  },
  "language_info": {
   "codemirror_mode": {
    "name": "ipython",
    "version": 3
   },
   "file_extension": ".py",
   "mimetype": "text/x-python",
   "name": "python",
   "nbconvert_exporter": "python",
   "pygments_lexer": "ipython3",
   "version": "3.6.6"
  }
 },
 "nbformat": 4,
 "nbformat_minor": 2
}
